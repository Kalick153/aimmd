{
 "cells": [
  {
   "cell_type": "markdown",
   "metadata": {},
   "source": [
    "# Loading and saving `RCModel`s\n",
    "This notebook will show you:\n",
    "- how to load any `acrd.RCModel` by hand\n",
    "- how to save any `arcd.RCModel` by hand\n",
    "\n",
    "Note: This notebook depends on files created in the first notebook `1_Toy_pytorch_simple_setup.ipynb`. Please do it first if you have not already."
   ]
  },
  {
   "cell_type": "code",
   "execution_count": 1,
   "metadata": {},
   "outputs": [],
   "source": [
    "%matplotlib inline"
   ]
  },
  {
   "cell_type": "code",
   "execution_count": 2,
   "metadata": {},
   "outputs": [
    {
     "name": "stderr",
     "output_type": "stream",
     "text": [
      "Using TensorFlow backend.\n"
     ]
    }
   ],
   "source": [
    "import os\n",
    "import arcd\n",
    "import numpy as np\n",
    "import matplotlib.pyplot as plt\n",
    "import openpathsampling as paths"
   ]
  },
  {
   "cell_type": "code",
   "execution_count": 3,
   "metadata": {},
   "outputs": [],
   "source": [
    "# change to the working directory of choice\n",
    "# (should be the same as in the first notebook)\n",
    "wdir = '/homeloc/scratch/hejung/arcd_scratch/toys/'\n",
    "#wdir = None\n",
    "if wdir is not None:\n",
    "    os.chdir(wdir)"
   ]
  },
  {
   "cell_type": "markdown",
   "metadata": {},
   "source": [
    "## Loading: The harder but more flexible way\n",
    "Of course you can also load a `RCModel` by hand. This is useful for example to do analysis on intermediate models that have been saved."
   ]
  },
  {
   "cell_type": "code",
   "execution_count": 4,
   "metadata": {},
   "outputs": [],
   "source": [
    "# open old storage for reading\n",
    "# we need the storage to get the openpathsampling CV function that is attached to the model\n",
    "# if no OPS CV is attached as descriptor_transform we can do without\n",
    "storage = paths.Storage('22dim_toy_pytorch.nc', 'r')"
   ]
  },
  {
   "cell_type": "code",
   "execution_count": 5,
   "metadata": {},
   "outputs": [],
   "source": [
    "# lets have a look which models there are\n",
    "possible_mods = os.listdir()\n",
    "# the model save file names are usually derived from the corresponding OPS storage\n",
    "possible_mods = [m for m in possible_mods if '22dim_toy_pytorch.nc' in m]"
   ]
  },
  {
   "cell_type": "code",
   "execution_count": 6,
   "metadata": {},
   "outputs": [
    {
     "data": {
      "text/plain": [
       "['22dim_toy_pytorch.nc',\n",
       " '22dim_toy_pytorch.nc_RCmodel_at_step100.pckl',\n",
       " '22dim_toy_pytorch.nc_RCmodel_at_step200.pckl',\n",
       " '22dim_toy_pytorch.nc_RCmodel_at_step300.pckl',\n",
       " '22dim_toy_pytorch.nc_RCmodel_at_step400.pckl',\n",
       " '22dim_toy_pytorch.nc_RCmodel_at_step500.pckl',\n",
       " '22dim_toy_pytorch.nc_RCmodel.pckl']"
      ]
     },
     "execution_count": 6,
     "metadata": {},
     "output_type": "execute_result"
    }
   ],
   "source": [
    "possible_mods"
   ]
  },
  {
   "cell_type": "code",
   "execution_count": 7,
   "metadata": {},
   "outputs": [],
   "source": [
    "# lets load the model at step200\n",
    "fname = possible_mods[2]  # == '22dim_toy_pytorch.nc_RCmodel_at_step200.pckl'\n",
    "\n",
    "from arcd.base.rcmodel import RCModel\n",
    "# the first step is always asking the `arcd.base.RCModel` which subclass the actual model belongs to\n",
    "# this gives us the correct subclass and also a half-fixed state, i.e. we set descriptor_transform to the OPS CV\n",
    "state, cls = RCModel.load_state(fname, storage)\n",
    "# now we let the specific RCModel subclass implementation fix its state\n",
    "# this corrects the rest of the state, e.g. load the ANN with weights\n",
    "state = cls.fix_state(state)\n",
    "# this finally instantiates the correct RCModel class using the fixed state\n",
    "model = cls.set_state(state)"
   ]
  },
  {
   "cell_type": "code",
   "execution_count": 8,
   "metadata": {},
   "outputs": [
    {
     "name": "stdout",
     "output_type": "stream",
     "text": [
      "<arcd.pytorch.rcmodel.EEPytorchRCModel object at 0x7f2168307518>\n",
      "[[0.5737502]]\n"
     ]
    }
   ],
   "source": [
    "# check that it worked\n",
    "print(model)\n",
    "print(model(storage.snapshots[-1]))"
   ]
  },
  {
   "cell_type": "markdown",
   "metadata": {},
   "source": [
    "## Saving: The flexible way\n",
    "Of course you can also save any `arcd.RCModel` you want at any time. In case the model has an attached OPS `CollectiveVariable` as `descriptor_transform` it will save its name instead, such that you can later only completely reconstruct the model if passing an `openpathsampling.Storage` that contains the/any CV with that name.\n",
    "\n",
    "Note that without an OPS storage passed to `load_state()` it will still reconstruct the model, but leave the `descriptor_transform` untouched. This enables you to attach arbitrary (pickleable) functions as `descriptor_transform` (and not only OPS CVs) and they will be reconstructed as intended."
   ]
  },
  {
   "cell_type": "code",
   "execution_count": 9,
   "metadata": {},
   "outputs": [],
   "source": [
    "model.save('save_test1')"
   ]
  },
  {
   "cell_type": "code",
   "execution_count": 10,
   "metadata": {},
   "outputs": [
    {
     "name": "stdout",
     "output_type": "stream",
     "text": [
      "['save_test1.pckl']\n"
     ]
    }
   ],
   "source": [
    "# see that it worked\n",
    "possible_mods = os.listdir()\n",
    "# the model save file names are usually derived from the corresponding OPS storage\n",
    "possible_mods = [m for m in possible_mods if 'save_test1' in m]\n",
    "print(possible_mods)"
   ]
  },
  {
   "cell_type": "code",
   "execution_count": 11,
   "metadata": {},
   "outputs": [],
   "source": [
    "# now lets test saving arbitrary python functions as descriptor_transform\n",
    "def test_func(x, y):\n",
    "    return x + y\n",
    "\n",
    "# this will break our model as it changes the call signature of descriptor_transform, only for demonstration purposes\n",
    "model.descriptor_transform = test_func"
   ]
  },
  {
   "cell_type": "code",
   "execution_count": 12,
   "metadata": {},
   "outputs": [],
   "source": [
    "model.save('save_test2')"
   ]
  },
  {
   "cell_type": "code",
   "execution_count": 13,
   "metadata": {},
   "outputs": [],
   "source": [
    "# load it to check if it worked\n",
    "fname = 'save_test2.pckl'  # need filename with extension to load\n",
    "# same as above, except we do not (have to) pass an OPS storage\n",
    "state, cls = RCModel.load_state(fname)\n",
    "state = cls.fix_state(state)\n",
    "loaded_model = cls.set_state(state)"
   ]
  },
  {
   "cell_type": "code",
   "execution_count": 14,
   "metadata": {},
   "outputs": [
    {
     "data": {
      "text/plain": [
       "2"
      ]
     },
     "execution_count": 14,
     "metadata": {},
     "output_type": "execute_result"
    }
   ],
   "source": [
    "# should return 2\n",
    "loaded_model.descriptor_transform(1, 1)"
   ]
  },
  {
   "cell_type": "code",
   "execution_count": null,
   "metadata": {},
   "outputs": [],
   "source": []
  }
 ],
 "metadata": {
  "kernelspec": {
   "display_name": "ARCD",
   "language": "python",
   "name": "arcd"
  },
  "language_info": {
   "codemirror_mode": {
    "name": "ipython",
    "version": 3
   },
   "file_extension": ".py",
   "mimetype": "text/x-python",
   "name": "python",
   "nbconvert_exporter": "python",
   "pygments_lexer": "ipython3",
   "version": "3.6.8"
  }
 },
 "nbformat": 4,
 "nbformat_minor": 2
}
