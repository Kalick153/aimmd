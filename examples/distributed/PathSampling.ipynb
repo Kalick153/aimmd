{
 "cells": [
  {
   "cell_type": "code",
   "execution_count": 1,
   "metadata": {},
   "outputs": [],
   "source": [
    "%matplotlib inline"
   ]
  },
  {
   "cell_type": "code",
   "execution_count": 2,
   "metadata": {},
   "outputs": [
    {
     "name": "stderr",
     "output_type": "stream",
     "text": [
      "Tensorflow/Keras not available\n"
     ]
    }
   ],
   "source": [
    "import os\n",
    "import asyncio\n",
    "import numpy as np\n",
    "import matplotlib.pyplot as plt\n",
    "import mdtraj as mdt\n",
    "import MDAnalysis as mda\n",
    "import arcd\n",
    "import arcd.distributed as arcdd"
   ]
  },
  {
   "cell_type": "code",
   "execution_count": 3,
   "metadata": {},
   "outputs": [],
   "source": [
    "# setup logging\n",
    "# executing this file sets the variable LOGCONFIG, which is a dictionary of logging presets \n",
    "%run ../resources/logconf.py"
   ]
  },
  {
   "cell_type": "code",
   "execution_count": 4,
   "metadata": {},
   "outputs": [
    {
     "data": {
      "text/plain": [
       "{'version': 1,\n",
       " 'disable_existing_loggers': False,\n",
       " 'formatters': {'standardFormatter': {'class': 'logging.Formatter',\n",
       "   'format': '(%(levelname)s)%(name)s: %(message)s'},\n",
       "  'msgOnly': {'class': 'logging.Formatter', 'format': '%(message)s'}},\n",
       " 'handlers': {'stdout': {'class': 'logging.StreamHandler',\n",
       "   'level': 'NOTSET',\n",
       "   'formatter': 'msgOnly'},\n",
       "  'warnout': {'class': 'logging.StreamHandler',\n",
       "   'level': 'WARN',\n",
       "   'formatter': 'standardFormatter'},\n",
       "  'initf': {'class': 'logging.FileHandler',\n",
       "   'level': 'INFO',\n",
       "   'mode': 'w',\n",
       "   'filename': 'initialization.log',\n",
       "   'formatter': 'standardFormatter'},\n",
       "  'stdf': {'class': 'logging.FileHandler',\n",
       "   'level': 'INFO',\n",
       "   'mode': 'w',\n",
       "   'filename': 'simulation.log',\n",
       "   'formatter': 'standardFormatter'}},\n",
       " 'loggers': {'': {'level': 'INFO', 'handlers': ['stdf', 'warnout']},\n",
       "  'openpathsampling.initialization': {'level': 'INFO',\n",
       "   'handlers': ['initf'],\n",
       "   'qualname': 'openpathsampling.initialization',\n",
       "   'propagate': 0}}}"
      ]
     },
     "execution_count": 4,
     "metadata": {},
     "output_type": "execute_result"
    }
   ],
   "source": [
    "LOGCONFIG"
   ]
  },
  {
   "cell_type": "code",
   "execution_count": 5,
   "metadata": {},
   "outputs": [],
   "source": [
    "# you can either modify single values or use it as is to get the same setupt as in the OPS default logging config file\n",
    "# you could e.g. do LOGCONF['handlers']['stdf']['filename'] = new_name to change the filename of the log\n",
    "# the default is to create 'simulation.log' and 'initialization.log' in the current working directory\n",
    "import logging.config\n",
    "logging.config.dictConfig(LOGCONFIG)"
   ]
  },
  {
   "cell_type": "code",
   "execution_count": 6,
   "metadata": {},
   "outputs": [],
   "source": [
    "# first write out the inital TP as trr for gmx\n",
    "initial_tp_mdt = mdt.load(\"../capped_alanine_dipeptide/ala_400K_TP_low_barrier.h5\")"
   ]
  },
  {
   "cell_type": "code",
   "execution_count": 7,
   "metadata": {},
   "outputs": [],
   "source": [
    "#initial_tp_mdt.save(\"/home/think/scratch/arcd_distributed/gmx_infiles/ala_400K_TP_low_barrier.trr\")"
   ]
  },
  {
   "cell_type": "markdown",
   "metadata": {},
   "source": [
    "# now the actual setup"
   ]
  },
  {
   "cell_type": "code",
   "execution_count": 8,
   "metadata": {},
   "outputs": [],
   "source": [
    "n_chains = 3  # results in 6 gmx engines\n",
    "scratch_dir = \"/home/think/scratch/arcd_distributed/\""
   ]
  },
  {
   "cell_type": "code",
   "execution_count": 9,
   "metadata": {},
   "outputs": [],
   "source": [
    "storage = arcd.Storage(os.path.join(scratch_dir, \"storage.h5\"))"
   ]
  },
  {
   "cell_type": "markdown",
   "metadata": {},
   "source": [
    "# TODO: this is not very userfriendly!\n",
    " we should find a better way to initialize the storage (and also to pass the single modelstores to the movers)"
   ]
  },
  {
   "cell_type": "code",
   "execution_count": 10,
   "metadata": {},
   "outputs": [],
   "source": [
    "storage.initialize_central_memory(n_chains=n_chains)"
   ]
  },
  {
   "cell_type": "code",
   "execution_count": 11,
   "metadata": {},
   "outputs": [
    {
     "data": {
      "text/plain": [
       "<arcd.base.storage.RCModelRack at 0x7f709e46a730>"
      ]
     },
     "execution_count": 11,
     "metadata": {},
     "output_type": "execute_result"
    }
   ],
   "source": [
    "storage.central_memory[0].modelstore"
   ]
  },
  {
   "cell_type": "code",
   "execution_count": 12,
   "metadata": {},
   "outputs": [],
   "source": [
    "# make a list of engines for the PathMovers\n",
    "gro = os.path.join(scratch_dir, \"gmx_infiles/conf.gro\")\n",
    "top = os.path.join(scratch_dir, \"gmx_infiles/topol.top\")\n",
    "\n",
    "mdp = arcdd.MDP(os.path.join(scratch_dir, \"gmx_infiles/md.mdp\")) "
   ]
  },
  {
   "cell_type": "code",
   "execution_count": 13,
   "metadata": {},
   "outputs": [],
   "source": [
    "engines = [[arcdd.GmxEngine(gro_file=gro, top_file=top, mdrun_extra_args=\"-nt 2\") for _ in range(2)] for _ in range(n_chains)]\n",
    "# 2 way shooting: 2 engines per mover, n_chains movers because we have n_chains chains ;P"
   ]
  },
  {
   "cell_type": "code",
   "execution_count": 14,
   "metadata": {},
   "outputs": [],
   "source": [
    "# states\n",
    "def alpha_R(traj):\n",
    "    traj = mdt.load(traj.trajectory_file, \n",
    "                    top=os.path.join(scratch_dir, \"gmx_infiles/conf.gro\"),  # mdt can not work with tprs, so we use theinitial gro for now\n",
    "                    )\n",
    "    psi = mdt.compute_dihedrals(traj, indices=[[6,8,14,16]])[:, 0]\n",
    "    phi = mdt.compute_dihedrals(traj, indices=[[4,6,8,14]])[:, 0]\n",
    "    state = np.full_like(psi, False, dtype=bool)\n",
    "    # phi: -pi -> 0 \n",
    "    # psi: > -50 but smaller 30 degree\n",
    "    deg = 180/np.pi\n",
    "    state[(phi <= 0) & (-50/deg <= psi) & (psi <= 30/deg)] = True\n",
    "    return state\n",
    "\n",
    "\n",
    "wrapped_alphaR = arcdd.trajectory.TrajectoryFunctionWrapper(alpha_R)\n",
    "\n",
    "\n",
    "def C7_eq(traj):\n",
    "    traj = mdt.load(traj.trajectory_file, \n",
    "                    top=os.path.join(scratch_dir, \"gmx_infiles/conf.gro\"),  # mdt can not work with tprs, so we use theinitial gro for now\n",
    "                    )\n",
    "    psi = mdt.compute_dihedrals(traj, indices=[[6,8,14,16]])[:, 0]\n",
    "    phi = mdt.compute_dihedrals(traj, indices=[[4,6,8,14]])[:, 0]\n",
    "    state = np.full_like(psi, False, dtype=bool)\n",
    "    # phi: -pi -> 0 \n",
    "    # psi: 120 -> 200 degree\n",
    "    deg = 180/np.pi\n",
    "    state[(phi <= 0) & ((120/deg <= psi) | (-160/deg >= psi))] = True\n",
    "    return state\n",
    "\n",
    "\n",
    "wrapped_C7_eq = arcdd.TrajectoryFunctionWrapper(C7_eq)"
   ]
  },
  {
   "cell_type": "code",
   "execution_count": 15,
   "metadata": {},
   "outputs": [],
   "source": [
    "# descriptor_transform and model\n",
    "\n",
    "# internal coordinates\n",
    "def ic_transform(traj):\n",
    "    traj = mdt.load(traj.trajectory_file, \n",
    "                    top=os.path.join(scratch_dir, \"gmx_infiles/conf.gro\"),  # mdt can not work with tprs, so we use theinitial gro for now\n",
    "                    )\n",
    "    pairs, triples, quadruples = arcd.coords.internal.generate_indices(traj.topology, source_idx=0)\n",
    "\n",
    "    descriptors = arcd.coords.internal.transform(traj, pairs=pairs, triples=triples, quadruples=quadruples)\n",
    "    return descriptors\n",
    "\n",
    "wrapped_transform = arcdd.TrajectoryFunctionWrapper(ic_transform)"
   ]
  },
  {
   "cell_type": "code",
   "execution_count": 16,
   "metadata": {},
   "outputs": [],
   "source": [
    "initial_TP = arcdd.Trajectory(os.path.join(scratch_dir, \"gmx_infiles/ala_400K_TP_low_barrier.trr\"),\n",
    "                              os.path.join(scratch_dir, \"gmx_infiles/conf.gro\"))"
   ]
  },
  {
   "cell_type": "code",
   "execution_count": 17,
   "metadata": {},
   "outputs": [
    {
     "data": {
      "text/plain": [
       "array([False, False, False, False, False, False, False, False, False,\n",
       "       False, False, False, False, False, False, False, False, False,\n",
       "       False, False, False, False, False, False, False,  True])"
      ]
     },
     "execution_count": 17,
     "metadata": {},
     "output_type": "execute_result"
    }
   ],
   "source": [
    "await wrapped_alphaR(initial_TP)"
   ]
  },
  {
   "cell_type": "code",
   "execution_count": 18,
   "metadata": {},
   "outputs": [
    {
     "data": {
      "text/plain": [
       "array([ True, False, False, False, False, False, False, False, False,\n",
       "       False, False, False, False, False, False, False, False, False,\n",
       "       False, False, False, False, False, False, False, False])"
      ]
     },
     "execution_count": 18,
     "metadata": {},
     "output_type": "execute_result"
    }
   ],
   "source": [
    "await wrapped_C7_eq(initial_TP)"
   ]
  },
  {
   "cell_type": "code",
   "execution_count": 19,
   "metadata": {},
   "outputs": [],
   "source": [
    "descript = await wrapped_transform(initial_TP)"
   ]
  },
  {
   "cell_type": "code",
   "execution_count": 20,
   "metadata": {},
   "outputs": [],
   "source": [
    "cv_ndim = descript.shape[1]"
   ]
  },
  {
   "cell_type": "code",
   "execution_count": 21,
   "metadata": {},
   "outputs": [],
   "source": [
    "import torch.nn.functional as F\n",
    "import torch"
   ]
  },
  {
   "cell_type": "code",
   "execution_count": 22,
   "metadata": {},
   "outputs": [],
   "source": [
    "ffnet = arcd.pytorch.networks.FFNet(n_in=cv_ndim,\n",
    "                                    n_hidden=[int((cv_ndim) / i) for i in range(1,5)],  # 4 hidden layer pyramidal network\n",
    "                                    activation=F.elu,\n",
    "                                   )\n",
    "\n",
    "resnet = arcd.pytorch.networks.ResNet(n_units=int(cv_ndim/ 4), n_blocks=2)\n",
    "\n",
    "torch_model = arcd.pytorch.networks.ModuleStack(n_out=1,  # using a single output we will predict only p_B and use a binomial loss\n",
    "                                                          # we could have also used n_out=n_states to use a multinomial loss and predict all states,\n",
    "                                                          # but this is probably only worthwhile if n_states > 2 as it would increase the number of free parameters in the NN\n",
    "                                                modules=[ffnet, resnet],  # modules is a list of initialized torch.nn.Modules from arcd.pytorch.networks\n",
    "                                               )\n",
    "\n",
    "# move model to GPU if CUDA is available\n",
    "if torch.cuda.is_available():\n",
    "    torch_model = torch_model.to('cuda')\n",
    "\n",
    "# choose and initialize an optimizer to train the model\n",
    "optimizer = torch.optim.Adam(torch_model.parameters(), lr=1e-3)"
   ]
  },
  {
   "cell_type": "code",
   "execution_count": 23,
   "metadata": {},
   "outputs": [],
   "source": [
    "# we take an ExpectedEfficiencyPytorchRCModel,\n",
    "# this RCmodel scales the learning rate by the expected efficiency factor (1 - n_TP_true / n_TP_expected)**2\n",
    "model = arcd.pytorch.EEScalePytorchRCModelAsync(nnet=torch_model,\n",
    "                                                optimizer=optimizer,\n",
    "                                                states=[wrapped_C7_eq, wrapped_alphaR],\n",
    "                                                ee_params={'lr_0': 1e-3,  \n",
    "                                                           'lr_min': 5e-5,  # lr_min = lr_0 / 20 is a good choice empirically\n",
    "                                                           'epochs_per_train': 5,\n",
    "                                                           'interval': 3,\n",
    "                                                           'window': 75,\n",
    "                                                           },\n",
    "                                                descriptor_transform=wrapped_transform,\n",
    "                                                cache_file=storage,\n",
    "                                                )"
   ]
  },
  {
   "cell_type": "code",
   "execution_count": 24,
   "metadata": {},
   "outputs": [
    {
     "data": {
      "text/plain": [
       "(arcd.pytorch.rcmodel.EEScalePytorchRCModel,\n",
       " arcd.pytorch.rcmodel.PytorchRCModel,\n",
       " arcd.base.rcmodel.RCModel,\n",
       " abc.ABC,\n",
       " object)"
      ]
     },
     "execution_count": 24,
     "metadata": {},
     "output_type": "execute_result"
    }
   ],
   "source": [
    "arcd.pytorch.EEScalePytorchRCModel.__mro__"
   ]
  },
  {
   "cell_type": "code",
   "execution_count": 25,
   "metadata": {},
   "outputs": [
    {
     "data": {
      "text/plain": [
       "(arcd.pytorch.rcmodel.EEScalePytorchRCModelAsync,\n",
       " arcd.pytorch.rcmodel.PytorchRCModelAsync,\n",
       " arcd.base.rcmodel.RCModelAsync,\n",
       " arcd.base.rcmodel.RCModel,\n",
       " abc.ABC,\n",
       " object)"
      ]
     },
     "execution_count": 25,
     "metadata": {},
     "output_type": "execute_result"
    }
   ],
   "source": [
    "arcd.pytorch.EEScalePytorchRCModelAsync.__mro__"
   ]
  },
  {
   "cell_type": "code",
   "execution_count": 26,
   "metadata": {},
   "outputs": [],
   "source": [
    "# need a list with initialized movers\n",
    "movers = [[arcdd.TwoWayShootingPathMover(modelstore=storage.central_memory[i].modelstore,\n",
    "                                         states=[wrapped_C7_eq, wrapped_alphaR],\n",
    "                                         engines=engs,\n",
    "                                         engine_config=mdp,\n",
    "                                         walltime_per_part=0.01,\n",
    "                                         T=mdp[\"ref-t\"][0],\n",
    "                                         )\n",
    "           ] for i, engs in enumerate(engines)\n",
    "         ]"
   ]
  },
  {
   "cell_type": "code",
   "execution_count": 27,
   "metadata": {},
   "outputs": [],
   "source": [
    "trainset = arcd.TrainSet(n_states=2)"
   ]
  },
  {
   "cell_type": "code",
   "execution_count": 28,
   "metadata": {},
   "outputs": [],
   "source": [
    "tasks = [arcdd.logic.TrainingTask(model=model, trainset=trainset),\n",
    "         arcdd.logic.SaveTask(storage=storage, model=model, trainset=trainset)]"
   ]
  },
  {
   "cell_type": "code",
   "execution_count": 29,
   "metadata": {},
   "outputs": [],
   "source": [
    "brain = arcdd.Brain(model=model, workdir=scratch_dir, storage=storage, movers=movers, mover_weights=[[1.], [1.], [1.]], tasks=tasks)"
   ]
  },
  {
   "cell_type": "code",
   "execution_count": 30,
   "metadata": {},
   "outputs": [],
   "source": [
    "initial_step = arcdd.logic.MCstep(mover=None, stepnum=0, directory=os.path.join(scratch_dir, \"gmx_infiles\"), path=initial_TP, accepted=True)"
   ]
  },
  {
   "cell_type": "code",
   "execution_count": 31,
   "metadata": {},
   "outputs": [],
   "source": [
    "for c in brain.chains:\n",
    "    c.current_step = initial_step\n",
    "    c.chainstore.append(initial_step)  # save the initial step as first step of every chain"
   ]
  },
  {
   "cell_type": "code",
   "execution_count": 32,
   "metadata": {},
   "outputs": [
    {
     "name": "stderr",
     "output_type": "stream",
     "text": [
      "/home/think/.conda/envs/arcd_dev_3_2021/lib/python3.8/site-packages/MDAnalysis/topology/base.py:203: DeprecationWarning: `np.int` is a deprecated alias for the builtin `int`. To silence this warning, use `int` by itself. Doing this will not modify any behavior and is safe. When replacing `np.int`, you may wish to use e.g. `np.int64` or `np.int32` to specify the precision. If you wish to review your current use, check the release note link for additional information.\n",
      "Deprecated in NumPy 1.20; for more details and guidance: https://numpy.org/devdocs/release/1.20.0-notes.html#deprecations\n",
      "  residx = np.zeros_like(criteria[0], dtype=np.int)\n",
      "(ERROR)arcd.base.storage: saving a mcstep with a 'foreign' modelstore\n",
      "/home/think/.conda/envs/arcd_dev_3_2021/lib/python3.8/site-packages/MDAnalysis/topology/base.py:203: DeprecationWarning: `np.int` is a deprecated alias for the builtin `int`. To silence this warning, use `int` by itself. Doing this will not modify any behavior and is safe. When replacing `np.int`, you may wish to use e.g. `np.int64` or `np.int32` to specify the precision. If you wish to review your current use, check the release note link for additional information.\n",
      "Deprecated in NumPy 1.20; for more details and guidance: https://numpy.org/devdocs/release/1.20.0-notes.html#deprecations\n",
      "  residx = np.zeros_like(criteria[0], dtype=np.int)\n",
      "(ERROR)arcd.base.storage: saving a mcstep with a 'foreign' modelstore\n",
      "(ERROR)arcd.base.storage: saving a mcstep with a 'foreign' modelstore\n",
      "/home/think/.conda/envs/arcd_dev_3_2021/lib/python3.8/site-packages/MDAnalysis/topology/base.py:203: DeprecationWarning: `np.int` is a deprecated alias for the builtin `int`. To silence this warning, use `int` by itself. Doing this will not modify any behavior and is safe. When replacing `np.int`, you may wish to use e.g. `np.int64` or `np.int32` to specify the precision. If you wish to review your current use, check the release note link for additional information.\n",
      "Deprecated in NumPy 1.20; for more details and guidance: https://numpy.org/devdocs/release/1.20.0-notes.html#deprecations\n",
      "  residx = np.zeros_like(criteria[0], dtype=np.int)\n",
      "(ERROR)arcd.base.storage: saving a mcstep with a 'foreign' modelstore\n",
      "/home/think/.conda/envs/arcd_dev_3_2021/lib/python3.8/site-packages/MDAnalysis/topology/base.py:203: DeprecationWarning: `np.int` is a deprecated alias for the builtin `int`. To silence this warning, use `int` by itself. Doing this will not modify any behavior and is safe. When replacing `np.int`, you may wish to use e.g. `np.int64` or `np.int32` to specify the precision. If you wish to review your current use, check the release note link for additional information.\n",
      "Deprecated in NumPy 1.20; for more details and guidance: https://numpy.org/devdocs/release/1.20.0-notes.html#deprecations\n",
      "  residx = np.zeros_like(criteria[0], dtype=np.int)\n",
      "(ERROR)arcd.base.storage: saving a mcstep with a 'foreign' modelstore\n",
      "(ERROR)arcd.base.storage: saving a mcstep with a 'foreign' modelstore\n",
      "/home/think/.conda/envs/arcd_dev_3_2021/lib/python3.8/site-packages/MDAnalysis/topology/base.py:203: DeprecationWarning: `np.int` is a deprecated alias for the builtin `int`. To silence this warning, use `int` by itself. Doing this will not modify any behavior and is safe. When replacing `np.int`, you may wish to use e.g. `np.int64` or `np.int32` to specify the precision. If you wish to review your current use, check the release note link for additional information.\n",
      "Deprecated in NumPy 1.20; for more details and guidance: https://numpy.org/devdocs/release/1.20.0-notes.html#deprecations\n",
      "  residx = np.zeros_like(criteria[0], dtype=np.int)\n",
      "(ERROR)arcd.distributed.logic: Starting configuration already inside a state.\n",
      "(ERROR)arcd.distributed.logic: Starting configuration already inside a state.\n",
      "(ERROR)arcd.base.storage: saving a mcstep with a 'foreign' modelstore\n",
      "/home/think/.conda/envs/arcd_dev_3_2021/lib/python3.8/site-packages/MDAnalysis/topology/base.py:203: DeprecationWarning: `np.int` is a deprecated alias for the builtin `int`. To silence this warning, use `int` by itself. Doing this will not modify any behavior and is safe. When replacing `np.int`, you may wish to use e.g. `np.int64` or `np.int32` to specify the precision. If you wish to review your current use, check the release note link for additional information.\n",
      "Deprecated in NumPy 1.20; for more details and guidance: https://numpy.org/devdocs/release/1.20.0-notes.html#deprecations\n",
      "  residx = np.zeros_like(criteria[0], dtype=np.int)\n",
      "(ERROR)arcd.base.storage: saving a mcstep with a 'foreign' modelstore\n",
      "/home/think/.conda/envs/arcd_dev_3_2021/lib/python3.8/site-packages/MDAnalysis/topology/base.py:203: DeprecationWarning: `np.int` is a deprecated alias for the builtin `int`. To silence this warning, use `int` by itself. Doing this will not modify any behavior and is safe. When replacing `np.int`, you may wish to use e.g. `np.int64` or `np.int32` to specify the precision. If you wish to review your current use, check the release note link for additional information.\n",
      "Deprecated in NumPy 1.20; for more details and guidance: https://numpy.org/devdocs/release/1.20.0-notes.html#deprecations\n",
      "  residx = np.zeros_like(criteria[0], dtype=np.int)\n",
      "(ERROR)arcd.base.storage: saving a mcstep with a 'foreign' modelstore\n",
      "/home/think/.conda/envs/arcd_dev_3_2021/lib/python3.8/site-packages/MDAnalysis/topology/base.py:203: DeprecationWarning: `np.int` is a deprecated alias for the builtin `int`. To silence this warning, use `int` by itself. Doing this will not modify any behavior and is safe. When replacing `np.int`, you may wish to use e.g. `np.int64` or `np.int32` to specify the precision. If you wish to review your current use, check the release note link for additional information.\n",
      "Deprecated in NumPy 1.20; for more details and guidance: https://numpy.org/devdocs/release/1.20.0-notes.html#deprecations\n",
      "  residx = np.zeros_like(criteria[0], dtype=np.int)\n",
      "(ERROR)arcd.base.storage: saving a mcstep with a 'foreign' modelstore\n",
      "(ERROR)arcd.base.storage: saving a mcstep with a 'foreign' modelstore\n",
      "/home/think/.conda/envs/arcd_dev_3_2021/lib/python3.8/site-packages/MDAnalysis/topology/base.py:203: DeprecationWarning: `np.int` is a deprecated alias for the builtin `int`. To silence this warning, use `int` by itself. Doing this will not modify any behavior and is safe. When replacing `np.int`, you may wish to use e.g. `np.int64` or `np.int32` to specify the precision. If you wish to review your current use, check the release note link for additional information.\n",
      "Deprecated in NumPy 1.20; for more details and guidance: https://numpy.org/devdocs/release/1.20.0-notes.html#deprecations\n",
      "  residx = np.zeros_like(criteria[0], dtype=np.int)\n",
      "(ERROR)arcd.base.storage: saving a mcstep with a 'foreign' modelstore\n",
      "/home/think/.conda/envs/arcd_dev_3_2021/lib/python3.8/site-packages/MDAnalysis/topology/base.py:203: DeprecationWarning: `np.int` is a deprecated alias for the builtin `int`. To silence this warning, use `int` by itself. Doing this will not modify any behavior and is safe. When replacing `np.int`, you may wish to use e.g. `np.int64` or `np.int32` to specify the precision. If you wish to review your current use, check the release note link for additional information.\n",
      "Deprecated in NumPy 1.20; for more details and guidance: https://numpy.org/devdocs/release/1.20.0-notes.html#deprecations\n",
      "  residx = np.zeros_like(criteria[0], dtype=np.int)\n",
      "(ERROR)arcd.base.storage: saving a mcstep with a 'foreign' modelstore\n",
      "(ERROR)arcd.base.storage: saving a mcstep with a 'foreign' modelstore\n",
      "/home/think/.conda/envs/arcd_dev_3_2021/lib/python3.8/site-packages/MDAnalysis/topology/base.py:203: DeprecationWarning: `np.int` is a deprecated alias for the builtin `int`. To silence this warning, use `int` by itself. Doing this will not modify any behavior and is safe. When replacing `np.int`, you may wish to use e.g. `np.int64` or `np.int32` to specify the precision. If you wish to review your current use, check the release note link for additional information.\n",
      "Deprecated in NumPy 1.20; for more details and guidance: https://numpy.org/devdocs/release/1.20.0-notes.html#deprecations\n",
      "  residx = np.zeros_like(criteria[0], dtype=np.int)\n",
      "(ERROR)arcd.base.storage: saving a mcstep with a 'foreign' modelstore\n",
      "/home/think/.conda/envs/arcd_dev_3_2021/lib/python3.8/site-packages/MDAnalysis/topology/base.py:203: DeprecationWarning: `np.int` is a deprecated alias for the builtin `int`. To silence this warning, use `int` by itself. Doing this will not modify any behavior and is safe. When replacing `np.int`, you may wish to use e.g. `np.int64` or `np.int32` to specify the precision. If you wish to review your current use, check the release note link for additional information.\n",
      "Deprecated in NumPy 1.20; for more details and guidance: https://numpy.org/devdocs/release/1.20.0-notes.html#deprecations\n",
      "  residx = np.zeros_like(criteria[0], dtype=np.int)\n",
      "(ERROR)arcd.base.storage: saving a mcstep with a 'foreign' modelstore\n",
      "(ERROR)arcd.base.storage: saving a mcstep with a 'foreign' modelstore\n",
      "/home/think/.conda/envs/arcd_dev_3_2021/lib/python3.8/site-packages/MDAnalysis/topology/base.py:203: DeprecationWarning: `np.int` is a deprecated alias for the builtin `int`. To silence this warning, use `int` by itself. Doing this will not modify any behavior and is safe. When replacing `np.int`, you may wish to use e.g. `np.int64` or `np.int32` to specify the precision. If you wish to review your current use, check the release note link for additional information.\n",
      "Deprecated in NumPy 1.20; for more details and guidance: https://numpy.org/devdocs/release/1.20.0-notes.html#deprecations\n",
      "  residx = np.zeros_like(criteria[0], dtype=np.int)\n",
      "(ERROR)arcd.base.storage: saving a mcstep with a 'foreign' modelstore\n",
      "/home/think/.conda/envs/arcd_dev_3_2021/lib/python3.8/site-packages/MDAnalysis/topology/base.py:203: DeprecationWarning: `np.int` is a deprecated alias for the builtin `int`. To silence this warning, use `int` by itself. Doing this will not modify any behavior and is safe. When replacing `np.int`, you may wish to use e.g. `np.int64` or `np.int32` to specify the precision. If you wish to review your current use, check the release note link for additional information.\n",
      "Deprecated in NumPy 1.20; for more details and guidance: https://numpy.org/devdocs/release/1.20.0-notes.html#deprecations\n",
      "  residx = np.zeros_like(criteria[0], dtype=np.int)\n",
      "(ERROR)arcd.base.storage: saving a mcstep with a 'foreign' modelstore\n",
      "(ERROR)arcd.base.storage: saving a mcstep with a 'foreign' modelstore\n",
      "/home/think/.conda/envs/arcd_dev_3_2021/lib/python3.8/site-packages/MDAnalysis/topology/base.py:203: DeprecationWarning: `np.int` is a deprecated alias for the builtin `int`. To silence this warning, use `int` by itself. Doing this will not modify any behavior and is safe. When replacing `np.int`, you may wish to use e.g. `np.int64` or `np.int32` to specify the precision. If you wish to review your current use, check the release note link for additional information.\n",
      "Deprecated in NumPy 1.20; for more details and guidance: https://numpy.org/devdocs/release/1.20.0-notes.html#deprecations\n",
      "  residx = np.zeros_like(criteria[0], dtype=np.int)\n",
      "(ERROR)arcd.base.storage: saving a mcstep with a 'foreign' modelstore\n",
      "/home/think/.conda/envs/arcd_dev_3_2021/lib/python3.8/site-packages/MDAnalysis/topology/base.py:203: DeprecationWarning: `np.int` is a deprecated alias for the builtin `int`. To silence this warning, use `int` by itself. Doing this will not modify any behavior and is safe. When replacing `np.int`, you may wish to use e.g. `np.int64` or `np.int32` to specify the precision. If you wish to review your current use, check the release note link for additional information.\n",
      "Deprecated in NumPy 1.20; for more details and guidance: https://numpy.org/devdocs/release/1.20.0-notes.html#deprecations\n",
      "  residx = np.zeros_like(criteria[0], dtype=np.int)\n",
      "(ERROR)arcd.base.storage: saving a mcstep with a 'foreign' modelstore\n",
      "(ERROR)arcd.base.storage: saving a mcstep with a 'foreign' modelstore\n",
      "/home/think/.conda/envs/arcd_dev_3_2021/lib/python3.8/site-packages/MDAnalysis/topology/base.py:203: DeprecationWarning: `np.int` is a deprecated alias for the builtin `int`. To silence this warning, use `int` by itself. Doing this will not modify any behavior and is safe. When replacing `np.int`, you may wish to use e.g. `np.int64` or `np.int32` to specify the precision. If you wish to review your current use, check the release note link for additional information.\n",
      "Deprecated in NumPy 1.20; for more details and guidance: https://numpy.org/devdocs/release/1.20.0-notes.html#deprecations\n",
      "  residx = np.zeros_like(criteria[0], dtype=np.int)\n",
      "(ERROR)arcd.base.storage: saving a mcstep with a 'foreign' modelstore\n",
      "/home/think/.conda/envs/arcd_dev_3_2021/lib/python3.8/site-packages/MDAnalysis/topology/base.py:203: DeprecationWarning: `np.int` is a deprecated alias for the builtin `int`. To silence this warning, use `int` by itself. Doing this will not modify any behavior and is safe. When replacing `np.int`, you may wish to use e.g. `np.int64` or `np.int32` to specify the precision. If you wish to review your current use, check the release note link for additional information.\n",
      "Deprecated in NumPy 1.20; for more details and guidance: https://numpy.org/devdocs/release/1.20.0-notes.html#deprecations\n",
      "  residx = np.zeros_like(criteria[0], dtype=np.int)\n",
      "(ERROR)arcd.base.storage: saving a mcstep with a 'foreign' modelstore\n",
      "(ERROR)arcd.base.storage: saving a mcstep with a 'foreign' modelstore\n",
      "/home/think/.conda/envs/arcd_dev_3_2021/lib/python3.8/site-packages/MDAnalysis/topology/base.py:203: DeprecationWarning: `np.int` is a deprecated alias for the builtin `int`. To silence this warning, use `int` by itself. Doing this will not modify any behavior and is safe. When replacing `np.int`, you may wish to use e.g. `np.int64` or `np.int32` to specify the precision. If you wish to review your current use, check the release note link for additional information.\n",
      "Deprecated in NumPy 1.20; for more details and guidance: https://numpy.org/devdocs/release/1.20.0-notes.html#deprecations\n",
      "  residx = np.zeros_like(criteria[0], dtype=np.int)\n",
      "(ERROR)arcd.base.storage: saving a mcstep with a 'foreign' modelstore\n",
      "/home/think/.conda/envs/arcd_dev_3_2021/lib/python3.8/site-packages/MDAnalysis/topology/base.py:203: DeprecationWarning: `np.int` is a deprecated alias for the builtin `int`. To silence this warning, use `int` by itself. Doing this will not modify any behavior and is safe. When replacing `np.int`, you may wish to use e.g. `np.int64` or `np.int32` to specify the precision. If you wish to review your current use, check the release note link for additional information.\n",
      "Deprecated in NumPy 1.20; for more details and guidance: https://numpy.org/devdocs/release/1.20.0-notes.html#deprecations\n",
      "  residx = np.zeros_like(criteria[0], dtype=np.int)\n",
      "(ERROR)arcd.base.storage: saving a mcstep with a 'foreign' modelstore\n",
      "(ERROR)arcd.base.storage: saving a mcstep with a 'foreign' modelstore\n",
      "/home/think/.conda/envs/arcd_dev_3_2021/lib/python3.8/site-packages/MDAnalysis/topology/base.py:203: DeprecationWarning: `np.int` is a deprecated alias for the builtin `int`. To silence this warning, use `int` by itself. Doing this will not modify any behavior and is safe. When replacing `np.int`, you may wish to use e.g. `np.int64` or `np.int32` to specify the precision. If you wish to review your current use, check the release note link for additional information.\n",
      "Deprecated in NumPy 1.20; for more details and guidance: https://numpy.org/devdocs/release/1.20.0-notes.html#deprecations\n",
      "  residx = np.zeros_like(criteria[0], dtype=np.int)\n",
      "(ERROR)arcd.base.storage: saving a mcstep with a 'foreign' modelstore\n",
      "/home/think/.conda/envs/arcd_dev_3_2021/lib/python3.8/site-packages/MDAnalysis/topology/base.py:203: DeprecationWarning: `np.int` is a deprecated alias for the builtin `int`. To silence this warning, use `int` by itself. Doing this will not modify any behavior and is safe. When replacing `np.int`, you may wish to use e.g. `np.int64` or `np.int32` to specify the precision. If you wish to review your current use, check the release note link for additional information.\n",
      "Deprecated in NumPy 1.20; for more details and guidance: https://numpy.org/devdocs/release/1.20.0-notes.html#deprecations\n",
      "  residx = np.zeros_like(criteria[0], dtype=np.int)\n",
      "(ERROR)arcd.distributed.logic: Starting configuration already inside a state.\n",
      "(ERROR)arcd.distributed.logic: Starting configuration already inside a state.\n",
      "(ERROR)arcd.base.storage: saving a mcstep with a 'foreign' modelstore\n",
      "(ERROR)arcd.base.storage: saving a mcstep with a 'foreign' modelstore\n",
      "(ERROR)arcd.base.storage: saving a mcstep with a 'foreign' modelstore\n",
      "/home/think/.conda/envs/arcd_dev_3_2021/lib/python3.8/site-packages/MDAnalysis/topology/base.py:203: DeprecationWarning: `np.int` is a deprecated alias for the builtin `int`. To silence this warning, use `int` by itself. Doing this will not modify any behavior and is safe. When replacing `np.int`, you may wish to use e.g. `np.int64` or `np.int32` to specify the precision. If you wish to review your current use, check the release note link for additional information.\n",
      "Deprecated in NumPy 1.20; for more details and guidance: https://numpy.org/devdocs/release/1.20.0-notes.html#deprecations\n",
      "  residx = np.zeros_like(criteria[0], dtype=np.int)\n",
      "(ERROR)arcd.base.storage: saving a mcstep with a 'foreign' modelstore\n",
      "/home/think/.conda/envs/arcd_dev_3_2021/lib/python3.8/site-packages/MDAnalysis/topology/base.py:203: DeprecationWarning: `np.int` is a deprecated alias for the builtin `int`. To silence this warning, use `int` by itself. Doing this will not modify any behavior and is safe. When replacing `np.int`, you may wish to use e.g. `np.int64` or `np.int32` to specify the precision. If you wish to review your current use, check the release note link for additional information.\n",
      "Deprecated in NumPy 1.20; for more details and guidance: https://numpy.org/devdocs/release/1.20.0-notes.html#deprecations\n",
      "  residx = np.zeros_like(criteria[0], dtype=np.int)\n",
      "(ERROR)arcd.base.storage: saving a mcstep with a 'foreign' modelstore\n",
      "(ERROR)arcd.base.storage: saving a mcstep with a 'foreign' modelstore\n",
      "/home/think/.conda/envs/arcd_dev_3_2021/lib/python3.8/site-packages/MDAnalysis/topology/base.py:203: DeprecationWarning: `np.int` is a deprecated alias for the builtin `int`. To silence this warning, use `int` by itself. Doing this will not modify any behavior and is safe. When replacing `np.int`, you may wish to use e.g. `np.int64` or `np.int32` to specify the precision. If you wish to review your current use, check the release note link for additional information.\n",
      "Deprecated in NumPy 1.20; for more details and guidance: https://numpy.org/devdocs/release/1.20.0-notes.html#deprecations\n",
      "  residx = np.zeros_like(criteria[0], dtype=np.int)\n",
      "(ERROR)arcd.distributed.logic: Starting configuration already inside a state.\n",
      "(ERROR)arcd.distributed.logic: Starting configuration already inside a state.\n",
      "(ERROR)arcd.base.storage: saving a mcstep with a 'foreign' modelstore\n",
      "(ERROR)arcd.base.storage: saving a mcstep with a 'foreign' modelstore\n",
      "/home/think/.conda/envs/arcd_dev_3_2021/lib/python3.8/site-packages/MDAnalysis/topology/base.py:203: DeprecationWarning: `np.int` is a deprecated alias for the builtin `int`. To silence this warning, use `int` by itself. Doing this will not modify any behavior and is safe. When replacing `np.int`, you may wish to use e.g. `np.int64` or `np.int32` to specify the precision. If you wish to review your current use, check the release note link for additional information.\n",
      "Deprecated in NumPy 1.20; for more details and guidance: https://numpy.org/devdocs/release/1.20.0-notes.html#deprecations\n",
      "  residx = np.zeros_like(criteria[0], dtype=np.int)\n",
      "(ERROR)arcd.base.storage: saving a mcstep with a 'foreign' modelstore\n",
      "(ERROR)arcd.base.storage: saving a mcstep with a 'foreign' modelstore\n",
      "/home/think/.conda/envs/arcd_dev_3_2021/lib/python3.8/site-packages/MDAnalysis/topology/base.py:203: DeprecationWarning: `np.int` is a deprecated alias for the builtin `int`. To silence this warning, use `int` by itself. Doing this will not modify any behavior and is safe. When replacing `np.int`, you may wish to use e.g. `np.int64` or `np.int32` to specify the precision. If you wish to review your current use, check the release note link for additional information.\n",
      "Deprecated in NumPy 1.20; for more details and guidance: https://numpy.org/devdocs/release/1.20.0-notes.html#deprecations\n",
      "  residx = np.zeros_like(criteria[0], dtype=np.int)\n",
      "(ERROR)arcd.base.storage: saving a mcstep with a 'foreign' modelstore\n",
      "/home/think/.conda/envs/arcd_dev_3_2021/lib/python3.8/site-packages/MDAnalysis/topology/base.py:203: DeprecationWarning: `np.int` is a deprecated alias for the builtin `int`. To silence this warning, use `int` by itself. Doing this will not modify any behavior and is safe. When replacing `np.int`, you may wish to use e.g. `np.int64` or `np.int32` to specify the precision. If you wish to review your current use, check the release note link for additional information.\n",
      "Deprecated in NumPy 1.20; for more details and guidance: https://numpy.org/devdocs/release/1.20.0-notes.html#deprecations\n",
      "  residx = np.zeros_like(criteria[0], dtype=np.int)\n",
      "(ERROR)arcd.base.storage: saving a mcstep with a 'foreign' modelstore\n",
      "(ERROR)arcd.base.storage: saving a mcstep with a 'foreign' modelstore\n",
      "/home/think/.conda/envs/arcd_dev_3_2021/lib/python3.8/site-packages/MDAnalysis/topology/base.py:203: DeprecationWarning: `np.int` is a deprecated alias for the builtin `int`. To silence this warning, use `int` by itself. Doing this will not modify any behavior and is safe. When replacing `np.int`, you may wish to use e.g. `np.int64` or `np.int32` to specify the precision. If you wish to review your current use, check the release note link for additional information.\n",
      "Deprecated in NumPy 1.20; for more details and guidance: https://numpy.org/devdocs/release/1.20.0-notes.html#deprecations\n",
      "  residx = np.zeros_like(criteria[0], dtype=np.int)\n",
      "(ERROR)arcd.base.storage: saving a mcstep with a 'foreign' modelstore\n",
      "/home/think/.conda/envs/arcd_dev_3_2021/lib/python3.8/site-packages/MDAnalysis/topology/base.py:203: DeprecationWarning: `np.int` is a deprecated alias for the builtin `int`. To silence this warning, use `int` by itself. Doing this will not modify any behavior and is safe. When replacing `np.int`, you may wish to use e.g. `np.int64` or `np.int32` to specify the precision. If you wish to review your current use, check the release note link for additional information.\n",
      "Deprecated in NumPy 1.20; for more details and guidance: https://numpy.org/devdocs/release/1.20.0-notes.html#deprecations\n",
      "  residx = np.zeros_like(criteria[0], dtype=np.int)\n",
      "(ERROR)arcd.base.storage: saving a mcstep with a 'foreign' modelstore\n",
      "(ERROR)arcd.base.storage: saving a mcstep with a 'foreign' modelstore\n",
      "/home/think/.conda/envs/arcd_dev_3_2021/lib/python3.8/site-packages/MDAnalysis/topology/base.py:203: DeprecationWarning: `np.int` is a deprecated alias for the builtin `int`. To silence this warning, use `int` by itself. Doing this will not modify any behavior and is safe. When replacing `np.int`, you may wish to use e.g. `np.int64` or `np.int32` to specify the precision. If you wish to review your current use, check the release note link for additional information.\n",
      "Deprecated in NumPy 1.20; for more details and guidance: https://numpy.org/devdocs/release/1.20.0-notes.html#deprecations\n",
      "  residx = np.zeros_like(criteria[0], dtype=np.int)\n",
      "(ERROR)arcd.base.storage: saving a mcstep with a 'foreign' modelstore\n",
      "/home/think/.conda/envs/arcd_dev_3_2021/lib/python3.8/site-packages/MDAnalysis/topology/base.py:203: DeprecationWarning: `np.int` is a deprecated alias for the builtin `int`. To silence this warning, use `int` by itself. Doing this will not modify any behavior and is safe. When replacing `np.int`, you may wish to use e.g. `np.int64` or `np.int32` to specify the precision. If you wish to review your current use, check the release note link for additional information.\n",
      "Deprecated in NumPy 1.20; for more details and guidance: https://numpy.org/devdocs/release/1.20.0-notes.html#deprecations\n",
      "  residx = np.zeros_like(criteria[0], dtype=np.int)\n",
      "(ERROR)arcd.base.storage: saving a mcstep with a 'foreign' modelstore\n",
      "(ERROR)arcd.base.storage: saving a mcstep with a 'foreign' modelstore\n",
      "/home/think/.conda/envs/arcd_dev_3_2021/lib/python3.8/site-packages/MDAnalysis/topology/base.py:203: DeprecationWarning: `np.int` is a deprecated alias for the builtin `int`. To silence this warning, use `int` by itself. Doing this will not modify any behavior and is safe. When replacing `np.int`, you may wish to use e.g. `np.int64` or `np.int32` to specify the precision. If you wish to review your current use, check the release note link for additional information.\n",
      "Deprecated in NumPy 1.20; for more details and guidance: https://numpy.org/devdocs/release/1.20.0-notes.html#deprecations\n",
      "  residx = np.zeros_like(criteria[0], dtype=np.int)\n",
      "(ERROR)arcd.base.storage: saving a mcstep with a 'foreign' modelstore\n",
      "/home/think/.conda/envs/arcd_dev_3_2021/lib/python3.8/site-packages/MDAnalysis/topology/base.py:203: DeprecationWarning: `np.int` is a deprecated alias for the builtin `int`. To silence this warning, use `int` by itself. Doing this will not modify any behavior and is safe. When replacing `np.int`, you may wish to use e.g. `np.int64` or `np.int32` to specify the precision. If you wish to review your current use, check the release note link for additional information.\n",
      "Deprecated in NumPy 1.20; for more details and guidance: https://numpy.org/devdocs/release/1.20.0-notes.html#deprecations\n",
      "  residx = np.zeros_like(criteria[0], dtype=np.int)\n",
      "(ERROR)arcd.base.storage: saving a mcstep with a 'foreign' modelstore\n",
      "(ERROR)arcd.base.storage: saving a mcstep with a 'foreign' modelstore\n",
      "/home/think/.conda/envs/arcd_dev_3_2021/lib/python3.8/site-packages/MDAnalysis/topology/base.py:203: DeprecationWarning: `np.int` is a deprecated alias for the builtin `int`. To silence this warning, use `int` by itself. Doing this will not modify any behavior and is safe. When replacing `np.int`, you may wish to use e.g. `np.int64` or `np.int32` to specify the precision. If you wish to review your current use, check the release note link for additional information.\n",
      "Deprecated in NumPy 1.20; for more details and guidance: https://numpy.org/devdocs/release/1.20.0-notes.html#deprecations\n",
      "  residx = np.zeros_like(criteria[0], dtype=np.int)\n",
      "(ERROR)arcd.distributed.logic: Starting configuration already inside a state.\n",
      "(ERROR)arcd.distributed.logic: Starting configuration already inside a state.\n",
      "(ERROR)arcd.base.storage: saving a mcstep with a 'foreign' modelstore\n",
      "(ERROR)arcd.base.storage: saving a mcstep with a 'foreign' modelstore\n",
      "(ERROR)arcd.base.storage: saving a mcstep with a 'foreign' modelstore\n",
      "/home/think/.conda/envs/arcd_dev_3_2021/lib/python3.8/site-packages/MDAnalysis/topology/base.py:203: DeprecationWarning: `np.int` is a deprecated alias for the builtin `int`. To silence this warning, use `int` by itself. Doing this will not modify any behavior and is safe. When replacing `np.int`, you may wish to use e.g. `np.int64` or `np.int32` to specify the precision. If you wish to review your current use, check the release note link for additional information.\n",
      "Deprecated in NumPy 1.20; for more details and guidance: https://numpy.org/devdocs/release/1.20.0-notes.html#deprecations\n",
      "  residx = np.zeros_like(criteria[0], dtype=np.int)\n",
      "(ERROR)arcd.distributed.logic: Starting configuration already inside a state.\n",
      "(ERROR)arcd.distributed.logic: Starting configuration already inside a state.\n",
      "(ERROR)arcd.base.storage: saving a mcstep with a 'foreign' modelstore\n",
      "/home/think/.conda/envs/arcd_dev_3_2021/lib/python3.8/site-packages/MDAnalysis/topology/base.py:203: DeprecationWarning: `np.int` is a deprecated alias for the builtin `int`. To silence this warning, use `int` by itself. Doing this will not modify any behavior and is safe. When replacing `np.int`, you may wish to use e.g. `np.int64` or `np.int32` to specify the precision. If you wish to review your current use, check the release note link for additional information.\n",
      "Deprecated in NumPy 1.20; for more details and guidance: https://numpy.org/devdocs/release/1.20.0-notes.html#deprecations\n",
      "  residx = np.zeros_like(criteria[0], dtype=np.int)\n",
      "(ERROR)arcd.base.storage: saving a mcstep with a 'foreign' modelstore\n",
      "/home/think/.conda/envs/arcd_dev_3_2021/lib/python3.8/site-packages/MDAnalysis/topology/base.py:203: DeprecationWarning: `np.int` is a deprecated alias for the builtin `int`. To silence this warning, use `int` by itself. Doing this will not modify any behavior and is safe. When replacing `np.int`, you may wish to use e.g. `np.int64` or `np.int32` to specify the precision. If you wish to review your current use, check the release note link for additional information.\n",
      "Deprecated in NumPy 1.20; for more details and guidance: https://numpy.org/devdocs/release/1.20.0-notes.html#deprecations\n",
      "  residx = np.zeros_like(criteria[0], dtype=np.int)\n",
      "(ERROR)arcd.base.storage: saving a mcstep with a 'foreign' modelstore\n",
      "(ERROR)arcd.base.storage: saving a mcstep with a 'foreign' modelstore\n",
      "/home/think/.conda/envs/arcd_dev_3_2021/lib/python3.8/site-packages/MDAnalysis/topology/base.py:203: DeprecationWarning: `np.int` is a deprecated alias for the builtin `int`. To silence this warning, use `int` by itself. Doing this will not modify any behavior and is safe. When replacing `np.int`, you may wish to use e.g. `np.int64` or `np.int32` to specify the precision. If you wish to review your current use, check the release note link for additional information.\n",
      "Deprecated in NumPy 1.20; for more details and guidance: https://numpy.org/devdocs/release/1.20.0-notes.html#deprecations\n",
      "  residx = np.zeros_like(criteria[0], dtype=np.int)\n",
      "(ERROR)arcd.base.storage: saving a mcstep with a 'foreign' modelstore\n",
      "/home/think/.conda/envs/arcd_dev_3_2021/lib/python3.8/site-packages/MDAnalysis/topology/base.py:203: DeprecationWarning: `np.int` is a deprecated alias for the builtin `int`. To silence this warning, use `int` by itself. Doing this will not modify any behavior and is safe. When replacing `np.int`, you may wish to use e.g. `np.int64` or `np.int32` to specify the precision. If you wish to review your current use, check the release note link for additional information.\n",
      "Deprecated in NumPy 1.20; for more details and guidance: https://numpy.org/devdocs/release/1.20.0-notes.html#deprecations\n",
      "  residx = np.zeros_like(criteria[0], dtype=np.int)\n",
      "(ERROR)arcd.base.storage: saving a mcstep with a 'foreign' modelstore\n",
      "(ERROR)arcd.base.storage: saving a mcstep with a 'foreign' modelstore\n",
      "/home/think/.conda/envs/arcd_dev_3_2021/lib/python3.8/site-packages/MDAnalysis/topology/base.py:203: DeprecationWarning: `np.int` is a deprecated alias for the builtin `int`. To silence this warning, use `int` by itself. Doing this will not modify any behavior and is safe. When replacing `np.int`, you may wish to use e.g. `np.int64` or `np.int32` to specify the precision. If you wish to review your current use, check the release note link for additional information.\n",
      "Deprecated in NumPy 1.20; for more details and guidance: https://numpy.org/devdocs/release/1.20.0-notes.html#deprecations\n",
      "  residx = np.zeros_like(criteria[0], dtype=np.int)\n",
      "(ERROR)arcd.base.storage: saving a mcstep with a 'foreign' modelstore\n",
      "/home/think/.conda/envs/arcd_dev_3_2021/lib/python3.8/site-packages/MDAnalysis/topology/base.py:203: DeprecationWarning: `np.int` is a deprecated alias for the builtin `int`. To silence this warning, use `int` by itself. Doing this will not modify any behavior and is safe. When replacing `np.int`, you may wish to use e.g. `np.int64` or `np.int32` to specify the precision. If you wish to review your current use, check the release note link for additional information.\n",
      "Deprecated in NumPy 1.20; for more details and guidance: https://numpy.org/devdocs/release/1.20.0-notes.html#deprecations\n",
      "  residx = np.zeros_like(criteria[0], dtype=np.int)\n",
      "(ERROR)arcd.base.storage: saving a mcstep with a 'foreign' modelstore\n",
      "(ERROR)arcd.base.storage: saving a mcstep with a 'foreign' modelstore\n",
      "(ERROR)arcd.base.storage: saving a mcstep with a 'foreign' modelstore\n",
      "/home/think/.conda/envs/arcd_dev_3_2021/lib/python3.8/site-packages/MDAnalysis/topology/base.py:203: DeprecationWarning: `np.int` is a deprecated alias for the builtin `int`. To silence this warning, use `int` by itself. Doing this will not modify any behavior and is safe. When replacing `np.int`, you may wish to use e.g. `np.int64` or `np.int32` to specify the precision. If you wish to review your current use, check the release note link for additional information.\n",
      "Deprecated in NumPy 1.20; for more details and guidance: https://numpy.org/devdocs/release/1.20.0-notes.html#deprecations\n",
      "  residx = np.zeros_like(criteria[0], dtype=np.int)\n",
      "(ERROR)arcd.base.storage: saving a mcstep with a 'foreign' modelstore\n",
      "(ERROR)arcd.base.storage: saving a mcstep with a 'foreign' modelstore\n",
      "(ERROR)arcd.base.storage: saving a mcstep with a 'foreign' modelstore\n",
      "/home/think/.conda/envs/arcd_dev_3_2021/lib/python3.8/site-packages/MDAnalysis/topology/base.py:203: DeprecationWarning: `np.int` is a deprecated alias for the builtin `int`. To silence this warning, use `int` by itself. Doing this will not modify any behavior and is safe. When replacing `np.int`, you may wish to use e.g. `np.int64` or `np.int32` to specify the precision. If you wish to review your current use, check the release note link for additional information.\n",
      "Deprecated in NumPy 1.20; for more details and guidance: https://numpy.org/devdocs/release/1.20.0-notes.html#deprecations\n",
      "  residx = np.zeros_like(criteria[0], dtype=np.int)\n",
      "(ERROR)arcd.base.storage: saving a mcstep with a 'foreign' modelstore\n",
      "(ERROR)arcd.base.storage: saving a mcstep with a 'foreign' modelstore\n",
      "(ERROR)arcd.base.storage: saving a mcstep with a 'foreign' modelstore\n",
      "/home/think/.conda/envs/arcd_dev_3_2021/lib/python3.8/site-packages/MDAnalysis/topology/base.py:203: DeprecationWarning: `np.int` is a deprecated alias for the builtin `int`. To silence this warning, use `int` by itself. Doing this will not modify any behavior and is safe. When replacing `np.int`, you may wish to use e.g. `np.int64` or `np.int32` to specify the precision. If you wish to review your current use, check the release note link for additional information.\n",
      "Deprecated in NumPy 1.20; for more details and guidance: https://numpy.org/devdocs/release/1.20.0-notes.html#deprecations\n",
      "  residx = np.zeros_like(criteria[0], dtype=np.int)\n",
      "(ERROR)arcd.base.storage: saving a mcstep with a 'foreign' modelstore\n",
      "(ERROR)arcd.base.storage: saving a mcstep with a 'foreign' modelstore\n",
      "(ERROR)arcd.base.storage: saving a mcstep with a 'foreign' modelstore\n",
      "/home/think/.conda/envs/arcd_dev_3_2021/lib/python3.8/site-packages/MDAnalysis/topology/base.py:203: DeprecationWarning: `np.int` is a deprecated alias for the builtin `int`. To silence this warning, use `int` by itself. Doing this will not modify any behavior and is safe. When replacing `np.int`, you may wish to use e.g. `np.int64` or `np.int32` to specify the precision. If you wish to review your current use, check the release note link for additional information.\n",
      "Deprecated in NumPy 1.20; for more details and guidance: https://numpy.org/devdocs/release/1.20.0-notes.html#deprecations\n",
      "  residx = np.zeros_like(criteria[0], dtype=np.int)\n",
      "(ERROR)arcd.base.storage: saving a mcstep with a 'foreign' modelstore\n",
      "(ERROR)arcd.base.storage: saving a mcstep with a 'foreign' modelstore\n",
      "(ERROR)arcd.base.storage: saving a mcstep with a 'foreign' modelstore\n",
      "/home/think/.conda/envs/arcd_dev_3_2021/lib/python3.8/site-packages/MDAnalysis/topology/base.py:203: DeprecationWarning: `np.int` is a deprecated alias for the builtin `int`. To silence this warning, use `int` by itself. Doing this will not modify any behavior and is safe. When replacing `np.int`, you may wish to use e.g. `np.int64` or `np.int32` to specify the precision. If you wish to review your current use, check the release note link for additional information.\n",
      "Deprecated in NumPy 1.20; for more details and guidance: https://numpy.org/devdocs/release/1.20.0-notes.html#deprecations\n",
      "  residx = np.zeros_like(criteria[0], dtype=np.int)\n",
      "(ERROR)arcd.base.storage: saving a mcstep with a 'foreign' modelstore\n",
      "(ERROR)arcd.base.storage: saving a mcstep with a 'foreign' modelstore\n",
      "(ERROR)arcd.base.storage: saving a mcstep with a 'foreign' modelstore\n",
      "/home/think/.conda/envs/arcd_dev_3_2021/lib/python3.8/site-packages/MDAnalysis/topology/base.py:203: DeprecationWarning: `np.int` is a deprecated alias for the builtin `int`. To silence this warning, use `int` by itself. Doing this will not modify any behavior and is safe. When replacing `np.int`, you may wish to use e.g. `np.int64` or `np.int32` to specify the precision. If you wish to review your current use, check the release note link for additional information.\n",
      "Deprecated in NumPy 1.20; for more details and guidance: https://numpy.org/devdocs/release/1.20.0-notes.html#deprecations\n",
      "  residx = np.zeros_like(criteria[0], dtype=np.int)\n",
      "(ERROR)arcd.base.storage: saving a mcstep with a 'foreign' modelstore\n",
      "(ERROR)arcd.base.storage: saving a mcstep with a 'foreign' modelstore\n",
      "(ERROR)arcd.base.storage: saving a mcstep with a 'foreign' modelstore\n",
      "/home/think/.conda/envs/arcd_dev_3_2021/lib/python3.8/site-packages/MDAnalysis/topology/base.py:203: DeprecationWarning: `np.int` is a deprecated alias for the builtin `int`. To silence this warning, use `int` by itself. Doing this will not modify any behavior and is safe. When replacing `np.int`, you may wish to use e.g. `np.int64` or `np.int32` to specify the precision. If you wish to review your current use, check the release note link for additional information.\n",
      "Deprecated in NumPy 1.20; for more details and guidance: https://numpy.org/devdocs/release/1.20.0-notes.html#deprecations\n",
      "  residx = np.zeros_like(criteria[0], dtype=np.int)\n",
      "(ERROR)arcd.base.storage: saving a mcstep with a 'foreign' modelstore\n",
      "(ERROR)arcd.base.storage: saving a mcstep with a 'foreign' modelstore\n",
      "(ERROR)arcd.base.storage: saving a mcstep with a 'foreign' modelstore\n",
      "/home/think/.conda/envs/arcd_dev_3_2021/lib/python3.8/site-packages/MDAnalysis/topology/base.py:203: DeprecationWarning: `np.int` is a deprecated alias for the builtin `int`. To silence this warning, use `int` by itself. Doing this will not modify any behavior and is safe. When replacing `np.int`, you may wish to use e.g. `np.int64` or `np.int32` to specify the precision. If you wish to review your current use, check the release note link for additional information.\n",
      "Deprecated in NumPy 1.20; for more details and guidance: https://numpy.org/devdocs/release/1.20.0-notes.html#deprecations\n",
      "  residx = np.zeros_like(criteria[0], dtype=np.int)\n",
      "(ERROR)arcd.base.storage: saving a mcstep with a 'foreign' modelstore\n",
      "(ERROR)arcd.base.storage: saving a mcstep with a 'foreign' modelstore\n",
      "(ERROR)arcd.base.storage: saving a mcstep with a 'foreign' modelstore\n",
      "/home/think/.conda/envs/arcd_dev_3_2021/lib/python3.8/site-packages/MDAnalysis/topology/base.py:203: DeprecationWarning: `np.int` is a deprecated alias for the builtin `int`. To silence this warning, use `int` by itself. Doing this will not modify any behavior and is safe. When replacing `np.int`, you may wish to use e.g. `np.int64` or `np.int32` to specify the precision. If you wish to review your current use, check the release note link for additional information.\n",
      "Deprecated in NumPy 1.20; for more details and guidance: https://numpy.org/devdocs/release/1.20.0-notes.html#deprecations\n",
      "  residx = np.zeros_like(criteria[0], dtype=np.int)\n",
      "(ERROR)arcd.base.storage: saving a mcstep with a 'foreign' modelstore\n",
      "(ERROR)arcd.base.storage: saving a mcstep with a 'foreign' modelstore\n",
      "(ERROR)arcd.base.storage: saving a mcstep with a 'foreign' modelstore\n",
      "/home/think/.conda/envs/arcd_dev_3_2021/lib/python3.8/site-packages/MDAnalysis/topology/base.py:203: DeprecationWarning: `np.int` is a deprecated alias for the builtin `int`. To silence this warning, use `int` by itself. Doing this will not modify any behavior and is safe. When replacing `np.int`, you may wish to use e.g. `np.int64` or `np.int32` to specify the precision. If you wish to review your current use, check the release note link for additional information.\n",
      "Deprecated in NumPy 1.20; for more details and guidance: https://numpy.org/devdocs/release/1.20.0-notes.html#deprecations\n",
      "  residx = np.zeros_like(criteria[0], dtype=np.int)\n",
      "(ERROR)arcd.base.storage: saving a mcstep with a 'foreign' modelstore\n",
      "(ERROR)arcd.base.storage: saving a mcstep with a 'foreign' modelstore\n",
      "(ERROR)arcd.base.storage: saving a mcstep with a 'foreign' modelstore\n",
      "/home/think/.conda/envs/arcd_dev_3_2021/lib/python3.8/site-packages/MDAnalysis/topology/base.py:203: DeprecationWarning: `np.int` is a deprecated alias for the builtin `int`. To silence this warning, use `int` by itself. Doing this will not modify any behavior and is safe. When replacing `np.int`, you may wish to use e.g. `np.int64` or `np.int32` to specify the precision. If you wish to review your current use, check the release note link for additional information.\n",
      "Deprecated in NumPy 1.20; for more details and guidance: https://numpy.org/devdocs/release/1.20.0-notes.html#deprecations\n",
      "  residx = np.zeros_like(criteria[0], dtype=np.int)\n",
      "(ERROR)arcd.base.storage: saving a mcstep with a 'foreign' modelstore\n",
      "(ERROR)arcd.base.storage: saving a mcstep with a 'foreign' modelstore\n",
      "(ERROR)arcd.base.storage: saving a mcstep with a 'foreign' modelstore\n",
      "/home/think/.conda/envs/arcd_dev_3_2021/lib/python3.8/site-packages/MDAnalysis/topology/base.py:203: DeprecationWarning: `np.int` is a deprecated alias for the builtin `int`. To silence this warning, use `int` by itself. Doing this will not modify any behavior and is safe. When replacing `np.int`, you may wish to use e.g. `np.int64` or `np.int32` to specify the precision. If you wish to review your current use, check the release note link for additional information.\n",
      "Deprecated in NumPy 1.20; for more details and guidance: https://numpy.org/devdocs/release/1.20.0-notes.html#deprecations\n",
      "  residx = np.zeros_like(criteria[0], dtype=np.int)\n",
      "(ERROR)arcd.base.storage: saving a mcstep with a 'foreign' modelstore\n",
      "(ERROR)arcd.base.storage: saving a mcstep with a 'foreign' modelstore\n",
      "(ERROR)arcd.base.storage: saving a mcstep with a 'foreign' modelstore\n",
      "/home/think/.conda/envs/arcd_dev_3_2021/lib/python3.8/site-packages/MDAnalysis/topology/base.py:203: DeprecationWarning: `np.int` is a deprecated alias for the builtin `int`. To silence this warning, use `int` by itself. Doing this will not modify any behavior and is safe. When replacing `np.int`, you may wish to use e.g. `np.int64` or `np.int32` to specify the precision. If you wish to review your current use, check the release note link for additional information.\n",
      "Deprecated in NumPy 1.20; for more details and guidance: https://numpy.org/devdocs/release/1.20.0-notes.html#deprecations\n",
      "  residx = np.zeros_like(criteria[0], dtype=np.int)\n",
      "(ERROR)arcd.distributed.logic: Starting configuration already inside a state.\n",
      "(ERROR)arcd.distributed.logic: Starting configuration already inside a state.\n",
      "(ERROR)arcd.base.storage: saving a mcstep with a 'foreign' modelstore\n",
      "(ERROR)arcd.base.storage: saving a mcstep with a 'foreign' modelstore\n",
      "(ERROR)arcd.base.storage: saving a mcstep with a 'foreign' modelstore\n",
      "(ERROR)arcd.base.storage: saving a mcstep with a 'foreign' modelstore\n",
      "/home/think/.conda/envs/arcd_dev_3_2021/lib/python3.8/site-packages/MDAnalysis/topology/base.py:203: DeprecationWarning: `np.int` is a deprecated alias for the builtin `int`. To silence this warning, use `int` by itself. Doing this will not modify any behavior and is safe. When replacing `np.int`, you may wish to use e.g. `np.int64` or `np.int32` to specify the precision. If you wish to review your current use, check the release note link for additional information.\n",
      "Deprecated in NumPy 1.20; for more details and guidance: https://numpy.org/devdocs/release/1.20.0-notes.html#deprecations\n",
      "  residx = np.zeros_like(criteria[0], dtype=np.int)\n",
      "(ERROR)arcd.base.storage: saving a mcstep with a 'foreign' modelstore\n",
      "(ERROR)arcd.base.storage: saving a mcstep with a 'foreign' modelstore\n",
      "(ERROR)arcd.base.storage: saving a mcstep with a 'foreign' modelstore\n",
      "/home/think/.conda/envs/arcd_dev_3_2021/lib/python3.8/site-packages/MDAnalysis/topology/base.py:203: DeprecationWarning: `np.int` is a deprecated alias for the builtin `int`. To silence this warning, use `int` by itself. Doing this will not modify any behavior and is safe. When replacing `np.int`, you may wish to use e.g. `np.int64` or `np.int32` to specify the precision. If you wish to review your current use, check the release note link for additional information.\n",
      "Deprecated in NumPy 1.20; for more details and guidance: https://numpy.org/devdocs/release/1.20.0-notes.html#deprecations\n",
      "  residx = np.zeros_like(criteria[0], dtype=np.int)\n",
      "(ERROR)arcd.base.storage: saving a mcstep with a 'foreign' modelstore\n",
      "(ERROR)arcd.base.storage: saving a mcstep with a 'foreign' modelstore\n",
      "(ERROR)arcd.base.storage: saving a mcstep with a 'foreign' modelstore\n",
      "/home/think/.conda/envs/arcd_dev_3_2021/lib/python3.8/site-packages/MDAnalysis/topology/base.py:203: DeprecationWarning: `np.int` is a deprecated alias for the builtin `int`. To silence this warning, use `int` by itself. Doing this will not modify any behavior and is safe. When replacing `np.int`, you may wish to use e.g. `np.int64` or `np.int32` to specify the precision. If you wish to review your current use, check the release note link for additional information.\n",
      "Deprecated in NumPy 1.20; for more details and guidance: https://numpy.org/devdocs/release/1.20.0-notes.html#deprecations\n",
      "  residx = np.zeros_like(criteria[0], dtype=np.int)\n",
      "(ERROR)arcd.base.storage: saving a mcstep with a 'foreign' modelstore\n",
      "(ERROR)arcd.base.storage: saving a mcstep with a 'foreign' modelstore\n",
      "(ERROR)arcd.base.storage: saving a mcstep with a 'foreign' modelstore\n",
      "(ERROR)arcd.base.storage: saving a mcstep with a 'foreign' modelstore\n",
      "/home/think/.conda/envs/arcd_dev_3_2021/lib/python3.8/site-packages/MDAnalysis/topology/base.py:203: DeprecationWarning: `np.int` is a deprecated alias for the builtin `int`. To silence this warning, use `int` by itself. Doing this will not modify any behavior and is safe. When replacing `np.int`, you may wish to use e.g. `np.int64` or `np.int32` to specify the precision. If you wish to review your current use, check the release note link for additional information.\n",
      "Deprecated in NumPy 1.20; for more details and guidance: https://numpy.org/devdocs/release/1.20.0-notes.html#deprecations\n",
      "  residx = np.zeros_like(criteria[0], dtype=np.int)\n",
      "(ERROR)arcd.base.storage: saving a mcstep with a 'foreign' modelstore\n",
      "(ERROR)arcd.base.storage: saving a mcstep with a 'foreign' modelstore\n",
      "(ERROR)arcd.base.storage: saving a mcstep with a 'foreign' modelstore\n",
      "/home/think/.conda/envs/arcd_dev_3_2021/lib/python3.8/site-packages/MDAnalysis/topology/base.py:203: DeprecationWarning: `np.int` is a deprecated alias for the builtin `int`. To silence this warning, use `int` by itself. Doing this will not modify any behavior and is safe. When replacing `np.int`, you may wish to use e.g. `np.int64` or `np.int32` to specify the precision. If you wish to review your current use, check the release note link for additional information.\n",
      "Deprecated in NumPy 1.20; for more details and guidance: https://numpy.org/devdocs/release/1.20.0-notes.html#deprecations\n",
      "  residx = np.zeros_like(criteria[0], dtype=np.int)\n",
      "(ERROR)arcd.distributed.logic: Starting configuration already inside a state.\n",
      "(ERROR)arcd.distributed.logic: Starting configuration already inside a state.\n",
      "(ERROR)arcd.base.storage: saving a mcstep with a 'foreign' modelstore\n",
      "/home/think/.conda/envs/arcd_dev_3_2021/lib/python3.8/site-packages/MDAnalysis/topology/base.py:203: DeprecationWarning: `np.int` is a deprecated alias for the builtin `int`. To silence this warning, use `int` by itself. Doing this will not modify any behavior and is safe. When replacing `np.int`, you may wish to use e.g. `np.int64` or `np.int32` to specify the precision. If you wish to review your current use, check the release note link for additional information.\n",
      "Deprecated in NumPy 1.20; for more details and guidance: https://numpy.org/devdocs/release/1.20.0-notes.html#deprecations\n",
      "  residx = np.zeros_like(criteria[0], dtype=np.int)\n",
      "(ERROR)arcd.base.storage: saving a mcstep with a 'foreign' modelstore\n",
      "(ERROR)arcd.base.storage: saving a mcstep with a 'foreign' modelstore\n",
      "(ERROR)arcd.base.storage: saving a mcstep with a 'foreign' modelstore\n",
      "/home/think/.conda/envs/arcd_dev_3_2021/lib/python3.8/site-packages/MDAnalysis/topology/base.py:203: DeprecationWarning: `np.int` is a deprecated alias for the builtin `int`. To silence this warning, use `int` by itself. Doing this will not modify any behavior and is safe. When replacing `np.int`, you may wish to use e.g. `np.int64` or `np.int32` to specify the precision. If you wish to review your current use, check the release note link for additional information.\n",
      "Deprecated in NumPy 1.20; for more details and guidance: https://numpy.org/devdocs/release/1.20.0-notes.html#deprecations\n",
      "  residx = np.zeros_like(criteria[0], dtype=np.int)\n",
      "(ERROR)arcd.base.storage: saving a mcstep with a 'foreign' modelstore\n",
      "(ERROR)arcd.base.storage: saving a mcstep with a 'foreign' modelstore\n",
      "(ERROR)arcd.base.storage: saving a mcstep with a 'foreign' modelstore\n",
      "/home/think/.conda/envs/arcd_dev_3_2021/lib/python3.8/site-packages/MDAnalysis/topology/base.py:203: DeprecationWarning: `np.int` is a deprecated alias for the builtin `int`. To silence this warning, use `int` by itself. Doing this will not modify any behavior and is safe. When replacing `np.int`, you may wish to use e.g. `np.int64` or `np.int32` to specify the precision. If you wish to review your current use, check the release note link for additional information.\n",
      "Deprecated in NumPy 1.20; for more details and guidance: https://numpy.org/devdocs/release/1.20.0-notes.html#deprecations\n",
      "  residx = np.zeros_like(criteria[0], dtype=np.int)\n",
      "(ERROR)arcd.base.storage: saving a mcstep with a 'foreign' modelstore\n",
      "(ERROR)arcd.base.storage: saving a mcstep with a 'foreign' modelstore\n",
      "/home/think/.conda/envs/arcd_dev_3_2021/lib/python3.8/site-packages/MDAnalysis/topology/base.py:203: DeprecationWarning: `np.int` is a deprecated alias for the builtin `int`. To silence this warning, use `int` by itself. Doing this will not modify any behavior and is safe. When replacing `np.int`, you may wish to use e.g. `np.int64` or `np.int32` to specify the precision. If you wish to review your current use, check the release note link for additional information.\n",
      "Deprecated in NumPy 1.20; for more details and guidance: https://numpy.org/devdocs/release/1.20.0-notes.html#deprecations\n",
      "  residx = np.zeros_like(criteria[0], dtype=np.int)\n",
      "(ERROR)arcd.base.storage: saving a mcstep with a 'foreign' modelstore\n",
      "(ERROR)arcd.base.storage: saving a mcstep with a 'foreign' modelstore\n",
      "(ERROR)arcd.base.storage: saving a mcstep with a 'foreign' modelstore\n",
      "/home/think/.conda/envs/arcd_dev_3_2021/lib/python3.8/site-packages/MDAnalysis/topology/base.py:203: DeprecationWarning: `np.int` is a deprecated alias for the builtin `int`. To silence this warning, use `int` by itself. Doing this will not modify any behavior and is safe. When replacing `np.int`, you may wish to use e.g. `np.int64` or `np.int32` to specify the precision. If you wish to review your current use, check the release note link for additional information.\n",
      "Deprecated in NumPy 1.20; for more details and guidance: https://numpy.org/devdocs/release/1.20.0-notes.html#deprecations\n",
      "  residx = np.zeros_like(criteria[0], dtype=np.int)\n",
      "(ERROR)arcd.base.storage: saving a mcstep with a 'foreign' modelstore\n",
      "(ERROR)arcd.base.storage: saving a mcstep with a 'foreign' modelstore\n",
      "(ERROR)arcd.base.storage: saving a mcstep with a 'foreign' modelstore\n",
      "/home/think/.conda/envs/arcd_dev_3_2021/lib/python3.8/site-packages/MDAnalysis/topology/base.py:203: DeprecationWarning: `np.int` is a deprecated alias for the builtin `int`. To silence this warning, use `int` by itself. Doing this will not modify any behavior and is safe. When replacing `np.int`, you may wish to use e.g. `np.int64` or `np.int32` to specify the precision. If you wish to review your current use, check the release note link for additional information.\n",
      "Deprecated in NumPy 1.20; for more details and guidance: https://numpy.org/devdocs/release/1.20.0-notes.html#deprecations\n",
      "  residx = np.zeros_like(criteria[0], dtype=np.int)\n",
      "(ERROR)arcd.base.storage: saving a mcstep with a 'foreign' modelstore\n",
      "(ERROR)arcd.base.storage: saving a mcstep with a 'foreign' modelstore\n",
      "(ERROR)arcd.base.storage: saving a mcstep with a 'foreign' modelstore\n",
      "/home/think/.conda/envs/arcd_dev_3_2021/lib/python3.8/site-packages/MDAnalysis/topology/base.py:203: DeprecationWarning: `np.int` is a deprecated alias for the builtin `int`. To silence this warning, use `int` by itself. Doing this will not modify any behavior and is safe. When replacing `np.int`, you may wish to use e.g. `np.int64` or `np.int32` to specify the precision. If you wish to review your current use, check the release note link for additional information.\n",
      "Deprecated in NumPy 1.20; for more details and guidance: https://numpy.org/devdocs/release/1.20.0-notes.html#deprecations\n",
      "  residx = np.zeros_like(criteria[0], dtype=np.int)\n",
      "(ERROR)arcd.base.storage: saving a mcstep with a 'foreign' modelstore\n",
      "(ERROR)arcd.base.storage: saving a mcstep with a 'foreign' modelstore\n",
      "(ERROR)arcd.base.storage: saving a mcstep with a 'foreign' modelstore\n",
      "/home/think/.conda/envs/arcd_dev_3_2021/lib/python3.8/site-packages/MDAnalysis/topology/base.py:203: DeprecationWarning: `np.int` is a deprecated alias for the builtin `int`. To silence this warning, use `int` by itself. Doing this will not modify any behavior and is safe. When replacing `np.int`, you may wish to use e.g. `np.int64` or `np.int32` to specify the precision. If you wish to review your current use, check the release note link for additional information.\n",
      "Deprecated in NumPy 1.20; for more details and guidance: https://numpy.org/devdocs/release/1.20.0-notes.html#deprecations\n",
      "  residx = np.zeros_like(criteria[0], dtype=np.int)\n",
      "(ERROR)arcd.base.storage: saving a mcstep with a 'foreign' modelstore\n",
      "(ERROR)arcd.base.storage: saving a mcstep with a 'foreign' modelstore\n",
      "(ERROR)arcd.base.storage: saving a mcstep with a 'foreign' modelstore\n",
      "/home/think/.conda/envs/arcd_dev_3_2021/lib/python3.8/site-packages/MDAnalysis/topology/base.py:203: DeprecationWarning: `np.int` is a deprecated alias for the builtin `int`. To silence this warning, use `int` by itself. Doing this will not modify any behavior and is safe. When replacing `np.int`, you may wish to use e.g. `np.int64` or `np.int32` to specify the precision. If you wish to review your current use, check the release note link for additional information.\n",
      "Deprecated in NumPy 1.20; for more details and guidance: https://numpy.org/devdocs/release/1.20.0-notes.html#deprecations\n",
      "  residx = np.zeros_like(criteria[0], dtype=np.int)\n",
      "(ERROR)arcd.base.storage: saving a mcstep with a 'foreign' modelstore\n",
      "(ERROR)arcd.base.storage: saving a mcstep with a 'foreign' modelstore\n",
      "(ERROR)arcd.base.storage: saving a mcstep with a 'foreign' modelstore\n",
      "/home/think/.conda/envs/arcd_dev_3_2021/lib/python3.8/site-packages/MDAnalysis/topology/base.py:203: DeprecationWarning: `np.int` is a deprecated alias for the builtin `int`. To silence this warning, use `int` by itself. Doing this will not modify any behavior and is safe. When replacing `np.int`, you may wish to use e.g. `np.int64` or `np.int32` to specify the precision. If you wish to review your current use, check the release note link for additional information.\n",
      "Deprecated in NumPy 1.20; for more details and guidance: https://numpy.org/devdocs/release/1.20.0-notes.html#deprecations\n",
      "  residx = np.zeros_like(criteria[0], dtype=np.int)\n",
      "(ERROR)arcd.base.storage: saving a mcstep with a 'foreign' modelstore\n",
      "(ERROR)arcd.base.storage: saving a mcstep with a 'foreign' modelstore\n",
      "(ERROR)arcd.base.storage: saving a mcstep with a 'foreign' modelstore\n",
      "/home/think/.conda/envs/arcd_dev_3_2021/lib/python3.8/site-packages/MDAnalysis/topology/base.py:203: DeprecationWarning: `np.int` is a deprecated alias for the builtin `int`. To silence this warning, use `int` by itself. Doing this will not modify any behavior and is safe. When replacing `np.int`, you may wish to use e.g. `np.int64` or `np.int32` to specify the precision. If you wish to review your current use, check the release note link for additional information.\n",
      "Deprecated in NumPy 1.20; for more details and guidance: https://numpy.org/devdocs/release/1.20.0-notes.html#deprecations\n",
      "  residx = np.zeros_like(criteria[0], dtype=np.int)\n",
      "(ERROR)arcd.base.storage: saving a mcstep with a 'foreign' modelstore\n",
      "(ERROR)arcd.base.storage: saving a mcstep with a 'foreign' modelstore\n",
      "(ERROR)arcd.base.storage: saving a mcstep with a 'foreign' modelstore\n",
      "/home/think/.conda/envs/arcd_dev_3_2021/lib/python3.8/site-packages/MDAnalysis/topology/base.py:203: DeprecationWarning: `np.int` is a deprecated alias for the builtin `int`. To silence this warning, use `int` by itself. Doing this will not modify any behavior and is safe. When replacing `np.int`, you may wish to use e.g. `np.int64` or `np.int32` to specify the precision. If you wish to review your current use, check the release note link for additional information.\n",
      "Deprecated in NumPy 1.20; for more details and guidance: https://numpy.org/devdocs/release/1.20.0-notes.html#deprecations\n",
      "  residx = np.zeros_like(criteria[0], dtype=np.int)\n",
      "(ERROR)arcd.base.storage: saving a mcstep with a 'foreign' modelstore\n",
      "(ERROR)arcd.base.storage: saving a mcstep with a 'foreign' modelstore\n",
      "(ERROR)arcd.base.storage: saving a mcstep with a 'foreign' modelstore\n",
      "/home/think/.conda/envs/arcd_dev_3_2021/lib/python3.8/site-packages/MDAnalysis/topology/base.py:203: DeprecationWarning: `np.int` is a deprecated alias for the builtin `int`. To silence this warning, use `int` by itself. Doing this will not modify any behavior and is safe. When replacing `np.int`, you may wish to use e.g. `np.int64` or `np.int32` to specify the precision. If you wish to review your current use, check the release note link for additional information.\n",
      "Deprecated in NumPy 1.20; for more details and guidance: https://numpy.org/devdocs/release/1.20.0-notes.html#deprecations\n",
      "  residx = np.zeros_like(criteria[0], dtype=np.int)\n",
      "(ERROR)arcd.base.storage: saving a mcstep with a 'foreign' modelstore\n",
      "(ERROR)arcd.base.storage: saving a mcstep with a 'foreign' modelstore\n",
      "(ERROR)arcd.base.storage: saving a mcstep with a 'foreign' modelstore\n",
      "/home/think/.conda/envs/arcd_dev_3_2021/lib/python3.8/site-packages/MDAnalysis/topology/base.py:203: DeprecationWarning: `np.int` is a deprecated alias for the builtin `int`. To silence this warning, use `int` by itself. Doing this will not modify any behavior and is safe. When replacing `np.int`, you may wish to use e.g. `np.int64` or `np.int32` to specify the precision. If you wish to review your current use, check the release note link for additional information.\n",
      "Deprecated in NumPy 1.20; for more details and guidance: https://numpy.org/devdocs/release/1.20.0-notes.html#deprecations\n",
      "  residx = np.zeros_like(criteria[0], dtype=np.int)\n",
      "(ERROR)arcd.base.storage: saving a mcstep with a 'foreign' modelstore\n",
      "(ERROR)arcd.base.storage: saving a mcstep with a 'foreign' modelstore\n",
      "(ERROR)arcd.base.storage: saving a mcstep with a 'foreign' modelstore\n",
      "/home/think/.conda/envs/arcd_dev_3_2021/lib/python3.8/site-packages/MDAnalysis/topology/base.py:203: DeprecationWarning: `np.int` is a deprecated alias for the builtin `int`. To silence this warning, use `int` by itself. Doing this will not modify any behavior and is safe. When replacing `np.int`, you may wish to use e.g. `np.int64` or `np.int32` to specify the precision. If you wish to review your current use, check the release note link for additional information.\n",
      "Deprecated in NumPy 1.20; for more details and guidance: https://numpy.org/devdocs/release/1.20.0-notes.html#deprecations\n",
      "  residx = np.zeros_like(criteria[0], dtype=np.int)\n",
      "(ERROR)arcd.base.storage: saving a mcstep with a 'foreign' modelstore\n",
      "(ERROR)arcd.base.storage: saving a mcstep with a 'foreign' modelstore\n",
      "(ERROR)arcd.base.storage: saving a mcstep with a 'foreign' modelstore\n",
      "/home/think/.conda/envs/arcd_dev_3_2021/lib/python3.8/site-packages/MDAnalysis/topology/base.py:203: DeprecationWarning: `np.int` is a deprecated alias for the builtin `int`. To silence this warning, use `int` by itself. Doing this will not modify any behavior and is safe. When replacing `np.int`, you may wish to use e.g. `np.int64` or `np.int32` to specify the precision. If you wish to review your current use, check the release note link for additional information.\n",
      "Deprecated in NumPy 1.20; for more details and guidance: https://numpy.org/devdocs/release/1.20.0-notes.html#deprecations\n",
      "  residx = np.zeros_like(criteria[0], dtype=np.int)\n",
      "(ERROR)arcd.base.storage: saving a mcstep with a 'foreign' modelstore\n",
      "(ERROR)arcd.base.storage: saving a mcstep with a 'foreign' modelstore\n",
      "(ERROR)arcd.base.storage: saving a mcstep with a 'foreign' modelstore\n",
      "/home/think/.conda/envs/arcd_dev_3_2021/lib/python3.8/site-packages/MDAnalysis/topology/base.py:203: DeprecationWarning: `np.int` is a deprecated alias for the builtin `int`. To silence this warning, use `int` by itself. Doing this will not modify any behavior and is safe. When replacing `np.int`, you may wish to use e.g. `np.int64` or `np.int32` to specify the precision. If you wish to review your current use, check the release note link for additional information.\n",
      "Deprecated in NumPy 1.20; for more details and guidance: https://numpy.org/devdocs/release/1.20.0-notes.html#deprecations\n",
      "  residx = np.zeros_like(criteria[0], dtype=np.int)\n",
      "(ERROR)arcd.base.storage: saving a mcstep with a 'foreign' modelstore\n",
      "(ERROR)arcd.base.storage: saving a mcstep with a 'foreign' modelstore\n",
      "(ERROR)arcd.base.storage: saving a mcstep with a 'foreign' modelstore\n",
      "/home/think/.conda/envs/arcd_dev_3_2021/lib/python3.8/site-packages/MDAnalysis/topology/base.py:203: DeprecationWarning: `np.int` is a deprecated alias for the builtin `int`. To silence this warning, use `int` by itself. Doing this will not modify any behavior and is safe. When replacing `np.int`, you may wish to use e.g. `np.int64` or `np.int32` to specify the precision. If you wish to review your current use, check the release note link for additional information.\n",
      "Deprecated in NumPy 1.20; for more details and guidance: https://numpy.org/devdocs/release/1.20.0-notes.html#deprecations\n",
      "  residx = np.zeros_like(criteria[0], dtype=np.int)\n",
      "(ERROR)arcd.base.storage: saving a mcstep with a 'foreign' modelstore\n",
      "(ERROR)arcd.base.storage: saving a mcstep with a 'foreign' modelstore\n",
      "(ERROR)arcd.base.storage: saving a mcstep with a 'foreign' modelstore\n",
      "/home/think/.conda/envs/arcd_dev_3_2021/lib/python3.8/site-packages/MDAnalysis/topology/base.py:203: DeprecationWarning: `np.int` is a deprecated alias for the builtin `int`. To silence this warning, use `int` by itself. Doing this will not modify any behavior and is safe. When replacing `np.int`, you may wish to use e.g. `np.int64` or `np.int32` to specify the precision. If you wish to review your current use, check the release note link for additional information.\n",
      "Deprecated in NumPy 1.20; for more details and guidance: https://numpy.org/devdocs/release/1.20.0-notes.html#deprecations\n",
      "  residx = np.zeros_like(criteria[0], dtype=np.int)\n",
      "(ERROR)arcd.base.storage: saving a mcstep with a 'foreign' modelstore\n",
      "(ERROR)arcd.base.storage: saving a mcstep with a 'foreign' modelstore\n",
      "(ERROR)arcd.base.storage: saving a mcstep with a 'foreign' modelstore\n",
      "/home/think/.conda/envs/arcd_dev_3_2021/lib/python3.8/site-packages/MDAnalysis/topology/base.py:203: DeprecationWarning: `np.int` is a deprecated alias for the builtin `int`. To silence this warning, use `int` by itself. Doing this will not modify any behavior and is safe. When replacing `np.int`, you may wish to use e.g. `np.int64` or `np.int32` to specify the precision. If you wish to review your current use, check the release note link for additional information.\n",
      "Deprecated in NumPy 1.20; for more details and guidance: https://numpy.org/devdocs/release/1.20.0-notes.html#deprecations\n",
      "  residx = np.zeros_like(criteria[0], dtype=np.int)\n",
      "(ERROR)arcd.base.storage: saving a mcstep with a 'foreign' modelstore\n",
      "(ERROR)arcd.base.storage: saving a mcstep with a 'foreign' modelstore\n",
      "(ERROR)arcd.base.storage: saving a mcstep with a 'foreign' modelstore\n",
      "/home/think/.conda/envs/arcd_dev_3_2021/lib/python3.8/site-packages/MDAnalysis/topology/base.py:203: DeprecationWarning: `np.int` is a deprecated alias for the builtin `int`. To silence this warning, use `int` by itself. Doing this will not modify any behavior and is safe. When replacing `np.int`, you may wish to use e.g. `np.int64` or `np.int32` to specify the precision. If you wish to review your current use, check the release note link for additional information.\n",
      "Deprecated in NumPy 1.20; for more details and guidance: https://numpy.org/devdocs/release/1.20.0-notes.html#deprecations\n",
      "  residx = np.zeros_like(criteria[0], dtype=np.int)\n",
      "(ERROR)arcd.base.storage: saving a mcstep with a 'foreign' modelstore\n",
      "(ERROR)arcd.base.storage: saving a mcstep with a 'foreign' modelstore\n",
      "(ERROR)arcd.base.storage: saving a mcstep with a 'foreign' modelstore\n",
      "/home/think/.conda/envs/arcd_dev_3_2021/lib/python3.8/site-packages/MDAnalysis/topology/base.py:203: DeprecationWarning: `np.int` is a deprecated alias for the builtin `int`. To silence this warning, use `int` by itself. Doing this will not modify any behavior and is safe. When replacing `np.int`, you may wish to use e.g. `np.int64` or `np.int32` to specify the precision. If you wish to review your current use, check the release note link for additional information.\n",
      "Deprecated in NumPy 1.20; for more details and guidance: https://numpy.org/devdocs/release/1.20.0-notes.html#deprecations\n",
      "  residx = np.zeros_like(criteria[0], dtype=np.int)\n",
      "(ERROR)arcd.base.storage: saving a mcstep with a 'foreign' modelstore\n",
      "(ERROR)arcd.base.storage: saving a mcstep with a 'foreign' modelstore\n",
      "(ERROR)arcd.base.storage: saving a mcstep with a 'foreign' modelstore\n",
      "/home/think/.conda/envs/arcd_dev_3_2021/lib/python3.8/site-packages/MDAnalysis/topology/base.py:203: DeprecationWarning: `np.int` is a deprecated alias for the builtin `int`. To silence this warning, use `int` by itself. Doing this will not modify any behavior and is safe. When replacing `np.int`, you may wish to use e.g. `np.int64` or `np.int32` to specify the precision. If you wish to review your current use, check the release note link for additional information.\n",
      "Deprecated in NumPy 1.20; for more details and guidance: https://numpy.org/devdocs/release/1.20.0-notes.html#deprecations\n",
      "  residx = np.zeros_like(criteria[0], dtype=np.int)\n",
      "(ERROR)arcd.base.storage: saving a mcstep with a 'foreign' modelstore\n",
      "(ERROR)arcd.base.storage: saving a mcstep with a 'foreign' modelstore\n",
      "(ERROR)arcd.base.storage: saving a mcstep with a 'foreign' modelstore\n",
      "(ERROR)arcd.base.storage: saving a mcstep with a 'foreign' modelstore\n",
      "(ERROR)arcd.base.storage: saving a mcstep with a 'foreign' modelstore\n",
      "(ERROR)arcd.base.storage: saving a mcstep with a 'foreign' modelstore\n",
      "(ERROR)arcd.base.storage: saving a mcstep with a 'foreign' modelstore\n",
      "(ERROR)arcd.base.storage: saving a mcstep with a 'foreign' modelstore\n",
      "(ERROR)arcd.base.storage: saving a mcstep with a 'foreign' modelstore\n",
      "(ERROR)arcd.base.storage: saving a mcstep with a 'foreign' modelstore\n",
      "(ERROR)arcd.base.storage: saving a mcstep with a 'foreign' modelstore\n",
      "(ERROR)arcd.base.storage: saving a mcstep with a 'foreign' modelstore\n",
      "(ERROR)arcd.base.storage: saving a mcstep with a 'foreign' modelstore\n",
      "(ERROR)arcd.base.storage: saving a mcstep with a 'foreign' modelstore\n",
      "(ERROR)arcd.base.storage: saving a mcstep with a 'foreign' modelstore\n",
      "(ERROR)arcd.base.storage: saving a mcstep with a 'foreign' modelstore\n",
      "(ERROR)arcd.base.storage: saving a mcstep with a 'foreign' modelstore\n",
      "(ERROR)arcd.base.storage: saving a mcstep with a 'foreign' modelstore\n",
      "(ERROR)arcd.base.storage: saving a mcstep with a 'foreign' modelstore\n",
      "(ERROR)arcd.base.storage: saving a mcstep with a 'foreign' modelstore\n",
      "(ERROR)arcd.base.storage: saving a mcstep with a 'foreign' modelstore\n",
      "(ERROR)arcd.base.storage: saving a mcstep with a 'foreign' modelstore\n",
      "(ERROR)arcd.base.storage: saving a mcstep with a 'foreign' modelstore\n",
      "(ERROR)arcd.base.storage: saving a mcstep with a 'foreign' modelstore\n",
      "(ERROR)arcd.base.storage: saving a mcstep with a 'foreign' modelstore\n",
      "(ERROR)arcd.base.storage: saving a mcstep with a 'foreign' modelstore\n",
      "(ERROR)arcd.base.storage: saving a mcstep with a 'foreign' modelstore\n",
      "(ERROR)arcd.base.storage: saving a mcstep with a 'foreign' modelstore\n",
      "(ERROR)arcd.base.storage: saving a mcstep with a 'foreign' modelstore\n",
      "(ERROR)arcd.base.storage: saving a mcstep with a 'foreign' modelstore\n",
      "(ERROR)arcd.base.storage: saving a mcstep with a 'foreign' modelstore\n",
      "(ERROR)arcd.base.storage: saving a mcstep with a 'foreign' modelstore\n",
      "(ERROR)arcd.base.storage: saving a mcstep with a 'foreign' modelstore\n",
      "(ERROR)arcd.distributed.logic: Starting configuration already inside a state.\n",
      "(ERROR)arcd.distributed.logic: Starting configuration already inside a state.\n",
      "(ERROR)arcd.base.storage: saving a mcstep with a 'foreign' modelstore\n",
      "(ERROR)arcd.base.storage: saving a mcstep with a 'foreign' modelstore\n",
      "(ERROR)arcd.base.storage: saving a mcstep with a 'foreign' modelstore\n",
      "(ERROR)arcd.base.storage: saving a mcstep with a 'foreign' modelstore\n",
      "(ERROR)arcd.base.storage: saving a mcstep with a 'foreign' modelstore\n",
      "(ERROR)arcd.base.storage: saving a mcstep with a 'foreign' modelstore\n",
      "(ERROR)arcd.base.storage: saving a mcstep with a 'foreign' modelstore\n",
      "(ERROR)arcd.base.storage: saving a mcstep with a 'foreign' modelstore\n",
      "(ERROR)arcd.base.storage: saving a mcstep with a 'foreign' modelstore\n",
      "(ERROR)arcd.base.storage: saving a mcstep with a 'foreign' modelstore\n",
      "(ERROR)arcd.base.storage: saving a mcstep with a 'foreign' modelstore\n",
      "(ERROR)arcd.base.storage: saving a mcstep with a 'foreign' modelstore\n",
      "(ERROR)arcd.base.storage: saving a mcstep with a 'foreign' modelstore\n",
      "(ERROR)arcd.base.storage: saving a mcstep with a 'foreign' modelstore\n",
      "(ERROR)arcd.base.storage: saving a mcstep with a 'foreign' modelstore\n",
      "(ERROR)arcd.base.storage: saving a mcstep with a 'foreign' modelstore\n",
      "(ERROR)arcd.base.storage: saving a mcstep with a 'foreign' modelstore\n",
      "(ERROR)arcd.base.storage: saving a mcstep with a 'foreign' modelstore\n",
      "(ERROR)arcd.base.storage: saving a mcstep with a 'foreign' modelstore\n",
      "(ERROR)arcd.base.storage: saving a mcstep with a 'foreign' modelstore\n",
      "(ERROR)arcd.base.storage: saving a mcstep with a 'foreign' modelstore\n",
      "(ERROR)arcd.base.storage: saving a mcstep with a 'foreign' modelstore\n",
      "(ERROR)arcd.base.storage: saving a mcstep with a 'foreign' modelstore\n",
      "(ERROR)arcd.base.storage: saving a mcstep with a 'foreign' modelstore\n",
      "(ERROR)arcd.base.storage: saving a mcstep with a 'foreign' modelstore\n",
      "(ERROR)arcd.base.storage: saving a mcstep with a 'foreign' modelstore\n",
      "(ERROR)arcd.base.storage: saving a mcstep with a 'foreign' modelstore\n",
      "(ERROR)arcd.base.storage: saving a mcstep with a 'foreign' modelstore\n",
      "(ERROR)arcd.base.storage: saving a mcstep with a 'foreign' modelstore\n",
      "(ERROR)arcd.base.storage: saving a mcstep with a 'foreign' modelstore\n",
      "(ERROR)arcd.base.storage: saving a mcstep with a 'foreign' modelstore\n",
      "(ERROR)arcd.base.storage: saving a mcstep with a 'foreign' modelstore\n",
      "(ERROR)arcd.base.storage: saving a mcstep with a 'foreign' modelstore\n",
      "(ERROR)arcd.base.storage: saving a mcstep with a 'foreign' modelstore\n",
      "(ERROR)arcd.base.storage: saving a mcstep with a 'foreign' modelstore\n",
      "(ERROR)arcd.base.storage: saving a mcstep with a 'foreign' modelstore\n",
      "(ERROR)arcd.base.storage: saving a mcstep with a 'foreign' modelstore\n",
      "(ERROR)arcd.base.storage: saving a mcstep with a 'foreign' modelstore\n",
      "(ERROR)arcd.base.storage: saving a mcstep with a 'foreign' modelstore\n",
      "(ERROR)arcd.base.storage: saving a mcstep with a 'foreign' modelstore\n",
      "(ERROR)arcd.base.storage: saving a mcstep with a 'foreign' modelstore\n",
      "(ERROR)arcd.base.storage: saving a mcstep with a 'foreign' modelstore\n",
      "(ERROR)arcd.base.storage: saving a mcstep with a 'foreign' modelstore\n",
      "(ERROR)arcd.base.storage: saving a mcstep with a 'foreign' modelstore\n",
      "(ERROR)arcd.base.storage: saving a mcstep with a 'foreign' modelstore\n",
      "(ERROR)arcd.base.storage: saving a mcstep with a 'foreign' modelstore\n",
      "(ERROR)arcd.base.storage: saving a mcstep with a 'foreign' modelstore\n",
      "(ERROR)arcd.base.storage: saving a mcstep with a 'foreign' modelstore\n",
      "(ERROR)arcd.base.storage: saving a mcstep with a 'foreign' modelstore\n",
      "(ERROR)arcd.base.storage: saving a mcstep with a 'foreign' modelstore\n",
      "(ERROR)arcd.base.storage: saving a mcstep with a 'foreign' modelstore\n",
      "(ERROR)arcd.base.storage: saving a mcstep with a 'foreign' modelstore\n",
      "(ERROR)arcd.base.storage: saving a mcstep with a 'foreign' modelstore\n",
      "(ERROR)arcd.base.storage: saving a mcstep with a 'foreign' modelstore\n",
      "(ERROR)arcd.base.storage: saving a mcstep with a 'foreign' modelstore\n",
      "(ERROR)arcd.base.storage: saving a mcstep with a 'foreign' modelstore\n",
      "(ERROR)arcd.base.storage: saving a mcstep with a 'foreign' modelstore\n",
      "(ERROR)arcd.base.storage: saving a mcstep with a 'foreign' modelstore\n",
      "(ERROR)arcd.base.storage: saving a mcstep with a 'foreign' modelstore\n",
      "(ERROR)arcd.base.storage: saving a mcstep with a 'foreign' modelstore\n",
      "(ERROR)arcd.base.storage: saving a mcstep with a 'foreign' modelstore\n",
      "(ERROR)arcd.distributed.logic: Starting configuration already inside a state.\n",
      "(ERROR)arcd.distributed.logic: Starting configuration already inside a state.\n",
      "(ERROR)arcd.base.storage: saving a mcstep with a 'foreign' modelstore\n",
      "(ERROR)arcd.base.storage: saving a mcstep with a 'foreign' modelstore\n",
      "(ERROR)arcd.base.storage: saving a mcstep with a 'foreign' modelstore\n",
      "(ERROR)arcd.distributed.logic: Starting configuration already inside a state.\n",
      "(ERROR)arcd.distributed.logic: Starting configuration already inside a state.\n",
      "(ERROR)arcd.base.storage: saving a mcstep with a 'foreign' modelstore\n",
      "(ERROR)arcd.base.storage: saving a mcstep with a 'foreign' modelstore\n",
      "(ERROR)arcd.base.storage: saving a mcstep with a 'foreign' modelstore\n",
      "(ERROR)arcd.base.storage: saving a mcstep with a 'foreign' modelstore\n",
      "(ERROR)arcd.base.storage: saving a mcstep with a 'foreign' modelstore\n",
      "(ERROR)arcd.base.storage: saving a mcstep with a 'foreign' modelstore\n",
      "(ERROR)arcd.base.storage: saving a mcstep with a 'foreign' modelstore\n",
      "(ERROR)arcd.base.storage: saving a mcstep with a 'foreign' modelstore\n",
      "(ERROR)arcd.base.storage: saving a mcstep with a 'foreign' modelstore\n",
      "(ERROR)arcd.base.storage: saving a mcstep with a 'foreign' modelstore\n",
      "(ERROR)arcd.base.storage: saving a mcstep with a 'foreign' modelstore\n",
      "(ERROR)arcd.base.storage: saving a mcstep with a 'foreign' modelstore\n",
      "(ERROR)arcd.base.storage: saving a mcstep with a 'foreign' modelstore\n",
      "(ERROR)arcd.base.storage: saving a mcstep with a 'foreign' modelstore\n",
      "(ERROR)arcd.base.storage: saving a mcstep with a 'foreign' modelstore\n",
      "(ERROR)arcd.base.storage: saving a mcstep with a 'foreign' modelstore\n",
      "(ERROR)arcd.base.storage: saving a mcstep with a 'foreign' modelstore\n",
      "(ERROR)arcd.base.storage: saving a mcstep with a 'foreign' modelstore\n",
      "(ERROR)arcd.base.storage: saving a mcstep with a 'foreign' modelstore\n",
      "(ERROR)arcd.base.storage: saving a mcstep with a 'foreign' modelstore\n",
      "(ERROR)arcd.base.storage: saving a mcstep with a 'foreign' modelstore\n",
      "(ERROR)arcd.base.storage: saving a mcstep with a 'foreign' modelstore\n",
      "(ERROR)arcd.base.storage: saving a mcstep with a 'foreign' modelstore\n",
      "(ERROR)arcd.base.storage: saving a mcstep with a 'foreign' modelstore\n",
      "(ERROR)arcd.base.storage: saving a mcstep with a 'foreign' modelstore\n",
      "(ERROR)arcd.base.storage: saving a mcstep with a 'foreign' modelstore\n",
      "(ERROR)arcd.base.storage: saving a mcstep with a 'foreign' modelstore\n",
      "(ERROR)arcd.base.storage: saving a mcstep with a 'foreign' modelstore\n",
      "(ERROR)arcd.distributed.logic: Starting configuration already inside a state.\n",
      "(ERROR)arcd.distributed.logic: Starting configuration already inside a state.\n",
      "(ERROR)arcd.base.storage: saving a mcstep with a 'foreign' modelstore\n",
      "(ERROR)arcd.base.storage: saving a mcstep with a 'foreign' modelstore\n",
      "(ERROR)arcd.base.storage: saving a mcstep with a 'foreign' modelstore\n",
      "(ERROR)arcd.base.storage: saving a mcstep with a 'foreign' modelstore\n",
      "(ERROR)arcd.base.storage: saving a mcstep with a 'foreign' modelstore\n",
      "(ERROR)arcd.base.storage: saving a mcstep with a 'foreign' modelstore\n",
      "(ERROR)arcd.base.storage: saving a mcstep with a 'foreign' modelstore\n",
      "(ERROR)arcd.base.storage: saving a mcstep with a 'foreign' modelstore\n",
      "(ERROR)arcd.base.storage: saving a mcstep with a 'foreign' modelstore\n",
      "(ERROR)arcd.base.storage: saving a mcstep with a 'foreign' modelstore\n",
      "(ERROR)arcd.base.storage: saving a mcstep with a 'foreign' modelstore\n",
      "(ERROR)arcd.base.storage: saving a mcstep with a 'foreign' modelstore\n",
      "(ERROR)arcd.base.storage: saving a mcstep with a 'foreign' modelstore\n",
      "(ERROR)arcd.base.storage: saving a mcstep with a 'foreign' modelstore\n",
      "(ERROR)arcd.base.storage: saving a mcstep with a 'foreign' modelstore\n",
      "(ERROR)arcd.base.storage: saving a mcstep with a 'foreign' modelstore\n",
      "(ERROR)arcd.base.storage: saving a mcstep with a 'foreign' modelstore\n",
      "(ERROR)arcd.base.storage: saving a mcstep with a 'foreign' modelstore\n",
      "(ERROR)arcd.base.storage: saving a mcstep with a 'foreign' modelstore\n",
      "(ERROR)arcd.base.storage: saving a mcstep with a 'foreign' modelstore\n",
      "(ERROR)arcd.base.storage: saving a mcstep with a 'foreign' modelstore\n",
      "(ERROR)arcd.base.storage: saving a mcstep with a 'foreign' modelstore\n",
      "(ERROR)arcd.base.storage: saving a mcstep with a 'foreign' modelstore\n",
      "(ERROR)arcd.base.storage: saving a mcstep with a 'foreign' modelstore\n",
      "(ERROR)arcd.base.storage: saving a mcstep with a 'foreign' modelstore\n",
      "(ERROR)arcd.base.storage: saving a mcstep with a 'foreign' modelstore\n",
      "(ERROR)arcd.base.storage: saving a mcstep with a 'foreign' modelstore\n",
      "(ERROR)arcd.base.storage: saving a mcstep with a 'foreign' modelstore\n",
      "(ERROR)arcd.base.storage: saving a mcstep with a 'foreign' modelstore\n",
      "(ERROR)arcd.base.storage: saving a mcstep with a 'foreign' modelstore\n",
      "(ERROR)arcd.base.storage: saving a mcstep with a 'foreign' modelstore\n",
      "(ERROR)arcd.base.storage: saving a mcstep with a 'foreign' modelstore\n",
      "(ERROR)arcd.base.storage: saving a mcstep with a 'foreign' modelstore\n",
      "(ERROR)arcd.base.storage: saving a mcstep with a 'foreign' modelstore\n",
      "(ERROR)arcd.base.storage: saving a mcstep with a 'foreign' modelstore\n",
      "(ERROR)arcd.base.storage: saving a mcstep with a 'foreign' modelstore\n",
      "(ERROR)arcd.base.storage: saving a mcstep with a 'foreign' modelstore\n",
      "(ERROR)arcd.base.storage: saving a mcstep with a 'foreign' modelstore\n",
      "(ERROR)arcd.base.storage: saving a mcstep with a 'foreign' modelstore\n",
      "(ERROR)arcd.base.storage: saving a mcstep with a 'foreign' modelstore\n",
      "(ERROR)arcd.base.storage: saving a mcstep with a 'foreign' modelstore\n",
      "(ERROR)arcd.base.storage: saving a mcstep with a 'foreign' modelstore\n",
      "(ERROR)arcd.base.storage: saving a mcstep with a 'foreign' modelstore\n",
      "(ERROR)arcd.base.storage: saving a mcstep with a 'foreign' modelstore\n",
      "(ERROR)arcd.base.storage: saving a mcstep with a 'foreign' modelstore\n",
      "(ERROR)arcd.base.storage: saving a mcstep with a 'foreign' modelstore\n",
      "(ERROR)arcd.base.storage: saving a mcstep with a 'foreign' modelstore\n",
      "(ERROR)arcd.base.storage: saving a mcstep with a 'foreign' modelstore\n",
      "(ERROR)arcd.base.storage: saving a mcstep with a 'foreign' modelstore\n",
      "(ERROR)arcd.base.storage: saving a mcstep with a 'foreign' modelstore\n",
      "(ERROR)arcd.base.storage: saving a mcstep with a 'foreign' modelstore\n",
      "(ERROR)arcd.base.storage: saving a mcstep with a 'foreign' modelstore\n",
      "(ERROR)arcd.base.storage: saving a mcstep with a 'foreign' modelstore\n",
      "(ERROR)arcd.base.storage: saving a mcstep with a 'foreign' modelstore\n",
      "(ERROR)arcd.base.storage: saving a mcstep with a 'foreign' modelstore\n",
      "(ERROR)arcd.base.storage: saving a mcstep with a 'foreign' modelstore\n",
      "(ERROR)arcd.base.storage: saving a mcstep with a 'foreign' modelstore\n",
      "(ERROR)arcd.base.storage: saving a mcstep with a 'foreign' modelstore\n",
      "(ERROR)arcd.base.storage: saving a mcstep with a 'foreign' modelstore\n",
      "(ERROR)arcd.base.storage: saving a mcstep with a 'foreign' modelstore\n",
      "(ERROR)arcd.base.storage: saving a mcstep with a 'foreign' modelstore\n",
      "(ERROR)arcd.base.storage: saving a mcstep with a 'foreign' modelstore\n",
      "(ERROR)arcd.base.storage: saving a mcstep with a 'foreign' modelstore\n",
      "(ERROR)arcd.base.storage: saving a mcstep with a 'foreign' modelstore\n",
      "(ERROR)arcd.base.storage: saving a mcstep with a 'foreign' modelstore\n",
      "(ERROR)arcd.base.storage: saving a mcstep with a 'foreign' modelstore\n",
      "(ERROR)arcd.base.storage: saving a mcstep with a 'foreign' modelstore\n",
      "(ERROR)arcd.base.storage: saving a mcstep with a 'foreign' modelstore\n",
      "(ERROR)arcd.base.storage: saving a mcstep with a 'foreign' modelstore\n",
      "(ERROR)arcd.base.storage: saving a mcstep with a 'foreign' modelstore\n",
      "(ERROR)arcd.base.storage: saving a mcstep with a 'foreign' modelstore\n",
      "(ERROR)arcd.base.storage: saving a mcstep with a 'foreign' modelstore\n",
      "(ERROR)arcd.base.storage: saving a mcstep with a 'foreign' modelstore\n",
      "(ERROR)arcd.base.storage: saving a mcstep with a 'foreign' modelstore\n",
      "(ERROR)arcd.base.storage: saving a mcstep with a 'foreign' modelstore\n"
     ]
    }
   ],
   "source": [
    "#await brain.run_for_n_steps(200)\n",
    "await brain.run_for_n_accepts(50)"
   ]
  },
  {
   "cell_type": "code",
   "execution_count": 35,
   "metadata": {},
   "outputs": [],
   "source": [
    "step = storage.central_memory[0][10]"
   ]
  },
  {
   "cell_type": "code",
   "execution_count": 44,
   "metadata": {},
   "outputs": [
    {
     "data": {
      "text/plain": [
       "<HDF5 group \"/arcd_data/Distributed/CentralMemory/TPSchains/0/RCmodels\" (128 members)>"
      ]
     },
     "execution_count": 44,
     "metadata": {},
     "output_type": "execute_result"
    }
   ],
   "source": [
    "step.mover.modelstore._group"
   ]
  },
  {
   "cell_type": "code",
   "execution_count": 43,
   "metadata": {},
   "outputs": [
    {
     "data": {
      "text/plain": [
       "<HDF5 group \"/arcd_data/Distributed/CentralMemory/TPSchains/0/RCmodels\" (128 members)>"
      ]
     },
     "execution_count": 43,
     "metadata": {},
     "output_type": "execute_result"
    }
   ],
   "source": [
    "storage.central_memory[0].modelstore._group"
   ]
  },
  {
   "cell_type": "code",
   "execution_count": 46,
   "metadata": {},
   "outputs": [
    {
     "name": "stdout",
     "output_type": "stream",
     "text": [
      "[False, 0.0001141052567329284, 5, None]\n"
     ]
    }
   ],
   "source": [
    "print(model.log_train_decision[-1])"
   ]
  },
  {
   "cell_type": "code",
   "execution_count": 47,
   "metadata": {},
   "outputs": [
    {
     "data": {
      "image/png": "[encoded data removed]",
      "text/plain": [
       "<Figure size 432x288 with 1 Axes>"
      ]
     },
     "metadata": {
      "needs_background": "light"
     },
     "output_type": "display_data"
    }
   ],
   "source": [
    "# lets have a look at the value of the learning rate over the course of training\n",
    "# note however, that we did not train at every step, but just at every interval MCsteps\n",
    "log_train = np.array(model.log_train_decision)\n",
    "lr = log_train[:,1]\n",
    "plt.plot(lr, label='lr')\n",
    "# see where we really trained: everywhere where train=True\n",
    "# set lr_true to NaN anywhere where we did not train to have a nice plot\n",
    "lr_true = lr\n",
    "lr_true[log_train[:,0] == False] = np.nan\n",
    "plt.plot(lr_true, '+', label='True learning')\n",
    "# lr_min as a guide to the eye\n",
    "plt.axhline(model.ee_params['lr_min'], label='lr_min', color='lime')\n",
    "plt.legend()\n",
    "plt.xlabel('Cumulated MCSteps', size=15);\n",
    "plt.ylabel('Learning rate', size=15);"
   ]
  },
  {
   "cell_type": "code",
   "execution_count": 48,
   "metadata": {},
   "outputs": [
    {
     "data": {
      "image/png": "[encoded data removed]",
      "text/plain": [
       "<Figure size 432x288 with 1 Axes>"
      ]
     },
     "metadata": {
      "needs_background": "light"
     },
     "output_type": "display_data"
    }
   ],
   "source": [
    "# the model losses at each step where it trained\n",
    "# this will be epochs_per_training loss values per training\n",
    "plt.plot(model.log_train_loss, label='training loss')\n",
    "plt.legend();\n",
    "plt.ylabel('loss per training point', size=15)\n",
    "plt.xlabel('training step', size=15)\n",
    "plt.tight_layout()"
   ]
  },
  {
   "cell_type": "code",
   "execution_count": 49,
   "metadata": {},
   "outputs": [
    {
     "data": {
      "image/png": "[encoded data removed]",
      "text/plain": [
       "<Figure size 432x288 with 1 Axes>"
      ]
     },
     "metadata": {
      "needs_background": "light"
     },
     "output_type": "display_data"
    }
   ],
   "source": [
    "# resort such that we have a loss value per MCStep, NaN if we did not train at that step\n",
    "train_loss = []\n",
    "count = 0\n",
    "for t in log_train[:, 0]:\n",
    "    if t:\n",
    "        train_loss.append(model.log_train_loss[count])\n",
    "        count += 1\n",
    "    else:\n",
    "        train_loss.append([np.nan for _ in range(model.ee_params['epochs_per_train'])])\n",
    "    \n",
    "plt.plot(train_loss, '+', label='training loss')\n",
    "plt.legend();\n",
    "plt.ylabel('loss per training point', size=15)\n",
    "plt.xlabel('MCStep', size=15)\n",
    "plt.tight_layout()"
   ]
  },
  {
   "cell_type": "code",
   "execution_count": 51,
   "metadata": {},
   "outputs": [
    {
     "data": {
      "image/png": "[encoded data removed]",
      "text/plain": [
       "<Figure size 432x288 with 1 Axes>"
      ]
     },
     "metadata": {
      "needs_background": "light"
     },
     "output_type": "display_data"
    }
   ],
   "source": [
    "# plot efficiency, expected efficiency and accepts\n",
    "# Note: this will only work for models with n_out=1, due to the way we calculate p(TP|x)\n",
    "\n",
    "p_ex = np.array(model.expected_p)\n",
    "\n",
    "l, = plt.plot(np.cumsum(trainset.transitions), label='generated');\n",
    "#plt.plot(np.cumsum(accepts), c=l.get_color(), ls='--', label='accepted');\n",
    "plt.plot(np.cumsum(2*p_ex*(1 - p_ex)),c=l.get_color(), ls=':', label='expected');\n",
    "plt.plot(np.cumsum(2*p_ex*(1 - p_ex))- np.cumsum(trainset.transitions), label='diff (expected - generated)')\n",
    "plt.plot(np.linspace(0., len(trainset)/2., len(trainset)), c='k', ls='--', label='maximal', lw=2)\n",
    "plt.legend(fontsize=15);\n",
    "plt.ylabel('Cummulative count of TPs', size=15)\n",
    "plt.xlabel('cumulative MC Steps', size=15);"
   ]
  },
  {
   "cell_type": "code",
   "execution_count": null,
   "metadata": {},
   "outputs": [],
   "source": []
  }
 ],
 "metadata": {
  "kernelspec": {
   "display_name": "ARCD dev (py3.8/cuda10.2.89/March-2021)",
   "language": "python",
   "name": "arcd_dev_3_2021"
  },
  "language_info": {
   "codemirror_mode": {
    "name": "ipython",
    "version": 3
   },
   "file_extension": ".py",
   "mimetype": "text/x-python",
   "name": "python",
   "nbconvert_exporter": "python",
   "pygments_lexer": "ipython3",
   "version": "3.8.8"
  }
 },
 "nbformat": 4,
 "nbformat_minor": 4
}
