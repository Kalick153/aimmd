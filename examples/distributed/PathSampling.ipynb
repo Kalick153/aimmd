{
 "cells": [
  {
   "cell_type": "code",
   "execution_count": 1,
   "metadata": {},
   "outputs": [],
   "source": [
    "%matplotlib inline"
   ]
  },
  {
   "cell_type": "code",
   "execution_count": 2,
   "metadata": {},
   "outputs": [
    {
     "name": "stderr",
     "output_type": "stream",
     "text": [
      "Tensorflow/Keras not available\n"
     ]
    }
   ],
   "source": [
    "import os\n",
    "import asyncio\n",
    "import numpy as np\n",
    "import matplotlib.pyplot as plt\n",
    "import mdtraj as mdt\n",
    "import MDAnalysis as mda\n",
    "import aimmd\n",
    "import aimmd.distributed as aimmdd"
   ]
  },
  {
   "cell_type": "code",
   "execution_count": 3,
   "metadata": {},
   "outputs": [],
   "source": [
    "# setup working directory\n",
    "\n",
    "#scratch_dir = \".\"\n",
    "#scratch_dir = \"/home/tb/hejung/DATA/aimmd_scratch/aimmd_distributed/\"\n",
    "scratch_dir = \"/home/think/scratch/aimmd_distributed/\"\n",
    "\n",
    "workdir = os.path.join(scratch_dir, \"PathSampling_test\")\n",
    "\n",
    "if not os.path.isdir(workdir):\n",
    "    os.mkdir(workdir)"
   ]
  },
  {
   "cell_type": "code",
   "execution_count": 4,
   "metadata": {},
   "outputs": [],
   "source": [
    "# setup logging\n",
    "# executing this file sets the variable LOGCONFIG, which is a dictionary of logging presets \n",
    "%run ../resources/logconf.py"
   ]
  },
  {
   "cell_type": "code",
   "execution_count": 5,
   "metadata": {},
   "outputs": [
    {
     "name": "stdout",
     "output_type": "stream",
     "text": [
      "{'level': 'INFO', 'handlers': ['stdf', 'warnout']}\n",
      "{'class': 'logging.FileHandler', 'level': 'INFO', 'mode': 'w', 'filename': 'simulation.log', 'formatter': 'standardFormatter'}\n"
     ]
    }
   ],
   "source": [
    "# have a look at the default logging level (the level used for the logger without a name)\n",
    "print(LOGCONFIG[\"loggers\"][\"\"])\n",
    "# should both be `INFO`\n",
    "print(LOGCONFIG[\"handlers\"][\"stdf\"])"
   ]
  },
  {
   "cell_type": "code",
   "execution_count": 6,
   "metadata": {},
   "outputs": [],
   "source": [
    "# OPTIONAL: more logging\n",
    "LOGCONFIG[\"handlers\"][\"stdf\"][\"level\"] = \"DEBUG\"\n",
    "LOGCONFIG[\"loggers\"][\"\"][\"level\"] = \"DEBUG\""
   ]
  },
  {
   "cell_type": "code",
   "execution_count": 7,
   "metadata": {},
   "outputs": [],
   "source": [
    "# you can either modify single values or use it as is to get the same setup as in the OPS default logging config file\n",
    "# you could e.g. do LOGCONF['handlers']['stdf']['filename'] = new_name to change the filename of the log\n",
    "# the default is to create 'simulation.log' and 'initialization.log' in the current working directory\n",
    "import logging.config\n",
    "LOGCONFIG[\"handlers\"][\"stdf\"][\"filename\"] = os.path.join(workdir, \"simulation_pathsampling.log\")\n",
    "LOGCONFIG[\"handlers\"][\"initf\"][\"filename\"] = os.path.join(workdir, \"initlog_pathsampling.log\")\n",
    "logging.config.dictConfig(LOGCONFIG)"
   ]
  },
  {
   "cell_type": "markdown",
   "metadata": {},
   "source": [
    "# now the actual setup"
   ]
  },
  {
   "cell_type": "code",
   "execution_count": 8,
   "metadata": {},
   "outputs": [],
   "source": [
    "n_chains = 3  # results in 6 gmx engines"
   ]
  },
  {
   "cell_type": "code",
   "execution_count": 9,
   "metadata": {},
   "outputs": [],
   "source": [
    "storage = aimmd.Storage(os.path.join(workdir, \"storage.h5\"))"
   ]
  },
  {
   "cell_type": "code",
   "execution_count": 10,
   "metadata": {},
   "outputs": [],
   "source": [
    "# Define the engine(s) for the PathMovers\n",
    "# (they will all be the same)\n",
    "gro = \"gmx_infiles/conf.gro\"\n",
    "top = \"gmx_infiles/topol.top\"\n",
    "ndx = \"gmx_infiles/index.ndx\"\n",
    "mdp = aimmdd.MDP(\"gmx_infiles/md.mdp\") \n",
    "\n",
    "gmx_engine_kwargs = {\"gro_file\": gro,\n",
    "                     \"top_file\": top,\n",
    "                     \"ndx_file\": ndx,\n",
    "                     \"mdrun_extra_args\": \"-nt 1\",\n",
    "                     # use this for gmx sans (thread) MPI\n",
    "                     #\"mdrun_extra_args\": \"ntomp 2\",\n",
    "                     }\n",
    "gmx_engine_cls = aimmdd.GmxEngine"
   ]
  },
  {
   "cell_type": "code",
   "execution_count": 11,
   "metadata": {},
   "outputs": [],
   "source": [
    "# state functions\n",
    "from state_funcs_mda import alpha_R, C7_eq\n",
    "\n",
    "wrapped_alphaR = aimmdd.PyTrajectoryFunctionWrapper(alpha_R)\n",
    "\n",
    "wrapped_C7_eq = aimmdd.PyTrajectoryFunctionWrapper(C7_eq)"
   ]
  },
  {
   "cell_type": "code",
   "execution_count": 12,
   "metadata": {},
   "outputs": [],
   "source": [
    "# descriptor_transform for the model\n",
    "\n",
    "# internal coordinates\n",
    "from state_funcs_mda import descriptor_func_ic\n",
    "\n",
    "wrapped_transform = aimmdd.PyTrajectoryFunctionWrapper(descriptor_func_ic, call_kwargs={\"molecule_selection\": \"protein\"})"
   ]
  },
  {
   "cell_type": "code",
   "execution_count": 13,
   "metadata": {},
   "outputs": [],
   "source": [
    "# load two initial transitions\n",
    "tp_short = aimmdd.Trajectory(structure_file=\"gmx_infiles/ala_300K.tpr\", trajectory_file=\"gmx_infiles/ala_300K_TP.trr\")\n",
    "tp_long = aimmdd.Trajectory(structure_file=\"gmx_infiles/ala_300K.tpr\", trajectory_file=\"gmx_infiles/ala_300K_TP_long.trr\")"
   ]
  },
  {
   "cell_type": "code",
   "execution_count": 14,
   "metadata": {},
   "outputs": [],
   "source": [
    "# get the descriptors for one of them to infer the number of inputs for our model\n",
    "descriptors_for_tp = await wrapped_transform(tp_short)"
   ]
  },
  {
   "cell_type": "code",
   "execution_count": 15,
   "metadata": {},
   "outputs": [],
   "source": [
    "# imports for model\n",
    "import torch.nn.functional as F\n",
    "import torch"
   ]
  },
  {
   "cell_type": "code",
   "execution_count": 16,
   "metadata": {},
   "outputs": [
    {
     "name": "stdout",
     "output_type": "stream",
     "text": [
      "ResUnit 1 is 62 units wide.\n",
      "ResUnit 2 is 39 units wide.\n",
      "ResUnit 3 is 25 units wide.\n",
      "ResUnit 4 is 15 units wide.\n",
      "ResUnit 5 is 10 units wide.\n"
     ]
    }
   ],
   "source": [
    "# model definition\n",
    "n_lay_pyramid = 5\n",
    "n_unit_top = 10\n",
    "n_unit_base = cv_ndim = descriptors_for_tp.shape[1]\n",
    "fact = (n_unit_top / n_unit_base)**(1./(n_lay_pyramid))\n",
    "\n",
    "modules = []\n",
    "\n",
    "for i in range(1, n_lay_pyramid + 1):\n",
    "    print(f\"ResUnit {i} is {max(n_unit_top, int(n_unit_base * fact**i))} units wide.\")\n",
    "    modules += [aimmd.pytorch.networks.FFNet(n_in=max(n_unit_top, int(n_unit_base * fact**(i-1))),\n",
    "                                             n_hidden=[max(n_unit_top, int(n_unit_base * fact**i))],  # 1 hidden layer network\n",
    "                                             activation=torch.nn.Identity(),\n",
    "                                             )\n",
    "                ]\n",
    "    modules += [aimmd.pytorch.networks.ResNet(n_units=max(n_unit_top, int(n_unit_base * fact**i)),\n",
    "                                              n_blocks=1)\n",
    "                ]\n",
    "\n",
    "torch_model = aimmd.pytorch.networks.ModuleStack(n_out=1,  # using a single output we will predict only p_B and use a binomial loss\n",
    "                                                           # we could have also used n_out=n_states to use a multinomial loss and predict all states,\n",
    "                                                           # but this is probably only worthwhile if n_states > 2 as it would increase the number of free parameters in the NN\n",
    "                                                 modules=modules,  # modules is a list of initialized torch.nn.Modules from arcd.pytorch.networks\n",
    "                                                 )\n",
    "\n",
    "# move model to GPU if CUDA is available\n",
    "if torch.cuda.is_available():\n",
    "    torch_model = torch_model.to('cuda')\n",
    "\n",
    "# choose and initialize an optimizer to train the model\n",
    "optimizer = torch.optim.Adam(torch_model.parameters(), lr=1e-3)"
   ]
  },
  {
   "cell_type": "code",
   "execution_count": 17,
   "metadata": {},
   "outputs": [],
   "source": [
    "# we take an ExpectedEfficiencyPytorchRCModel,\n",
    "# this RCmodel scales the learning rate by the expected efficiency factor (1 - n_TP_true / n_TP_expected)**2\n",
    "model = aimmd.pytorch.EEScalePytorchRCModelAsync(nnet=torch_model,\n",
    "                                                 optimizer=optimizer,\n",
    "                                                 states=[wrapped_C7_eq, wrapped_alphaR],\n",
    "                                                 ee_params={'lr_0': 1e-3,  \n",
    "                                                            'lr_min': 5e-5,  # lr_min = lr_0 / 20 is a good choice empirically\n",
    "                                                            'epochs_per_train': 10,\n",
    "                                                            'interval': 10,\n",
    "                                                            'window': 120,\n",
    "                                                            },\n",
    "                                                 descriptor_transform=wrapped_transform,\n",
    "                                                 cache_file=storage,\n",
    "                                                 )"
   ]
  },
  {
   "cell_type": "code",
   "execution_count": 18,
   "metadata": {},
   "outputs": [
    {
     "data": {
      "text/plain": [
       "(aimmd.pytorch.rcmodel.EEScalePytorchRCModel,\n",
       " aimmd.pytorch.rcmodel.PytorchRCModel,\n",
       " aimmd.base.rcmodel.RCModel,\n",
       " abc.ABC,\n",
       " object)"
      ]
     },
     "execution_count": 18,
     "metadata": {},
     "output_type": "execute_result"
    }
   ],
   "source": [
    "aimmd.pytorch.EEScalePytorchRCModel.__mro__"
   ]
  },
  {
   "cell_type": "code",
   "execution_count": 19,
   "metadata": {},
   "outputs": [
    {
     "data": {
      "text/plain": [
       "(aimmd.pytorch.rcmodel.EEScalePytorchRCModelAsync,\n",
       " aimmd.pytorch.rcmodel.PytorchRCModelAsync,\n",
       " aimmd.base.rcmodel.RCModelAsync,\n",
       " aimmd.base.rcmodel.RCModel,\n",
       " abc.ABC,\n",
       " object)"
      ]
     },
     "execution_count": 19,
     "metadata": {},
     "output_type": "execute_result"
    }
   ],
   "source": [
    "aimmd.pytorch.EEScalePytorchRCModelAsync.__mro__"
   ]
  },
  {
   "cell_type": "code",
   "execution_count": 20,
   "metadata": {},
   "outputs": [],
   "source": [
    "# we could use a list with initialized movers\n",
    "#movers = [[aimmdd.TwoWayShootingPathMover(states=[wrapped_C7_eq, wrapped_alphaR],\n",
    "#                                          engine_cls=gmx_engine_cls,\n",
    "#                                          engine_kwargs=gmx_engine_kwargs,\n",
    "#                                          engine_config=mdp,\n",
    "#                                          walltime_per_part=0.01,\n",
    "#                                          T=mdp[\"ref-t\"][0],\n",
    "#                                         )\n",
    "#           ] for i in range(n_chains)\n",
    "#         ]\n",
    "\n",
    "# it is easier though to use the `Brain.chains_from_moverlist()` function\n",
    "# this function will create n-chain identical PathSamplingChains where the movers for each chain are\n",
    "# specified by movers_cls (a list of mover classes) and movers_kwargs (a dict with keyword arguments used for initialization of the movers)\n",
    "movers_cls = [aimmdd.TwoWayShootingPathMover]\n",
    "movers_kwargs = [{'states': [wrapped_C7_eq, wrapped_alphaR],\n",
    "                  'engine_cls': gmx_engine_cls,\n",
    "                  'engine_kwargs': gmx_engine_kwargs,\n",
    "                  'engine_config': mdp,\n",
    "                  'walltime_per_part': 0.004,  # 14.4 s per part\n",
    "                  'T': mdp[\"ref-t\"][0],\n",
    "                  }\n",
    "                 ]"
   ]
  },
  {
   "cell_type": "code",
   "execution_count": 21,
   "metadata": {},
   "outputs": [],
   "source": [
    "trainset = aimmd.TrainSet(n_states=2)"
   ]
  },
  {
   "cell_type": "code",
   "execution_count": 22,
   "metadata": {},
   "outputs": [],
   "source": [
    "tasks = [aimmdd.logic.TrainingTask(model=model, trainset=trainset),\n",
    "         aimmdd.logic.SaveTask(storage=storage, model=model, trainset=trainset)]"
   ]
  },
  {
   "cell_type": "code",
   "execution_count": 23,
   "metadata": {},
   "outputs": [],
   "source": [
    "# this would be the full __init__ call to the brain\n",
    "# it gives you full flexibility of setting up every PathSamplingChain individually\n",
    "#brain = aimmdd.Brain(model=model, workdir=workdir, storage=storage, movers=movers, mover_weights=[[1.], [1.], [1.]], tasks=tasks)\n",
    "\n",
    "# this is the 'easy' way\n",
    "brain = aimmdd.Brain.chains_from_moverlist(model=model, workdir=workdir, storage=storage, n_chain=n_chains,\n",
    "                                           movers_cls=movers_cls, movers_kwargs=movers_kwargs, tasks=tasks)\n",
    "                                           # Note that we left mover_weights=None at its default, this results\n",
    "                                           # in uniform weights for all movers"
   ]
  },
  {
   "cell_type": "code",
   "execution_count": 24,
   "metadata": {},
   "outputs": [
    {
     "name": "stdout",
     "output_type": "stream",
     "text": [
      "Chain 0:  None\n",
      "\n",
      "Chain 1:  None\n",
      "\n",
      "Chain 2:  None\n",
      "\n",
      "Chain 0: \n",
      "MCstep <aimmd.distributed.logic.MCstep object at 0x7f5e48144850>, with path Trajectory(trajectory_file=/home/think/Documents/sources/OPS/aimmd/examples/distributed/gmx_infiles/ala_300K_TP.trr, structure_file=/home/think/Documents/sources/OPS/aimmd/examples/distributed/gmx_infiles/ala_300K.tpr).\n",
      "\n",
      "Chain 1: \n",
      "MCstep <aimmd.distributed.logic.MCstep object at 0x7f5e49c2bb50>, with path Trajectory(trajectory_file=/home/think/Documents/sources/OPS/aimmd/examples/distributed/gmx_infiles/ala_300K_TP_long.trr, structure_file=/home/think/Documents/sources/OPS/aimmd/examples/distributed/gmx_infiles/ala_300K.tpr).\n",
      "\n",
      "Chain 2: \n",
      "MCstep <aimmd.distributed.logic.MCstep object at 0x7f5e49be93a0>, with path Trajectory(trajectory_file=/home/think/Documents/sources/OPS/aimmd/examples/distributed/gmx_infiles/ala_300K_TP_long.trr, structure_file=/home/think/Documents/sources/OPS/aimmd/examples/distributed/gmx_infiles/ala_300K.tpr).\n",
      "\n"
     ]
    }
   ],
   "source": [
    "# NOTE: old cumbersome setup\n",
    "\n",
    "#initial_step = aimmdd.logic.MCstep(mover=None, stepnum=0, directory=\"gmx_infiles\", path=tp_short, accepted=True)\n",
    "#initial_step2 = aimmdd.logic.MCstep(mover=None, stepnum=0, directory=\"gmx_infiles\", path=tp_long, accepted=True)\n",
    "\n",
    "# take two different initial TPs\n",
    "#for i, c in enumerate(brain.chains):\n",
    "#    if i == 2:\n",
    "#        c.current_step = initial_step2\n",
    "#        c.chainstore.append(initial_step2)  # save the initial step as first step of every chain\n",
    "#    else:\n",
    "#        c.current_step = initial_step\n",
    "#        c.chainstore.append(initial_step)  # save the initial step as first step of every chain\n",
    "\n",
    "\n",
    "# NEW: use the new seed_initial_paths() method!\n",
    "# have a look at before\n",
    "for i, c in enumerate(brain.chains):\n",
    "    print(f\"Chain {i}: \", c.current_step)\n",
    "    print()\n",
    "# seed them\n",
    "brain.seed_initial_paths(trajectories=[tp_short, tp_long], weights=[1., 2.])\n",
    "# have a look again\n",
    "for i, c in enumerate(brain.chains):\n",
    "    print(f\"Chain {i}: \")\n",
    "    print(f\"MCstep {c.current_step}, with path {c.current_step.path}.\")\n",
    "    print()"
   ]
  },
  {
   "cell_type": "code",
   "execution_count": null,
   "metadata": {},
   "outputs": [
    {
     "name": "stderr",
     "output_type": "stream",
     "text": [
      "/home/think/.conda/envs/aimmd_nature_publish/lib/python3.8/site-packages/MDAnalysis/topology/tpr/utils.py:389: DeprecationWarning: TPR files index residues from 0. From MDAnalysis version 2.0, resids will start at 1 instead. If you wish to keep indexing resids from 0, please set `tpr_resid_from_one=False` as a keyword argument when you create a new Topology or Universe.\n",
      "  warnings.warn(\"TPR files index residues from 0. \"\n",
      "/home/think/.conda/envs/aimmd_nature_publish/lib/python3.8/site-packages/MDAnalysis/topology/tpr/utils.py:389: DeprecationWarning: TPR files index residues from 0. From MDAnalysis version 2.0, resids will start at 1 instead. If you wish to keep indexing resids from 0, please set `tpr_resid_from_one=False` as a keyword argument when you create a new Topology or Universe.\n",
      "  warnings.warn(\"TPR files index residues from 0. \"\n",
      "/home/think/.conda/envs/aimmd_nature_publish/lib/python3.8/site-packages/MDAnalysis/topology/tpr/utils.py:389: DeprecationWarning: TPR files index residues from 0. From MDAnalysis version 2.0, resids will start at 1 instead. If you wish to keep indexing resids from 0, please set `tpr_resid_from_one=False` as a keyword argument when you create a new Topology or Universe.\n",
      "  warnings.warn(\"TPR files index residues from 0. \"\n",
      "/home/think/.conda/envs/aimmd_nature_publish/lib/python3.8/site-packages/MDAnalysis/topology/tpr/utils.py:389: DeprecationWarning: TPR files index residues from 0. From MDAnalysis version 2.0, resids will start at 1 instead. If you wish to keep indexing resids from 0, please set `tpr_resid_from_one=False` as a keyword argument when you create a new Topology or Universe.\n",
      "  warnings.warn(\"TPR files index residues from 0. \"\n",
      "/home/think/.conda/envs/aimmd_nature_publish/lib/python3.8/site-packages/MDAnalysis/topology/tpr/utils.py:389: DeprecationWarning: TPR files index residues from 0. From MDAnalysis version 2.0, resids will start at 1 instead. If you wish to keep indexing resids from 0, please set `tpr_resid_from_one=False` as a keyword argument when you create a new Topology or Universe.\n",
      "  warnings.warn(\"TPR files index residues from 0. \"\n",
      "/home/think/.conda/envs/aimmd_nature_publish/lib/python3.8/site-packages/MDAnalysis/topology/tpr/utils.py:389: DeprecationWarning: TPR files index residues from 0. From MDAnalysis version 2.0, resids will start at 1 instead. If you wish to keep indexing resids from 0, please set `tpr_resid_from_one=False` as a keyword argument when you create a new Topology or Universe.\n",
      "  warnings.warn(\"TPR files index residues from 0. \"\n",
      "/home/think/.conda/envs/aimmd_nature_publish/lib/python3.8/site-packages/MDAnalysis/topology/tpr/utils.py:389: DeprecationWarning: TPR files index residues from 0. From MDAnalysis version 2.0, resids will start at 1 instead. If you wish to keep indexing resids from 0, please set `tpr_resid_from_one=False` as a keyword argument when you create a new Topology or Universe.\n",
      "  warnings.warn(\"TPR files index residues from 0. \"\n",
      "/home/think/.conda/envs/aimmd_nature_publish/lib/python3.8/site-packages/MDAnalysis/topology/tpr/utils.py:389: DeprecationWarning: TPR files index residues from 0. From MDAnalysis version 2.0, resids will start at 1 instead. If you wish to keep indexing resids from 0, please set `tpr_resid_from_one=False` as a keyword argument when you create a new Topology or Universe.\n",
      "  warnings.warn(\"TPR files index residues from 0. \"\n",
      "/home/think/.conda/envs/aimmd_nature_publish/lib/python3.8/site-packages/MDAnalysis/topology/tpr/utils.py:389: DeprecationWarning: TPR files index residues from 0. From MDAnalysis version 2.0, resids will start at 1 instead. If you wish to keep indexing resids from 0, please set `tpr_resid_from_one=False` as a keyword argument when you create a new Topology or Universe.\n",
      "  warnings.warn(\"TPR files index residues from 0. \"\n",
      "/home/think/.conda/envs/aimmd_nature_publish/lib/python3.8/site-packages/MDAnalysis/topology/tpr/utils.py:389: DeprecationWarning: TPR files index residues from 0. From MDAnalysis version 2.0, resids will start at 1 instead. If you wish to keep indexing resids from 0, please set `tpr_resid_from_one=False` as a keyword argument when you create a new Topology or Universe.\n",
      "  warnings.warn(\"TPR files index residues from 0. \"\n",
      "/home/think/.conda/envs/aimmd_nature_publish/lib/python3.8/site-packages/MDAnalysis/topology/tpr/utils.py:389: DeprecationWarning: TPR files index residues from 0. From MDAnalysis version 2.0, resids will start at 1 instead. If you wish to keep indexing resids from 0, please set `tpr_resid_from_one=False` as a keyword argument when you create a new Topology or Universe.\n",
      "  warnings.warn(\"TPR files index residues from 0. \"\n",
      "/home/think/.conda/envs/aimmd_nature_publish/lib/python3.8/site-packages/MDAnalysis/topology/tpr/utils.py:389: DeprecationWarning: TPR files index residues from 0. From MDAnalysis version 2.0, resids will start at 1 instead. If you wish to keep indexing resids from 0, please set `tpr_resid_from_one=False` as a keyword argument when you create a new Topology or Universe.\n",
      "  warnings.warn(\"TPR files index residues from 0. \"\n",
      "/home/think/.conda/envs/aimmd_nature_publish/lib/python3.8/site-packages/MDAnalysis/topology/tpr/utils.py:389: DeprecationWarning: TPR files index residues from 0. From MDAnalysis version 2.0, resids will start at 1 instead. If you wish to keep indexing resids from 0, please set `tpr_resid_from_one=False` as a keyword argument when you create a new Topology or Universe.\n",
      "  warnings.warn(\"TPR files index residues from 0. \"\n",
      "/home/think/.conda/envs/aimmd_nature_publish/lib/python3.8/site-packages/MDAnalysis/topology/tpr/utils.py:389: DeprecationWarning: TPR files index residues from 0. From MDAnalysis version 2.0, resids will start at 1 instead. If you wish to keep indexing resids from 0, please set `tpr_resid_from_one=False` as a keyword argument when you create a new Topology or Universe.\n",
      "  warnings.warn(\"TPR files index residues from 0. \"\n",
      "/home/think/.conda/envs/aimmd_nature_publish/lib/python3.8/site-packages/MDAnalysis/topology/tpr/utils.py:389: DeprecationWarning: TPR files index residues from 0. From MDAnalysis version 2.0, resids will start at 1 instead. If you wish to keep indexing resids from 0, please set `tpr_resid_from_one=False` as a keyword argument when you create a new Topology or Universe.\n",
      "  warnings.warn(\"TPR files index residues from 0. \"\n"
     ]
    }
   ],
   "source": [
    "await brain.run_for_n_steps(100)\n",
    "#await brain.run_for_n_accepts(25)"
   ]
  },
  {
   "cell_type": "code",
   "execution_count": 27,
   "metadata": {},
   "outputs": [
    {
     "name": "stdout",
     "output_type": "stream",
     "text": [
      "[True, 0.00029005749352342924, 10, None]\n"
     ]
    }
   ],
   "source": [
    "print(model.log_train_decision[-1])"
   ]
  },
  {
   "cell_type": "code",
   "execution_count": 28,
   "metadata": {},
   "outputs": [
    {
     "data": {
      "image/png": "[encoded data removed]",
      "text/plain": [
       "<Figure size 432x288 with 1 Axes>"
      ]
     },
     "metadata": {
      "needs_background": "light"
     },
     "output_type": "display_data"
    }
   ],
   "source": [
    "# lets have a look at the value of the learning rate over the course of training\n",
    "# note however, that we did not train at every step, but just at every interval MCsteps\n",
    "log_train = np.array(model.log_train_decision)\n",
    "lr = log_train[:,1]\n",
    "plt.plot(lr, label='lr')\n",
    "# see where we really trained: everywhere where train=True\n",
    "# set lr_true to NaN anywhere where we did not train to have a nice plot\n",
    "lr_true = lr\n",
    "lr_true[log_train[:,0] == False] = np.nan\n",
    "plt.plot(lr_true, '+', label='True learning')\n",
    "# lr_min as a guide to the eye\n",
    "plt.axhline(model.ee_params['lr_min'], label='lr_min', color='lime')\n",
    "plt.legend()\n",
    "plt.xlabel('Cumulated MCSteps', size=15);\n",
    "plt.ylabel('Learning rate', size=15);"
   ]
  },
  {
   "cell_type": "code",
   "execution_count": 29,
   "metadata": {},
   "outputs": [
    {
     "data": {
      "image/png": "[encoded data removed]",
      "text/plain": [
       "<Figure size 432x288 with 1 Axes>"
      ]
     },
     "metadata": {
      "needs_background": "light"
     },
     "output_type": "display_data"
    }
   ],
   "source": [
    "# the model losses at each step where it trained\n",
    "# this will be epochs_per_training loss values per training\n",
    "plt.plot(model.log_train_loss, label='training loss')\n",
    "plt.legend();\n",
    "plt.ylabel('loss per training point', size=15)\n",
    "plt.xlabel('training step', size=15)\n",
    "plt.tight_layout()"
   ]
  },
  {
   "cell_type": "code",
   "execution_count": 30,
   "metadata": {},
   "outputs": [
    {
     "data": {
      "image/png": "[encoded data removed]",
      "text/plain": [
       "<Figure size 432x288 with 1 Axes>"
      ]
     },
     "metadata": {
      "needs_background": "light"
     },
     "output_type": "display_data"
    }
   ],
   "source": [
    "# resort such that we have a loss value per MCStep, NaN if we did not train at that step\n",
    "train_loss = []\n",
    "count = 0\n",
    "for t in log_train[:, 0]:\n",
    "    if t:\n",
    "        train_loss.append(model.log_train_loss[count])\n",
    "        count += 1\n",
    "    else:\n",
    "        train_loss.append([np.nan for _ in range(model.ee_params['epochs_per_train'])])\n",
    "    \n",
    "plt.plot(train_loss, '+', label='training loss')\n",
    "plt.legend();\n",
    "plt.ylabel('loss per training point', size=15)\n",
    "plt.xlabel('MCStep', size=15)\n",
    "plt.tight_layout()"
   ]
  },
  {
   "cell_type": "code",
   "execution_count": 31,
   "metadata": {},
   "outputs": [
    {
     "data": {
      "image/png": "[encoded data removed]",
      "text/plain": [
       "<Figure size 432x288 with 1 Axes>"
      ]
     },
     "metadata": {
      "needs_background": "light"
     },
     "output_type": "display_data"
    }
   ],
   "source": [
    "# plot efficiency, expected efficiency and accepts\n",
    "# Note: this will only work for models with n_out=1, due to the way we calculate p(TP|x)\n",
    "\n",
    "p_ex = np.array(model.expected_p)\n",
    "\n",
    "l, = plt.plot(np.cumsum(trainset.transitions), label='generated');\n",
    "#plt.plot(np.cumsum(accepts), c=l.get_color(), ls='--', label='accepted');\n",
    "plt.plot(np.cumsum(2*p_ex*(1 - p_ex)),c=l.get_color(), ls=':', label='expected');\n",
    "plt.plot(np.cumsum(2*p_ex*(1 - p_ex))- np.cumsum(trainset.transitions), label='diff (expected - generated)')\n",
    "plt.plot(np.linspace(0., len(trainset)/2., len(trainset)), c='k', ls='--', label='maximal', lw=2)\n",
    "plt.legend(fontsize=15);\n",
    "plt.ylabel('Cummulative count of TPs', size=15)\n",
    "plt.xlabel('cumulative MC Steps', size=15);"
   ]
  },
  {
   "cell_type": "code",
   "execution_count": null,
   "metadata": {},
   "outputs": [],
   "source": []
  },
  {
   "cell_type": "code",
   "execution_count": 31,
   "metadata": {},
   "outputs": [
    {
     "name": "stdout",
     "output_type": "stream",
     "text": [
      "None\n",
      "False\n",
      "False\n",
      "<aimmd.distributed.logic.TwoWayShootingPathMover object at 0x7f6fa4fab820>\n",
      "False\n",
      "False\n",
      "<aimmd.distributed.logic.TwoWayShootingPathMover object at 0x7f6fa4e3ba00>\n",
      "False\n",
      "False\n",
      "<aimmd.distributed.logic.TwoWayShootingPathMover object at 0x7f6fa4e3bfd0>\n",
      "False\n",
      "False\n",
      "<aimmd.distributed.logic.TwoWayShootingPathMover object at 0x7f6fa4e3bb50>\n",
      "False\n",
      "False\n",
      "<aimmd.distributed.logic.TwoWayShootingPathMover object at 0x7f6fa4e3b220>\n",
      "False\n",
      "False\n",
      "<aimmd.distributed.logic.TwoWayShootingPathMover object at 0x7f6fa4e3bfa0>\n",
      "False\n",
      "False\n",
      "<aimmd.distributed.logic.TwoWayShootingPathMover object at 0x7f6fa4e3b2b0>\n",
      "False\n",
      "False\n",
      "<aimmd.distributed.logic.TwoWayShootingPathMover object at 0x7f6fa4e33d60>\n",
      "False\n",
      "False\n",
      "<aimmd.distributed.logic.TwoWayShootingPathMover object at 0x7f6fa4e3bbe0>\n",
      "False\n",
      "False\n",
      "<aimmd.distributed.logic.TwoWayShootingPathMover object at 0x7f6fa4e33640>\n",
      "False\n",
      "False\n",
      "<aimmd.distributed.logic.TwoWayShootingPathMover object at 0x7f6fa4e3bdf0>\n",
      "False\n",
      "False\n",
      "<aimmd.distributed.logic.TwoWayShootingPathMover object at 0x7f6fa6d31a60>\n",
      "False\n",
      "False\n",
      "<aimmd.distributed.logic.TwoWayShootingPathMover object at 0x7f6fa411dcd0>\n",
      "False\n",
      "False\n",
      "<aimmd.distributed.logic.TwoWayShootingPathMover object at 0x7f6fa4259670>\n",
      "False\n",
      "False\n",
      "<aimmd.distributed.logic.TwoWayShootingPathMover object at 0x7f6fa4fab820>\n",
      "False\n",
      "False\n",
      "<aimmd.distributed.logic.TwoWayShootingPathMover object at 0x7f6fa6d0dc70>\n",
      "False\n",
      "False\n",
      "<aimmd.distributed.logic.TwoWayShootingPathMover object at 0x7f6fa4a5b7c0>\n",
      "False\n",
      "False\n",
      "<aimmd.distributed.logic.TwoWayShootingPathMover object at 0x7f6fa411dcd0>\n",
      "False\n",
      "False\n",
      "<aimmd.distributed.logic.TwoWayShootingPathMover object at 0x7f6fa4a5b7c0>\n",
      "False\n",
      "False\n",
      "<aimmd.distributed.logic.TwoWayShootingPathMover object at 0x7f6fa4e72ca0>\n",
      "False\n",
      "False\n",
      "<aimmd.distributed.logic.TwoWayShootingPathMover object at 0x7f6fa40d7070>\n",
      "False\n",
      "False\n",
      "<aimmd.distributed.logic.TwoWayShootingPathMover object at 0x7f6fa51ae670>\n",
      "False\n",
      "False\n",
      "<aimmd.distributed.logic.TwoWayShootingPathMover object at 0x7f6fa4e3bf70>\n",
      "False\n",
      "False\n",
      "<aimmd.distributed.logic.TwoWayShootingPathMover object at 0x7f6fa49b1490>\n",
      "False\n",
      "False\n",
      "<aimmd.distributed.logic.TwoWayShootingPathMover object at 0x7f6fa40d7070>\n",
      "False\n",
      "False\n",
      "<aimmd.distributed.logic.TwoWayShootingPathMover object at 0x7f6fa411dcd0>\n",
      "False\n",
      "False\n",
      "<aimmd.distributed.logic.TwoWayShootingPathMover object at 0x7f6fa4a85070>\n",
      "False\n",
      "False\n",
      "<aimmd.distributed.logic.TwoWayShootingPathMover object at 0x7f6fa51ae670>\n",
      "False\n",
      "False\n",
      "<aimmd.distributed.logic.TwoWayShootingPathMover object at 0x7f6fa4e920d0>\n",
      "False\n",
      "False\n",
      "<aimmd.distributed.logic.TwoWayShootingPathMover object at 0x7f6fa4e92e80>\n",
      "False\n",
      "False\n",
      "<aimmd.distributed.logic.TwoWayShootingPathMover object at 0x7f6fa425d130>\n",
      "False\n",
      "False\n",
      "<aimmd.distributed.logic.TwoWayShootingPathMover object at 0x7f6fa4e92e80>\n",
      "False\n",
      "False\n",
      "<aimmd.distributed.logic.TwoWayShootingPathMover object at 0x7f6fa4259670>\n",
      "False\n",
      "False\n",
      "<aimmd.distributed.logic.TwoWayShootingPathMover object at 0x7f6fa49b1520>\n",
      "False\n",
      "False\n",
      "<aimmd.distributed.logic.TwoWayShootingPathMover object at 0x7f6fa4e3b8e0>\n",
      "False\n",
      "False\n",
      "<aimmd.distributed.logic.TwoWayShootingPathMover object at 0x7f6fa425d130>\n",
      "False\n",
      "False\n",
      "<aimmd.distributed.logic.TwoWayShootingPathMover object at 0x7f6fa4e3be20>\n",
      "False\n",
      "False\n",
      "<aimmd.distributed.logic.TwoWayShootingPathMover object at 0x7f6fa4fab820>\n",
      "False\n",
      "False\n",
      "<aimmd.distributed.logic.TwoWayShootingPathMover object at 0x7f6fa4e33940>\n",
      "False\n",
      "False\n",
      "<aimmd.distributed.logic.TwoWayShootingPathMover object at 0x7f6fa4e92e80>\n",
      "False\n",
      "False\n",
      "<aimmd.distributed.logic.TwoWayShootingPathMover object at 0x7f6fa4e3baf0>\n",
      "False\n",
      "False\n",
      "<aimmd.distributed.logic.TwoWayShootingPathMover object at 0x7f6fa49b1520>\n",
      "False\n",
      "False\n",
      "<aimmd.distributed.logic.TwoWayShootingPathMover object at 0x7f6fa4e72e50>\n",
      "False\n",
      "False\n",
      "<aimmd.distributed.logic.TwoWayShootingPathMover object at 0x7f6fa4e3ba30>\n",
      "False\n",
      "False\n",
      "<aimmd.distributed.logic.TwoWayShootingPathMover object at 0x7f6fa4259670>\n",
      "False\n",
      "False\n",
      "<aimmd.distributed.logic.TwoWayShootingPathMover object at 0x7f6fa4e3beb0>\n",
      "False\n",
      "False\n",
      "<aimmd.distributed.logic.TwoWayShootingPathMover object at 0x7f6fa4e72e50>\n",
      "False\n",
      "False\n",
      "<aimmd.distributed.logic.TwoWayShootingPathMover object at 0x7f6fa4e920d0>\n",
      "False\n",
      "False\n",
      "<aimmd.distributed.logic.TwoWayShootingPathMover object at 0x7f6fa4a85070>\n",
      "False\n",
      "False\n",
      "<aimmd.distributed.logic.TwoWayShootingPathMover object at 0x7f6fa4e72e50>\n",
      "False\n",
      "False\n",
      "<aimmd.distributed.logic.TwoWayShootingPathMover object at 0x7f6fa4e3b970>\n",
      "False\n",
      "False\n",
      "<aimmd.distributed.logic.TwoWayShootingPathMover object at 0x7f6fa4e33190>\n",
      "False\n",
      "False\n",
      "<aimmd.distributed.logic.TwoWayShootingPathMover object at 0x7f6fa40d7070>\n",
      "False\n",
      "False\n",
      "<aimmd.distributed.logic.TwoWayShootingPathMover object at 0x7f6fa4e3bd30>\n",
      "False\n",
      "False\n",
      "<aimmd.distributed.logic.TwoWayShootingPathMover object at 0x7f6fa49b14c0>\n",
      "False\n",
      "False\n",
      "<aimmd.distributed.logic.TwoWayShootingPathMover object at 0x7f6fa49d35b0>\n",
      "False\n",
      "False\n",
      "<aimmd.distributed.logic.TwoWayShootingPathMover object at 0x7f6fa4259670>\n",
      "False\n",
      "False\n",
      "<aimmd.distributed.logic.TwoWayShootingPathMover object at 0x7f6fa4e3ba30>\n",
      "False\n",
      "False\n",
      "<aimmd.distributed.logic.TwoWayShootingPathMover object at 0x7f6fa50849a0>\n",
      "False\n",
      "False\n",
      "<aimmd.distributed.logic.TwoWayShootingPathMover object at 0x7f6fa4e33e80>\n",
      "False\n",
      "False\n",
      "<aimmd.distributed.logic.TwoWayShootingPathMover object at 0x7f6fa425d250>\n",
      "False\n",
      "False\n",
      "<aimmd.distributed.logic.TwoWayShootingPathMover object at 0x7f6fa49c1be0>\n",
      "False\n",
      "False\n",
      "<aimmd.distributed.logic.TwoWayShootingPathMover object at 0x7f6fa425d250>\n",
      "False\n",
      "False\n",
      "<aimmd.distributed.logic.TwoWayShootingPathMover object at 0x7f6fa4e338b0>\n",
      "False\n",
      "False\n",
      "<aimmd.distributed.logic.TwoWayShootingPathMover object at 0x7f6fa49c1b20>\n",
      "False\n",
      "False\n",
      "<aimmd.distributed.logic.TwoWayShootingPathMover object at 0x7f6fa4a856d0>\n",
      "False\n",
      "False\n",
      "<aimmd.distributed.logic.TwoWayShootingPathMover object at 0x7f6fa425d250>\n",
      "False\n",
      "False\n"
     ]
    }
   ],
   "source": [
    "for s in brain.storage.central_memory[0]:\n",
    "    print(s.mover)\n",
    "    print(s.mover is brain.chains[0].movers[0])\n",
    "    print(s.mover == brain.chains[0].movers[0])"
   ]
  },
  {
   "cell_type": "code",
   "execution_count": null,
   "metadata": {},
   "outputs": [],
   "source": []
  },
  {
   "cell_type": "code",
   "execution_count": 41,
   "metadata": {},
   "outputs": [],
   "source": [
    "storage.close()"
   ]
  },
  {
   "cell_type": "code",
   "execution_count": null,
   "metadata": {},
   "outputs": [],
   "source": []
  }
 ],
 "metadata": {
  "kernelspec": {
   "display_name": "AIMMD nature publish (py3.7.3/June-2021)",
   "language": "python",
   "name": "aimmd_nature_publish"
  },
  "language_info": {
   "codemirror_mode": {
    "name": "ipython",
    "version": 3
   },
   "file_extension": ".py",
   "mimetype": "text/x-python",
   "name": "python",
   "nbconvert_exporter": "python",
   "pygments_lexer": "ipython3",
   "version": "3.8.10"
  }
 },
 "nbformat": 4,
 "nbformat_minor": 4
}
