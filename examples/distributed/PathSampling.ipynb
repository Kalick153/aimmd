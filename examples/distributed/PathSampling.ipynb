{
 "cells": [
  {
   "cell_type": "code",
   "execution_count": 1,
   "metadata": {},
   "outputs": [],
   "source": [
    "%matplotlib inline"
   ]
  },
  {
   "cell_type": "code",
   "execution_count": 2,
   "metadata": {},
   "outputs": [
    {
     "name": "stderr",
     "output_type": "stream",
     "text": [
      "Tensorflow/Keras not available\n"
     ]
    }
   ],
   "source": [
    "import os\n",
    "import asyncio\n",
    "import numpy as np\n",
    "import matplotlib.pyplot as plt\n",
    "import mdtraj as mdt\n",
    "import MDAnalysis as mda\n",
    "import aimmd\n",
    "import aimmd.distributed as aimmdd"
   ]
  },
  {
   "cell_type": "code",
   "execution_count": 3,
   "metadata": {},
   "outputs": [],
   "source": [
    "# setup working directory\n",
    "\n",
    "#scratch_dir = \".\"\n",
    "#scratch_dir = \"/home/tb/hejung/DATA/aimmd_scratch/aimmd_distributed/\"\n",
    "scratch_dir = \"/home/think/scratch/aimmd_distributed/\"\n",
    "\n",
    "workdir = os.path.join(scratch_dir, \"PathSampling_mda_test\")\n",
    "\n",
    "if not os.path.isdir(workdir):\n",
    "    os.mkdir(workdir)"
   ]
  },
  {
   "cell_type": "code",
   "execution_count": 4,
   "metadata": {},
   "outputs": [],
   "source": [
    "# setup logging\n",
    "# executing this file sets the variable LOGCONFIG, which is a dictionary of logging presets \n",
    "%run ../resources/logconf.py"
   ]
  },
  {
   "cell_type": "code",
   "execution_count": 5,
   "metadata": {},
   "outputs": [
    {
     "name": "stdout",
     "output_type": "stream",
     "text": [
      "{'level': 'WARN', 'handlers': ['stdf', 'warnout']}\n",
      "{'level': 'INFO'}\n",
      "{'class': 'logging.FileHandler', 'level': 'INFO', 'mode': 'w', 'filename': 'simulation.log', 'formatter': 'standardFormatter'}\n"
     ]
    }
   ],
   "source": [
    "# have a look at the default logging level (the level used for the root logger)\n",
    "print(LOGCONFIG[\"loggers\"][\"\"])\n",
    "# have a look at the logger for aimmd\n",
    "print(LOGCONFIG[\"loggers\"][\"aimmd\"])\n",
    "# and have a look at the log-level for the filehandler\n",
    "print(LOGCONFIG[\"handlers\"][\"stdf\"])\n",
    "# the last two should both be `INFO`"
   ]
  },
  {
   "cell_type": "code",
   "execution_count": 6,
   "metadata": {},
   "outputs": [],
   "source": [
    "# OPTIONAL: more logging\n",
    "#LOGCONFIG[\"handlers\"][\"stdf\"][\"level\"] = \"DEBUG\"\n",
    "#LOGCONFIG[\"loggers\"][\"aimmd\"][\"level\"] = \"DEBUG\""
   ]
  },
  {
   "cell_type": "code",
   "execution_count": 7,
   "metadata": {},
   "outputs": [],
   "source": [
    "# you can either modify single values or use it as is to get the same setup as in the OPS default logging config file\n",
    "# you could e.g. do LOGCONF['handlers']['stdf']['filename'] = new_name to change the filename of the log\n",
    "# the default is to create 'simulation.log' and 'initialization.log' in the current working directory\n",
    "import logging.config\n",
    "LOGCONFIG[\"handlers\"][\"stdf\"][\"filename\"] = os.path.join(workdir, \"simulation_pathsampling.log\")\n",
    "LOGCONFIG[\"handlers\"][\"initf\"][\"filename\"] = os.path.join(workdir, \"initlog_pathsampling.log\")\n",
    "logging.config.dictConfig(LOGCONFIG)"
   ]
  },
  {
   "cell_type": "markdown",
   "metadata": {},
   "source": [
    "# now the actual setup"
   ]
  },
  {
   "cell_type": "code",
   "execution_count": 8,
   "metadata": {},
   "outputs": [],
   "source": [
    "n_chains = 4  # results in 2*n_chains gmx engines"
   ]
  },
  {
   "cell_type": "code",
   "execution_count": 9,
   "metadata": {},
   "outputs": [],
   "source": [
    "storage = aimmd.Storage(os.path.join(workdir, \"storage.h5\"))"
   ]
  },
  {
   "cell_type": "code",
   "execution_count": 10,
   "metadata": {},
   "outputs": [],
   "source": [
    "# Define the engine(s) for the PathMovers\n",
    "# (they will all be the same)\n",
    "gro = \"gmx_infiles/conf.gro\"\n",
    "top = \"gmx_infiles/topol_amber99sbildn.top\"\n",
    "ndx = \"gmx_infiles/index.ndx\"\n",
    "mdp = aimmdd.MDP(\"gmx_infiles/md.mdp\")\n",
    "\n",
    "gmx_engine_kwargs = {\"mdp\": mdp,\n",
    "                     \"gro_file\": gro,\n",
    "                     \"top_file\": top,\n",
    "                     \"ndx_file\": ndx,\n",
    "                     \"mdrun_extra_args\": \"-nt 2\",\n",
    "                     # use this for gmx sans (thread) MPI\n",
    "                     #\"mdrun_extra_args\": \"-ntomp 2\",\n",
    "                     }\n",
    "gmx_engine_cls = aimmdd.GmxEngine"
   ]
  },
  {
   "cell_type": "code",
   "execution_count": 11,
   "metadata": {},
   "outputs": [],
   "source": [
    "# state functions\n",
    "from state_funcs_mda import alpha_R, C7_eq\n",
    "\n",
    "wrapped_alphaR = aimmdd.PyTrajectoryFunctionWrapper(alpha_R)\n",
    "\n",
    "wrapped_C7_eq = aimmdd.PyTrajectoryFunctionWrapper(C7_eq)"
   ]
  },
  {
   "cell_type": "code",
   "execution_count": 12,
   "metadata": {},
   "outputs": [],
   "source": [
    "# descriptor_transform for the model\n",
    "\n",
    "# internal coordinates\n",
    "from state_funcs_mda import descriptor_func_ic\n",
    "\n",
    "wrapped_transform = aimmdd.PyTrajectoryFunctionWrapper(descriptor_func_ic, call_kwargs={\"molecule_selection\": \"protein\"})"
   ]
  },
  {
   "cell_type": "code",
   "execution_count": 13,
   "metadata": {},
   "outputs": [],
   "source": [
    "# load initial transitions\n",
    "tp_lb = aimmdd.Trajectory(structure_file=\"gmx_infiles/ala_300K_amber99sb-ildn.tpr\", trajectory_file=\"gmx_infiles/TP_low_barrier_300K_amber99sbildn.trr\")\n",
    "tp_short = aimmdd.Trajectory(structure_file=\"gmx_infiles/ala_300K_amber99sb-ildn.tpr\", trajectory_file=\"gmx_infiles/TP_short_low_barrier_300K_amber99sbildn.trr\")\n",
    "tp_short2 = aimmdd.Trajectory(structure_file=\"gmx_infiles/ala_300K_amber99sb-ildn.tpr\", trajectory_file=\"gmx_infiles/TP_short2_low_barrier_300K_amber99sbildn.trr\")"
   ]
  },
  {
   "cell_type": "code",
   "execution_count": 17,
   "metadata": {},
   "outputs": [
    {
     "name": "stdout",
     "output_type": "stream",
     "text": [
      "[102, 18, 28]\n"
     ]
    }
   ],
   "source": [
    "print([len(tp) for tp in [tp_lb, tp_short, tp_short2]])"
   ]
  },
  {
   "cell_type": "code",
   "execution_count": 18,
   "metadata": {},
   "outputs": [],
   "source": [
    "# get the descriptors for one of them to infer the number of inputs for our model\n",
    "descriptors_for_tp = await wrapped_transform(tp_lb)\n",
    "descriptors_for_tp_short = await wrapped_transform(tp_short)\n",
    "descriptors_for_tp_short2 = await wrapped_transform(tp_short2)"
   ]
  },
  {
   "cell_type": "code",
   "execution_count": 20,
   "metadata": {},
   "outputs": [
    {
     "data": {
      "text/plain": [
       "array([ True, False, False, False, False, False, False, False, False,\n",
       "       False, False, False, False, False, False, False, False, False])"
      ]
     },
     "execution_count": 20,
     "metadata": {},
     "output_type": "execute_result"
    }
   ],
   "source": [
    "await wrapped_alphaR(tp_short)"
   ]
  },
  {
   "cell_type": "code",
   "execution_count": 21,
   "metadata": {},
   "outputs": [
    {
     "data": {
      "text/plain": [
       "array([False, False, False, False, False, False, False, False, False,\n",
       "       False, False, False, False, False, False, False, False,  True])"
      ]
     },
     "execution_count": 21,
     "metadata": {},
     "output_type": "execute_result"
    }
   ],
   "source": [
    "await wrapped_C7_eq(tp_short)"
   ]
  },
  {
   "cell_type": "code",
   "execution_count": 22,
   "metadata": {},
   "outputs": [],
   "source": [
    "# imports for model\n",
    "import torch.nn.functional as F\n",
    "import torch"
   ]
  },
  {
   "cell_type": "code",
   "execution_count": 27,
   "metadata": {},
   "outputs": [
    {
     "name": "stdout",
     "output_type": "stream",
     "text": [
      "ResUnit 1 is 66 units wide.\n",
      "Dropout before it is 0.18674307214231128.\n",
      "ResUnit 2 is 41 units wide.\n",
      "Dropout before it is 0.1162432499771616.\n",
      "ResUnit 3 is 25 units wide.\n",
      "Dropout before it is 0.07235873872180604.\n",
      "ResUnit 4 is 16 units wide.\n",
      "Dropout before it is 0.045041643884176266.\n",
      "ResUnit 5 is 10 units wide.\n",
      "Dropout before it is 0.02803738317757008.\n"
     ]
    }
   ],
   "source": [
    "# model definition\n",
    "n_lay_pyramid = 5\n",
    "n_unit_top = 10\n",
    "dropout_base = 0.3\n",
    "n_unit_base = cv_ndim = descriptors_for_tp.shape[1]\n",
    "fact = (n_unit_top / n_unit_base)**(1./(n_lay_pyramid))\n",
    "\n",
    "modules = []\n",
    "\n",
    "for i in range(1, n_lay_pyramid + 1):\n",
    "    #print(f\"ResUnit {i} is {max(n_unit_top, int(n_unit_base * fact**(i-1)))} units wide.\")\n",
    "    #modules += [aimmd.pytorch.networks.ResNet(n_units=max(n_unit_top, int(n_unit_base * fact**(i-1))),\n",
    "    #                                          n_blocks=1)\n",
    "    #            ]\n",
    "\n",
    "    modules += [aimmd.pytorch.networks.FFNet(n_in=max(n_unit_top, int(n_unit_base * fact**(i-1))),\n",
    "                                             n_hidden=[max(n_unit_top, int(n_unit_base * fact**i))],  # 1 hidden layer network\n",
    "                                             activation=torch.nn.Identity(),\n",
    "                                             dropout={\"0\": dropout_base * fact**i}\n",
    "                                             )\n",
    "                ]\n",
    "    print(f\"ResUnit {i} is {max(n_unit_top, int(n_unit_base * fact**(i)))} units wide.\")\n",
    "    print(f\"Dropout before it is {dropout_base * fact**i}.\")\n",
    "    modules += [aimmd.pytorch.networks.ResNet(n_units=max(n_unit_top, int(n_unit_base * fact**i)),\n",
    "                                              n_blocks=1)\n",
    "                ]\n",
    "\n",
    "torch_model = aimmd.pytorch.networks.ModuleStack(n_out=1,  # using a single output we will predict only p_B and use a binomial loss\n",
    "                                                           # we could have also used n_out=n_states to use a multinomial loss and predict all states,\n",
    "                                                           # but this is probably only worthwhile if n_states > 2 as it would increase the number of free parameters in the NN\n",
    "                                                 modules=modules,  # modules is a list of initialized torch.nn.Modules from arcd.pytorch.networks\n",
    "                                                 )\n",
    "\n",
    "# move model to GPU if CUDA is available\n",
    "if torch.cuda.is_available():\n",
    "    torch_model = torch_model.to('cuda')\n",
    "\n",
    "# choose and initialize an optimizer to train the model\n",
    "optimizer = torch.optim.Adam(torch_model.parameters(), lr=1e-3)"
   ]
  },
  {
   "cell_type": "code",
   "execution_count": 28,
   "metadata": {},
   "outputs": [],
   "source": [
    "# we take an ExpectedEfficiencyPytorchRCModel,\n",
    "# this RCmodel scales the learning rate by the expected efficiency factor (1 - n_TP_true / n_TP_expected)**2\n",
    "model = aimmd.pytorch.EEScalePytorchRCModelAsync(nnet=torch_model,\n",
    "                                                 optimizer=optimizer,\n",
    "                                                 states=[wrapped_C7_eq, wrapped_alphaR],\n",
    "                                                 ee_params={'lr_0': 1e-3,  \n",
    "                                                            #'lr_min': 5e-5,  # lr_min = lr_0 / 20 is a good choice empirically\n",
    "                                                            'lr_min': 5e-5,\n",
    "                                                            #'epochs_per_train': 3, # try 5, [10 and 15] next\n",
    "                                                            'epochs_per_train': 5,\n",
    "                                                            #'interval': 5,\n",
    "                                                            'interval': 10,\n",
    "                                                            #'window': 75,\n",
    "                                                            'window': 100,\n",
    "                                                           },\n",
    "                                                 descriptor_transform=wrapped_transform,\n",
    "                                                 cache_file=storage,\n",
    "                                                 )"
   ]
  },
  {
   "cell_type": "code",
   "execution_count": 29,
   "metadata": {},
   "outputs": [],
   "source": [
    "# we could use a list with initialized movers\n",
    "#movers = [[aimmdd.TwoWayShootingPathMover(states=[wrapped_C7_eq, wrapped_alphaR],\n",
    "#                                          engine_cls=gmx_engine_cls,\n",
    "#                                          engine_kwargs=gmx_engine_kwargs,\n",
    "#                                          engine_config=mdp,\n",
    "#                                          walltime_per_part=0.01,\n",
    "#                                          T=mdp[\"ref-t\"][0],\n",
    "#                                         )\n",
    "#           ] for i in range(n_chains)\n",
    "#         ]\n",
    "\n",
    "# it is easier though to use the `Brain.chains_from_moverlist()` function\n",
    "# this function will create n-chain identical PathSamplingChains where the movers for each chain are\n",
    "# specified by movers_cls (a list of mover classes) and movers_kwargs (a dict with keyword arguments used for initialization of the movers)\n",
    "movers_cls = [aimmdd.pathmovers.TwoWayShootingPathMover]\n",
    "movers_kwargs = [{'states': [wrapped_alphaR, wrapped_C7_eq],\n",
    "                  'engine_cls': gmx_engine_cls,\n",
    "                  'engine_kwargs': gmx_engine_kwargs,\n",
    "                  # NOTE: choose this as short as possible!\n",
    "                  #       since ala is super-small and commits fast we should make sure\n",
    "                  #       that most trials reach a state in the first part\n",
    "                  #       this in turn makes sure that we do not call gromasc multiple times per trial (saving setup time)\n",
    "                  #       but still ensures that the resulting trajectories are not too long and large\n",
    "                  #       it also reduces the time needed per step (we need at least walltime_per_part hours per step)\n",
    "                  #'walltime_per_part': 0.000015625,  # 0.055125 s per part\n",
    "                  #'walltime_per_part': 0.00003125,  # 0.1125 s per part\n",
    "                  'walltime_per_part': 0.0000625,  # 0.225 s per part\n",
    "                  #'walltime_per_part': 0.000125,  # 0.45 s per part\n",
    "                  #'walltime_per_part': 0.00025,  # 0.9 s per part\n",
    "                  #'walltime_per_part': 0.0005,  # 1.8 s per part\n",
    "                  #'walltime_per_part': 0.001,  # 3.6 s per part\n",
    "                  #'walltime_per_part': 0.002,  # 7.2 s per part\n",
    "                  #'walltime_per_part': 0.003,  # 10.8 s per part\n",
    "                  #'walltime_per_part': 0.004,  # 14.4 s per part\n",
    "                  'T': mdp[\"ref-t\"][0],\n",
    "                  \"sp_selector\": aimmdd.pathmovers.RCModelSPSelector(),  # can be used to customize SP-selection params \n",
    "                  }\n",
    "                 ]"
   ]
  },
  {
   "cell_type": "code",
   "execution_count": 30,
   "metadata": {},
   "outputs": [],
   "source": [
    "trainset = aimmd.TrainSet(n_states=2)"
   ]
  },
  {
   "cell_type": "code",
   "execution_count": 31,
   "metadata": {},
   "outputs": [],
   "source": [
    "tasks = [aimmdd.pathsampling.TrainingTask(model=model, trainset=trainset),\n",
    "         aimmdd.pathsampling.SaveTask(storage=storage, model=model, trainset=trainset),\n",
    "         aimmdd.pathsampling.DensityCollectionTask(model=model,\n",
    "                                                   first_collection=100,\n",
    "                                                   recreate_interval=500,\n",
    "                                                   interval=10\n",
    "                                                   ),\n",
    "         ]"
   ]
  },
  {
   "cell_type": "code",
   "execution_count": 32,
   "metadata": {},
   "outputs": [],
   "source": [
    "# this would be the full __init__ call to the brain\n",
    "# it gives you full flexibility of setting up every PathSamplingChain individually\n",
    "#brain = aimmdd.Brain(model=model, workdir=workdir, storage=storage, movers=movers, mover_weights=[[1.], [1.], [1.]], tasks=tasks)\n",
    "\n",
    "# this is the 'easy' way\n",
    "brain = aimmdd.Brain.chains_from_moverlist(model=model, workdir=workdir, storage=storage, n_chain=n_chains,\n",
    "                                           movers_cls=movers_cls, movers_kwargs=movers_kwargs, tasks=tasks)\n",
    "                                           # Note that we left mover_weights=None at its default, this results\n",
    "                                           # in uniform weights for all movers"
   ]
  },
  {
   "cell_type": "code",
   "execution_count": 33,
   "metadata": {},
   "outputs": [
    {
     "name": "stdout",
     "output_type": "stream",
     "text": [
      "Chain 0:  None\n",
      "\n",
      "Chain 1:  None\n",
      "\n",
      "Chain 2:  None\n",
      "\n",
      "Chain 3:  None\n",
      "\n",
      "Chain 0: \n",
      "MCstep <aimmd.distributed.pathmovers.MCstep object at 0x7f4dd50b0400>, with path Trajectory(trajectory_file=/home/think/Documents/sources/OPS/aimmd/examples/distributed/gmx_infiles/TP_short2_low_barrier_300K_amber99sbildn.trr, structure_file=/home/think/Documents/sources/OPS/aimmd/examples/distributed/gmx_infiles/ala_300K_amber99sb-ildn.tpr).\n",
      "\n",
      "Chain 1: \n",
      "MCstep <aimmd.distributed.pathmovers.MCstep object at 0x7f4dd50f0cd0>, with path Trajectory(trajectory_file=/home/think/Documents/sources/OPS/aimmd/examples/distributed/gmx_infiles/TP_short_low_barrier_300K_amber99sbildn.trr, structure_file=/home/think/Documents/sources/OPS/aimmd/examples/distributed/gmx_infiles/ala_300K_amber99sb-ildn.tpr).\n",
      "\n",
      "Chain 2: \n",
      "MCstep <aimmd.distributed.pathmovers.MCstep object at 0x7f4e4da25070>, with path Trajectory(trajectory_file=/home/think/Documents/sources/OPS/aimmd/examples/distributed/gmx_infiles/TP_low_barrier_300K_amber99sbildn.trr, structure_file=/home/think/Documents/sources/OPS/aimmd/examples/distributed/gmx_infiles/ala_300K_amber99sb-ildn.tpr).\n",
      "\n",
      "Chain 3: \n",
      "MCstep <aimmd.distributed.pathmovers.MCstep object at 0x7f4dd5201850>, with path Trajectory(trajectory_file=/home/think/Documents/sources/OPS/aimmd/examples/distributed/gmx_infiles/TP_low_barrier_300K_amber99sbildn.trr, structure_file=/home/think/Documents/sources/OPS/aimmd/examples/distributed/gmx_infiles/ala_300K_amber99sb-ildn.tpr).\n",
      "\n"
     ]
    }
   ],
   "source": [
    "# NOTE: old cumbersome setup\n",
    "\n",
    "#initial_step = aimmdd.logic.MCstep(mover=None, stepnum=0, directory=\"gmx_infiles\", path=tp_short, accepted=True)\n",
    "#initial_step2 = aimmdd.logic.MCstep(mover=None, stepnum=0, directory=\"gmx_infiles\", path=tp_long, accepted=True)\n",
    "\n",
    "# take two different initial TPs\n",
    "#for i, c in enumerate(brain.chains):\n",
    "#    if i == 2:\n",
    "#        c.current_step = initial_step2\n",
    "#        c.chainstore.append(initial_step2)  # save the initial step as first step of every chain\n",
    "#    else:\n",
    "#        c.current_step = initial_step\n",
    "#        c.chainstore.append(initial_step)  # save the initial step as first step of every chain\n",
    "\n",
    "\n",
    "# NEW: use the new seed_initial_paths() method!\n",
    "# have a look at before\n",
    "for i, c in enumerate(brain.chains):\n",
    "    print(f\"Chain {i}: \", c.current_step)\n",
    "    print()\n",
    "# seed them\n",
    "brain.seed_initial_paths(trajectories=[tp_lb, tp_short, tp_short2], weights=[1., 1., 1.])\n",
    "# have a look again\n",
    "for i, c in enumerate(brain.chains):\n",
    "    print(f\"Chain {i}: \")\n",
    "    print(f\"MCstep {c.current_step}, with path {c.current_step.path}.\")\n",
    "    print()"
   ]
  },
  {
   "cell_type": "code",
   "execution_count": 34,
   "metadata": {
    "tags": []
   },
   "outputs": [],
   "source": [
    "await brain.run_for_n_steps(1500)\n",
    "#await brain.run_for_n_steps(2000)\n",
    "#await brain.run_for_n_accepts(25)"
   ]
  },
  {
   "cell_type": "code",
   "execution_count": 35,
   "metadata": {},
   "outputs": [],
   "source": [
    "await brain.run_for_n_steps(1500)"
   ]
  },
  {
   "cell_type": "code",
   "execution_count": 55,
   "metadata": {},
   "outputs": [
    {
     "name": "stdout",
     "output_type": "stream",
     "text": [
      "[False, 1.8220332568150382e-06, 5, None]\n"
     ]
    }
   ],
   "source": [
    "print(model.log_train_decision[-1])"
   ]
  },
  {
   "cell_type": "code",
   "execution_count": 56,
   "metadata": {},
   "outputs": [
    {
     "data": {
      "image/png": "[encoded data removed]",
      "text/plain": [
       "<Figure size 432x288 with 1 Axes>"
      ]
     },
     "metadata": {
      "needs_background": "light"
     },
     "output_type": "display_data"
    }
   ],
   "source": [
    "# lets have a look at the value of the learning rate over the course of training\n",
    "# note however, that we did not train at every step, but just at every interval MCsteps\n",
    "log_train = np.array(model.log_train_decision)\n",
    "lr = log_train[:,1]\n",
    "plt.plot(lr, label='lr')\n",
    "# see where we really trained: everywhere where train=True\n",
    "# set lr_true to NaN anywhere where we did not train to have a nice plot\n",
    "lr_true = lr\n",
    "lr_true[log_train[:,0] == False] = np.nan\n",
    "plt.plot(lr_true, '+', label='True learning')\n",
    "# lr_min as a guide to the eye\n",
    "plt.axhline(model.ee_params['lr_min'], label='lr_min', color='lime')\n",
    "plt.legend()\n",
    "plt.xlabel('MCStep', size=15);\n",
    "plt.ylabel('Learning rate', size=15);"
   ]
  },
  {
   "cell_type": "code",
   "execution_count": 57,
   "metadata": {},
   "outputs": [
    {
     "data": {
      "image/png": "[encoded data removed]",
      "text/plain": [
       "<Figure size 432x288 with 1 Axes>"
      ]
     },
     "metadata": {
      "needs_background": "light"
     },
     "output_type": "display_data"
    }
   ],
   "source": [
    "# the model losses at each step where it trained\n",
    "# this will be epochs_per_training loss values per training\n",
    "plt.plot(model.log_train_loss, label='training loss')\n",
    "plt.legend();\n",
    "plt.ylabel('loss per training point', size=15)\n",
    "plt.xlabel('training step', size=15)\n",
    "plt.tight_layout()"
   ]
  },
  {
   "cell_type": "code",
   "execution_count": 58,
   "metadata": {},
   "outputs": [
    {
     "data": {
      "image/png": "[encoded data removed]",
      "text/plain": [
       "<Figure size 432x288 with 1 Axes>"
      ]
     },
     "metadata": {
      "needs_background": "light"
     },
     "output_type": "display_data"
    }
   ],
   "source": [
    "# resort such that we have a loss value per MCStep, NaN if we did not train at that step\n",
    "train_loss = []\n",
    "count = 0\n",
    "for t in log_train[:, 0]:\n",
    "    if t:\n",
    "        train_loss.append(model.log_train_loss[count])\n",
    "        count += 1\n",
    "    else:\n",
    "        train_loss.append([np.nan for _ in range(model.ee_params['epochs_per_train'])])\n",
    "    \n",
    "plt.plot(train_loss, '+', label='training loss')\n",
    "plt.legend();\n",
    "plt.ylabel('loss per training point', size=15)\n",
    "plt.xlabel('MCStep', size=15)\n",
    "plt.tight_layout()"
   ]
  },
  {
   "cell_type": "code",
   "execution_count": 59,
   "metadata": {},
   "outputs": [],
   "source": [
    "# TODO: find a way, currently it is not possibly to get the accepts in the same order as the trainset?!\n",
    "# TODO: probably we will have to write a DataCollectionTask to achieve that ?!\n",
    "# get accepts from storage:\n",
    "# NOTE: this is just roughly the right order\n",
    "accepts = []\n",
    "for accs in zip(*(c.accepts for c in brain.chains)):\n",
    "    accepts += list(accs)"
   ]
  },
  {
   "cell_type": "code",
   "execution_count": 61,
   "metadata": {},
   "outputs": [
    {
     "ename": "TypeError",
     "evalue": "'list' object cannot be interpreted as an integer",
     "output_type": "error",
     "traceback": [
      "\u001b[0;31m---------------------------------------------------------------------------\u001b[0m",
      "\u001b[0;31mTypeError\u001b[0m                                 Traceback (most recent call last)",
      "\u001b[0;32m<ipython-input-61-c3c6bc1b2454>\u001b[0m in \u001b[0;36m<module>\u001b[0;34m\u001b[0m\n\u001b[1;32m      5\u001b[0m \u001b[0;34m\u001b[0m\u001b[0m\n\u001b[1;32m      6\u001b[0m \u001b[0ml\u001b[0m\u001b[0;34m,\u001b[0m \u001b[0;34m=\u001b[0m \u001b[0mplt\u001b[0m\u001b[0;34m.\u001b[0m\u001b[0mplot\u001b[0m\u001b[0;34m(\u001b[0m\u001b[0mnp\u001b[0m\u001b[0;34m.\u001b[0m\u001b[0mcumsum\u001b[0m\u001b[0;34m(\u001b[0m\u001b[0mtrainset\u001b[0m\u001b[0;34m.\u001b[0m\u001b[0mtransitions\u001b[0m\u001b[0;34m)\u001b[0m\u001b[0;34m,\u001b[0m \u001b[0mlabel\u001b[0m\u001b[0;34m=\u001b[0m\u001b[0;34m'generated'\u001b[0m\u001b[0;34m)\u001b[0m\u001b[0;34m;\u001b[0m\u001b[0;34m\u001b[0m\u001b[0;34m\u001b[0m\u001b[0m\n\u001b[0;32m----> 7\u001b[0;31m \u001b[0mplt\u001b[0m\u001b[0;34m.\u001b[0m\u001b[0mplot\u001b[0m\u001b[0;34m(\u001b[0m\u001b[0mnp\u001b[0m\u001b[0;34m.\u001b[0m\u001b[0mcumsum\u001b[0m\u001b[0;34m(\u001b[0m\u001b[0mbrain\u001b[0m\u001b[0;34m.\u001b[0m\u001b[0maccepts\u001b[0m\u001b[0;34m)\u001b[0m\u001b[0;34m,\u001b[0m \u001b[0mc\u001b[0m\u001b[0;34m=\u001b[0m\u001b[0ml\u001b[0m\u001b[0;34m.\u001b[0m\u001b[0mget_color\u001b[0m\u001b[0;34m(\u001b[0m\u001b[0;34m)\u001b[0m\u001b[0;34m,\u001b[0m \u001b[0mls\u001b[0m\u001b[0;34m=\u001b[0m\u001b[0;34m'--'\u001b[0m\u001b[0;34m,\u001b[0m \u001b[0mlabel\u001b[0m\u001b[0;34m=\u001b[0m\u001b[0;34m'accepted'\u001b[0m\u001b[0;34m)\u001b[0m\u001b[0;34m;\u001b[0m\u001b[0;34m\u001b[0m\u001b[0;34m\u001b[0m\u001b[0m\n\u001b[0m\u001b[1;32m      8\u001b[0m \u001b[0mplt\u001b[0m\u001b[0;34m.\u001b[0m\u001b[0mplot\u001b[0m\u001b[0;34m(\u001b[0m\u001b[0mnp\u001b[0m\u001b[0;34m.\u001b[0m\u001b[0mcumsum\u001b[0m\u001b[0;34m(\u001b[0m\u001b[0;36m2\u001b[0m\u001b[0;34m*\u001b[0m\u001b[0mp_ex\u001b[0m\u001b[0;34m*\u001b[0m\u001b[0;34m(\u001b[0m\u001b[0;36m1\u001b[0m \u001b[0;34m-\u001b[0m \u001b[0mp_ex\u001b[0m\u001b[0;34m)\u001b[0m\u001b[0;34m)\u001b[0m\u001b[0;34m,\u001b[0m\u001b[0mc\u001b[0m\u001b[0;34m=\u001b[0m\u001b[0ml\u001b[0m\u001b[0;34m.\u001b[0m\u001b[0mget_color\u001b[0m\u001b[0;34m(\u001b[0m\u001b[0;34m)\u001b[0m\u001b[0;34m,\u001b[0m \u001b[0mls\u001b[0m\u001b[0;34m=\u001b[0m\u001b[0;34m':'\u001b[0m\u001b[0;34m,\u001b[0m \u001b[0mlabel\u001b[0m\u001b[0;34m=\u001b[0m\u001b[0;34m'expected'\u001b[0m\u001b[0;34m)\u001b[0m\u001b[0;34m;\u001b[0m\u001b[0;34m\u001b[0m\u001b[0;34m\u001b[0m\u001b[0m\n\u001b[1;32m      9\u001b[0m \u001b[0mplt\u001b[0m\u001b[0;34m.\u001b[0m\u001b[0mplot\u001b[0m\u001b[0;34m(\u001b[0m\u001b[0mnp\u001b[0m\u001b[0;34m.\u001b[0m\u001b[0mcumsum\u001b[0m\u001b[0;34m(\u001b[0m\u001b[0;36m2\u001b[0m\u001b[0;34m*\u001b[0m\u001b[0mp_ex\u001b[0m\u001b[0;34m*\u001b[0m\u001b[0;34m(\u001b[0m\u001b[0;36m1\u001b[0m \u001b[0;34m-\u001b[0m \u001b[0mp_ex\u001b[0m\u001b[0;34m)\u001b[0m\u001b[0;34m)\u001b[0m\u001b[0;34m-\u001b[0m \u001b[0mnp\u001b[0m\u001b[0;34m.\u001b[0m\u001b[0mcumsum\u001b[0m\u001b[0;34m(\u001b[0m\u001b[0mtrainset\u001b[0m\u001b[0;34m.\u001b[0m\u001b[0mtransitions\u001b[0m\u001b[0;34m)\u001b[0m\u001b[0;34m,\u001b[0m \u001b[0mlabel\u001b[0m\u001b[0;34m=\u001b[0m\u001b[0;34m'diff (expected - generated)'\u001b[0m\u001b[0;34m)\u001b[0m\u001b[0;34m\u001b[0m\u001b[0;34m\u001b[0m\u001b[0m\n",
      "\u001b[0;32m~/Documents/sources/OPS/aimmd/aimmd/distributed/pathsampling.py\u001b[0m in \u001b[0;36maccepts\u001b[0;34m(self)\u001b[0m\n\u001b[1;32m    241\u001b[0m         \u001b[0mAccepts\u001b[0m \u001b[0mare\u001b[0m \u001b[0mover\u001b[0m \u001b[0mall\u001b[0m \u001b[0mchains\u001b[0m \u001b[0;32min\u001b[0m \u001b[0mthe\u001b[0m \u001b[0morder\u001b[0m \u001b[0mthe\u001b[0m \u001b[0msteps\u001b[0m \u001b[0mfinished\u001b[0m\u001b[0;34m.\u001b[0m\u001b[0;34m\u001b[0m\u001b[0;34m\u001b[0m\u001b[0m\n\u001b[1;32m    242\u001b[0m         \"\"\"\n\u001b[0;32m--> 243\u001b[0;31m         \u001b[0mcounters\u001b[0m \u001b[0;34m=\u001b[0m \u001b[0;34m[\u001b[0m\u001b[0;36m0\u001b[0m \u001b[0;32mfor\u001b[0m \u001b[0m_\u001b[0m \u001b[0;32min\u001b[0m \u001b[0mrange\u001b[0m\u001b[0;34m(\u001b[0m\u001b[0mself\u001b[0m\u001b[0;34m.\u001b[0m\u001b[0mchains\u001b[0m\u001b[0;34m)\u001b[0m\u001b[0;34m]\u001b[0m\u001b[0;34m\u001b[0m\u001b[0;34m\u001b[0m\u001b[0m\n\u001b[0m\u001b[1;32m    244\u001b[0m         \u001b[0maccepts_per_chain\u001b[0m \u001b[0;34m=\u001b[0m \u001b[0;34m[\u001b[0m\u001b[0mc\u001b[0m\u001b[0;34m.\u001b[0m\u001b[0maccepts\u001b[0m \u001b[0;32mfor\u001b[0m \u001b[0mc\u001b[0m \u001b[0;32min\u001b[0m \u001b[0mself\u001b[0m\u001b[0;34m.\u001b[0m\u001b[0mchains\u001b[0m\u001b[0;34m]\u001b[0m\u001b[0;34m\u001b[0m\u001b[0;34m\u001b[0m\u001b[0m\n\u001b[1;32m    245\u001b[0m         \u001b[0maccepts\u001b[0m \u001b[0;34m=\u001b[0m \u001b[0;34m[\u001b[0m\u001b[0;34m]\u001b[0m\u001b[0;34m\u001b[0m\u001b[0;34m\u001b[0m\u001b[0m\n",
      "\u001b[0;31mTypeError\u001b[0m: 'list' object cannot be interpreted as an integer"
     ]
    },
    {
     "data": {
      "image/png": "[encoded data removed]",
      "text/plain": [
       "<Figure size 432x288 with 1 Axes>"
      ]
     },
     "metadata": {
      "needs_background": "light"
     },
     "output_type": "display_data"
    }
   ],
   "source": [
    "# plot efficiency, expected efficiency and accepts\n",
    "# Note: this will only work for models with n_out=1, due to the way we calculate p(TP|x)\n",
    "\n",
    "p_ex = np.array(model.expected_p)\n",
    "\n",
    "l, = plt.plot(np.cumsum(trainset.transitions), label='generated');\n",
    "plt.plot(np.cumsum(brain.accepts), c=l.get_color(), ls='--', label='accepted');\n",
    "plt.plot(np.cumsum(2*p_ex*(1 - p_ex)),c=l.get_color(), ls=':', label='expected');\n",
    "plt.plot(np.cumsum(2*p_ex*(1 - p_ex))- np.cumsum(trainset.transitions), label='diff (expected - generated)')\n",
    "plt.plot(np.linspace(0., len(trainset)/2., len(trainset)), c='k', ls='--', label='maximal', lw=2)\n",
    "plt.legend(fontsize=12);\n",
    "plt.ylabel('Cummulative count of TPs', size=15)\n",
    "plt.xlabel('cummulative MC Steps', size=15);"
   ]
  },
  {
   "cell_type": "code",
   "execution_count": 35,
   "metadata": {},
   "outputs": [],
   "source": [
    "hipr = aimmd.analysis.HIPRanalysis(model, trainset)"
   ]
  },
  {
   "cell_type": "code",
   "execution_count": 36,
   "metadata": {},
   "outputs": [],
   "source": [
    "hipr_plus_losses, hipr_plus_stds = hipr.do_hipr_plus(25)"
   ]
  },
  {
   "cell_type": "code",
   "execution_count": 37,
   "metadata": {},
   "outputs": [
    {
     "data": {
      "image/png": "[encoded data removed]",
      "text/plain": [
       "<Figure size 432x288 with 1 Axes>"
      ]
     },
     "metadata": {
      "needs_background": "light"
     },
     "output_type": "display_data"
    }
   ],
   "source": [
    "loss_diffs = hipr_plus_losses[:-1] - hipr_plus_losses[-1]  # hipr_losses[-1] is the reference loss over the unaltered trainset\n",
    "\n",
    "plt.bar(np.arange(len(loss_diffs)), loss_diffs, yerr=hipr_plus_stds[:-1])\n",
    "plt.xlabel('Coordinate index', size=15)\n",
    "plt.ylabel('Relative importance', size=15);"
   ]
  },
  {
   "cell_type": "code",
   "execution_count": 38,
   "metadata": {},
   "outputs": [],
   "source": [
    "from state_funcs_mda import generate_atomgroups_for_ic\n",
    "\n",
    "u = mda.Universe(\"gmx_infiles/ala_300K_amber99sb-ildn.tpr\", \"gmx_infiles/conf.gro\",\n",
    "                 refresh_offsets=True, tpr_resid_from_one=True)\n",
    "molecule = u.select_atoms('protein')\n",
    "pairs, triples, quadruples = generate_atomgroups_for_ic(molecule)"
   ]
  },
  {
   "cell_type": "code",
   "execution_count": 39,
   "metadata": {},
   "outputs": [
    {
     "name": "stdout",
     "output_type": "stream",
     "text": [
      "reference loss: 0.5808416058694286\n",
      "\n",
      "loss for idx 82:  0.6087804783063789\n",
      "cosinus of dihedral between <Atom 7: N of type N of resname ALA, resid 2 and segid seg_0_Protein_chain_A>, <Atom 9: CA of type CT of resname ALA, resid 2 and segid seg_0_Protein_chain_A>, <Atom 15: C of type C of resname ALA, resid 2 and segid seg_0_Protein_chain_A> and <Atom 17: N of type N of resname NME, resid 3 and segid seg_0_Protein_chain_A>.\n",
      "\n",
      "loss for idx 95:  0.5989009738599939\n",
      "sinus of dihedral between <Atom 11: CB of type CT of resname ALA, resid 2 and segid seg_0_Protein_chain_A>, <Atom 9: CA of type CT of resname ALA, resid 2 and segid seg_0_Protein_chain_A>, <Atom 15: C of type C of resname ALA, resid 2 and segid seg_0_Protein_chain_A> and <Atom 17: N of type N of resname NME, resid 3 and segid seg_0_Protein_chain_A>.\n",
      "\n",
      "loss for idx 64:  0.5886190511464239\n",
      "cosinus of dihedral between <Atom 3: HH32 of type HC of resname ACE, resid 1 and segid seg_0_Protein_chain_A>, <Atom 1: CH3 of type CT of resname ACE, resid 1 and segid seg_0_Protein_chain_A>, <Atom 5: C of type C of resname ACE, resid 1 and segid seg_0_Protein_chain_A> and <Atom 6: O of type O of resname ACE, resid 1 and segid seg_0_Protein_chain_A>.\n",
      "\n",
      "loss for idx 66:  0.5879429717971825\n",
      "cosinus of dihedral between <Atom 4: HH33 of type HC of resname ACE, resid 1 and segid seg_0_Protein_chain_A>, <Atom 1: CH3 of type CT of resname ACE, resid 1 and segid seg_0_Protein_chain_A>, <Atom 5: C of type C of resname ACE, resid 1 and segid seg_0_Protein_chain_A> and <Atom 6: O of type O of resname ACE, resid 1 and segid seg_0_Protein_chain_A>.\n",
      "\n",
      "loss for idx 94:  0.5870774213723217\n",
      "cosinus of dihedral between <Atom 10: HA of type H1 of resname ALA, resid 2 and segid seg_0_Protein_chain_A>, <Atom 9: CA of type CT of resname ALA, resid 2 and segid seg_0_Protein_chain_A>, <Atom 15: C of type C of resname ALA, resid 2 and segid seg_0_Protein_chain_A> and <Atom 16: O of type O of resname ALA, resid 2 and segid seg_0_Protein_chain_A>.\n",
      "\n",
      "loss for idx 93:  0.584477682270925\n",
      "sinus of dihedral between <Atom 10: HA of type H1 of resname ALA, resid 2 and segid seg_0_Protein_chain_A>, <Atom 9: CA of type CT of resname ALA, resid 2 and segid seg_0_Protein_chain_A>, <Atom 15: C of type C of resname ALA, resid 2 and segid seg_0_Protein_chain_A> and <Atom 16: O of type O of resname ALA, resid 2 and segid seg_0_Protein_chain_A>.\n",
      "\n",
      "loss for idx 59:  0.5840888364716568\n",
      "sinus of dihedral between <Atom 1: CH3 of type CT of resname ACE, resid 1 and segid seg_0_Protein_chain_A>, <Atom 5: C of type C of resname ACE, resid 1 and segid seg_0_Protein_chain_A>, <Atom 7: N of type N of resname ALA, resid 2 and segid seg_0_Protein_chain_A> and <Atom 9: CA of type CT of resname ALA, resid 2 and segid seg_0_Protein_chain_A>.\n",
      "\n",
      "loss for idx 73:  0.5833301016117918\n",
      "sinus of dihedral between <Atom 6: O of type O of resname ACE, resid 1 and segid seg_0_Protein_chain_A>, <Atom 5: C of type C of resname ACE, resid 1 and segid seg_0_Protein_chain_A>, <Atom 7: N of type N of resname ALA, resid 2 and segid seg_0_Protein_chain_A> and <Atom 9: CA of type CT of resname ALA, resid 2 and segid seg_0_Protein_chain_A>.\n",
      "\n",
      "loss for idx 62:  0.5826764307207969\n",
      "cosinus of dihedral between <Atom 2: HH31 of type HC of resname ACE, resid 1 and segid seg_0_Protein_chain_A>, <Atom 1: CH3 of type CT of resname ACE, resid 1 and segid seg_0_Protein_chain_A>, <Atom 5: C of type C of resname ACE, resid 1 and segid seg_0_Protein_chain_A> and <Atom 6: O of type O of resname ACE, resid 1 and segid seg_0_Protein_chain_A>.\n",
      "\n",
      "loss for idx 63:  0.5823532052638232\n",
      "sinus of dihedral between <Atom 3: HH32 of type HC of resname ACE, resid 1 and segid seg_0_Protein_chain_A>, <Atom 1: CH3 of type CT of resname ACE, resid 1 and segid seg_0_Protein_chain_A>, <Atom 5: C of type C of resname ACE, resid 1 and segid seg_0_Protein_chain_A> and <Atom 6: O of type O of resname ACE, resid 1 and segid seg_0_Protein_chain_A>.\n"
     ]
    }
   ],
   "source": [
    "# what are the most important contributors?\n",
    "max_idxs = np.argsort(loss_diffs)[::-1]\n",
    "sf_parms = {}\n",
    "\n",
    "#pairs, triples, quadruples = aimmd.coords.internal.generate_indices(traj.topology, source_idx=1)\n",
    "\n",
    "ic_parms = {\"pairs\": pairs, \"triples\": triples, \"quadruples\": quadruples}\n",
    "\n",
    "print('reference loss:', hipr_plus_losses[-1])\n",
    "for idx in max_idxs[:10]:\n",
    "    print()\n",
    "    print('loss for idx {:d}: '.format(idx), hipr_plus_losses[idx])\n",
    "    if idx < len(pairs[0]):\n",
    "        print(f\"bond between: {pairs[0][idx]} and {pairs[1][idx]}\")\n",
    "        continue\n",
    "    idx -= len(pairs[0])\n",
    "    if idx < len(triples[0]):\n",
    "        print(f\"angle between {triples[0][idx]}, {triples[1][idx]} and {triples[2][idx]}\")\n",
    "        continue\n",
    "    idx -= len(triples[0])\n",
    "    if idx % 2 == 0:\n",
    "        st = \"sinus\"\n",
    "    else:\n",
    "        st = \"cosinus\"\n",
    "    st += f\" of dihedral between {quadruples[0][idx // 2]}, {quadruples[1][idx // 2]}, {quadruples[2][idx // 2]} and {quadruples[3][idx // 2]}.\"\n",
    "    print(st)\n",
    "    #print(aimmd.coords.get_involved(idx, sf_parms=sf_parms, ic_parms=ic_parms, solvent_atoms=[['O', 'H']], solvent_resname=['HOH']))"
   ]
  },
  {
   "cell_type": "code",
   "execution_count": 62,
   "metadata": {},
   "outputs": [],
   "source": [
    "# save the last model\n",
    "storage.rcmodels[\"model_to_continue_with\"] = model\n",
    "storage.save_trainset(trainset)\n",
    "# the rest should be saved automatically\n",
    "# maybe we should save the model + trainset at the end of the simulation autmatically too?!"
   ]
  },
  {
   "cell_type": "code",
   "execution_count": 63,
   "metadata": {},
   "outputs": [],
   "source": [
    "storage.close()"
   ]
  },
  {
   "cell_type": "code",
   "execution_count": null,
   "metadata": {},
   "outputs": [],
   "source": []
  },
  {
   "cell_type": "code",
   "execution_count": null,
   "metadata": {},
   "outputs": [],
   "source": []
  },
  {
   "cell_type": "code",
   "execution_count": 68,
   "metadata": {},
   "outputs": [
    {
     "name": "stdout",
     "output_type": "stream",
     "text": [
      "/usr/local/gromacs-2020.4/bin/gmx\n"
     ]
    }
   ],
   "source": [
    "%%bash\n",
    "which gmx"
   ]
  },
  {
   "cell_type": "code",
   "execution_count": 69,
   "metadata": {},
   "outputs": [
    {
     "data": {
      "text/plain": [
       "(20, 107)"
      ]
     },
     "execution_count": 69,
     "metadata": {},
     "output_type": "execute_result"
    }
   ],
   "source": [
    "(await wrapped_transform(storage.central_memory[0][8].path)).shape"
   ]
  },
  {
   "cell_type": "code",
   "execution_count": 70,
   "metadata": {},
   "outputs": [
    {
     "name": "stdout",
     "output_type": "stream",
     "text": [
      "None\n",
      "False\n",
      "False\n",
      "<aimmd.distributed.pathmovers.TwoWayShootingPathMover object at 0x7f028248fb50>\n",
      "False\n",
      "False\n",
      "<aimmd.distributed.pathmovers.TwoWayShootingPathMover object at 0x7f0282dc9ac0>\n",
      "False\n",
      "False\n",
      "<aimmd.distributed.pathmovers.TwoWayShootingPathMover object at 0x7f02824739a0>\n",
      "False\n",
      "False\n",
      "<aimmd.distributed.pathmovers.TwoWayShootingPathMover object at 0x7f0282379a60>\n",
      "False\n",
      "False\n"
     ]
    }
   ],
   "source": [
    "for s in brain.storage.central_memory[0][:5]:\n",
    "    print(s.mover)\n",
    "    print(s.mover is brain.chains[0].movers[0])\n",
    "    print(s.mover == brain.chains[0].movers[0])"
   ]
  },
  {
   "cell_type": "code",
   "execution_count": null,
   "metadata": {},
   "outputs": [],
   "source": []
  },
  {
   "cell_type": "code",
   "execution_count": 61,
   "metadata": {},
   "outputs": [],
   "source": [
    "storage.close()"
   ]
  },
  {
   "cell_type": "code",
   "execution_count": null,
   "metadata": {},
   "outputs": [],
   "source": []
  }
 ],
 "metadata": {
  "kernelspec": {
   "display_name": "AIMMD nature publish (py3.7.3/June-2021)",
   "language": "python",
   "name": "aimmd_nature_publish"
  },
  "language_info": {
   "codemirror_mode": {
    "name": "ipython",
    "version": 3
   },
   "file_extension": ".py",
   "mimetype": "text/x-python",
   "name": "python",
   "nbconvert_exporter": "python",
   "pygments_lexer": "ipython3",
   "version": "3.8.10"
  }
 },
 "nbformat": 4,
 "nbformat_minor": 4
}
