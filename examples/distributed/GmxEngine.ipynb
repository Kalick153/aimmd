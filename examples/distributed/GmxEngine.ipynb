{
 "cells": [
  {
   "cell_type": "code",
   "execution_count": 1,
   "metadata": {},
   "outputs": [
    {
     "name": "stderr",
     "output_type": "stream",
     "text": [
      "Currently Loaded Modulefiles:\n",
      " 1) texlive/2019   2) anaconda/3_5.3.1   3) gromacs2020/2020.0(default)  \n"
     ]
    }
   ],
   "source": [
    "%%bash\n",
    "module list"
   ]
  },
  {
   "cell_type": "code",
   "execution_count": 2,
   "metadata": {},
   "outputs": [],
   "source": [
    "%matplotlib inline"
   ]
  },
  {
   "cell_type": "code",
   "execution_count": 3,
   "metadata": {},
   "outputs": [],
   "source": [
    "import os\n",
    "import asyncio\n",
    "import matplotlib.pyplot as plt\n",
    "import numpy as np\n",
    "import MDAnalysis as mda"
   ]
  },
  {
   "cell_type": "code",
   "execution_count": 4,
   "metadata": {},
   "outputs": [],
   "source": [
    "import aimmd\n",
    "import aimmd.distributed as aimmdd"
   ]
  },
  {
   "cell_type": "markdown",
   "metadata": {},
   "source": [
    "# GMX engine"
   ]
  },
  {
   "cell_type": "code",
   "execution_count": 5,
   "metadata": {},
   "outputs": [],
   "source": [
    "n_engines = 4"
   ]
  },
  {
   "cell_type": "code",
   "execution_count": 6,
   "metadata": {},
   "outputs": [],
   "source": [
    "scratch_dir = \"/home/tb/hejung/DATA/aimmd_scratch/aimmd_distributed/\"\n",
    "#scratch_dir = \"/home/think/scratch/aimmd_distributed/\"\n",
    "wdirs = [os.path.join(scratch_dir, f\"engine_wdir{i}\") for i in range(n_engines)]"
   ]
  },
  {
   "cell_type": "code",
   "execution_count": 7,
   "metadata": {},
   "outputs": [],
   "source": [
    "for d in wdirs:\n",
    "    if not os.path.isdir(d):\n",
    "        os.mkdir(d)"
   ]
  },
  {
   "cell_type": "markdown",
   "metadata": {},
   "source": [
    "## `GmxEngine` is a thin wrapper around gromacs\n",
    "- it has a `prepare()` method (which will call `grompp`) and multiple methods to then rujn the simulation, namely `run()`, `run_walltime()` and `run_nsteps()`"
   ]
  },
  {
   "cell_type": "code",
   "execution_count": 8,
   "metadata": {},
   "outputs": [],
   "source": [
    "engines = [aimmdd.GmxEngine(gro_file=os.path.join(scratch_dir, \"gmx_infiles/conf.gro\"),\n",
    "                            top_file=os.path.join(scratch_dir, \"gmx_infiles/topol.top\"),\n",
    "                            ndx_file=None,\n",
    "                            #mdrun_extra_args=\"-nt 2\",  # use this if your version of GMX is compiled with thread-MPI support\n",
    "                            mdrun_extra_args=\"-ntomp 2\",  # use this for GMX without thread-MPI support\n",
    "                            )\n",
    "           for _ in range(n_engines)]"
   ]
  },
  {
   "cell_type": "code",
   "execution_count": 9,
   "metadata": {},
   "outputs": [],
   "source": [
    "mdps = [aimmdd.MDP(os.path.join(scratch_dir, \"gmx_infiles/md.mdp\"))\n",
    "        for _ in range(n_engines)]"
   ]
  },
  {
   "cell_type": "code",
   "execution_count": 10,
   "metadata": {},
   "outputs": [
    {
     "data": {
      "text/plain": [
       "False"
      ]
     },
     "execution_count": 10,
     "metadata": {},
     "output_type": "execute_result"
    }
   ],
   "source": [
    "mdps[0].changed"
   ]
  },
  {
   "cell_type": "code",
   "execution_count": 11,
   "metadata": {},
   "outputs": [
    {
     "data": {
      "text/plain": [
       "{'title': ['test'], 'cpp': ['/lib/cpp'], 'include': ['-I../top'], 'define': [], 'integrator': ['md-vv'], 'dt': 0.002, 'nsteps': -1, 'nstxout': 10, 'nstvout': 10, 'nstlog': 10, 'nstenergy': 10, 'nstxout-compressed': 10, 'compressed-x-grps': ['Protein'], 'energygrps': ['Protein', 'SOL'], 'nstlist': 10, 'ns-type': ['grid'], 'cutoff-scheme': ['Verlet'], 'rlist': 1.1, 'coulombtype': ['PME'], 'rcoulomb': 1.1, 'rvdw': 1.1, 'tcoupl': ['Berendsen'], 'tc-grps': ['Protein', 'SOL'], 'tau-t': [0.1, 0.1], 'ref-t': [300.0, 300.0], 'Pcoupl': ['Berendsen'], 'tau-p': 1.0, 'compressibility': [4.5e-05], 'ref-p': [1.0], 'gen-vel': ['no'], 'gen-temp': 300.0, 'gen-seed': 173529, 'constraints': ['all-bonds']}"
      ]
     },
     "execution_count": 11,
     "metadata": {},
     "output_type": "execute_result"
    }
   ],
   "source": [
    "mdps[0]"
   ]
  },
  {
   "cell_type": "code",
   "execution_count": 12,
   "metadata": {},
   "outputs": [],
   "source": [
    "nsteps = 10\n",
    "for mdp in mdps:\n",
    "    mdp['nstvout'] = 10\n",
    "    mdp[\"nstxout\"] = 10"
   ]
  },
  {
   "cell_type": "code",
   "execution_count": 13,
   "metadata": {},
   "outputs": [
    {
     "data": {
      "text/plain": [
       "{'title': ['test'], 'cpp': ['/lib/cpp'], 'include': ['-I../top'], 'define': [], 'integrator': ['md-vv'], 'dt': 0.002, 'nsteps': -1, 'nstxout': 10, 'nstvout': 10, 'nstlog': 10, 'nstenergy': 10, 'nstxout-compressed': 10, 'compressed-x-grps': ['Protein'], 'energygrps': ['Protein', 'SOL'], 'nstlist': 10, 'ns-type': ['grid'], 'cutoff-scheme': ['Verlet'], 'rlist': 1.1, 'coulombtype': ['PME'], 'rcoulomb': 1.1, 'rvdw': 1.1, 'tcoupl': ['Berendsen'], 'tc-grps': ['Protein', 'SOL'], 'tau-t': [0.1, 0.1], 'ref-t': [300.0, 300.0], 'Pcoupl': ['Berendsen'], 'tau-p': 1.0, 'compressibility': [4.5e-05], 'ref-p': [1.0], 'gen-vel': ['no'], 'gen-temp': 300.0, 'gen-seed': 173529, 'constraints': ['all-bonds']}"
      ]
     },
     "execution_count": 13,
     "metadata": {},
     "output_type": "execute_result"
    }
   ],
   "source": [
    "mdps[0]"
   ]
  },
  {
   "cell_type": "code",
   "execution_count": 14,
   "metadata": {},
   "outputs": [
    {
     "data": {
      "text/plain": [
       "True"
      ]
     },
     "execution_count": 14,
     "metadata": {},
     "output_type": "execute_result"
    }
   ],
   "source": [
    "mdps[0].changed"
   ]
  },
  {
   "cell_type": "code",
   "execution_count": 15,
   "metadata": {},
   "outputs": [],
   "source": [
    "import time"
   ]
  },
  {
   "cell_type": "code",
   "execution_count": 16,
   "metadata": {},
   "outputs": [],
   "source": [
    "from state_funcs import descriptor_func\n",
    "\n",
    "descriptor_func_wrap = aimmdd.TrajectoryFunctionWrapper(descriptor_func, {\"scratch_dir\": scratch_dir})"
   ]
  },
  {
   "cell_type": "code",
   "execution_count": 17,
   "metadata": {},
   "outputs": [],
   "source": [
    "init_conf = aimmdd.Trajectory(trajectory_file=os.path.join(scratch_dir, \"gmx_infiles/conf.gro\"),\n",
    "                              structure_file=os.path.join(scratch_dir, \"gmx_infiles/conf.gro\"),\n",
    "                             )"
   ]
  },
  {
   "cell_type": "code",
   "execution_count": 18,
   "metadata": {},
   "outputs": [
    {
     "name": "stdout",
     "output_type": "stream",
     "text": [
      "[[-0.18253787 -1.3940568 ]]\n"
     ]
    }
   ],
   "source": [
    "cv = await descriptor_func_wrap(init_conf)\n",
    "print(cv)"
   ]
  },
  {
   "cell_type": "code",
   "execution_count": 19,
   "metadata": {},
   "outputs": [
    {
     "name": "stdout",
     "output_type": "stream",
     "text": [
      "time elapsed: 0.22010278701782227 s\n"
     ]
    }
   ],
   "source": [
    "start = time.time()\n",
    "await asyncio.gather(*(e.prepare(starting_configuration=None, workdir=wdir, deffnm=\"blib\", run_config=mdp)\n",
    "                               for e, wdir, mdp in zip(engines, wdirs, mdps)\n",
    "                               )\n",
    "                            )\n",
    "end = time.time()\n",
    "print(f\"time elapsed: {end-start} s\")"
   ]
  },
  {
   "cell_type": "code",
   "execution_count": 20,
   "metadata": {},
   "outputs": [
    {
     "name": "stdout",
     "output_type": "stream",
     "text": [
      "time elapsed: 36.62216305732727 s\n"
     ]
    },
    {
     "name": "stderr",
     "output_type": "stream",
     "text": [
      "/home/tb/hejung/.conda/envs/aimmd_nature_publish/lib/python3.8/site-packages/MDAnalysis/topology/tpr/utils.py:389: DeprecationWarning: TPR files index residues from 0. From MDAnalysis version 2.0, resids will start at 1 instead. If you wish to keep indexing resids from 0, please set `tpr_resid_from_one=False` as a keyword argument when you create a new Topology or Universe.\n",
      "  warnings.warn(\"TPR files index residues from 0. \"\n"
     ]
    }
   ],
   "source": [
    "walltime = 0.01 # 0.01 h = 36 s\n",
    "start = time.time()\n",
    "trajs = await asyncio.gather(*(e.run_walltime(walltime) for e in engines))\n",
    "end = time.time()\n",
    "print(f\"time elapsed: {end-start} s\")"
   ]
  },
  {
   "cell_type": "code",
   "execution_count": 21,
   "metadata": {},
   "outputs": [],
   "source": [
    "cv = await descriptor_func_wrap(trajs[0])"
   ]
  },
  {
   "cell_type": "code",
   "execution_count": 22,
   "metadata": {},
   "outputs": [
    {
     "data": {
      "text/plain": [
       "array([[-0.1878258 , -1.3769007 ],\n",
       "       [-0.17010452, -1.4815865 ],\n",
       "       [-0.18294656, -1.5012429 ],\n",
       "       ...,\n",
       "       [ 2.8240066 , -2.2837443 ],\n",
       "       [ 2.7247763 , -1.9952395 ],\n",
       "       [ 2.4271595 , -2.2134595 ]], dtype=float32)"
      ]
     },
     "execution_count": 22,
     "metadata": {},
     "output_type": "execute_result"
    }
   ],
   "source": [
    "cv"
   ]
  },
  {
   "cell_type": "code",
   "execution_count": 23,
   "metadata": {},
   "outputs": [
    {
     "name": "stdout",
     "output_type": "stream",
     "text": [
      "engine 0 did 4641 frames (== 46410 integration steps)\n",
      "engine 1 did 4681 frames (== 46810 integration steps)\n",
      "engine 2 did 4657 frames (== 46570 integration steps)\n",
      "engine 3 did 4665 frames (== 46650 integration steps)\n"
     ]
    }
   ],
   "source": [
    "for i, e in enumerate(engines):\n",
    "    print(f\"engine {i} did {e.frames_done} frames (== {e.steps_done} integration steps)\")"
   ]
  },
  {
   "cell_type": "code",
   "execution_count": 24,
   "metadata": {},
   "outputs": [
    {
     "name": "stdout",
     "output_type": "stream",
     "text": [
      "time elapsed: 0.790020227432251 s\n"
     ]
    },
    {
     "name": "stderr",
     "output_type": "stream",
     "text": [
      "/home/tb/hejung/.conda/envs/aimmd_nature_publish/lib/python3.8/site-packages/MDAnalysis/topology/tpr/utils.py:389: DeprecationWarning: TPR files index residues from 0. From MDAnalysis version 2.0, resids will start at 1 instead. If you wish to keep indexing resids from 0, please set `tpr_resid_from_one=False` as a keyword argument when you create a new Topology or Universe.\n",
      "  warnings.warn(\"TPR files index residues from 0. \"\n"
     ]
    }
   ],
   "source": [
    "start = time.time()\n",
    "trajs = await asyncio.gather(*(e.run_steps(nsteps) for e in engines))\n",
    "end = time.time()\n",
    "print(f\"time elapsed: {end-start} s\")"
   ]
  },
  {
   "cell_type": "code",
   "execution_count": 25,
   "metadata": {},
   "outputs": [],
   "source": [
    "cv = await descriptor_func_wrap(trajs[0])"
   ]
  },
  {
   "cell_type": "code",
   "execution_count": 26,
   "metadata": {},
   "outputs": [
    {
     "data": {
      "text/plain": [
       "array([[ 2.4271595, -2.2134595],\n",
       "       [ 2.5710735, -2.0945966]], dtype=float32)"
      ]
     },
     "execution_count": 26,
     "metadata": {},
     "output_type": "execute_result"
    }
   ],
   "source": [
    "cv"
   ]
  },
  {
   "cell_type": "code",
   "execution_count": 27,
   "metadata": {},
   "outputs": [
    {
     "data": {
      "text/plain": [
       "[Trajectory(trajectory_file=/home/tb/hejung/DATA/aimmd_scratch/aimmd_distributed/engine_wdir0/blib.part0002.trr, structure_file=/home/tb/hejung/DATA/aimmd_scratch/aimmd_distributed/engine_wdir0/blib.tpr),\n",
       " Trajectory(trajectory_file=/home/tb/hejung/DATA/aimmd_scratch/aimmd_distributed/engine_wdir1/blib.part0002.trr, structure_file=/home/tb/hejung/DATA/aimmd_scratch/aimmd_distributed/engine_wdir1/blib.tpr),\n",
       " Trajectory(trajectory_file=/home/tb/hejung/DATA/aimmd_scratch/aimmd_distributed/engine_wdir2/blib.part0002.trr, structure_file=/home/tb/hejung/DATA/aimmd_scratch/aimmd_distributed/engine_wdir2/blib.tpr),\n",
       " Trajectory(trajectory_file=/home/tb/hejung/DATA/aimmd_scratch/aimmd_distributed/engine_wdir3/blib.part0002.trr, structure_file=/home/tb/hejung/DATA/aimmd_scratch/aimmd_distributed/engine_wdir3/blib.tpr)]"
      ]
     },
     "execution_count": 27,
     "metadata": {},
     "output_type": "execute_result"
    }
   ],
   "source": [
    "trajs"
   ]
  },
  {
   "cell_type": "code",
   "execution_count": 28,
   "metadata": {},
   "outputs": [
    {
     "name": "stdout",
     "output_type": "stream",
     "text": [
      "engine 0 did 4643 frames (== 46430 integration steps)\n",
      "engine 1 did 4683 frames (== 46830 integration steps)\n",
      "engine 2 did 4659 frames (== 46590 integration steps)\n",
      "engine 3 did 4667 frames (== 46670 integration steps)\n"
     ]
    }
   ],
   "source": [
    "for i, e in enumerate(engines):\n",
    "    print(f\"engine {i} did {e.frames_done} frames (== {e.steps_done} integration steps)\")"
   ]
  },
  {
   "cell_type": "code",
   "execution_count": 29,
   "metadata": {},
   "outputs": [
    {
     "name": "stdout",
     "output_type": "stream",
     "text": [
      "time elapsed: 0.7662858963012695 s\n"
     ]
    },
    {
     "name": "stderr",
     "output_type": "stream",
     "text": [
      "/home/tb/hejung/.conda/envs/aimmd_nature_publish/lib/python3.8/site-packages/MDAnalysis/topology/tpr/utils.py:389: DeprecationWarning: TPR files index residues from 0. From MDAnalysis version 2.0, resids will start at 1 instead. If you wish to keep indexing resids from 0, please set `tpr_resid_from_one=False` as a keyword argument when you create a new Topology or Universe.\n",
      "  warnings.warn(\"TPR files index residues from 0. \"\n"
     ]
    }
   ],
   "source": [
    "start = time.time()\n",
    "trajs = await asyncio.gather(*(e.run_steps(nsteps) for e in engines))\n",
    "end = time.time()\n",
    "print(f\"time elapsed: {end-start} s\")"
   ]
  },
  {
   "cell_type": "code",
   "execution_count": 30,
   "metadata": {},
   "outputs": [
    {
     "name": "stdout",
     "output_type": "stream",
     "text": [
      "[[ 2.5710735 -2.0945964]\n",
      " [ 2.3945775 -2.0325277]]\n"
     ]
    }
   ],
   "source": [
    "cv = await descriptor_func_wrap(trajs[0])\n",
    "print(cv)"
   ]
  },
  {
   "cell_type": "code",
   "execution_count": 31,
   "metadata": {},
   "outputs": [
    {
     "name": "stdout",
     "output_type": "stream",
     "text": [
      "engine 0 did 4645 frames (== 46450 integration steps)\n",
      "engine 1 did 4685 frames (== 46850 integration steps)\n",
      "engine 2 did 4661 frames (== 46610 integration steps)\n",
      "engine 3 did 4669 frames (== 46690 integration steps)\n"
     ]
    }
   ],
   "source": [
    "for i, e in enumerate(engines):\n",
    "    print(f\"engine {i} did {e.frames_done} frames (== {e.steps_done} integration steps)\")"
   ]
  },
  {
   "cell_type": "code",
   "execution_count": 32,
   "metadata": {},
   "outputs": [
    {
     "data": {
      "text/plain": [
       "[Trajectory(trajectory_file=/home/tb/hejung/DATA/aimmd_scratch/aimmd_distributed/engine_wdir0/blib.part0003.trr, structure_file=/home/tb/hejung/DATA/aimmd_scratch/aimmd_distributed/engine_wdir0/blib.tpr),\n",
       " Trajectory(trajectory_file=/home/tb/hejung/DATA/aimmd_scratch/aimmd_distributed/engine_wdir1/blib.part0003.trr, structure_file=/home/tb/hejung/DATA/aimmd_scratch/aimmd_distributed/engine_wdir1/blib.tpr),\n",
       " Trajectory(trajectory_file=/home/tb/hejung/DATA/aimmd_scratch/aimmd_distributed/engine_wdir2/blib.part0003.trr, structure_file=/home/tb/hejung/DATA/aimmd_scratch/aimmd_distributed/engine_wdir2/blib.tpr),\n",
       " Trajectory(trajectory_file=/home/tb/hejung/DATA/aimmd_scratch/aimmd_distributed/engine_wdir3/blib.part0003.trr, structure_file=/home/tb/hejung/DATA/aimmd_scratch/aimmd_distributed/engine_wdir3/blib.tpr)]"
      ]
     },
     "execution_count": 32,
     "metadata": {},
     "output_type": "execute_result"
    }
   ],
   "source": [
    "trajs"
   ]
  },
  {
   "cell_type": "code",
   "execution_count": 33,
   "metadata": {},
   "outputs": [
    {
     "name": "stderr",
     "output_type": "stream",
     "text": [
      "/home/tb/hejung/.conda/envs/aimmd_nature_publish/lib/python3.8/site-packages/MDAnalysis/topology/tpr/utils.py:389: DeprecationWarning: TPR files index residues from 0. From MDAnalysis version 2.0, resids will start at 1 instead. If you wish to keep indexing resids from 0, please set `tpr_resid_from_one=False` as a keyword argument when you create a new Topology or Universe.\n",
      "  warnings.warn(\"TPR files index residues from 0. \"\n"
     ]
    },
    {
     "name": "stdout",
     "output_type": "stream",
     "text": [
      "time elapsed: 4.720812082290649 s\n"
     ]
    }
   ],
   "source": [
    "start = time.time()\n",
    "trajs = await asyncio.gather(*(e.run_walltime(0.001) for e in engines))\n",
    "end = time.time()\n",
    "print(f\"time elapsed: {end-start} s\")"
   ]
  },
  {
   "cell_type": "code",
   "execution_count": 34,
   "metadata": {
    "collapsed": true,
    "jupyter": {
     "outputs_hidden": true
    }
   },
   "outputs": [
    {
     "name": "stdout",
     "output_type": "stream",
     "text": [
      "[[ 2.3945775  -2.0325277 ]\n",
      " [ 2.3910885  -2.2671769 ]\n",
      " [ 2.3615117  -2.3732693 ]\n",
      " [ 2.4235663  -2.3129478 ]\n",
      " [ 2.5475566  -2.4553368 ]\n",
      " [ 2.567801   -2.400242  ]\n",
      " [ 2.5954676  -2.2265604 ]\n",
      " [ 2.623825   -2.2255142 ]\n",
      " [ 2.649412   -1.9096166 ]\n",
      " [ 2.468371   -1.8366671 ]\n",
      " [ 2.6026747  -1.7352847 ]\n",
      " [ 2.513448   -1.7282176 ]\n",
      " [ 2.5722501  -1.5727608 ]\n",
      " [ 2.5132236  -1.6647699 ]\n",
      " [ 2.671832   -1.444544  ]\n",
      " [ 2.5191677  -1.681522  ]\n",
      " [ 2.3569002  -1.5224135 ]\n",
      " [ 2.3022316  -1.5401325 ]\n",
      " [ 2.233673   -1.4627533 ]\n",
      " [ 2.1956456  -1.4051174 ]\n",
      " [ 2.1525352  -1.539607  ]\n",
      " [ 2.2531161  -1.6565682 ]\n",
      " [ 2.3814673  -1.6567446 ]\n",
      " [ 2.315785   -1.7186005 ]\n",
      " [ 2.5640042  -1.655767  ]\n",
      " [ 2.5357387  -1.5369643 ]\n",
      " [ 2.4836342  -1.4092546 ]\n",
      " [ 2.335542   -1.0997005 ]\n",
      " [ 2.3812332  -1.2199554 ]\n",
      " [ 2.3796494  -0.8874421 ]\n",
      " [ 2.4164553  -0.79592717]\n",
      " [ 2.555467   -0.7238861 ]\n",
      " [ 2.5956905  -0.8321967 ]\n",
      " [ 2.5072677  -0.66387117]\n",
      " [ 2.544372   -0.89377475]\n",
      " [ 2.5300014  -0.9704819 ]\n",
      " [ 2.5675106  -1.0239073 ]\n",
      " [ 2.3221471  -1.0347627 ]\n",
      " [ 2.4346733  -0.9511172 ]\n",
      " [ 2.420751   -1.0963542 ]\n",
      " [ 2.350055   -1.2365873 ]\n",
      " [ 2.427626   -1.3351138 ]\n",
      " [ 2.4242404  -1.4490737 ]\n",
      " [ 2.59092    -1.6314232 ]\n",
      " [ 2.6072025  -1.4812723 ]\n",
      " [ 2.611761   -1.6228527 ]\n",
      " [ 2.6533113  -1.3304608 ]\n",
      " [ 2.5770402  -1.1936961 ]\n",
      " [ 2.6818268  -1.2330613 ]\n",
      " [ 2.7189145  -1.0975026 ]\n",
      " [ 2.8995066  -1.062472  ]\n",
      " [ 2.7153277  -0.7561951 ]\n",
      " [ 2.8696177  -0.71201164]\n",
      " [ 2.9903705  -0.9092682 ]\n",
      " [ 2.9504077  -1.0795482 ]\n",
      " [ 2.7581966  -0.9052285 ]\n",
      " [ 2.6735501  -1.0146717 ]\n",
      " [ 2.8219867  -1.1803036 ]\n",
      " [ 2.8102956  -1.0338104 ]\n",
      " [ 2.8366516  -1.2104088 ]\n",
      " [ 2.9667788  -1.0749224 ]\n",
      " [ 2.8842468  -1.0071452 ]\n",
      " [ 2.8821442  -1.1566361 ]\n",
      " [ 2.8024738  -1.0168768 ]\n",
      " [ 2.8374133  -0.9873228 ]\n",
      " [ 2.8057005  -1.1210982 ]\n",
      " [ 2.6078606  -1.0086756 ]\n",
      " [ 2.756925   -1.1927702 ]\n",
      " [ 2.7232275  -1.3491001 ]\n",
      " [ 2.7437654  -1.0758429 ]\n",
      " [ 2.713125   -1.1567047 ]\n",
      " [ 2.6992462  -1.0582287 ]\n",
      " [ 2.7685823  -1.1992451 ]\n",
      " [ 2.732523   -1.1151372 ]\n",
      " [ 2.8249624  -1.1691507 ]\n",
      " [ 2.784034   -0.98982024]\n",
      " [ 2.7174401  -1.076413  ]\n",
      " [ 2.768457   -0.92383623]\n",
      " [ 2.7504132  -0.942247  ]\n",
      " [ 2.8373818  -1.0354769 ]\n",
      " [ 2.7633052  -1.1607285 ]\n",
      " [ 2.804884   -1.3759786 ]\n",
      " [ 2.8132806  -1.3864437 ]\n",
      " [ 2.736342   -1.4062494 ]\n",
      " [ 2.6612115  -1.2157768 ]\n",
      " [ 2.5193012  -1.2537711 ]\n",
      " [ 2.662566   -1.1021786 ]\n",
      " [ 2.5395646  -1.0405328 ]\n",
      " [ 2.555943   -0.77345866]\n",
      " [ 2.643154   -0.9877915 ]\n",
      " [ 2.7289655  -0.97520894]\n",
      " [ 2.704529   -1.0702946 ]\n",
      " [ 2.7309108  -0.9883639 ]\n",
      " [ 2.653952   -1.0311995 ]\n",
      " [ 2.7625446  -1.180603  ]\n",
      " [ 2.583857   -1.0568275 ]\n",
      " [ 2.6964629  -0.9661262 ]\n",
      " [ 2.6628752  -1.0201207 ]\n",
      " [ 2.721882   -0.9884167 ]\n",
      " [ 2.7244058  -1.1145983 ]\n",
      " [ 2.775615   -1.1341474 ]\n",
      " [ 2.7972548  -0.9852296 ]\n",
      " [ 2.772035   -1.1904504 ]\n",
      " [ 2.77525    -1.2516866 ]\n",
      " [ 2.7293384  -1.0841566 ]\n",
      " [ 2.801028   -1.1501486 ]\n",
      " [ 2.7468078  -1.0750141 ]\n",
      " [ 2.7014368  -1.0203395 ]\n",
      " [ 2.6798222  -1.1765274 ]\n",
      " [ 2.7381132  -0.9593731 ]\n",
      " [ 2.6258845  -0.89338416]\n",
      " [ 2.741116   -1.2220912 ]\n",
      " [ 2.6702244  -1.1639879 ]\n",
      " [ 2.7101638  -1.2955741 ]\n",
      " [ 2.7944112  -1.2612274 ]\n",
      " [ 2.7367957  -1.06485   ]\n",
      " [ 2.708731   -1.1596855 ]\n",
      " [ 2.721308   -1.1658368 ]\n",
      " [ 2.6815453  -1.0037657 ]\n",
      " [ 2.6122923  -1.0184197 ]\n",
      " [ 2.6637876  -1.0060282 ]\n",
      " [ 2.6453967  -0.9792561 ]\n",
      " [ 2.7517138  -1.1889393 ]\n",
      " [ 2.6969006  -1.0717604 ]\n",
      " [ 2.6411128  -1.1500683 ]\n",
      " [ 2.6793482  -1.2377758 ]\n",
      " [ 2.7074316  -1.1042435 ]\n",
      " [ 2.6239665  -1.0601863 ]\n",
      " [ 2.6788938  -1.0827806 ]\n",
      " [ 2.5560904  -0.9044877 ]\n",
      " [ 2.5580275  -1.1906633 ]\n",
      " [ 2.4177551  -0.9622434 ]\n",
      " [ 2.2221842  -0.7386005 ]\n",
      " [ 2.146695   -0.94106156]\n",
      " [ 2.1556747  -0.91553295]\n",
      " [ 1.9513224  -0.8666487 ]\n",
      " [ 2.0508294  -1.1336865 ]\n",
      " [ 1.960809   -1.0981259 ]\n",
      " [ 2.0004842  -1.4338756 ]\n",
      " [ 1.9222251  -1.607037  ]\n",
      " [ 2.0109549  -1.4455333 ]\n",
      " [ 1.9640174  -1.4974369 ]\n",
      " [ 2.0881286  -1.3830345 ]\n",
      " [ 2.0290868  -1.3651009 ]\n",
      " [ 1.9582059  -1.3456125 ]\n",
      " [ 2.0236387  -1.1808423 ]\n",
      " [ 2.0691946  -1.0652221 ]\n",
      " [ 2.0404124  -1.1369401 ]\n",
      " [ 2.037674   -0.99808365]\n",
      " [ 2.0681596  -1.1287849 ]\n",
      " [ 1.9820889  -0.9201159 ]\n",
      " [ 1.9503633  -0.93907475]\n",
      " [ 1.9227309  -1.0398353 ]\n",
      " [ 2.0093613  -1.0604459 ]\n",
      " [ 1.9826202  -1.0849    ]\n",
      " [ 2.026753   -1.1347932 ]\n",
      " [ 2.0187922  -1.1190234 ]\n",
      " [ 2.1448534  -1.1594722 ]\n",
      " [ 2.0462737  -1.2900444 ]\n",
      " [ 2.2555757  -1.1498665 ]\n",
      " [ 2.1770797  -1.1960533 ]\n",
      " [ 2.3443646  -1.0228347 ]\n",
      " [ 2.321472   -0.998859  ]\n",
      " [ 2.4290876  -0.9798879 ]\n",
      " [ 2.3466337  -0.8961303 ]\n",
      " [ 2.542336   -0.91438925]\n",
      " [ 2.5689588  -1.189876  ]\n",
      " [ 2.594177   -1.1453388 ]\n",
      " [ 2.5372849  -1.3486636 ]\n",
      " [ 2.4949546  -1.3432187 ]\n",
      " [ 2.6278138  -1.3062599 ]\n",
      " [ 2.6007745  -1.4450963 ]\n",
      " [ 2.7215385  -1.4036732 ]\n",
      " [ 2.8466253  -1.3143146 ]\n",
      " [ 3.0423908  -1.5176264 ]\n",
      " [ 3.055678   -1.3548958 ]\n",
      " [ 3.0693867  -1.325484  ]\n",
      " [-3.0494945  -1.4655522 ]\n",
      " [-2.9681158  -1.1739296 ]\n",
      " [ 3.0551636  -1.2163931 ]\n",
      " [ 2.991234   -0.9393614 ]\n",
      " [ 2.8612058  -1.0750511 ]\n",
      " [ 2.934917   -1.0145118 ]\n",
      " [ 2.7219782  -1.0808431 ]\n",
      " [ 2.7154214  -0.8629387 ]\n",
      " [ 2.7943952  -1.2131362 ]\n",
      " [ 2.708786   -1.0128126 ]\n",
      " [ 2.6271708  -1.0179298 ]\n",
      " [ 2.6865351  -1.125577  ]\n",
      " [ 2.6972122  -1.2388914 ]\n",
      " [ 2.5633662  -1.1811682 ]\n",
      " [ 2.580494   -1.4874853 ]\n",
      " [ 2.630824   -1.2713361 ]\n",
      " [ 2.5755384  -1.2766936 ]\n",
      " [ 2.4962156  -1.506174  ]\n",
      " [ 2.50319    -1.1882544 ]\n",
      " [ 2.412229   -1.3405852 ]\n",
      " [ 2.4546385  -1.0505358 ]\n",
      " [ 2.4198885  -1.0010134 ]\n",
      " [ 2.5141323  -1.108306  ]\n",
      " [ 2.462094   -1.0724493 ]\n",
      " [ 2.3801637  -0.93780226]\n",
      " [ 2.5168593  -1.1789532 ]\n",
      " [ 2.443955   -1.0257008 ]\n",
      " [ 2.2185128  -1.0155524 ]\n",
      " [ 2.1873043  -1.1003945 ]\n",
      " [ 2.112438   -0.9755429 ]\n",
      " [ 2.0475764  -1.106182  ]\n",
      " [ 1.9668741  -1.126522  ]\n",
      " [ 1.9932109  -1.3071609 ]\n",
      " [ 1.9260538  -1.3573623 ]\n",
      " [ 1.8566635  -1.4946625 ]\n",
      " [ 1.794826   -1.3346686 ]\n",
      " [ 1.9615355  -1.4796013 ]\n",
      " [ 1.9190751  -1.4010351 ]\n",
      " [ 1.8430218  -1.3335155 ]\n",
      " [ 1.9636053  -1.3035986 ]\n",
      " [ 2.145879   -1.3073373 ]\n",
      " [ 2.0264668  -1.2222824 ]\n",
      " [ 2.0932603  -1.1171181 ]\n",
      " [ 2.2187936  -1.2546477 ]\n",
      " [ 2.1873598  -1.0632763 ]\n",
      " [ 2.0689754  -1.0927017 ]\n",
      " [ 2.2353516  -1.0451066 ]\n",
      " [ 2.1174102  -1.1205534 ]\n",
      " [ 2.2470345  -1.122738  ]\n",
      " [ 2.1145854  -1.1701123 ]\n",
      " [ 2.2547421  -1.245583  ]\n",
      " [ 2.2944632  -1.2257304 ]\n",
      " [ 2.2576842  -1.2847784 ]\n",
      " [ 2.3401728  -1.1880571 ]\n",
      " [ 2.3967938  -1.1422032 ]\n",
      " [ 2.3907895  -1.0911758 ]\n",
      " [ 2.3750465  -0.9535347 ]\n",
      " [ 2.5260367  -0.96436644]\n",
      " [ 2.616563   -1.1779139 ]\n",
      " [ 2.535684   -1.064443  ]\n",
      " [ 2.5389435  -1.2367342 ]\n",
      " [ 2.5859733  -1.0405966 ]\n",
      " [ 2.4822986  -1.2129254 ]\n",
      " [ 2.5593402  -1.3116559 ]\n",
      " [ 2.4258032  -1.439615  ]\n",
      " [ 2.6158602  -1.2299054 ]\n",
      " [ 2.5068989  -1.3648707 ]\n",
      " [ 2.5856342  -1.350886  ]\n",
      " [ 2.6233885  -1.3243872 ]\n",
      " [ 2.7094228  -1.3145015 ]\n",
      " [ 2.644254   -0.9767579 ]\n",
      " [ 2.7090073  -1.1121521 ]\n",
      " [ 2.7530394  -1.1905841 ]\n",
      " [ 2.784395   -1.0247507 ]\n",
      " [ 2.5811589  -0.909846  ]\n",
      " [ 2.6528351  -0.9299518 ]\n",
      " [ 2.5930562  -1.1828552 ]\n",
      " [ 2.4776776  -1.4190975 ]\n",
      " [ 2.527515   -1.2957307 ]\n",
      " [ 2.570658   -1.4300774 ]\n",
      " [ 2.5217102  -1.5098017 ]\n",
      " [ 2.437296   -1.2949661 ]\n",
      " [ 2.4194531  -1.3448833 ]\n",
      " [ 2.267255   -1.1086211 ]\n",
      " [ 2.2456596  -1.1365124 ]\n",
      " [ 2.1423063  -1.2532123 ]\n",
      " [ 2.1601677  -1.1285774 ]\n",
      " [ 2.0010786  -0.9786296 ]\n",
      " [ 2.001244   -0.86090684]\n",
      " [ 2.090582   -0.8778746 ]\n",
      " [ 2.2133007  -1.1136242 ]\n",
      " [ 2.089878   -1.0989215 ]\n",
      " [ 2.207516   -1.1038122 ]\n",
      " [ 2.2183704  -1.235776  ]\n",
      " [ 2.208736   -1.3163875 ]\n",
      " [ 2.3023942  -1.5178331 ]\n",
      " [ 2.364954   -1.6068503 ]\n",
      " [ 2.43758    -1.6464189 ]\n",
      " [ 2.393664   -1.5013022 ]\n",
      " [ 2.3767948  -1.6000289 ]\n",
      " [ 2.5563731  -1.64072   ]\n",
      " [ 2.5278873  -1.4801251 ]\n",
      " [ 2.3647187  -1.3500931 ]\n",
      " [ 2.6038578  -1.219883  ]\n",
      " [ 2.5843441  -1.1073623 ]\n",
      " [ 2.6527016  -1.0888709 ]\n",
      " [ 2.717948   -0.997534  ]\n",
      " [ 2.827455   -0.97568303]\n",
      " [ 2.7231157  -1.1785862 ]\n",
      " [ 2.7129424  -1.1096423 ]\n",
      " [ 2.7945848  -1.3749709 ]\n",
      " [ 2.849534   -1.2778332 ]\n",
      " [ 2.7219431  -1.2239747 ]\n",
      " [ 2.6067038  -1.4641415 ]\n",
      " [ 2.6823282  -1.5923896 ]\n",
      " [ 2.5155122  -1.5922244 ]\n",
      " [ 2.4140196  -1.6705421 ]\n",
      " [ 2.429195   -1.5488245 ]\n",
      " [ 2.5643804  -1.4114338 ]\n",
      " [ 2.5831296  -1.4288276 ]\n",
      " [ 2.6648378  -1.1401389 ]\n",
      " [ 2.7109709  -1.1097198 ]\n",
      " [ 2.6866064  -1.0574799 ]\n",
      " [ 2.616667   -0.9478147 ]\n",
      " [ 2.618206   -0.7340636 ]\n",
      " [ 2.6170948  -0.923341  ]\n",
      " [ 2.5924735  -0.8694964 ]\n",
      " [ 2.4785497  -1.0613755 ]\n",
      " [ 2.431926   -1.2711477 ]\n",
      " [ 2.5249712  -1.1367836 ]\n",
      " [ 2.368118   -1.2956338 ]\n",
      " [ 2.4371796  -1.3442699 ]\n",
      " [ 2.4928355  -1.31894   ]\n",
      " [ 2.45887    -1.3792752 ]\n",
      " [ 2.4423542  -1.3634634 ]\n",
      " [ 2.3502827  -1.2960616 ]\n",
      " [ 2.2413049  -1.3839265 ]\n",
      " [ 2.3489163  -1.0936308 ]\n",
      " [ 2.2646418  -0.92448276]\n",
      " [ 2.4761941  -0.9196673 ]\n",
      " [ 2.5293527  -0.9376028 ]\n",
      " [ 2.5328236  -1.0468029 ]\n",
      " [ 2.5616362  -1.1298478 ]\n",
      " [ 2.7604392  -1.2617574 ]\n",
      " [ 2.7863512  -1.3348978 ]\n",
      " [ 2.6224658  -1.2681756 ]\n",
      " [ 2.5969095  -1.2009991 ]\n",
      " [ 2.5353103  -1.2847319 ]\n",
      " [ 2.4362397  -1.1437426 ]\n",
      " [ 2.244507   -1.1352063 ]\n",
      " [ 2.2559462  -1.0800961 ]\n",
      " [ 2.2803118  -1.0744265 ]\n",
      " [ 2.2599916  -1.0444765 ]\n",
      " [ 2.2350984  -1.1821253 ]\n",
      " [ 2.3301277  -1.1352549 ]\n",
      " [ 2.3609014  -1.2070348 ]\n",
      " [ 2.5049374  -1.3363558 ]\n",
      " [ 2.395146   -1.1949925 ]\n",
      " [ 2.4878967  -1.1713445 ]\n",
      " [ 2.4781694  -1.2638553 ]\n",
      " [ 2.5862617  -1.1196877 ]\n",
      " [ 2.651084   -1.1237671 ]\n",
      " [ 2.7385058  -1.2291708 ]\n",
      " [ 2.680865   -1.080898  ]\n",
      " [ 2.7727287  -1.2982582 ]\n",
      " [ 2.8135374  -1.3805707 ]\n",
      " [ 2.903524   -1.1973366 ]\n",
      " [ 2.903182   -1.5638752 ]\n",
      " [ 2.97165    -1.3780404 ]\n",
      " [ 2.8885002  -1.453351  ]\n",
      " [ 2.8197362  -1.4273978 ]\n",
      " [ 2.8267848  -1.4018519 ]\n",
      " [ 2.894964   -1.2461851 ]\n",
      " [ 2.879588   -1.3770678 ]\n",
      " [ 2.8093252  -1.0221058 ]\n",
      " [ 2.7086089  -1.0731665 ]\n",
      " [ 2.8615468  -1.4206948 ]\n",
      " [ 2.810819   -1.2084916 ]\n",
      " [ 2.7242935  -1.5402077 ]\n",
      " [ 2.7564125  -1.5472814 ]\n",
      " [ 2.7886128  -1.6597961 ]\n",
      " [ 2.922318   -1.7098247 ]\n",
      " [ 2.8526883  -1.8205496 ]\n",
      " [ 2.993745   -1.7081724 ]\n",
      " [ 2.9336417  -1.9182253 ]\n",
      " [ 3.0238917  -2.0173454 ]\n",
      " [ 2.9082565  -2.0593696 ]\n",
      " [ 2.9625657  -2.2517288 ]\n",
      " [ 2.9861348  -2.3579187 ]\n",
      " [ 2.950793   -2.2624936 ]\n",
      " [ 2.9224231  -2.4725294 ]\n",
      " [ 3.0491974  -2.43255   ]\n",
      " [ 3.006079   -2.4325805 ]\n",
      " [ 2.802253   -2.396047  ]\n",
      " [ 2.7754278  -2.3228    ]\n",
      " [ 2.7864013  -2.30683   ]\n",
      " [ 2.8527102  -2.282088  ]\n",
      " [ 2.616193   -2.4213557 ]\n",
      " [ 2.6182618  -2.4168694 ]\n",
      " [ 2.5354815  -2.592034  ]\n",
      " [ 2.4461534  -2.6154587 ]\n",
      " [ 2.290464   -2.812374  ]\n",
      " [ 2.35218    -2.826076  ]\n",
      " [ 2.3402343  -2.8360784 ]\n",
      " [ 2.3487754  -2.7821016 ]\n",
      " [ 2.25856    -2.7636733 ]\n",
      " [ 2.373972   -2.6323447 ]\n",
      " [ 2.5019107  -2.5424738 ]\n",
      " [ 2.5356767  -2.4005458 ]\n",
      " [ 2.554295   -2.2993655 ]\n",
      " [ 2.7617557  -2.351202  ]\n",
      " [ 2.717644   -2.3005972 ]\n",
      " [ 2.7660232  -2.4168084 ]\n",
      " [ 2.8527784  -2.3140557 ]\n",
      " [ 2.8572764  -2.2955294 ]\n",
      " [ 3.025662   -2.1245193 ]\n",
      " [ 2.9116185  -2.259243  ]\n",
      " [ 2.8807936  -2.0204535 ]\n",
      " [ 2.7180138  -2.2277143 ]\n",
      " [ 2.83308    -2.092362  ]\n",
      " [ 2.7178087  -1.9823048 ]\n",
      " [ 2.7579913  -2.0498147 ]\n",
      " [ 2.6425893  -2.0640404 ]\n",
      " [ 2.7189193  -2.0520077 ]\n",
      " [ 2.706372   -2.1341944 ]\n",
      " [ 2.735064   -2.0006588 ]\n",
      " [ 2.5100257  -2.0826936 ]\n",
      " [ 2.6815834  -2.0396461 ]\n",
      " [ 2.57544    -1.909686  ]\n",
      " [ 2.532315   -1.779524  ]\n",
      " [ 2.7187526  -1.7447976 ]\n",
      " [ 2.8195221  -1.7170976 ]\n",
      " [ 2.9992378  -1.751988  ]\n",
      " [ 2.8355827  -1.7698989 ]\n",
      " [ 2.9339418  -1.8072394 ]\n",
      " [ 2.949983   -2.0917206 ]\n",
      " [ 2.8516753  -1.9898124 ]\n",
      " [ 2.5888476  -1.9431344 ]\n",
      " [ 2.623954   -2.0087934 ]\n",
      " [ 2.6806011  -2.0460289 ]\n",
      " [ 2.6927404  -2.0123332 ]\n",
      " [ 2.7875001  -2.246569  ]\n",
      " [ 2.722549   -2.0690188 ]\n",
      " [ 2.7164733  -2.3524628 ]\n",
      " [ 2.7203636  -2.552013  ]\n",
      " [ 2.7434895  -2.45362   ]\n",
      " [ 2.7043934  -2.3587623 ]\n",
      " [ 2.6234882  -2.2830405 ]\n",
      " [ 2.642363   -2.1652155 ]\n",
      " [ 2.6543708  -2.2602918 ]\n",
      " [ 2.6678216  -2.1496468 ]\n",
      " [ 2.4660003  -2.0055776 ]\n",
      " [ 2.6665423  -2.1578188 ]\n",
      " [ 2.7899535  -2.1432114 ]\n",
      " [ 2.6843965  -2.337468  ]\n",
      " [ 2.7424908  -2.2326953 ]\n",
      " [ 2.7469006  -2.3392715 ]\n",
      " [ 2.890688   -2.2915857 ]\n",
      " [ 2.8096633  -2.3647022 ]\n",
      " [ 2.8255727  -2.2656372 ]\n",
      " [ 2.787767   -2.357433  ]\n",
      " [ 2.765091   -2.5110526 ]\n",
      " [ 2.7419064  -2.4349434 ]\n",
      " [ 2.850875   -2.646     ]\n",
      " [ 2.8229716  -2.658898  ]\n",
      " [ 2.8548183  -2.6154528 ]\n",
      " [ 2.9368346  -2.600545  ]\n",
      " [ 3.1065474  -2.5621984 ]\n",
      " [ 3.0179086  -2.404346  ]\n",
      " [ 2.8181016  -2.5326312 ]\n",
      " [ 2.9741235  -2.448795  ]\n",
      " [ 2.7937086  -2.6402128 ]\n",
      " [ 2.9158494  -2.5633602 ]\n",
      " [ 2.7819796  -2.6631024 ]\n",
      " [ 2.9011316  -2.6277678 ]\n",
      " [ 2.9041748  -2.5896387 ]\n",
      " [ 2.7815642  -2.6253731 ]\n",
      " [ 2.7459967  -2.534712  ]\n",
      " [ 2.7643566  -2.4919674 ]\n",
      " [ 2.7441266  -2.588858  ]\n",
      " [ 2.815786   -2.5280366 ]\n",
      " [ 2.8793573  -2.5027876 ]\n",
      " [ 2.938762   -2.4399593 ]\n",
      " [ 2.797063   -2.3999238 ]\n",
      " [ 2.8064058  -2.2518191 ]\n",
      " [ 2.7343185  -2.2722452 ]\n",
      " [ 2.6922364  -1.9532832 ]\n",
      " [ 2.5926566  -1.9555638 ]\n",
      " [ 2.5282333  -1.9127759 ]\n",
      " [ 2.5885568  -2.0084672 ]\n",
      " [ 2.5016775  -2.0098777 ]\n",
      " [ 2.4516978  -2.1119654 ]\n",
      " [ 2.6326594  -2.0389104 ]\n",
      " [ 2.652024   -2.2183588 ]\n",
      " [ 2.6595993  -2.125982  ]\n",
      " [ 2.457599   -2.2200155 ]\n",
      " [ 2.6501608  -2.2008703 ]\n",
      " [ 2.4489207  -2.3163033 ]\n",
      " [ 2.5272503  -2.3505893 ]\n",
      " [ 2.599636   -2.2844195 ]\n",
      " [ 2.513997   -2.3409548 ]\n",
      " [ 2.6681943  -2.2446728 ]]\n"
     ]
    }
   ],
   "source": [
    "cv = await descriptor_func_wrap(trajs[0])\n",
    "print(cv)"
   ]
  },
  {
   "cell_type": "code",
   "execution_count": 35,
   "metadata": {},
   "outputs": [
    {
     "name": "stdout",
     "output_type": "stream",
     "text": [
      "engine 0 did 5124 frames (== 51240 integration steps)\n",
      "engine 1 did 5164 frames (== 51640 integration steps)\n",
      "engine 2 did 5148 frames (== 51480 integration steps)\n",
      "engine 3 did 5140 frames (== 51400 integration steps)\n"
     ]
    }
   ],
   "source": [
    "for i, e in enumerate(engines):\n",
    "    print(f\"engine {i} did {e.frames_done} frames (== {e.steps_done} integration steps)\")"
   ]
  },
  {
   "cell_type": "code",
   "execution_count": 36,
   "metadata": {},
   "outputs": [
    {
     "data": {
      "text/plain": [
       "[Trajectory(trajectory_file=/home/tb/hejung/DATA/aimmd_scratch/aimmd_distributed/engine_wdir0/blib.part0004.trr, structure_file=/home/tb/hejung/DATA/aimmd_scratch/aimmd_distributed/engine_wdir0/blib.tpr),\n",
       " Trajectory(trajectory_file=/home/tb/hejung/DATA/aimmd_scratch/aimmd_distributed/engine_wdir1/blib.part0004.trr, structure_file=/home/tb/hejung/DATA/aimmd_scratch/aimmd_distributed/engine_wdir1/blib.tpr),\n",
       " Trajectory(trajectory_file=/home/tb/hejung/DATA/aimmd_scratch/aimmd_distributed/engine_wdir2/blib.part0004.trr, structure_file=/home/tb/hejung/DATA/aimmd_scratch/aimmd_distributed/engine_wdir2/blib.tpr),\n",
       " Trajectory(trajectory_file=/home/tb/hejung/DATA/aimmd_scratch/aimmd_distributed/engine_wdir3/blib.part0004.trr, structure_file=/home/tb/hejung/DATA/aimmd_scratch/aimmd_distributed/engine_wdir3/blib.tpr)]"
      ]
     },
     "execution_count": 36,
     "metadata": {},
     "output_type": "execute_result"
    }
   ],
   "source": [
    "trajs"
   ]
  },
  {
   "cell_type": "code",
   "execution_count": 37,
   "metadata": {
    "collapsed": true,
    "jupyter": {
     "outputs_hidden": true
    }
   },
   "outputs": [
    {
     "name": "stderr",
     "output_type": "stream",
     "text": [
      "/home/tb/hejung/.conda/envs/aimmd_nature_publish/lib/python3.8/site-packages/MDAnalysis/topology/tpr/utils.py:389: DeprecationWarning: TPR files index residues from 0. From MDAnalysis version 2.0, resids will start at 1 instead. If you wish to keep indexing resids from 0, please set `tpr_resid_from_one=False` as a keyword argument when you create a new Topology or Universe.\n",
      "  warnings.warn(\"TPR files index residues from 0. \"\n"
     ]
    },
    {
     "name": "stdout",
     "output_type": "stream",
     "text": [
      "time elapsed: 4.883956432342529 s\n",
      "[[ 2.6681943 -2.2446728]\n",
      " [ 2.6045394 -2.4662628]\n",
      " [ 2.873476  -2.324785 ]\n",
      " [ 2.8481727 -2.5032377]\n",
      " [ 2.8765519 -2.5411007]\n",
      " [ 2.7910988 -2.7878742]\n",
      " [ 2.8802383 -2.7731965]\n",
      " [ 2.6948845 -2.8651009]\n",
      " [ 2.472711  -2.8413522]\n",
      " [ 2.741218  -2.6945524]\n",
      " [ 2.549266  -2.7335606]\n",
      " [ 2.5383697 -2.4799852]\n",
      " [ 2.3854725 -2.4640412]\n",
      " [ 2.5161483 -2.4841807]\n",
      " [ 2.5390546 -2.4534662]\n",
      " [ 2.32028   -2.4504645]\n",
      " [ 2.3559737 -2.4193985]\n",
      " [ 2.333851  -2.4160051]\n",
      " [ 2.4338362 -2.475049 ]\n",
      " [ 2.1698303 -2.4636521]\n",
      " [ 2.383569  -2.5075831]\n",
      " [ 2.3505597 -2.5850449]\n",
      " [ 2.4076676 -2.4655786]\n",
      " [ 2.4298906 -2.517302 ]\n",
      " [ 2.3757548 -2.533818 ]\n",
      " [ 2.4757364 -2.4985774]\n",
      " [ 2.4180355 -2.5655484]\n",
      " [ 2.2659185 -2.6809478]\n",
      " [ 2.3155901 -2.5545135]\n",
      " [ 2.1110039 -2.6770852]\n",
      " [ 1.9676117 -2.6677158]\n",
      " [ 1.8957089 -2.7942305]\n",
      " [ 1.9024585 -2.7301328]\n",
      " [ 1.948929  -2.5294135]\n",
      " [ 2.0167813 -2.6652255]\n",
      " [ 2.0865476 -2.6814916]\n",
      " [ 2.0461433 -2.7087066]\n",
      " [ 2.2720623 -2.661086 ]\n",
      " [ 2.380312  -2.576458 ]\n",
      " [ 2.5624483 -2.6263316]\n",
      " [ 2.6857939 -2.8295221]\n",
      " [ 2.6951985 -2.741222 ]\n",
      " [ 2.8757539 -2.7558718]\n",
      " [ 2.9754424 -2.8080733]\n",
      " [ 2.9456332 -2.7557461]\n",
      " [ 3.0706146 -2.659474 ]\n",
      " [ 2.8963249 -2.6900811]\n",
      " [ 2.9180493 -2.5030463]\n",
      " [ 2.820263  -2.5438037]\n",
      " [ 2.831825  -2.692605 ]\n",
      " [ 2.8598595 -2.7447877]\n",
      " [ 2.718032  -2.9563568]\n",
      " [ 2.7715845 -2.846809 ]\n",
      " [ 2.7582774 -2.8365657]\n",
      " [ 2.6422517 -2.8729928]\n",
      " [ 2.4776092 -2.7261884]\n",
      " [ 2.3630795 -2.7159457]\n",
      " [ 2.582034  -2.8123713]\n",
      " [ 2.6693022 -2.8472047]\n",
      " [ 2.6087966 -2.8762517]\n",
      " [ 2.6001604 -2.8482344]\n",
      " [ 2.6510818 -2.769619 ]\n",
      " [ 2.727051  -2.7211053]\n",
      " [ 2.5505815 -2.5705957]\n",
      " [ 2.524591  -2.2433443]\n",
      " [ 2.6329606 -2.4113402]\n",
      " [ 2.5014527 -2.5226097]\n",
      " [ 2.4793038 -2.6124902]\n",
      " [ 2.4214687 -2.7204237]\n",
      " [ 2.4945076 -2.6391368]\n",
      " [ 2.374491  -2.731794 ]\n",
      " [ 2.3195903 -2.6677282]\n",
      " [ 2.4008412 -2.4457073]\n",
      " [ 2.3602576 -2.2989223]\n",
      " [ 2.21122   -2.2905083]\n",
      " [ 2.0587425 -2.3133612]\n",
      " [ 2.1492145 -2.4684029]\n",
      " [ 2.0771136 -2.2863615]\n",
      " [ 2.0005145 -2.324879 ]\n",
      " [ 1.8991076 -2.3865545]\n",
      " [ 1.8994232 -2.4932065]\n",
      " [ 1.9208012 -2.4811718]\n",
      " [ 1.7733306 -2.5550125]\n",
      " [ 1.8443092 -2.4816587]\n",
      " [ 1.8030627 -2.5685217]\n",
      " [ 1.9490582 -2.465022 ]\n",
      " [ 1.8827978 -2.254887 ]\n",
      " [ 2.1911645 -2.23088  ]\n",
      " [ 2.2340295 -2.1263533]\n",
      " [ 2.2920742 -2.1522813]\n",
      " [ 2.3757265 -2.079815 ]\n",
      " [ 2.4501479 -2.1381943]\n",
      " [ 2.4828098 -2.1575534]\n",
      " [ 2.5983536 -2.3463283]\n",
      " [ 2.7963583 -2.3488407]\n",
      " [ 2.727731  -2.3696177]\n",
      " [ 2.64267   -2.505914 ]\n",
      " [ 2.6370087 -2.5157337]\n",
      " [ 2.6599925 -2.6729715]\n",
      " [ 2.5635207 -2.6327682]\n",
      " [ 2.5621781 -2.5822804]\n",
      " [ 2.6015224 -2.493915 ]\n",
      " [ 2.619933  -2.5549731]\n",
      " [ 2.6228497 -2.4909432]\n",
      " [ 2.8390064 -2.3839955]\n",
      " [ 2.878243  -2.2808454]\n",
      " [ 2.6714528 -2.222707 ]\n",
      " [ 2.6912332 -2.25353  ]\n",
      " [ 2.780851  -2.2239442]\n",
      " [ 2.6628442 -2.3192809]\n",
      " [ 2.6349773 -2.3078625]\n",
      " [ 2.6182244 -2.4453664]\n",
      " [ 2.8170893 -2.3938777]\n",
      " [ 2.6941323 -2.5163078]\n",
      " [ 2.7361054 -2.3453526]\n",
      " [ 2.6900487 -2.5032647]\n",
      " [ 2.614426  -2.4093542]\n",
      " [ 2.3956532 -2.4537785]\n",
      " [ 2.2523355 -2.3770905]\n",
      " [ 2.301357  -2.345338 ]\n",
      " [ 2.3012774 -2.1797373]\n",
      " [ 2.3116145 -2.4141116]\n",
      " [ 2.3284483 -2.3113403]\n",
      " [ 2.229666  -2.253982 ]\n",
      " [ 2.300167  -2.3039498]\n",
      " [ 2.199895  -2.1762428]\n",
      " [ 2.1033468 -2.2782974]\n",
      " [ 2.1169748 -2.301549 ]\n",
      " [ 2.206291  -2.2584057]\n",
      " [ 2.3256493 -2.2256958]\n",
      " [ 2.3553662 -2.4262865]\n",
      " [ 2.4512985 -2.312017 ]\n",
      " [ 2.4312613 -2.4023376]\n",
      " [ 2.4784136 -2.6435745]\n",
      " [ 2.5182328 -2.6019473]\n",
      " [ 2.4473848 -2.694404 ]\n",
      " [ 2.5116396 -2.8049564]\n",
      " [ 2.478623  -2.786582 ]\n",
      " [ 2.4579282 -2.9268467]\n",
      " [ 2.6656694 -2.8211787]\n",
      " [ 2.5592518 -2.718943 ]\n",
      " [ 2.546694  -2.6565318]\n",
      " [ 2.394333  -2.7369509]\n",
      " [ 2.3211582 -2.6953902]\n",
      " [ 2.3106744 -2.6478634]\n",
      " [ 2.2738404 -2.539734 ]\n",
      " [ 2.1911583 -2.708617 ]\n",
      " [ 2.241175  -2.7208414]\n",
      " [ 2.1122756 -2.6728492]\n",
      " [ 2.1685154 -2.503655 ]\n",
      " [ 2.059833  -2.4894614]\n",
      " [ 2.1054997 -2.4613595]\n",
      " [ 1.9540335 -2.5166676]\n",
      " [ 1.978088  -2.4869652]\n",
      " [ 1.931863  -2.5085406]\n",
      " [ 1.9373976 -2.5012817]\n",
      " [ 1.9640402 -2.4837937]\n",
      " [ 2.0868976 -2.5032613]\n",
      " [ 2.0966427 -2.3725452]\n",
      " [ 2.0809956 -2.363839 ]\n",
      " [ 2.2365985 -2.3290539]\n",
      " [ 2.350138  -2.3750553]\n",
      " [ 2.418335  -2.3453827]\n",
      " [ 2.2981029 -2.207701 ]\n",
      " [ 2.3854809 -2.3072171]\n",
      " [ 2.3833494 -2.5477536]\n",
      " [ 2.4914646 -2.4793832]\n",
      " [ 2.36755   -2.6206398]\n",
      " [ 2.5715175 -2.6019008]\n",
      " [ 2.4628806 -2.6417367]\n",
      " [ 2.4557126 -2.8381343]\n",
      " [ 2.4459271 -2.8339384]\n",
      " [ 2.4691794 -2.7804546]\n",
      " [ 2.5598226 -2.9122918]\n",
      " [ 2.5035825 -2.85647  ]\n",
      " [ 2.549658  -2.880384 ]\n",
      " [ 2.570294  -2.883948 ]\n",
      " [ 2.610707  -2.6881695]\n",
      " [ 2.6203773 -2.742766 ]\n",
      " [ 2.7329283 -2.6672468]\n",
      " [ 2.7499108 -2.4816232]\n",
      " [ 2.8404725 -2.3903437]\n",
      " [ 2.9176002 -2.4081104]\n",
      " [ 3.0297537 -2.3473196]\n",
      " [ 2.8241029 -2.6437428]\n",
      " [ 2.9129777 -2.4249072]\n",
      " [ 2.875143  -2.668686 ]\n",
      " [ 3.0390358 -2.602025 ]\n",
      " [ 2.9254618 -2.8177054]\n",
      " [ 3.0005414 -2.811151 ]\n",
      " [ 2.8219485 -2.973477 ]\n",
      " [ 2.8344216 -2.8348167]\n",
      " [ 3.0172012 -2.804459 ]\n",
      " [-3.1392462 -2.6759567]\n",
      " [ 3.0698915 -2.6080258]\n",
      " [ 2.9875858 -2.6393747]\n",
      " [ 2.9852276 -2.6774507]\n",
      " [ 3.1169753 -2.602167 ]\n",
      " [ 3.000419  -2.5719604]\n",
      " [ 3.0154645 -2.4000096]\n",
      " [ 3.104871  -2.3805351]\n",
      " [ 3.0817876 -2.3327131]\n",
      " [ 2.9936    -2.2623951]\n",
      " [ 2.8973253 -2.3087938]\n",
      " [ 2.9055154 -2.255794 ]\n",
      " [ 2.7759485 -2.3771687]\n",
      " [ 2.699189  -2.482934 ]\n",
      " [ 2.6831288 -2.4902287]\n",
      " [ 2.7323756 -2.439778 ]\n",
      " [ 2.558085  -2.529148 ]\n",
      " [ 2.6958895 -2.4122813]\n",
      " [ 2.7045918 -2.4891644]\n",
      " [ 2.7684412 -2.3844893]\n",
      " [ 2.6491783 -2.4096   ]\n",
      " [ 2.7331357 -2.572263 ]\n",
      " [ 2.8161016 -2.5989416]\n",
      " [ 2.9112644 -2.5594487]\n",
      " [ 2.8023567 -2.855734 ]\n",
      " [ 2.9218793 -2.7356155]\n",
      " [ 3.1046474 -2.8068514]\n",
      " [ 3.1214464 -2.7895503]\n",
      " [ 3.1387496 -2.5766723]\n",
      " [-3.004921  -2.5906367]\n",
      " [-2.8655005 -2.4961324]\n",
      " [-2.8995032 -2.4128313]\n",
      " [-2.963112  -2.528629 ]\n",
      " [-2.88929   -2.5382354]\n",
      " [-2.927445  -2.5054536]\n",
      " [-3.05473   -2.7147694]\n",
      " [-2.9767807 -2.5336318]\n",
      " [-3.0502589 -2.526994 ]\n",
      " [-3.1298344 -2.5518641]\n",
      " [ 3.0809197 -2.6390471]\n",
      " [ 3.0472825 -2.6927996]\n",
      " [ 2.8845809 -2.7817297]\n",
      " [ 2.8002706 -2.8878567]\n",
      " [ 2.9492812 -2.7255511]\n",
      " [ 2.811891  -2.754266 ]\n",
      " [ 2.7616768 -2.545694 ]\n",
      " [ 2.831433  -2.4121456]\n",
      " [ 2.982133  -2.4835625]\n",
      " [ 2.9689293 -2.5055401]\n",
      " [ 2.7767208 -2.7562194]\n",
      " [ 2.8114164 -2.7675831]\n",
      " [ 2.9830678 -2.800626 ]\n",
      " [ 2.8893483 -2.881435 ]\n",
      " [ 3.059091  -2.607115 ]\n",
      " [ 3.0300555 -2.723484 ]\n",
      " [ 3.0158763 -2.545912 ]\n",
      " [ 2.8439376 -2.5795686]\n",
      " [ 2.9248629 -2.5754786]\n",
      " [ 2.9326    -2.5885196]\n",
      " [ 3.0244102 -2.4400592]\n",
      " [ 2.9684556 -2.5621002]\n",
      " [ 3.0919123 -2.3011923]\n",
      " [-3.120326  -2.2431073]\n",
      " [ 3.10246   -2.2694345]\n",
      " [ 3.0361133 -2.2601452]\n",
      " [-3.1323955 -2.2990782]\n",
      " [ 3.0289114 -2.3253357]\n",
      " [ 3.062094  -2.2266443]\n",
      " [ 3.049674  -2.2889938]\n",
      " [ 3.1175833 -2.298514 ]\n",
      " [ 3.0474145 -2.3000376]\n",
      " [ 2.9847395 -2.296377 ]\n",
      " [ 3.013614  -2.3774993]\n",
      " [ 2.9456208 -2.4114726]\n",
      " [ 2.6990843 -2.534227 ]\n",
      " [ 2.6892872 -2.4800103]\n",
      " [ 2.8435085 -2.5509667]\n",
      " [ 2.7416732 -2.6323903]\n",
      " [ 2.898982  -2.4328332]\n",
      " [ 2.954803  -2.496113 ]\n",
      " [-3.109588  -2.4126513]\n",
      " [-3.0121431 -2.3948603]\n",
      " [-3.0553467 -2.4901881]\n",
      " [-2.8839068 -2.377383 ]\n",
      " [-2.9410577 -2.4398508]\n",
      " [-3.0519745 -2.5120642]\n",
      " [-3.0036747 -2.3278906]\n",
      " [-3.0970914 -2.4731798]\n",
      " [ 3.0088263 -2.3583665]\n",
      " [ 2.931672  -2.2899761]\n",
      " [ 2.9349525 -2.5139613]\n",
      " [ 3.007479  -2.3393846]\n",
      " [ 2.9212153 -2.355683 ]\n",
      " [ 2.8411345 -2.4286778]\n",
      " [ 2.9045079 -2.1773908]\n",
      " [ 2.9652843 -2.1490026]\n",
      " [ 2.9907188 -2.1155753]\n",
      " [ 3.020745  -2.066123 ]\n",
      " [ 3.0856702 -2.3088577]\n",
      " [ 3.043529  -2.4238155]\n",
      " [ 3.019322  -2.3071847]\n",
      " [ 2.9787343 -2.5058289]\n",
      " [ 3.0779934 -2.405452 ]\n",
      " [ 2.9470775 -2.4036891]\n",
      " [ 2.878344  -2.480012 ]\n",
      " [ 3.0132265 -2.5537064]\n",
      " [ 3.0898592 -2.7150204]\n",
      " [ 2.961444  -2.8153808]\n",
      " [ 3.012352  -2.6975508]\n",
      " [ 3.0682437 -2.6732285]\n",
      " [ 3.037106  -2.5416927]\n",
      " [ 2.9100976 -2.3228772]\n",
      " [ 2.8240347 -2.3518968]\n",
      " [ 2.8268266 -2.1174927]\n",
      " [ 2.6488163 -2.2309551]\n",
      " [ 2.5841038 -2.1528542]\n",
      " [ 2.6832652 -2.0991342]\n",
      " [ 2.5547123 -2.279289 ]\n",
      " [ 2.4657824 -2.3040242]\n",
      " [ 2.4010463 -2.252892 ]\n",
      " [ 2.4069157 -2.3587222]\n",
      " [ 2.172754  -2.3204079]\n",
      " [ 2.2029605 -2.4417167]\n",
      " [ 2.1554823 -2.6144128]\n",
      " [ 2.2571063 -2.4680295]\n",
      " [ 2.186208  -2.6319017]\n",
      " [ 2.363054  -2.6313481]\n",
      " [ 2.4790962 -2.8047042]\n",
      " [ 2.458271  -2.8486214]\n",
      " [ 2.491481  -2.7818727]\n",
      " [ 2.5968518 -2.6174102]\n",
      " [ 2.8063438 -2.6002538]\n",
      " [ 2.7812955 -2.5307767]\n",
      " [ 2.7676883 -2.554969 ]\n",
      " [ 2.7779493 -2.7558706]\n",
      " [ 2.8904064 -2.738435 ]\n",
      " [ 2.8187952 -2.817296 ]\n",
      " [ 2.7396307 -2.9644058]\n",
      " [ 2.7722163 -2.8401423]\n",
      " [ 2.6331258 -2.8642972]\n",
      " [ 2.5485132 -2.8882854]\n",
      " [ 2.6675055 -2.6619549]\n",
      " [ 2.75044   -2.6418216]\n",
      " [ 2.807025  -2.371768 ]\n",
      " [ 2.7576718 -2.373238 ]\n",
      " [ 2.8406868 -2.2937534]\n",
      " [ 2.9783914 -2.2840133]\n",
      " [ 2.906662  -2.2411532]\n",
      " [ 2.9082747 -2.2547417]\n",
      " [ 2.950322  -2.4146578]\n",
      " [ 3.1274748 -2.2621727]\n",
      " [ 3.0429225 -2.377694 ]\n",
      " [ 3.0142124 -2.352305 ]\n",
      " [ 3.0944526 -2.410905 ]\n",
      " [ 2.9609003 -2.554542 ]\n",
      " [ 2.89086   -2.6260948]\n",
      " [ 2.8659964 -2.77846  ]\n",
      " [ 3.0058806 -2.9013827]\n",
      " [ 2.8959599 -2.9502363]\n",
      " [ 2.858512  -2.9794712]\n",
      " [ 3.043346  -2.851764 ]\n",
      " [-3.0971954 -2.638275 ]\n",
      " [-3.1121094 -2.5063965]\n",
      " [ 3.069994  -2.5076723]\n",
      " [-2.9999685 -2.4468083]\n",
      " [ 3.1327238 -2.627955 ]\n",
      " [ 3.0195973 -2.4998534]\n",
      " [ 2.9840379 -2.6151237]\n",
      " [ 3.0512795 -2.7051075]\n",
      " [ 2.9470317 -2.75931  ]\n",
      " [ 2.7904096 -2.828448 ]\n",
      " [ 3.0343602 -2.7030854]\n",
      " [ 3.1030753 -2.7067065]\n",
      " [ 2.9683733 -2.706535 ]\n",
      " [ 3.024962  -2.663712 ]\n",
      " [ 3.0903852 -2.5995016]\n",
      " [-3.1066344 -2.4299877]\n",
      " [ 3.0584984 -2.4542863]\n",
      " [ 3.0554104 -2.5998893]\n",
      " [-3.132152  -2.5281277]\n",
      " [ 3.1079361 -2.5743413]\n",
      " [ 2.9914634 -2.5518613]\n",
      " [ 3.1265848 -2.4595602]\n",
      " [ 3.0824218 -2.7237732]\n",
      " [ 2.964687  -2.688396 ]\n",
      " [ 3.024909  -2.6520317]\n",
      " [ 3.1322527 -2.7851086]\n",
      " [-3.0057688 -2.5349956]\n",
      " [ 3.1077435 -2.5002382]\n",
      " [ 3.0506213 -2.5750356]\n",
      " [-3.065579  -2.4332228]\n",
      " [ 3.1035945 -2.630848 ]\n",
      " [ 2.8821213 -2.7422001]\n",
      " [ 2.9036021 -2.6330779]\n",
      " [ 2.793587  -2.9082305]\n",
      " [ 2.774694  -2.635124 ]\n",
      " [ 2.548274  -2.7121296]\n",
      " [ 2.559538  -2.6840568]\n",
      " [ 2.4894016 -2.6918256]\n",
      " [ 2.360272  -2.7819593]\n",
      " [ 2.4098856 -2.7730932]\n",
      " [ 2.5190227 -2.520705 ]\n",
      " [ 2.434505  -2.7062345]\n",
      " [ 2.2842364 -2.7141826]\n",
      " [ 2.2493932 -2.6166186]\n",
      " [ 2.1617544 -2.5646234]\n",
      " [ 2.2469194 -2.2650359]\n",
      " [ 2.1203372 -2.310711 ]\n",
      " [ 2.2340229 -2.2121232]\n",
      " [ 2.2286468 -2.24021  ]\n",
      " [ 2.0686598 -2.1913118]\n",
      " [ 2.1951098 -2.3735962]\n",
      " [ 2.126029  -2.4074275]\n",
      " [ 2.1241016 -2.5999706]\n",
      " [ 2.143999  -2.6932986]\n",
      " [ 2.0793698 -2.8205404]\n",
      " [ 2.0857892 -2.9854305]\n",
      " [ 2.2294474 -2.9313872]\n",
      " [ 2.230157  -2.8531477]\n",
      " [ 2.3768415 -2.861896 ]\n",
      " [ 2.4032347 -2.811483 ]\n",
      " [ 2.367345  -2.5486383]\n",
      " [ 2.5402064 -2.5768166]\n",
      " [ 2.5662656 -2.345913 ]\n",
      " [ 2.5858486 -2.2956595]\n",
      " [ 2.489917  -2.242717 ]\n",
      " [ 2.4941585 -2.2020059]\n",
      " [ 2.346336  -2.1970687]\n",
      " [ 2.260444  -2.3146138]\n",
      " [ 2.2907987 -2.2321382]\n",
      " [ 2.245184  -2.3000777]\n",
      " [ 2.2266989 -2.3091571]\n",
      " [ 2.0074792 -2.288261 ]\n",
      " [ 2.2474136 -2.2948408]\n",
      " [ 2.1648626 -2.3354099]\n",
      " [ 2.1687803 -2.2287326]\n",
      " [ 2.0989432 -2.1888268]\n",
      " [ 2.0969527 -2.5112913]\n",
      " [ 2.1981046 -2.383692 ]\n",
      " [ 2.0541635 -2.5636754]\n",
      " [ 2.2540271 -2.6008918]\n",
      " [ 2.1774979 -2.637507 ]\n",
      " [ 2.5023456 -2.6514988]\n",
      " [ 2.3723345 -2.76357  ]\n",
      " [ 2.4330587 -2.7592351]\n",
      " [ 2.5290194 -2.753884 ]\n",
      " [ 2.7312622 -2.7253683]\n",
      " [ 2.8465035 -2.5730631]\n",
      " [ 2.843691  -2.5762851]\n",
      " [ 3.0511086 -2.4815087]\n",
      " [ 3.0210128 -2.5622787]\n",
      " [ 3.0447736 -2.5096397]\n",
      " [ 3.0394442 -2.483017 ]\n",
      " [ 2.954988  -2.4556572]\n",
      " [ 2.7487483 -2.5606985]\n",
      " [ 2.6490703 -2.568267 ]\n",
      " [ 2.636552  -2.547586 ]\n",
      " [ 2.5950403 -2.4772613]\n",
      " [ 2.4556751 -2.5657737]\n",
      " [ 2.3392928 -2.4406428]\n",
      " [ 2.2038913 -2.474714 ]\n",
      " [ 2.2883449 -2.4150527]\n",
      " [ 2.0238624 -2.5167928]\n",
      " [ 1.9982312 -2.6177974]\n",
      " [ 1.8134947 -2.660271 ]\n",
      " [ 1.8883446 -2.6588006]\n",
      " [ 1.9845632 -2.5488706]\n",
      " [ 1.9316003 -2.573784 ]\n",
      " [ 1.9138459 -2.5088348]\n",
      " [ 1.9030606 -2.6185477]\n",
      " [ 1.9614958 -2.5017388]\n",
      " [ 2.1181703 -2.3604095]\n",
      " [ 2.0329664 -2.3749564]\n",
      " [ 2.086036  -2.3672264]\n",
      " [ 1.9433666 -2.4201128]\n",
      " [ 1.805709  -2.5296075]\n",
      " [ 1.7763082 -2.3764296]\n",
      " [ 1.6918913 -2.3029084]\n",
      " [ 1.8414243 -2.2128785]\n",
      " [ 1.5933428 -2.2300558]\n",
      " [ 1.639558  -2.482749 ]\n",
      " [ 1.375354  -2.5693169]\n",
      " [ 1.4189101 -2.6113992]\n",
      " [ 1.4565381 -2.6384177]\n",
      " [ 1.3867391 -2.5065203]\n",
      " [ 1.3786049 -2.5094402]\n",
      " [ 1.3894839 -2.6040199]\n",
      " [ 1.3680848 -2.5937538]]\n",
      "[Trajectory(trajectory_file=/home/tb/hejung/DATA/aimmd_scratch/aimmd_distributed/engine_wdir0/blib.part0005.trr, structure_file=/home/tb/hejung/DATA/aimmd_scratch/aimmd_distributed/engine_wdir0/blib.tpr), Trajectory(trajectory_file=/home/tb/hejung/DATA/aimmd_scratch/aimmd_distributed/engine_wdir1/blib.part0005.trr, structure_file=/home/tb/hejung/DATA/aimmd_scratch/aimmd_distributed/engine_wdir1/blib.tpr), Trajectory(trajectory_file=/home/tb/hejung/DATA/aimmd_scratch/aimmd_distributed/engine_wdir2/blib.part0005.trr, structure_file=/home/tb/hejung/DATA/aimmd_scratch/aimmd_distributed/engine_wdir2/blib.tpr), Trajectory(trajectory_file=/home/tb/hejung/DATA/aimmd_scratch/aimmd_distributed/engine_wdir3/blib.part0005.trr, structure_file=/home/tb/hejung/DATA/aimmd_scratch/aimmd_distributed/engine_wdir3/blib.tpr)]\n"
     ]
    }
   ],
   "source": [
    "start = time.time()\n",
    "trajs = await asyncio.gather(*(e.run_walltime(0.001) for e in engines))\n",
    "end = time.time()\n",
    "print(f\"time elapsed: {end-start} s\")\n",
    "\n",
    "cv = await descriptor_func_wrap(trajs[0])\n",
    "print(cv)\n"
   ]
  },
  {
   "cell_type": "code",
   "execution_count": 39,
   "metadata": {},
   "outputs": [
    {
     "data": {
      "text/plain": [
       "[Trajectory(trajectory_file=/home/tb/hejung/DATA/aimmd_scratch/aimmd_distributed/engine_wdir0/blib.part0005.trr, structure_file=/home/tb/hejung/DATA/aimmd_scratch/aimmd_distributed/engine_wdir0/blib.tpr),\n",
       " Trajectory(trajectory_file=/home/tb/hejung/DATA/aimmd_scratch/aimmd_distributed/engine_wdir1/blib.part0005.trr, structure_file=/home/tb/hejung/DATA/aimmd_scratch/aimmd_distributed/engine_wdir1/blib.tpr),\n",
       " Trajectory(trajectory_file=/home/tb/hejung/DATA/aimmd_scratch/aimmd_distributed/engine_wdir2/blib.part0005.trr, structure_file=/home/tb/hejung/DATA/aimmd_scratch/aimmd_distributed/engine_wdir2/blib.tpr),\n",
       " Trajectory(trajectory_file=/home/tb/hejung/DATA/aimmd_scratch/aimmd_distributed/engine_wdir3/blib.part0005.trr, structure_file=/home/tb/hejung/DATA/aimmd_scratch/aimmd_distributed/engine_wdir3/blib.tpr)]"
      ]
     },
     "execution_count": 39,
     "metadata": {},
     "output_type": "execute_result"
    }
   ],
   "source": [
    "trajs"
   ]
  },
  {
   "cell_type": "code",
   "execution_count": 34,
   "metadata": {},
   "outputs": [
    {
     "name": "stdout",
     "output_type": "stream",
     "text": [
      "time elapsed: 0.8452732563018799 s\n"
     ]
    },
    {
     "name": "stderr",
     "output_type": "stream",
     "text": [
      "/home/tb/hejung/.conda/envs/aimmd_nature_publish/lib/python3.8/site-packages/MDAnalysis/topology/tpr/utils.py:389: DeprecationWarning: TPR files index residues from 0. From MDAnalysis version 2.0, resids will start at 1 instead. If you wish to keep indexing resids from 0, please set `tpr_resid_from_one=False` as a keyword argument when you create a new Topology or Universe.\n",
      "  warnings.warn(\"TPR files index residues from 0. \"\n"
     ]
    }
   ],
   "source": [
    "start = time.time()\n",
    "trajs = await asyncio.gather(*(e.run_steps(1) for e in engines))\n",
    "end = time.time()\n",
    "print(f\"time elapsed: {end-start} s\")"
   ]
  },
  {
   "cell_type": "code",
   "execution_count": 35,
   "metadata": {},
   "outputs": [
    {
     "name": "stdout",
     "output_type": "stream",
     "text": [
      "[[ 3.0745778 -2.777906 ]]\n"
     ]
    }
   ],
   "source": [
    "cv = await descriptor_func_wrap(trajs[0])\n",
    "print(cv)"
   ]
  },
  {
   "cell_type": "code",
   "execution_count": 37,
   "metadata": {},
   "outputs": [
    {
     "name": "stderr",
     "output_type": "stream",
     "text": [
      "/home/tb/hejung/.conda/envs/aimmd_nature_publish/lib/python3.8/site-packages/MDAnalysis/topology/tpr/utils.py:389: DeprecationWarning: TPR files index residues from 0. From MDAnalysis version 2.0, resids will start at 1 instead. If you wish to keep indexing resids from 0, please set `tpr_resid_from_one=False` as a keyword argument when you create a new Topology or Universe.\n",
      "  warnings.warn(\"TPR files index residues from 0. \"\n"
     ]
    },
    {
     "ename": "OSError",
     "evalue": "XDR read error = integer",
     "output_type": "error",
     "traceback": [
      "\u001b[0;31m---------------------------------------------------------------------------\u001b[0m",
      "\u001b[0;31mOSError\u001b[0m                                   Traceback (most recent call last)",
      "\u001b[0;32m<ipython-input-37-e89bca63df0d>\u001b[0m in \u001b[0;36m<module>\u001b[0;34m\u001b[0m\n\u001b[1;32m      1\u001b[0m \u001b[0mstart\u001b[0m \u001b[0;34m=\u001b[0m \u001b[0mtime\u001b[0m\u001b[0;34m.\u001b[0m\u001b[0mtime\u001b[0m\u001b[0;34m(\u001b[0m\u001b[0;34m)\u001b[0m\u001b[0;34m\u001b[0m\u001b[0;34m\u001b[0m\u001b[0m\n\u001b[0;32m----> 2\u001b[0;31m \u001b[0mtrajs\u001b[0m \u001b[0;34m=\u001b[0m \u001b[0;32mawait\u001b[0m \u001b[0masyncio\u001b[0m\u001b[0;34m.\u001b[0m\u001b[0mgather\u001b[0m\u001b[0;34m(\u001b[0m\u001b[0;34m*\u001b[0m\u001b[0;34m(\u001b[0m\u001b[0me\u001b[0m\u001b[0;34m.\u001b[0m\u001b[0mrun_steps\u001b[0m\u001b[0;34m(\u001b[0m\u001b[0;36m1\u001b[0m\u001b[0;34m)\u001b[0m \u001b[0;32mfor\u001b[0m \u001b[0me\u001b[0m \u001b[0;32min\u001b[0m \u001b[0mengines\u001b[0m\u001b[0;34m)\u001b[0m\u001b[0;34m)\u001b[0m\u001b[0;34m\u001b[0m\u001b[0;34m\u001b[0m\u001b[0m\n\u001b[0m\u001b[1;32m      3\u001b[0m \u001b[0mend\u001b[0m \u001b[0;34m=\u001b[0m \u001b[0mtime\u001b[0m\u001b[0;34m.\u001b[0m\u001b[0mtime\u001b[0m\u001b[0;34m(\u001b[0m\u001b[0;34m)\u001b[0m\u001b[0;34m\u001b[0m\u001b[0;34m\u001b[0m\u001b[0m\n\u001b[1;32m      4\u001b[0m \u001b[0mprint\u001b[0m\u001b[0;34m(\u001b[0m\u001b[0;34mf\"time elapsed: {end-start} s\"\u001b[0m\u001b[0;34m)\u001b[0m\u001b[0;34m\u001b[0m\u001b[0;34m\u001b[0m\u001b[0m\n\u001b[1;32m      5\u001b[0m \u001b[0mcv\u001b[0m \u001b[0;34m=\u001b[0m \u001b[0;32mawait\u001b[0m \u001b[0mdescriptor_func_wrap\u001b[0m\u001b[0;34m(\u001b[0m\u001b[0mtrajs\u001b[0m\u001b[0;34m[\u001b[0m\u001b[0;36m0\u001b[0m\u001b[0;34m]\u001b[0m\u001b[0;34m)\u001b[0m\u001b[0;34m\u001b[0m\u001b[0;34m\u001b[0m\u001b[0m\n",
      "\u001b[0;32m~/Documents/sources/aimmd/aimmd/distributed/mdengine.py\u001b[0m in \u001b[0;36mrun_steps\u001b[0;34m(self, nsteps, steps_per_part)\u001b[0m\n\u001b[1;32m    405\u001b[0m                          \u001b[0mdo\u001b[0m \u001b[0;32min\u001b[0m \u001b[0mthe\u001b[0m \u001b[0mnew\u001b[0m \u001b[0mtrajectory\u001b[0m \u001b[0mpart\u001b[0m\u001b[0;34m\u001b[0m\u001b[0;34m\u001b[0m\u001b[0m\n\u001b[1;32m    406\u001b[0m         \"\"\"\n\u001b[0;32m--> 407\u001b[0;31m         \u001b[0;32mreturn\u001b[0m \u001b[0;32mawait\u001b[0m \u001b[0mself\u001b[0m\u001b[0;34m.\u001b[0m\u001b[0mrun\u001b[0m\u001b[0;34m(\u001b[0m\u001b[0mnsteps\u001b[0m\u001b[0;34m=\u001b[0m\u001b[0mnsteps\u001b[0m\u001b[0;34m,\u001b[0m \u001b[0msteps_per_part\u001b[0m\u001b[0;34m=\u001b[0m\u001b[0msteps_per_part\u001b[0m\u001b[0;34m)\u001b[0m\u001b[0;34m\u001b[0m\u001b[0;34m\u001b[0m\u001b[0m\n\u001b[0m\u001b[1;32m    408\u001b[0m \u001b[0;34m\u001b[0m\u001b[0m\n\u001b[1;32m    409\u001b[0m     \u001b[0;32masync\u001b[0m \u001b[0;32mdef\u001b[0m \u001b[0mrun_walltime\u001b[0m\u001b[0;34m(\u001b[0m\u001b[0mself\u001b[0m\u001b[0;34m,\u001b[0m \u001b[0mwalltime\u001b[0m\u001b[0;34m)\u001b[0m\u001b[0;34m:\u001b[0m\u001b[0;34m\u001b[0m\u001b[0;34m\u001b[0m\u001b[0m\n",
      "\u001b[0;32m~/Documents/sources/aimmd/aimmd/distributed/mdengine.py\u001b[0m in \u001b[0;36mrun\u001b[0;34m(self, nsteps, walltime, steps_per_part)\u001b[0m\n\u001b[1;32m    390\u001b[0m             \u001b[0;32mif\u001b[0m \u001b[0mexit_code\u001b[0m \u001b[0;34m!=\u001b[0m \u001b[0;36m0\u001b[0m\u001b[0;34m:\u001b[0m\u001b[0;34m\u001b[0m\u001b[0;34m\u001b[0m\u001b[0m\n\u001b[1;32m    391\u001b[0m                 \u001b[0;32mraise\u001b[0m \u001b[0mEngineCrashedError\u001b[0m\u001b[0;34m(\u001b[0m\u001b[0;34m\"Non-zero exit code from mdrun.\"\u001b[0m\u001b[0;34m)\u001b[0m\u001b[0;34m\u001b[0m\u001b[0;34m\u001b[0m\u001b[0m\n\u001b[0;32m--> 392\u001b[0;31m             \u001b[0mself\u001b[0m\u001b[0;34m.\u001b[0m\u001b[0m_frames_done\u001b[0m \u001b[0;34m+=\u001b[0m \u001b[0mlen\u001b[0m\u001b[0;34m(\u001b[0m\u001b[0mself\u001b[0m\u001b[0;34m.\u001b[0m\u001b[0mcurrent_trajectory\u001b[0m\u001b[0;34m)\u001b[0m\u001b[0;34m\u001b[0m\u001b[0;34m\u001b[0m\u001b[0m\n\u001b[0m\u001b[1;32m    393\u001b[0m             \u001b[0;32mreturn\u001b[0m \u001b[0mself\u001b[0m\u001b[0;34m.\u001b[0m\u001b[0mcurrent_trajectory\u001b[0m\u001b[0;34m\u001b[0m\u001b[0;34m\u001b[0m\u001b[0m\n\u001b[1;32m    394\u001b[0m \u001b[0;34m\u001b[0m\u001b[0m\n",
      "\u001b[0;32m~/Documents/sources/aimmd/aimmd/distributed/trajectory.py\u001b[0m in \u001b[0;36m__len__\u001b[0;34m(self)\u001b[0m\n\u001b[1;32m    142\u001b[0m             \u001b[0;32mreturn\u001b[0m \u001b[0mself\u001b[0m\u001b[0;34m.\u001b[0m\u001b[0m_len\u001b[0m\u001b[0;34m\u001b[0m\u001b[0;34m\u001b[0m\u001b[0m\n\u001b[1;32m    143\u001b[0m         \u001b[0;31m# create/open a mdanalysis universe to get the number of frames\u001b[0m\u001b[0;34m\u001b[0m\u001b[0;34m\u001b[0m\u001b[0;34m\u001b[0m\u001b[0m\n\u001b[0;32m--> 144\u001b[0;31m         \u001b[0mu\u001b[0m \u001b[0;34m=\u001b[0m \u001b[0mmda\u001b[0m\u001b[0;34m.\u001b[0m\u001b[0mUniverse\u001b[0m\u001b[0;34m(\u001b[0m\u001b[0mself\u001b[0m\u001b[0;34m.\u001b[0m\u001b[0mstructure_file\u001b[0m\u001b[0;34m,\u001b[0m \u001b[0mself\u001b[0m\u001b[0;34m.\u001b[0m\u001b[0mtrajectory_file\u001b[0m\u001b[0;34m)\u001b[0m\u001b[0;34m\u001b[0m\u001b[0;34m\u001b[0m\u001b[0m\n\u001b[0m\u001b[1;32m    145\u001b[0m         \u001b[0mself\u001b[0m\u001b[0;34m.\u001b[0m\u001b[0m_len\u001b[0m \u001b[0;34m=\u001b[0m \u001b[0mlen\u001b[0m\u001b[0;34m(\u001b[0m\u001b[0mu\u001b[0m\u001b[0;34m.\u001b[0m\u001b[0mtrajectory\u001b[0m\u001b[0;34m)\u001b[0m\u001b[0;34m\u001b[0m\u001b[0;34m\u001b[0m\u001b[0m\n\u001b[1;32m    146\u001b[0m         \u001b[0;32mreturn\u001b[0m \u001b[0mself\u001b[0m\u001b[0;34m.\u001b[0m\u001b[0m_len\u001b[0m\u001b[0;34m\u001b[0m\u001b[0;34m\u001b[0m\u001b[0m\n",
      "\u001b[0;32m~/.conda/envs/aimmd_nature_publish/lib/python3.8/site-packages/MDAnalysis/core/universe.py\u001b[0m in \u001b[0;36m__init__\u001b[0;34m(self, *args, **kwargs)\u001b[0m\n\u001b[1;32m    389\u001b[0m \u001b[0;34m\u001b[0m\u001b[0m\n\u001b[1;32m    390\u001b[0m         \u001b[0;32mif\u001b[0m \u001b[0mcoordinates\u001b[0m\u001b[0;34m:\u001b[0m\u001b[0;34m\u001b[0m\u001b[0;34m\u001b[0m\u001b[0m\n\u001b[0;32m--> 391\u001b[0;31m             self.load_new(coordinates, format=format, in_memory=in_memory,\n\u001b[0m\u001b[1;32m    392\u001b[0m                         in_memory_step=in_memory_step, **kwargs)\n\u001b[1;32m    393\u001b[0m \u001b[0;34m\u001b[0m\u001b[0m\n",
      "\u001b[0;32m~/.conda/envs/aimmd_nature_publish/lib/python3.8/site-packages/MDAnalysis/core/universe.py\u001b[0m in \u001b[0;36mload_new\u001b[0;34m(self, filename, format, in_memory, in_memory_step, **kwargs)\u001b[0m\n\u001b[1;32m    582\u001b[0m         \u001b[0mkwargs\u001b[0m\u001b[0;34m[\u001b[0m\u001b[0;34m'n_atoms'\u001b[0m\u001b[0;34m]\u001b[0m \u001b[0;34m=\u001b[0m \u001b[0mself\u001b[0m\u001b[0;34m.\u001b[0m\u001b[0matoms\u001b[0m\u001b[0;34m.\u001b[0m\u001b[0mn_atoms\u001b[0m\u001b[0;34m\u001b[0m\u001b[0;34m\u001b[0m\u001b[0m\n\u001b[1;32m    583\u001b[0m \u001b[0;34m\u001b[0m\u001b[0m\n\u001b[0;32m--> 584\u001b[0;31m         \u001b[0mself\u001b[0m\u001b[0;34m.\u001b[0m\u001b[0mtrajectory\u001b[0m \u001b[0;34m=\u001b[0m \u001b[0mreader\u001b[0m\u001b[0;34m(\u001b[0m\u001b[0mfilename\u001b[0m\u001b[0;34m,\u001b[0m \u001b[0mformat\u001b[0m\u001b[0;34m=\u001b[0m\u001b[0mformat\u001b[0m\u001b[0;34m,\u001b[0m \u001b[0;34m**\u001b[0m\u001b[0mkwargs\u001b[0m\u001b[0;34m)\u001b[0m\u001b[0;34m\u001b[0m\u001b[0;34m\u001b[0m\u001b[0m\n\u001b[0m\u001b[1;32m    585\u001b[0m         \u001b[0;32mif\u001b[0m \u001b[0mself\u001b[0m\u001b[0;34m.\u001b[0m\u001b[0mtrajectory\u001b[0m\u001b[0;34m.\u001b[0m\u001b[0mn_atoms\u001b[0m \u001b[0;34m!=\u001b[0m \u001b[0mlen\u001b[0m\u001b[0;34m(\u001b[0m\u001b[0mself\u001b[0m\u001b[0;34m.\u001b[0m\u001b[0matoms\u001b[0m\u001b[0;34m)\u001b[0m\u001b[0;34m:\u001b[0m\u001b[0;34m\u001b[0m\u001b[0;34m\u001b[0m\u001b[0m\n\u001b[1;32m    586\u001b[0m             raise ValueError(\"The topology and {form} trajectory files don't\"\n",
      "\u001b[0;32m~/.conda/envs/aimmd_nature_publish/lib/python3.8/site-packages/MDAnalysis/coordinates/XDR.py\u001b[0m in \u001b[0;36m__init__\u001b[0;34m(self, filename, convert_units, sub, refresh_offsets, **kwargs)\u001b[0m\n\u001b[1;32m    140\u001b[0m                                             \u001b[0mconvert_units\u001b[0m\u001b[0;34m=\u001b[0m\u001b[0mconvert_units\u001b[0m\u001b[0;34m,\u001b[0m\u001b[0;34m\u001b[0m\u001b[0;34m\u001b[0m\u001b[0m\n\u001b[1;32m    141\u001b[0m                                             **kwargs)\n\u001b[0;32m--> 142\u001b[0;31m         \u001b[0mself\u001b[0m\u001b[0;34m.\u001b[0m\u001b[0m_xdr\u001b[0m \u001b[0;34m=\u001b[0m \u001b[0mself\u001b[0m\u001b[0;34m.\u001b[0m\u001b[0m_file\u001b[0m\u001b[0;34m(\u001b[0m\u001b[0mself\u001b[0m\u001b[0;34m.\u001b[0m\u001b[0mfilename\u001b[0m\u001b[0;34m)\u001b[0m\u001b[0;34m\u001b[0m\u001b[0;34m\u001b[0m\u001b[0m\n\u001b[0m\u001b[1;32m    143\u001b[0m \u001b[0;34m\u001b[0m\u001b[0m\n\u001b[1;32m    144\u001b[0m         \u001b[0mself\u001b[0m\u001b[0;34m.\u001b[0m\u001b[0m_sub\u001b[0m \u001b[0;34m=\u001b[0m \u001b[0msub\u001b[0m\u001b[0;34m\u001b[0m\u001b[0;34m\u001b[0m\u001b[0m\n",
      "\u001b[0;32mMDAnalysis/lib/formats/libmdaxdr.pyx\u001b[0m in \u001b[0;36mMDAnalysis.lib.formats.libmdaxdr._XDRFile.__cinit__\u001b[0;34m()\u001b[0m\n",
      "\u001b[0;32mMDAnalysis/lib/formats/libmdaxdr.pyx\u001b[0m in \u001b[0;36mMDAnalysis.lib.formats.libmdaxdr._XDRFile.open\u001b[0;34m()\u001b[0m\n",
      "\u001b[0;31mOSError\u001b[0m: XDR read error = integer"
     ]
    },
    {
     "name": "stderr",
     "output_type": "stream",
     "text": [
      "Exception ignored in: <function ReaderBase.__del__ at 0x7f0aefa608b0>\n",
      "Traceback (most recent call last):\n",
      "  File \"/home/tb/hejung/.conda/envs/aimmd_nature_publish/lib/python3.8/site-packages/MDAnalysis/coordinates/base.py\", line 2152, in __del__\n",
      "    self.close()\n",
      "  File \"/home/tb/hejung/.conda/envs/aimmd_nature_publish/lib/python3.8/site-packages/MDAnalysis/coordinates/XDR.py\", line 179, in close\n",
      "    self._xdr.close()\n",
      "AttributeError: 'TRRReader' object has no attribute '_xdr'\n",
      "Exception ignored in: <function ReaderBase.__del__ at 0x7f0aefa608b0>\n",
      "Traceback (most recent call last):\n",
      "  File \"/home/tb/hejung/.conda/envs/aimmd_nature_publish/lib/python3.8/site-packages/MDAnalysis/coordinates/base.py\", line 2152, in __del__\n",
      "    self.close()\n",
      "  File \"/home/tb/hejung/.conda/envs/aimmd_nature_publish/lib/python3.8/site-packages/MDAnalysis/coordinates/XDR.py\", line 179, in close\n",
      "    self._xdr.close()\n",
      "AttributeError: 'TRRReader' object has no attribute '_xdr'\n",
      "Exception ignored in: <function ReaderBase.__del__ at 0x7f0aefa608b0>\n",
      "Traceback (most recent call last):\n",
      "  File \"/home/tb/hejung/.conda/envs/aimmd_nature_publish/lib/python3.8/site-packages/MDAnalysis/coordinates/base.py\", line 2152, in __del__\n",
      "    self.close()\n",
      "  File \"/home/tb/hejung/.conda/envs/aimmd_nature_publish/lib/python3.8/site-packages/MDAnalysis/coordinates/XDR.py\", line 179, in close\n",
      "    self._xdr.close()\n",
      "AttributeError: 'TRRReader' object has no attribute '_xdr'\n"
     ]
    }
   ],
   "source": [
    "start = time.time()\n",
    "trajs = await asyncio.gather(*(e.run_steps(1) for e in engines))\n",
    "end = time.time()\n",
    "print(f\"time elapsed: {end-start} s\")\n",
    "cv = await descriptor_func_wrap(trajs[0])\n",
    "print(cv)"
   ]
  },
  {
   "cell_type": "code",
   "execution_count": 38,
   "metadata": {},
   "outputs": [
    {
     "name": "stderr",
     "output_type": "stream",
     "text": [
      "/home/tb/hejung/.conda/envs/aimmd_nature_publish/lib/python3.8/site-packages/MDAnalysis/topology/tpr/utils.py:389: DeprecationWarning: TPR files index residues from 0. From MDAnalysis version 2.0, resids will start at 1 instead. If you wish to keep indexing resids from 0, please set `tpr_resid_from_one=False` as a keyword argument when you create a new Topology or Universe.\n",
      "  warnings.warn(\"TPR files index residues from 0. \"\n"
     ]
    },
    {
     "ename": "OSError",
     "evalue": "XDR read error = integer",
     "output_type": "error",
     "traceback": [
      "\u001b[0;31m---------------------------------------------------------------------------\u001b[0m",
      "\u001b[0;31mOSError\u001b[0m                                   Traceback (most recent call last)",
      "\u001b[0;32m<ipython-input-38-e89bca63df0d>\u001b[0m in \u001b[0;36m<module>\u001b[0;34m\u001b[0m\n\u001b[1;32m      1\u001b[0m \u001b[0mstart\u001b[0m \u001b[0;34m=\u001b[0m \u001b[0mtime\u001b[0m\u001b[0;34m.\u001b[0m\u001b[0mtime\u001b[0m\u001b[0;34m(\u001b[0m\u001b[0;34m)\u001b[0m\u001b[0;34m\u001b[0m\u001b[0;34m\u001b[0m\u001b[0m\n\u001b[0;32m----> 2\u001b[0;31m \u001b[0mtrajs\u001b[0m \u001b[0;34m=\u001b[0m \u001b[0;32mawait\u001b[0m \u001b[0masyncio\u001b[0m\u001b[0;34m.\u001b[0m\u001b[0mgather\u001b[0m\u001b[0;34m(\u001b[0m\u001b[0;34m*\u001b[0m\u001b[0;34m(\u001b[0m\u001b[0me\u001b[0m\u001b[0;34m.\u001b[0m\u001b[0mrun_steps\u001b[0m\u001b[0;34m(\u001b[0m\u001b[0;36m1\u001b[0m\u001b[0;34m)\u001b[0m \u001b[0;32mfor\u001b[0m \u001b[0me\u001b[0m \u001b[0;32min\u001b[0m \u001b[0mengines\u001b[0m\u001b[0;34m)\u001b[0m\u001b[0;34m)\u001b[0m\u001b[0;34m\u001b[0m\u001b[0;34m\u001b[0m\u001b[0m\n\u001b[0m\u001b[1;32m      3\u001b[0m \u001b[0mend\u001b[0m \u001b[0;34m=\u001b[0m \u001b[0mtime\u001b[0m\u001b[0;34m.\u001b[0m\u001b[0mtime\u001b[0m\u001b[0;34m(\u001b[0m\u001b[0;34m)\u001b[0m\u001b[0;34m\u001b[0m\u001b[0;34m\u001b[0m\u001b[0m\n\u001b[1;32m      4\u001b[0m \u001b[0mprint\u001b[0m\u001b[0;34m(\u001b[0m\u001b[0;34mf\"time elapsed: {end-start} s\"\u001b[0m\u001b[0;34m)\u001b[0m\u001b[0;34m\u001b[0m\u001b[0;34m\u001b[0m\u001b[0m\n\u001b[1;32m      5\u001b[0m \u001b[0mcv\u001b[0m \u001b[0;34m=\u001b[0m \u001b[0;32mawait\u001b[0m \u001b[0mdescriptor_func_wrap\u001b[0m\u001b[0;34m(\u001b[0m\u001b[0mtrajs\u001b[0m\u001b[0;34m[\u001b[0m\u001b[0;36m0\u001b[0m\u001b[0;34m]\u001b[0m\u001b[0;34m)\u001b[0m\u001b[0;34m\u001b[0m\u001b[0;34m\u001b[0m\u001b[0m\n",
      "\u001b[0;32m~/Documents/sources/aimmd/aimmd/distributed/mdengine.py\u001b[0m in \u001b[0;36mrun_steps\u001b[0;34m(self, nsteps, steps_per_part)\u001b[0m\n\u001b[1;32m    405\u001b[0m                          \u001b[0mdo\u001b[0m \u001b[0;32min\u001b[0m \u001b[0mthe\u001b[0m \u001b[0mnew\u001b[0m \u001b[0mtrajectory\u001b[0m \u001b[0mpart\u001b[0m\u001b[0;34m\u001b[0m\u001b[0;34m\u001b[0m\u001b[0m\n\u001b[1;32m    406\u001b[0m         \"\"\"\n\u001b[0;32m--> 407\u001b[0;31m         \u001b[0;32mreturn\u001b[0m \u001b[0;32mawait\u001b[0m \u001b[0mself\u001b[0m\u001b[0;34m.\u001b[0m\u001b[0mrun\u001b[0m\u001b[0;34m(\u001b[0m\u001b[0mnsteps\u001b[0m\u001b[0;34m=\u001b[0m\u001b[0mnsteps\u001b[0m\u001b[0;34m,\u001b[0m \u001b[0msteps_per_part\u001b[0m\u001b[0;34m=\u001b[0m\u001b[0msteps_per_part\u001b[0m\u001b[0;34m)\u001b[0m\u001b[0;34m\u001b[0m\u001b[0;34m\u001b[0m\u001b[0m\n\u001b[0m\u001b[1;32m    408\u001b[0m \u001b[0;34m\u001b[0m\u001b[0m\n\u001b[1;32m    409\u001b[0m     \u001b[0;32masync\u001b[0m \u001b[0;32mdef\u001b[0m \u001b[0mrun_walltime\u001b[0m\u001b[0;34m(\u001b[0m\u001b[0mself\u001b[0m\u001b[0;34m,\u001b[0m \u001b[0mwalltime\u001b[0m\u001b[0;34m)\u001b[0m\u001b[0;34m:\u001b[0m\u001b[0;34m\u001b[0m\u001b[0;34m\u001b[0m\u001b[0m\n",
      "\u001b[0;32m~/Documents/sources/aimmd/aimmd/distributed/mdengine.py\u001b[0m in \u001b[0;36mrun\u001b[0;34m(self, nsteps, walltime, steps_per_part)\u001b[0m\n\u001b[1;32m    390\u001b[0m             \u001b[0;32mif\u001b[0m \u001b[0mexit_code\u001b[0m \u001b[0;34m!=\u001b[0m \u001b[0;36m0\u001b[0m\u001b[0;34m:\u001b[0m\u001b[0;34m\u001b[0m\u001b[0;34m\u001b[0m\u001b[0m\n\u001b[1;32m    391\u001b[0m                 \u001b[0;32mraise\u001b[0m \u001b[0mEngineCrashedError\u001b[0m\u001b[0;34m(\u001b[0m\u001b[0;34m\"Non-zero exit code from mdrun.\"\u001b[0m\u001b[0;34m)\u001b[0m\u001b[0;34m\u001b[0m\u001b[0;34m\u001b[0m\u001b[0m\n\u001b[0;32m--> 392\u001b[0;31m             \u001b[0mself\u001b[0m\u001b[0;34m.\u001b[0m\u001b[0m_frames_done\u001b[0m \u001b[0;34m+=\u001b[0m \u001b[0mlen\u001b[0m\u001b[0;34m(\u001b[0m\u001b[0mself\u001b[0m\u001b[0;34m.\u001b[0m\u001b[0mcurrent_trajectory\u001b[0m\u001b[0;34m)\u001b[0m\u001b[0;34m\u001b[0m\u001b[0;34m\u001b[0m\u001b[0m\n\u001b[0m\u001b[1;32m    393\u001b[0m             \u001b[0;32mreturn\u001b[0m \u001b[0mself\u001b[0m\u001b[0;34m.\u001b[0m\u001b[0mcurrent_trajectory\u001b[0m\u001b[0;34m\u001b[0m\u001b[0;34m\u001b[0m\u001b[0m\n\u001b[1;32m    394\u001b[0m \u001b[0;34m\u001b[0m\u001b[0m\n",
      "\u001b[0;32m~/Documents/sources/aimmd/aimmd/distributed/trajectory.py\u001b[0m in \u001b[0;36m__len__\u001b[0;34m(self)\u001b[0m\n\u001b[1;32m    142\u001b[0m             \u001b[0;32mreturn\u001b[0m \u001b[0mself\u001b[0m\u001b[0;34m.\u001b[0m\u001b[0m_len\u001b[0m\u001b[0;34m\u001b[0m\u001b[0;34m\u001b[0m\u001b[0m\n\u001b[1;32m    143\u001b[0m         \u001b[0;31m# create/open a mdanalysis universe to get the number of frames\u001b[0m\u001b[0;34m\u001b[0m\u001b[0;34m\u001b[0m\u001b[0;34m\u001b[0m\u001b[0m\n\u001b[0;32m--> 144\u001b[0;31m         \u001b[0mu\u001b[0m \u001b[0;34m=\u001b[0m \u001b[0mmda\u001b[0m\u001b[0;34m.\u001b[0m\u001b[0mUniverse\u001b[0m\u001b[0;34m(\u001b[0m\u001b[0mself\u001b[0m\u001b[0;34m.\u001b[0m\u001b[0mstructure_file\u001b[0m\u001b[0;34m,\u001b[0m \u001b[0mself\u001b[0m\u001b[0;34m.\u001b[0m\u001b[0mtrajectory_file\u001b[0m\u001b[0;34m)\u001b[0m\u001b[0;34m\u001b[0m\u001b[0;34m\u001b[0m\u001b[0m\n\u001b[0m\u001b[1;32m    145\u001b[0m         \u001b[0mself\u001b[0m\u001b[0;34m.\u001b[0m\u001b[0m_len\u001b[0m \u001b[0;34m=\u001b[0m \u001b[0mlen\u001b[0m\u001b[0;34m(\u001b[0m\u001b[0mu\u001b[0m\u001b[0;34m.\u001b[0m\u001b[0mtrajectory\u001b[0m\u001b[0;34m)\u001b[0m\u001b[0;34m\u001b[0m\u001b[0;34m\u001b[0m\u001b[0m\n\u001b[1;32m    146\u001b[0m         \u001b[0;32mreturn\u001b[0m \u001b[0mself\u001b[0m\u001b[0;34m.\u001b[0m\u001b[0m_len\u001b[0m\u001b[0;34m\u001b[0m\u001b[0;34m\u001b[0m\u001b[0m\n",
      "\u001b[0;32m~/.conda/envs/aimmd_nature_publish/lib/python3.8/site-packages/MDAnalysis/core/universe.py\u001b[0m in \u001b[0;36m__init__\u001b[0;34m(self, *args, **kwargs)\u001b[0m\n\u001b[1;32m    389\u001b[0m \u001b[0;34m\u001b[0m\u001b[0m\n\u001b[1;32m    390\u001b[0m         \u001b[0;32mif\u001b[0m \u001b[0mcoordinates\u001b[0m\u001b[0;34m:\u001b[0m\u001b[0;34m\u001b[0m\u001b[0;34m\u001b[0m\u001b[0m\n\u001b[0;32m--> 391\u001b[0;31m             self.load_new(coordinates, format=format, in_memory=in_memory,\n\u001b[0m\u001b[1;32m    392\u001b[0m                         in_memory_step=in_memory_step, **kwargs)\n\u001b[1;32m    393\u001b[0m \u001b[0;34m\u001b[0m\u001b[0m\n",
      "\u001b[0;32m~/.conda/envs/aimmd_nature_publish/lib/python3.8/site-packages/MDAnalysis/core/universe.py\u001b[0m in \u001b[0;36mload_new\u001b[0;34m(self, filename, format, in_memory, in_memory_step, **kwargs)\u001b[0m\n\u001b[1;32m    582\u001b[0m         \u001b[0mkwargs\u001b[0m\u001b[0;34m[\u001b[0m\u001b[0;34m'n_atoms'\u001b[0m\u001b[0;34m]\u001b[0m \u001b[0;34m=\u001b[0m \u001b[0mself\u001b[0m\u001b[0;34m.\u001b[0m\u001b[0matoms\u001b[0m\u001b[0;34m.\u001b[0m\u001b[0mn_atoms\u001b[0m\u001b[0;34m\u001b[0m\u001b[0;34m\u001b[0m\u001b[0m\n\u001b[1;32m    583\u001b[0m \u001b[0;34m\u001b[0m\u001b[0m\n\u001b[0;32m--> 584\u001b[0;31m         \u001b[0mself\u001b[0m\u001b[0;34m.\u001b[0m\u001b[0mtrajectory\u001b[0m \u001b[0;34m=\u001b[0m \u001b[0mreader\u001b[0m\u001b[0;34m(\u001b[0m\u001b[0mfilename\u001b[0m\u001b[0;34m,\u001b[0m \u001b[0mformat\u001b[0m\u001b[0;34m=\u001b[0m\u001b[0mformat\u001b[0m\u001b[0;34m,\u001b[0m \u001b[0;34m**\u001b[0m\u001b[0mkwargs\u001b[0m\u001b[0;34m)\u001b[0m\u001b[0;34m\u001b[0m\u001b[0;34m\u001b[0m\u001b[0m\n\u001b[0m\u001b[1;32m    585\u001b[0m         \u001b[0;32mif\u001b[0m \u001b[0mself\u001b[0m\u001b[0;34m.\u001b[0m\u001b[0mtrajectory\u001b[0m\u001b[0;34m.\u001b[0m\u001b[0mn_atoms\u001b[0m \u001b[0;34m!=\u001b[0m \u001b[0mlen\u001b[0m\u001b[0;34m(\u001b[0m\u001b[0mself\u001b[0m\u001b[0;34m.\u001b[0m\u001b[0matoms\u001b[0m\u001b[0;34m)\u001b[0m\u001b[0;34m:\u001b[0m\u001b[0;34m\u001b[0m\u001b[0;34m\u001b[0m\u001b[0m\n\u001b[1;32m    586\u001b[0m             raise ValueError(\"The topology and {form} trajectory files don't\"\n",
      "\u001b[0;32m~/.conda/envs/aimmd_nature_publish/lib/python3.8/site-packages/MDAnalysis/coordinates/XDR.py\u001b[0m in \u001b[0;36m__init__\u001b[0;34m(self, filename, convert_units, sub, refresh_offsets, **kwargs)\u001b[0m\n\u001b[1;32m    140\u001b[0m                                             \u001b[0mconvert_units\u001b[0m\u001b[0;34m=\u001b[0m\u001b[0mconvert_units\u001b[0m\u001b[0;34m,\u001b[0m\u001b[0;34m\u001b[0m\u001b[0;34m\u001b[0m\u001b[0m\n\u001b[1;32m    141\u001b[0m                                             **kwargs)\n\u001b[0;32m--> 142\u001b[0;31m         \u001b[0mself\u001b[0m\u001b[0;34m.\u001b[0m\u001b[0m_xdr\u001b[0m \u001b[0;34m=\u001b[0m \u001b[0mself\u001b[0m\u001b[0;34m.\u001b[0m\u001b[0m_file\u001b[0m\u001b[0;34m(\u001b[0m\u001b[0mself\u001b[0m\u001b[0;34m.\u001b[0m\u001b[0mfilename\u001b[0m\u001b[0;34m)\u001b[0m\u001b[0;34m\u001b[0m\u001b[0;34m\u001b[0m\u001b[0m\n\u001b[0m\u001b[1;32m    143\u001b[0m \u001b[0;34m\u001b[0m\u001b[0m\n\u001b[1;32m    144\u001b[0m         \u001b[0mself\u001b[0m\u001b[0;34m.\u001b[0m\u001b[0m_sub\u001b[0m \u001b[0;34m=\u001b[0m \u001b[0msub\u001b[0m\u001b[0;34m\u001b[0m\u001b[0;34m\u001b[0m\u001b[0m\n",
      "\u001b[0;32mMDAnalysis/lib/formats/libmdaxdr.pyx\u001b[0m in \u001b[0;36mMDAnalysis.lib.formats.libmdaxdr._XDRFile.__cinit__\u001b[0;34m()\u001b[0m\n",
      "\u001b[0;32mMDAnalysis/lib/formats/libmdaxdr.pyx\u001b[0m in \u001b[0;36mMDAnalysis.lib.formats.libmdaxdr._XDRFile.open\u001b[0;34m()\u001b[0m\n",
      "\u001b[0;31mOSError\u001b[0m: XDR read error = integer"
     ]
    },
    {
     "name": "stderr",
     "output_type": "stream",
     "text": [
      "Exception ignored in: <function ReaderBase.__del__ at 0x7f0aefa608b0>\n",
      "Traceback (most recent call last):\n",
      "  File \"/home/tb/hejung/.conda/envs/aimmd_nature_publish/lib/python3.8/site-packages/MDAnalysis/coordinates/base.py\", line 2152, in __del__\n",
      "    self.close()\n",
      "  File \"/home/tb/hejung/.conda/envs/aimmd_nature_publish/lib/python3.8/site-packages/MDAnalysis/coordinates/XDR.py\", line 179, in close\n",
      "    self._xdr.close()\n",
      "AttributeError: 'TRRReader' object has no attribute '_xdr'\n",
      "Exception ignored in: <function ReaderBase.__del__ at 0x7f0aefa608b0>\n",
      "Traceback (most recent call last):\n",
      "  File \"/home/tb/hejung/.conda/envs/aimmd_nature_publish/lib/python3.8/site-packages/MDAnalysis/coordinates/base.py\", line 2152, in __del__\n",
      "    self.close()\n",
      "  File \"/home/tb/hejung/.conda/envs/aimmd_nature_publish/lib/python3.8/site-packages/MDAnalysis/coordinates/XDR.py\", line 179, in close\n",
      "    self._xdr.close()\n",
      "AttributeError: 'TRRReader' object has no attribute '_xdr'\n",
      "Exception ignored in: <function ReaderBase.__del__ at 0x7f0aefa608b0>\n",
      "Traceback (most recent call last):\n",
      "  File \"/home/tb/hejung/.conda/envs/aimmd_nature_publish/lib/python3.8/site-packages/MDAnalysis/coordinates/base.py\", line 2152, in __del__\n",
      "    self.close()\n",
      "  File \"/home/tb/hejung/.conda/envs/aimmd_nature_publish/lib/python3.8/site-packages/MDAnalysis/coordinates/XDR.py\", line 179, in close\n",
      "    self._xdr.close()\n",
      "AttributeError: 'TRRReader' object has no attribute '_xdr'\n"
     ]
    }
   ],
   "source": [
    "start = time.time()\n",
    "trajs = await asyncio.gather(*(e.run_steps(1) for e in engines))\n",
    "end = time.time()\n",
    "print(f\"time elapsed: {end-start} s\")\n",
    "cv = await descriptor_func_wrap(trajs[0])\n",
    "print(cv)"
   ]
  },
  {
   "cell_type": "code",
   "execution_count": null,
   "metadata": {},
   "outputs": [],
   "source": []
  },
  {
   "cell_type": "code",
   "execution_count": 36,
   "metadata": {},
   "outputs": [
    {
     "name": "stdout",
     "output_type": "stream",
     "text": [
      "engine 0 did 9222 frames (== 92220 integration steps)\n",
      "engine 1 did 9206 frames (== 92060 integration steps)\n",
      "engine 2 did 9006 frames (== 90060 integration steps)\n",
      "engine 3 did 9046 frames (== 90460 integration steps)\n"
     ]
    }
   ],
   "source": [
    "for i, e in enumerate(engines):\n",
    "    print(f\"engine {i} did {e.frames_done} frames (== {e.steps_done} integration steps)\")"
   ]
  },
  {
   "cell_type": "code",
   "execution_count": 29,
   "metadata": {},
   "outputs": [
    {
     "name": "stdout",
     "output_type": "stream",
     "text": [
      "time elapsed: 36.5525848865509 s\n"
     ]
    },
    {
     "name": "stderr",
     "output_type": "stream",
     "text": [
      "/home/think/.conda/envs/aimmd_nature_publish/lib/python3.8/site-packages/MDAnalysis/topology/tpr/utils.py:389: DeprecationWarning: TPR files index residues from 0. From MDAnalysis version 2.0, resids will start at 1 instead. If you wish to keep indexing resids from 0, please set `tpr_resid_from_one=False` as a keyword argument when you create a new Topology or Universe.\n",
      "  warnings.warn(\"TPR files index residues from 0. \"\n"
     ]
    }
   ],
   "source": [
    "start = time.time()\n",
    "trajs = await asyncio.gather(*(e.run_walltime(0.01) for e in engines))\n",
    "end = time.time()\n",
    "print(f\"time elapsed: {end-start} s\")"
   ]
  },
  {
   "cell_type": "code",
   "execution_count": 30,
   "metadata": {},
   "outputs": [
    {
     "name": "stdout",
     "output_type": "stream",
     "text": [
      "[[ 1.7949889 -2.3867085]\n",
      " [ 1.7086705 -2.3630643]\n",
      " [ 1.7360168 -2.3054514]\n",
      " ...\n",
      " [-1.4733312 -1.5860335]\n",
      " [-1.4640243 -1.643299 ]\n",
      " [-1.4391651 -1.8763256]]\n"
     ]
    }
   ],
   "source": [
    "cv = await descriptor_func_wrap(trajs[0])\n",
    "print(cv)"
   ]
  },
  {
   "cell_type": "code",
   "execution_count": 31,
   "metadata": {},
   "outputs": [
    {
     "name": "stdout",
     "output_type": "stream",
     "text": [
      "engine 0 did 12460 frames (== 124600 integration steps)\n",
      "engine 1 did 12700 frames (== 127000 integration steps)\n",
      "engine 2 did 12494 frames (== 124940 integration steps)\n",
      "engine 3 did 13316 frames (== 133160 integration steps)\n"
     ]
    }
   ],
   "source": [
    "for i, e in enumerate(engines):\n",
    "    print(f\"engine {i} did {e.frames_done} frames (== {e.steps_done} integration steps)\")"
   ]
  },
  {
   "cell_type": "code",
   "execution_count": 32,
   "metadata": {},
   "outputs": [
    {
     "name": "stdout",
     "output_type": "stream",
     "text": [
      "time elapsed: 36.527894735336304 s\n"
     ]
    },
    {
     "name": "stderr",
     "output_type": "stream",
     "text": [
      "/home/think/.conda/envs/aimmd_nature_publish/lib/python3.8/site-packages/MDAnalysis/topology/tpr/utils.py:389: DeprecationWarning: TPR files index residues from 0. From MDAnalysis version 2.0, resids will start at 1 instead. If you wish to keep indexing resids from 0, please set `tpr_resid_from_one=False` as a keyword argument when you create a new Topology or Universe.\n",
      "  warnings.warn(\"TPR files index residues from 0. \"\n"
     ]
    }
   ],
   "source": [
    "start = time.time()\n",
    "trajs = await asyncio.gather(*(e.run_walltime(0.01) for e in engines))\n",
    "end = time.time()\n",
    "print(f\"time elapsed: {end-start} s\")"
   ]
  },
  {
   "cell_type": "code",
   "execution_count": 33,
   "metadata": {},
   "outputs": [
    {
     "name": "stdout",
     "output_type": "stream",
     "text": [
      "[[-1.4391651 -1.8763256]\n",
      " [-1.4037466 -1.9764206]\n",
      " [-1.4453897 -1.972756 ]\n",
      " ...\n",
      " [ 1.3600926 -2.4688985]\n",
      " [ 1.3947617 -2.3246064]\n",
      " [ 1.5066161 -2.267869 ]]\n"
     ]
    }
   ],
   "source": [
    "cv = await descriptor_func_wrap(trajs[0])\n",
    "print(cv)"
   ]
  },
  {
   "cell_type": "code",
   "execution_count": 34,
   "metadata": {},
   "outputs": [
    {
     "name": "stdout",
     "output_type": "stream",
     "text": [
      "engine 0 did 16605 frames (== 166050 integration steps)\n",
      "engine 1 did 16869 frames (== 168690 integration steps)\n",
      "engine 2 did 16661 frames (== 166610 integration steps)\n",
      "engine 3 did 17440 frames (== 174400 integration steps)\n"
     ]
    }
   ],
   "source": [
    "for i, e in enumerate(engines):\n",
    "    print(f\"engine {i} did {e.frames_done} frames (== {e.steps_done} integration steps)\")"
   ]
  },
  {
   "cell_type": "markdown",
   "metadata": {},
   "source": [
    "# propagator until state"
   ]
  },
  {
   "cell_type": "code",
   "execution_count": 13,
   "metadata": {},
   "outputs": [],
   "source": [
    "import mdtraj as mdt\n",
    "import numpy as np\n",
    "\"\"\"\n",
    "def psi(traj):\n",
    "    traj = mdt.load(traj.trajectory_file, \n",
    "                    top=os.path.join(scratch_dir, \"gmx_infiles/conf.gro\"),  # mdt can not work with tprs, so we use theinitial gro for now\n",
    "                    )\n",
    "    psi = mdt.compute_psi(traj)\n",
    "    return psi\n",
    "\n",
    "def alpha_R(traj):\n",
    "    traj = mdt.load(traj.trajectory_file, \n",
    "                    top=os.path.join(scratch_dir, \"gmx_infiles/conf.gro\"),  # mdt can not work with tprs, so we use theinitial gro for now\n",
    "                    )\n",
    "    psi = mdt.compute_dihedrals(traj, indices=[[6,8,14,16]])[:, 0]\n",
    "    phi = mdt.compute_dihedrals(traj, indices=[[4,6,8,14]])[:, 0]\n",
    "    state = np.full_like(psi, False, dtype=bool)\n",
    "    # phi: -pi -> 0 \n",
    "    # psi: > -50 but smaller 30 degree\n",
    "    deg = 180/np.pi\n",
    "    state[(phi <= 0) & (-50/deg <= psi) & (psi <= 30/deg)] = True\n",
    "    return state\n",
    "\n",
    "wrapped_alphaR = arcdd.trajectory.TrajectoryFunctionWrapper(alpha_R)\n",
    "wrapped_psi = arcdd.trajectory.TrajectoryFunctionWrapper(psi)\n",
    "\"\"\"\n",
    "\n",
    "from state_funcs import alpha_R, C7_eq\n",
    "wrapped_alphaR = aimmdd.TrajectoryFunctionWrapper(alpha_R, call_kwargs={\"scratch_dir\": scratch_dir})\n",
    "wrapped_C7_eq = aimmdd.TrajectoryFunctionWrapper(C7_eq, call_kwargs={\"scratch_dir\": scratch_dir})"
   ]
  },
  {
   "cell_type": "code",
   "execution_count": 14,
   "metadata": {},
   "outputs": [],
   "source": [
    "import aimmd.distributed.logic"
   ]
  },
  {
   "cell_type": "code",
   "execution_count": 15,
   "metadata": {},
   "outputs": [
    {
     "name": "stderr",
     "output_type": "stream",
     "text": [
      "Neither max_frames nor max_steps given. Setting max_frames to infinity.\n",
      "Neither max_frames nor max_steps given. Setting max_frames to infinity.\n",
      "Neither max_frames nor max_steps given. Setting max_frames to infinity.\n",
      "Neither max_frames nor max_steps given. Setting max_frames to infinity.\n"
     ]
    }
   ],
   "source": [
    "propagators = [aimmd.distributed.logic.PropagatorUntilAnyState(states=[wrapped_alphaR, wrapped_C7_eq],\n",
    "                                                               engine_cls=aimmdd.GmxEngine,\n",
    "                                                               engine_kwargs={\"gro_file\":os.path.join(scratch_dir, \"gmx_infiles/conf.gro\"),\n",
    "                                                                              \"top_file\":os.path.join(scratch_dir, \"gmx_infiles/topol.top\"),\n",
    "                                                                               \"mdrun_extra_args\": \"-nt 4\",\n",
    "                                                                              },\n",
    "                                                               run_config=aimmdd.MDP(os.path.join(scratch_dir, \"gmx_infiles/md.mdp\")),\n",
    "                                                               walltime_per_part=0.005,\n",
    "                                                               \n",
    "                                                              )\n",
    "               for _ in range(n_engines)\n",
    "               ]"
   ]
  },
  {
   "cell_type": "code",
   "execution_count": 17,
   "metadata": {},
   "outputs": [],
   "source": [
    "#initial_tp_mdt = mdt.load(os.path.join(scratch_dir, \"gmx_infiles/ala_400K_TP_low_barrier.h5\"))"
   ]
  },
  {
   "cell_type": "code",
   "execution_count": 18,
   "metadata": {},
   "outputs": [],
   "source": [
    "#initial_tp_mdt[10].save_trr(os.path.join(scratch_dir, \"gmx_infiles/tp_frame.trr\"))"
   ]
  },
  {
   "cell_type": "code",
   "execution_count": 16,
   "metadata": {},
   "outputs": [],
   "source": [
    "starting_conf = aimmdd.Trajectory(trajectory_file=os.path.join(scratch_dir, \"gmx_infiles/tp_frame.trr\"),\n",
    "                                  structure_file=os.path.join(scratch_dir, \"gmx_infiles/tp_frame.gro\"))\n",
    "\n",
    "starting_conf = aimmdd.Trajectory(trajectory_file=os.path.join(scratch_dir, \"gmx_infiles/conf.gro\"),\n",
    "                                  structure_file=os.path.join(scratch_dir, \"gmx_infiles/conf.gro\"))"
   ]
  },
  {
   "cell_type": "code",
   "execution_count": 17,
   "metadata": {},
   "outputs": [
    {
     "data": {
      "text/plain": [
       "TrajectoryFunctionWrapper(function=<function alpha_R at 0x7fe1fe04e700>, call_kwargs={'scratch_dir': '/home/tb/hejung/DATA/aimmd_scratch/aimmd_distributed/'})"
      ]
     },
     "execution_count": 17,
     "metadata": {},
     "output_type": "execute_result"
    }
   ],
   "source": [
    "wrapped_alphaR"
   ]
  },
  {
   "cell_type": "code",
   "execution_count": 18,
   "metadata": {},
   "outputs": [],
   "source": [
    "import mdtraj as mdt"
   ]
  },
  {
   "cell_type": "code",
   "execution_count": 19,
   "metadata": {},
   "outputs": [
    {
     "name": "stderr",
     "output_type": "stream",
     "text": [
      "/home/tb/hejung/.conda/envs/aimmd_nature_publish/lib/python3.8/site-packages/mdtraj/formats/gro.py:307: UserWarning: WARNING: two consecutive residues with same number (ALA, ACE)\n",
      "  warnings.warn(\"WARNING: two consecutive residues with same number (%s, %s)\" % (thisresname, residue.name))\n",
      "/home/tb/hejung/.conda/envs/aimmd_nature_publish/lib/python3.8/site-packages/mdtraj/formats/gro.py:307: UserWarning: WARNING: two consecutive residues with same number (NME, ALA)\n",
      "  warnings.warn(\"WARNING: two consecutive residues with same number (%s, %s)\" % (thisresname, residue.name))\n",
      "/home/tb/hejung/.conda/envs/aimmd_nature_publish/lib/python3.8/site-packages/mdtraj/formats/gro.py:307: UserWarning: WARNING: two consecutive residues with same number (HOH, NME)\n",
      "  warnings.warn(\"WARNING: two consecutive residues with same number (%s, %s)\" % (thisresname, residue.name))\n",
      "/home/tb/hejung/.conda/envs/aimmd_nature_publish/lib/python3.8/site-packages/mdtraj/core/trajectory.py:422: UserWarning: top= kwarg ignored since file contains topology information\n",
      "  warnings.warn('top= kwarg ignored since file contains topology information')\n"
     ]
    },
    {
     "data": {
      "text/plain": [
       "<mdtraj.Trajectory with 1 frames, 1651 atoms, 546 residues, and unitcells at 0x7fe126c51d30>"
      ]
     },
     "execution_count": 19,
     "metadata": {},
     "output_type": "execute_result"
    }
   ],
   "source": [
    "mdt.load(os.path.join(scratch_dir, \"gmx_infiles/conf.gro\"), top=os.path.join(scratch_dir, \"gmx_infiles/conf.gro\"))"
   ]
  },
  {
   "cell_type": "code",
   "execution_count": 20,
   "metadata": {},
   "outputs": [
    {
     "data": {
      "text/plain": [
       "<mdtraj.Trajectory with 1 frames, 1651 atoms, 546 residues, and unitcells at 0x7fe126bff550>"
      ]
     },
     "execution_count": 20,
     "metadata": {},
     "output_type": "execute_result"
    }
   ],
   "source": [
    "mdt.load(starting_conf.trajectory_file, top=starting_conf.structure_file)"
   ]
  },
  {
   "cell_type": "code",
   "execution_count": 21,
   "metadata": {},
   "outputs": [
    {
     "name": "stderr",
     "output_type": "stream",
     "text": [
      "/home/tb/hejung/.conda/envs/aimmd_nature_publish/lib/python3.8/site-packages/mdtraj/utils/validation.py:115: TypeCastPerformanceWarning: Casting unitcell_vectors dtype=float64 to <class 'numpy.float32'> \n",
      "  warnings.warn(\"Casting %s dtype=%s to %s \" % (name, val.dtype, dtype),\n"
     ]
    },
    {
     "data": {
      "text/plain": [
       "array([ True])"
      ]
     },
     "execution_count": 21,
     "metadata": {},
     "output_type": "execute_result"
    }
   ],
   "source": [
    "alpha_R(starting_conf, **{\"scratch_dir\": scratch_dir})"
   ]
  },
  {
   "cell_type": "code",
   "execution_count": 22,
   "metadata": {},
   "outputs": [
    {
     "data": {
      "text/plain": [
       "array([ True])"
      ]
     },
     "execution_count": 22,
     "metadata": {},
     "output_type": "execute_result"
    }
   ],
   "source": [
    "await wrapped_alphaR(starting_conf)"
   ]
  },
  {
   "cell_type": "code",
   "execution_count": 23,
   "metadata": {},
   "outputs": [
    {
     "data": {
      "text/plain": [
       "'/home/tb/hejung/DATA/aimmd_scratch/aimmd_distributed/'"
      ]
     },
     "execution_count": 23,
     "metadata": {},
     "output_type": "execute_result"
    }
   ],
   "source": [
    "scratch_dir"
   ]
  },
  {
   "cell_type": "code",
   "execution_count": 24,
   "metadata": {},
   "outputs": [],
   "source": [
    "tasks = [asyncio.create_task(p.propagate_and_concatenate(starting_configuration=starting_conf,\n",
    "                                                         workdir=wdir,\n",
    "                                                         deffnm=\"blib\",\n",
    "                                                         tra_out=os.path.join(wdir, \"blub_until_state.trr\"),\n",
    "                                                          ))\n",
    "         for p, wdir, mdp in zip(propagators, wdirs, mdps)]\n",
    "\n",
    "done, pending = await asyncio.wait(tasks, return_when=asyncio.FIRST_COMPLETED)"
   ]
  },
  {
   "cell_type": "code",
   "execution_count": 25,
   "metadata": {},
   "outputs": [
    {
     "data": {
      "text/plain": [
       "<Task finished name='Task-5' coro=<PropagatorUntilAnyState.propagate_and_concatenate() done, defined at /home/tb/hejung/Documents/sources/aimmd/aimmd/distributed/logic.py:1311> exception=TypeError(\"propagate() got an unexpected keyword argument 'run_config'\")>"
      ]
     },
     "execution_count": 25,
     "metadata": {},
     "output_type": "execute_result"
    }
   ],
   "source": [
    "list(done)[0]"
   ]
  },
  {
   "cell_type": "code",
   "execution_count": 26,
   "metadata": {},
   "outputs": [
    {
     "data": {
      "text/plain": [
       "[<Task finished name='Task-3' coro=<PropagatorUntilAnyState.propagate_and_concatenate() done, defined at /home/tb/hejung/Documents/sources/aimmd/aimmd/distributed/logic.py:1311> exception=TypeError(\"propagate() got an unexpected keyword argument 'run_config'\")>,\n",
       " <Task finished name='Task-4' coro=<PropagatorUntilAnyState.propagate_and_concatenate() done, defined at /home/tb/hejung/Documents/sources/aimmd/aimmd/distributed/logic.py:1311> exception=TypeError(\"propagate() got an unexpected keyword argument 'run_config'\")>,\n",
       " <Task finished name='Task-5' coro=<PropagatorUntilAnyState.propagate_and_concatenate() done, defined at /home/tb/hejung/Documents/sources/aimmd/aimmd/distributed/logic.py:1311> exception=TypeError(\"propagate() got an unexpected keyword argument 'run_config'\")>,\n",
       " <Task finished name='Task-6' coro=<PropagatorUntilAnyState.propagate_and_concatenate() done, defined at /home/tb/hejung/Documents/sources/aimmd/aimmd/distributed/logic.py:1311> exception=TypeError(\"propagate() got an unexpected keyword argument 'run_config'\")>]"
      ]
     },
     "execution_count": 26,
     "metadata": {},
     "output_type": "execute_result"
    }
   ],
   "source": [
    "tasks"
   ]
  },
  {
   "cell_type": "code",
   "execution_count": 27,
   "metadata": {},
   "outputs": [],
   "source": [
    "done, pending = await asyncio.wait(tasks,)# return_when=asyncio.FIRST_COMPLETED)"
   ]
  },
  {
   "cell_type": "code",
   "execution_count": 28,
   "metadata": {},
   "outputs": [
    {
     "name": "stdout",
     "output_type": "stream",
     "text": [
      "<Task finished name='Task-5' coro=<PropagatorUntilAnyState.propagate_and_concatenate() done, defined at /home/tb/hejung/Documents/sources/aimmd/aimmd/distributed/logic.py:1311> exception=TypeError(\"propagate() got an unexpected keyword argument 'run_config'\")>\n",
      "2\n",
      "<Task finished name='Task-6' coro=<PropagatorUntilAnyState.propagate_and_concatenate() done, defined at /home/tb/hejung/Documents/sources/aimmd/aimmd/distributed/logic.py:1311> exception=TypeError(\"propagate() got an unexpected keyword argument 'run_config'\")>\n",
      "3\n",
      "<Task finished name='Task-3' coro=<PropagatorUntilAnyState.propagate_and_concatenate() done, defined at /home/tb/hejung/Documents/sources/aimmd/aimmd/distributed/logic.py:1311> exception=TypeError(\"propagate() got an unexpected keyword argument 'run_config'\")>\n",
      "0\n",
      "<Task finished name='Task-4' coro=<PropagatorUntilAnyState.propagate_and_concatenate() done, defined at /home/tb/hejung/Documents/sources/aimmd/aimmd/distributed/logic.py:1311> exception=TypeError(\"propagate() got an unexpected keyword argument 'run_config'\")>\n",
      "1\n"
     ]
    }
   ],
   "source": [
    "for i in done:\n",
    "    print(i)\n",
    "    print(tasks.index(i))"
   ]
  },
  {
   "cell_type": "code",
   "execution_count": 29,
   "metadata": {},
   "outputs": [
    {
     "data": {
      "text/plain": [
       "set()"
      ]
     },
     "execution_count": 29,
     "metadata": {},
     "output_type": "execute_result"
    }
   ],
   "source": [
    "pending"
   ]
  },
  {
   "cell_type": "code",
   "execution_count": 1,
   "metadata": {},
   "outputs": [],
   "source": []
  },
  {
   "cell_type": "code",
   "execution_count": 21,
   "metadata": {},
   "outputs": [
    {
     "name": "stdout",
     "output_type": "stream",
     "text": [
      "time elapsed: 0.48328495025634766 s\n"
     ]
    }
   ],
   "source": [
    "start = time.time()\n",
    "result1 = await wrapped_func(trajs[-1])\n",
    "end = time.time()\n",
    "print(f\"time elapsed: {end-start} s\")"
   ]
  },
  {
   "cell_type": "code",
   "execution_count": 22,
   "metadata": {},
   "outputs": [
    {
     "name": "stdout",
     "output_type": "stream",
     "text": [
      "time elapsed: 0.5739212036132812 s\n"
     ]
    }
   ],
   "source": [
    "start = time.time()\n",
    "results = await asyncio.gather(*(wrapped_func(t) for t in trajs))\n",
    "end = time.time()\n",
    "print(f\"time elapsed: {end-start} s\")"
   ]
  },
  {
   "cell_type": "code",
   "execution_count": 23,
   "metadata": {},
   "outputs": [
    {
     "data": {
      "text/plain": [
       "[Trajectory(trajectory_file=/home/think/scratch/arcd_distributed/engine_wdir0/blub.part0002.trr, topology_file=/home/think/scratch/arcd_distributed/engine_wdir0/blub.tpr),\n",
       " Trajectory(trajectory_file=/home/think/scratch/arcd_distributed/engine_wdir1/blub.part0002.trr, topology_file=/home/think/scratch/arcd_distributed/engine_wdir1/blub.tpr),\n",
       " Trajectory(trajectory_file=/home/think/scratch/arcd_distributed/engine_wdir2/blub.part0002.trr, topology_file=/home/think/scratch/arcd_distributed/engine_wdir2/blub.tpr),\n",
       " Trajectory(trajectory_file=/home/think/scratch/arcd_distributed/engine_wdir3/blub.part0002.trr, topology_file=/home/think/scratch/arcd_distributed/engine_wdir3/blub.tpr),\n",
       " Trajectory(trajectory_file=/home/think/scratch/arcd_distributed/engine_wdir4/blub.part0002.trr, topology_file=/home/think/scratch/arcd_distributed/engine_wdir4/blub.tpr),\n",
       " Trajectory(trajectory_file=/home/think/scratch/arcd_distributed/engine_wdir5/blub.part0002.trr, topology_file=/home/think/scratch/arcd_distributed/engine_wdir5/blub.tpr)]"
      ]
     },
     "execution_count": 23,
     "metadata": {},
     "output_type": "execute_result"
    }
   ],
   "source": [
    "trajs"
   ]
  },
  {
   "cell_type": "code",
   "execution_count": null,
   "metadata": {},
   "outputs": [],
   "source": []
  }
 ],
 "metadata": {
  "kernelspec": {
   "display_name": "AIMMD nature publish (py3)",
   "language": "python",
   "name": "aimmd_nature_publish"
  },
  "language_info": {
   "codemirror_mode": {
    "name": "ipython",
    "version": 3
   },
   "file_extension": ".py",
   "mimetype": "text/x-python",
   "name": "python",
   "nbconvert_exporter": "python",
   "pygments_lexer": "ipython3",
   "version": "3.8.10"
  }
 },
 "nbformat": 4,
 "nbformat_minor": 4
}
