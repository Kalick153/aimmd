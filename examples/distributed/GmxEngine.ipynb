{
 "cells": [
  {
   "cell_type": "code",
   "execution_count": 1,
   "metadata": {
    "collapsed": true,
    "jupyter": {
     "outputs_hidden": true
    }
   },
   "outputs": [
    {
     "name": "stderr",
     "output_type": "stream",
     "text": [
      "bash: line 1: module: command not found\n"
     ]
    },
    {
     "ename": "CalledProcessError",
     "evalue": "Command 'b'module list\\n'' returned non-zero exit status 127.",
     "output_type": "error",
     "traceback": [
      "\u001b[0;31m---------------------------------------------------------------------------\u001b[0m",
      "\u001b[0;31mCalledProcessError\u001b[0m                        Traceback (most recent call last)",
      "\u001b[0;32m<ipython-input-1-83d124570aca>\u001b[0m in \u001b[0;36m<module>\u001b[0;34m\u001b[0m\n\u001b[0;32m----> 1\u001b[0;31m \u001b[0mget_ipython\u001b[0m\u001b[0;34m(\u001b[0m\u001b[0;34m)\u001b[0m\u001b[0;34m.\u001b[0m\u001b[0mrun_cell_magic\u001b[0m\u001b[0;34m(\u001b[0m\u001b[0;34m'bash'\u001b[0m\u001b[0;34m,\u001b[0m \u001b[0;34m''\u001b[0m\u001b[0;34m,\u001b[0m \u001b[0;34m'module list\\n'\u001b[0m\u001b[0;34m)\u001b[0m\u001b[0;34m\u001b[0m\u001b[0;34m\u001b[0m\u001b[0m\n\u001b[0m",
      "\u001b[0;32m~/.conda/envs/aimmd_nature_publish/lib/python3.8/site-packages/IPython/core/interactiveshell.py\u001b[0m in \u001b[0;36mrun_cell_magic\u001b[0;34m(self, magic_name, line, cell)\u001b[0m\n\u001b[1;32m   2401\u001b[0m             \u001b[0;32mwith\u001b[0m \u001b[0mself\u001b[0m\u001b[0;34m.\u001b[0m\u001b[0mbuiltin_trap\u001b[0m\u001b[0;34m:\u001b[0m\u001b[0;34m\u001b[0m\u001b[0;34m\u001b[0m\u001b[0m\n\u001b[1;32m   2402\u001b[0m                 \u001b[0margs\u001b[0m \u001b[0;34m=\u001b[0m \u001b[0;34m(\u001b[0m\u001b[0mmagic_arg_s\u001b[0m\u001b[0;34m,\u001b[0m \u001b[0mcell\u001b[0m\u001b[0;34m)\u001b[0m\u001b[0;34m\u001b[0m\u001b[0;34m\u001b[0m\u001b[0m\n\u001b[0;32m-> 2403\u001b[0;31m                 \u001b[0mresult\u001b[0m \u001b[0;34m=\u001b[0m \u001b[0mfn\u001b[0m\u001b[0;34m(\u001b[0m\u001b[0;34m*\u001b[0m\u001b[0margs\u001b[0m\u001b[0;34m,\u001b[0m \u001b[0;34m**\u001b[0m\u001b[0mkwargs\u001b[0m\u001b[0;34m)\u001b[0m\u001b[0;34m\u001b[0m\u001b[0;34m\u001b[0m\u001b[0m\n\u001b[0m\u001b[1;32m   2404\u001b[0m             \u001b[0;32mreturn\u001b[0m \u001b[0mresult\u001b[0m\u001b[0;34m\u001b[0m\u001b[0;34m\u001b[0m\u001b[0m\n\u001b[1;32m   2405\u001b[0m \u001b[0;34m\u001b[0m\u001b[0m\n",
      "\u001b[0;32m~/.conda/envs/aimmd_nature_publish/lib/python3.8/site-packages/IPython/core/magics/script.py\u001b[0m in \u001b[0;36mnamed_script_magic\u001b[0;34m(line, cell)\u001b[0m\n\u001b[1;32m    140\u001b[0m             \u001b[0;32melse\u001b[0m\u001b[0;34m:\u001b[0m\u001b[0;34m\u001b[0m\u001b[0;34m\u001b[0m\u001b[0m\n\u001b[1;32m    141\u001b[0m                 \u001b[0mline\u001b[0m \u001b[0;34m=\u001b[0m \u001b[0mscript\u001b[0m\u001b[0;34m\u001b[0m\u001b[0;34m\u001b[0m\u001b[0m\n\u001b[0;32m--> 142\u001b[0;31m             \u001b[0;32mreturn\u001b[0m \u001b[0mself\u001b[0m\u001b[0;34m.\u001b[0m\u001b[0mshebang\u001b[0m\u001b[0;34m(\u001b[0m\u001b[0mline\u001b[0m\u001b[0;34m,\u001b[0m \u001b[0mcell\u001b[0m\u001b[0;34m)\u001b[0m\u001b[0;34m\u001b[0m\u001b[0;34m\u001b[0m\u001b[0m\n\u001b[0m\u001b[1;32m    143\u001b[0m \u001b[0;34m\u001b[0m\u001b[0m\n\u001b[1;32m    144\u001b[0m         \u001b[0;31m# write a basic docstring:\u001b[0m\u001b[0;34m\u001b[0m\u001b[0;34m\u001b[0m\u001b[0;34m\u001b[0m\u001b[0m\n",
      "\u001b[0;32m~/.conda/envs/aimmd_nature_publish/lib/python3.8/site-packages/decorator.py\u001b[0m in \u001b[0;36mfun\u001b[0;34m(*args, **kw)\u001b[0m\n\u001b[1;32m    230\u001b[0m             \u001b[0;32mif\u001b[0m \u001b[0;32mnot\u001b[0m \u001b[0mkwsyntax\u001b[0m\u001b[0;34m:\u001b[0m\u001b[0;34m\u001b[0m\u001b[0;34m\u001b[0m\u001b[0m\n\u001b[1;32m    231\u001b[0m                 \u001b[0margs\u001b[0m\u001b[0;34m,\u001b[0m \u001b[0mkw\u001b[0m \u001b[0;34m=\u001b[0m \u001b[0mfix\u001b[0m\u001b[0;34m(\u001b[0m\u001b[0margs\u001b[0m\u001b[0;34m,\u001b[0m \u001b[0mkw\u001b[0m\u001b[0;34m,\u001b[0m \u001b[0msig\u001b[0m\u001b[0;34m)\u001b[0m\u001b[0;34m\u001b[0m\u001b[0;34m\u001b[0m\u001b[0m\n\u001b[0;32m--> 232\u001b[0;31m             \u001b[0;32mreturn\u001b[0m \u001b[0mcaller\u001b[0m\u001b[0;34m(\u001b[0m\u001b[0mfunc\u001b[0m\u001b[0;34m,\u001b[0m \u001b[0;34m*\u001b[0m\u001b[0;34m(\u001b[0m\u001b[0mextras\u001b[0m \u001b[0;34m+\u001b[0m \u001b[0margs\u001b[0m\u001b[0;34m)\u001b[0m\u001b[0;34m,\u001b[0m \u001b[0;34m**\u001b[0m\u001b[0mkw\u001b[0m\u001b[0;34m)\u001b[0m\u001b[0;34m\u001b[0m\u001b[0;34m\u001b[0m\u001b[0m\n\u001b[0m\u001b[1;32m    233\u001b[0m     \u001b[0mfun\u001b[0m\u001b[0;34m.\u001b[0m\u001b[0m__name__\u001b[0m \u001b[0;34m=\u001b[0m \u001b[0mfunc\u001b[0m\u001b[0;34m.\u001b[0m\u001b[0m__name__\u001b[0m\u001b[0;34m\u001b[0m\u001b[0;34m\u001b[0m\u001b[0m\n\u001b[1;32m    234\u001b[0m     \u001b[0mfun\u001b[0m\u001b[0;34m.\u001b[0m\u001b[0m__doc__\u001b[0m \u001b[0;34m=\u001b[0m \u001b[0mfunc\u001b[0m\u001b[0;34m.\u001b[0m\u001b[0m__doc__\u001b[0m\u001b[0;34m\u001b[0m\u001b[0;34m\u001b[0m\u001b[0m\n",
      "\u001b[0;32m~/.conda/envs/aimmd_nature_publish/lib/python3.8/site-packages/IPython/core/magic.py\u001b[0m in \u001b[0;36m<lambda>\u001b[0;34m(f, *a, **k)\u001b[0m\n\u001b[1;32m    185\u001b[0m     \u001b[0;31m# but it's overkill for just that one bit of state.\u001b[0m\u001b[0;34m\u001b[0m\u001b[0;34m\u001b[0m\u001b[0;34m\u001b[0m\u001b[0m\n\u001b[1;32m    186\u001b[0m     \u001b[0;32mdef\u001b[0m \u001b[0mmagic_deco\u001b[0m\u001b[0;34m(\u001b[0m\u001b[0marg\u001b[0m\u001b[0;34m)\u001b[0m\u001b[0;34m:\u001b[0m\u001b[0;34m\u001b[0m\u001b[0;34m\u001b[0m\u001b[0m\n\u001b[0;32m--> 187\u001b[0;31m         \u001b[0mcall\u001b[0m \u001b[0;34m=\u001b[0m \u001b[0;32mlambda\u001b[0m \u001b[0mf\u001b[0m\u001b[0;34m,\u001b[0m \u001b[0;34m*\u001b[0m\u001b[0ma\u001b[0m\u001b[0;34m,\u001b[0m \u001b[0;34m**\u001b[0m\u001b[0mk\u001b[0m\u001b[0;34m:\u001b[0m \u001b[0mf\u001b[0m\u001b[0;34m(\u001b[0m\u001b[0;34m*\u001b[0m\u001b[0ma\u001b[0m\u001b[0;34m,\u001b[0m \u001b[0;34m**\u001b[0m\u001b[0mk\u001b[0m\u001b[0;34m)\u001b[0m\u001b[0;34m\u001b[0m\u001b[0;34m\u001b[0m\u001b[0m\n\u001b[0m\u001b[1;32m    188\u001b[0m \u001b[0;34m\u001b[0m\u001b[0m\n\u001b[1;32m    189\u001b[0m         \u001b[0;32mif\u001b[0m \u001b[0mcallable\u001b[0m\u001b[0;34m(\u001b[0m\u001b[0marg\u001b[0m\u001b[0;34m)\u001b[0m\u001b[0;34m:\u001b[0m\u001b[0;34m\u001b[0m\u001b[0;34m\u001b[0m\u001b[0m\n",
      "\u001b[0;32m~/.conda/envs/aimmd_nature_publish/lib/python3.8/site-packages/IPython/core/magics/script.py\u001b[0m in \u001b[0;36mshebang\u001b[0;34m(self, line, cell)\u001b[0m\n\u001b[1;32m    243\u001b[0m             \u001b[0msys\u001b[0m\u001b[0;34m.\u001b[0m\u001b[0mstderr\u001b[0m\u001b[0;34m.\u001b[0m\u001b[0mflush\u001b[0m\u001b[0;34m(\u001b[0m\u001b[0;34m)\u001b[0m\u001b[0;34m\u001b[0m\u001b[0;34m\u001b[0m\u001b[0m\n\u001b[1;32m    244\u001b[0m         \u001b[0;32mif\u001b[0m \u001b[0margs\u001b[0m\u001b[0;34m.\u001b[0m\u001b[0mraise_error\u001b[0m \u001b[0;32mand\u001b[0m \u001b[0mp\u001b[0m\u001b[0;34m.\u001b[0m\u001b[0mreturncode\u001b[0m\u001b[0;34m!=\u001b[0m\u001b[0;36m0\u001b[0m\u001b[0;34m:\u001b[0m\u001b[0;34m\u001b[0m\u001b[0;34m\u001b[0m\u001b[0m\n\u001b[0;32m--> 245\u001b[0;31m             \u001b[0;32mraise\u001b[0m \u001b[0mCalledProcessError\u001b[0m\u001b[0;34m(\u001b[0m\u001b[0mp\u001b[0m\u001b[0;34m.\u001b[0m\u001b[0mreturncode\u001b[0m\u001b[0;34m,\u001b[0m \u001b[0mcell\u001b[0m\u001b[0;34m,\u001b[0m \u001b[0moutput\u001b[0m\u001b[0;34m=\u001b[0m\u001b[0mout\u001b[0m\u001b[0;34m,\u001b[0m \u001b[0mstderr\u001b[0m\u001b[0;34m=\u001b[0m\u001b[0merr\u001b[0m\u001b[0;34m)\u001b[0m\u001b[0;34m\u001b[0m\u001b[0;34m\u001b[0m\u001b[0m\n\u001b[0m\u001b[1;32m    246\u001b[0m \u001b[0;34m\u001b[0m\u001b[0m\n\u001b[1;32m    247\u001b[0m     \u001b[0;32mdef\u001b[0m \u001b[0m_run_script\u001b[0m\u001b[0;34m(\u001b[0m\u001b[0mself\u001b[0m\u001b[0;34m,\u001b[0m \u001b[0mp\u001b[0m\u001b[0;34m,\u001b[0m \u001b[0mcell\u001b[0m\u001b[0;34m,\u001b[0m \u001b[0mto_close\u001b[0m\u001b[0;34m)\u001b[0m\u001b[0;34m:\u001b[0m\u001b[0;34m\u001b[0m\u001b[0;34m\u001b[0m\u001b[0m\n",
      "\u001b[0;31mCalledProcessError\u001b[0m: Command 'b'module list\\n'' returned non-zero exit status 127."
     ]
    }
   ],
   "source": [
    "%%bash\n",
    "module list"
   ]
  },
  {
   "cell_type": "code",
   "execution_count": 1,
   "metadata": {},
   "outputs": [],
   "source": [
    "%matplotlib inline"
   ]
  },
  {
   "cell_type": "code",
   "execution_count": 2,
   "metadata": {},
   "outputs": [],
   "source": [
    "import os\n",
    "import asyncio\n",
    "import matplotlib.pyplot as plt\n",
    "import numpy as np\n",
    "import MDAnalysis as mda"
   ]
  },
  {
   "cell_type": "code",
   "execution_count": 3,
   "metadata": {},
   "outputs": [
    {
     "name": "stderr",
     "output_type": "stream",
     "text": [
      "Tensorflow/Keras not available\n"
     ]
    }
   ],
   "source": [
    "import aimmd\n",
    "import aimmd.distributed as aimmdd"
   ]
  },
  {
   "cell_type": "markdown",
   "metadata": {},
   "source": [
    "# GMX engine"
   ]
  },
  {
   "cell_type": "code",
   "execution_count": 4,
   "metadata": {},
   "outputs": [],
   "source": [
    "n_engines = 4"
   ]
  },
  {
   "cell_type": "code",
   "execution_count": 5,
   "metadata": {},
   "outputs": [],
   "source": [
    "#scratch_dir = \".\"\n",
    "#scratch_dir = \"/home/tb/hejung/DATA/aimmd_scratch/aimmd_distributed/\"\n",
    "scratch_dir = \"/home/think/scratch/aimmd_distributed/\"\n",
    "wdirs = [os.path.join(scratch_dir, f\"engine_wdir{i}\") for i in range(n_engines)]"
   ]
  },
  {
   "cell_type": "code",
   "execution_count": 6,
   "metadata": {},
   "outputs": [],
   "source": [
    "for d in wdirs:\n",
    "    if not os.path.isdir(d):\n",
    "        os.mkdir(d)"
   ]
  },
  {
   "cell_type": "markdown",
   "metadata": {},
   "source": [
    "## `GmxEngine` is a thin wrapper around gromacs\n",
    "- it has a `prepare()` method (which will call `grompp`) and multiple methods to then rujn the simulation, namely `run()`, `run_walltime()` and `run_nsteps()`"
   ]
  },
  {
   "cell_type": "code",
   "execution_count": 7,
   "metadata": {},
   "outputs": [],
   "source": [
    "engines = [aimmdd.GmxEngine(gro_file=os.path.join(scratch_dir, \"gmx_infiles/conf.gro\"),\n",
    "                            top_file=os.path.join(scratch_dir, \"gmx_infiles/topol.top\"),\n",
    "                            ndx_file=os.path.join(\"gmx_infiles/index.ndx\"),\n",
    "                            mdrun_extra_args=\"-nt 2\",  # use this if your version of GMX is compiled with thread-MPI support\n",
    "                            #mdrun_extra_args=\"-ntomp 2\",  # use this for GMX without thread-MPI support\n",
    "                            )\n",
    "           for _ in range(n_engines)]"
   ]
  },
  {
   "cell_type": "code",
   "execution_count": 8,
   "metadata": {},
   "outputs": [],
   "source": [
    "mdps = [aimmdd.MDP(os.path.join(scratch_dir, \"gmx_infiles/md.mdp\"))\n",
    "        for _ in range(n_engines)]"
   ]
  },
  {
   "cell_type": "code",
   "execution_count": 9,
   "metadata": {},
   "outputs": [
    {
     "data": {
      "text/plain": [
       "False"
      ]
     },
     "execution_count": 9,
     "metadata": {},
     "output_type": "execute_result"
    }
   ],
   "source": [
    "mdps[0].changed"
   ]
  },
  {
   "cell_type": "code",
   "execution_count": 10,
   "metadata": {},
   "outputs": [
    {
     "name": "stdout",
     "output_type": "stream",
     "text": [
      "title  :  ['test']\n",
      "cpp  :  ['/lib/cpp']\n",
      "include  :  ['-I../top']\n",
      "define  :  []\n",
      "integrator  :  ['md-vv']\n",
      "dt  :  0.002\n",
      "nsteps  :  100000\n",
      "nstxout  :  10\n",
      "nstvout  :  10\n",
      "nstlog  :  10\n",
      "nstenergy  :  10\n",
      "nstxout-compressed  :  10\n",
      "compressed-x-grps  :  ['Protein']\n",
      "energygrps  :  ['Protein', 'SOL']\n",
      "nstlist  :  10\n",
      "ns-type  :  ['grid']\n",
      "cutoff-scheme  :  ['Verlet']\n",
      "rlist  :  1.1\n",
      "coulombtype  :  ['PME']\n",
      "rcoulomb  :  1.1\n",
      "rvdw  :  1.1\n",
      "tcoupl  :  ['Berendsen']\n",
      "tc-grps  :  ['Protein', 'SOL']\n",
      "tau-t  :  [0.1, 0.1]\n",
      "ref-t  :  [300.0, 300.0]\n",
      "Pcoupl  :  ['Berendsen']\n",
      "tau-p  :  1.0\n",
      "compressibility  :  [4.5e-05]\n",
      "ref-p  :  [1.0]\n",
      "gen-vel  :  ['no']\n",
      "gen-temp  :  300.0\n",
      "gen-seed  :  173529\n",
      "constraints  :  ['all-bonds']\n"
     ]
    }
   ],
   "source": [
    "for key, val in mdps[0].items():\n",
    "    print(key, \" : \", val)"
   ]
  },
  {
   "cell_type": "code",
   "execution_count": 11,
   "metadata": {},
   "outputs": [],
   "source": [
    "nsteps = 20\n",
    "for mdp in mdps:\n",
    "    mdp['nstvout'] = 20\n",
    "    mdp[\"nstxout\"] = 20\n",
    "    mdp[\"nstxout-compressed\"] = 5\n",
    "    mdp[\"nstlist\"] = 10\n",
    "    mdp[\"continuation\"] = \"yes\""
   ]
  },
  {
   "cell_type": "code",
   "execution_count": 12,
   "metadata": {},
   "outputs": [
    {
     "data": {
      "text/plain": [
       "{'title': ['test'], 'cpp': ['/lib/cpp'], 'include': ['-I../top'], 'define': [], 'integrator': ['md-vv'], 'dt': 0.002, 'nsteps': 100000, 'nstxout': 20, 'nstvout': 20, 'nstlog': 10, 'nstenergy': 10, 'nstxout-compressed': 5, 'compressed-x-grps': ['Protein'], 'energygrps': ['Protein', 'SOL'], 'nstlist': 10, 'ns-type': ['grid'], 'cutoff-scheme': ['Verlet'], 'rlist': 1.1, 'coulombtype': ['PME'], 'rcoulomb': 1.1, 'rvdw': 1.1, 'tcoupl': ['Berendsen'], 'tc-grps': ['Protein', 'SOL'], 'tau-t': [0.1, 0.1], 'ref-t': [300.0, 300.0], 'Pcoupl': ['Berendsen'], 'tau-p': 1.0, 'compressibility': [4.5e-05], 'ref-p': [1.0], 'gen-vel': ['no'], 'gen-temp': 300.0, 'gen-seed': 173529, 'constraints': ['all-bonds'], 'continuation': ['yes']}"
      ]
     },
     "execution_count": 12,
     "metadata": {},
     "output_type": "execute_result"
    }
   ],
   "source": [
    "mdps[0]"
   ]
  },
  {
   "cell_type": "code",
   "execution_count": 13,
   "metadata": {},
   "outputs": [
    {
     "data": {
      "text/plain": [
       "True"
      ]
     },
     "execution_count": 13,
     "metadata": {},
     "output_type": "execute_result"
    }
   ],
   "source": [
    "mdps[0].changed"
   ]
  },
  {
   "cell_type": "code",
   "execution_count": 14,
   "metadata": {},
   "outputs": [],
   "source": [
    "import time"
   ]
  },
  {
   "cell_type": "code",
   "execution_count": 15,
   "metadata": {},
   "outputs": [],
   "source": [
    "from state_funcs_mda import descriptor_func_psi_phi\n",
    "\n",
    "descriptor_func_wrap = aimmdd.PyTrajectoryFunctionWrapper(descriptor_func_psi_phi)#, {\"scratch_dir\": scratch_dir})"
   ]
  },
  {
   "cell_type": "code",
   "execution_count": 16,
   "metadata": {},
   "outputs": [],
   "source": [
    "init_conf = aimmdd.Trajectory(trajectory_file=os.path.join(\"gmx_infiles/conf.trr\"),\n",
    "                              structure_file=os.path.join(\"gmx_infiles/conf.gro\"),\n",
    "                             )\n",
    "\n",
    "init_conf2 = aimmdd.Trajectory(trajectory_file=os.path.join(\"gmx_infiles/other_conf.trr\"),\n",
    "                               structure_file=os.path.join(\"gmx_infiles/conf.gro\"),\n",
    "                              )"
   ]
  },
  {
   "cell_type": "code",
   "execution_count": 17,
   "metadata": {},
   "outputs": [
    {
     "name": "stdout",
     "output_type": "stream",
     "text": [
      "[[0.90923707 1.49169309 0.50778891 1.08791043]]\n"
     ]
    }
   ],
   "source": [
    "cv = await descriptor_func_wrap(init_conf)\n",
    "print(cv)"
   ]
  },
  {
   "cell_type": "code",
   "execution_count": 18,
   "metadata": {},
   "outputs": [
    {
     "name": "stdout",
     "output_type": "stream",
     "text": [
      "[[1.00030301 0.50000009 0.67049795 0.62393033]]\n"
     ]
    }
   ],
   "source": [
    "cv = await descriptor_func_wrap(init_conf2)\n",
    "print(cv)"
   ]
  },
  {
   "cell_type": "code",
   "execution_count": 19,
   "metadata": {},
   "outputs": [],
   "source": [
    "descriptor_func_wrap_slurm = aimmdd.SlurmTrajectoryFunctionWrapper(\"state_funcs_mda.py\", \"gmx_infiles/calc_cvs_MASTER.slurm\", call_kwargs={\"--function\": \"descriptors\"})"
   ]
  },
  {
   "cell_type": "code",
   "execution_count": 20,
   "metadata": {
    "collapsed": true,
    "jupyter": {
     "outputs_hidden": true
    }
   },
   "outputs": [
    {
     "ename": "FileNotFoundError",
     "evalue": "[Errno 2] No such file or directory: 'sbatch'",
     "output_type": "error",
     "traceback": [
      "\u001b[0;31m---------------------------------------------------------------------------\u001b[0m",
      "\u001b[0;31mKeyError\u001b[0m                                  Traceback (most recent call last)",
      "\u001b[0;32m~/Documents/sources/OPS/aimmd/aimmd/distributed/trajectory.py\u001b[0m in \u001b[0;36m_apply_wrapped_func\u001b[0;34m(self, func_id, wrapped_func)\u001b[0m\n\u001b[1;32m    418\u001b[0m             \u001b[0;31m# see if it is in cache\u001b[0m\u001b[0;34m\u001b[0m\u001b[0;34m\u001b[0m\u001b[0;34m\u001b[0m\u001b[0m\n\u001b[0;32m--> 419\u001b[0;31m             \u001b[0midx\u001b[0m \u001b[0;34m=\u001b[0m \u001b[0mself\u001b[0m\u001b[0;34m.\u001b[0m\u001b[0m_func_id_to_idx\u001b[0m\u001b[0;34m[\u001b[0m\u001b[0mfunc_id\u001b[0m\u001b[0;34m]\u001b[0m\u001b[0;34m\u001b[0m\u001b[0;34m\u001b[0m\u001b[0m\n\u001b[0m\u001b[1;32m    420\u001b[0m             \u001b[0;32mreturn\u001b[0m \u001b[0mself\u001b[0m\u001b[0;34m.\u001b[0m\u001b[0m_func_values\u001b[0m\u001b[0;34m[\u001b[0m\u001b[0midx\u001b[0m\u001b[0;34m]\u001b[0m\u001b[0;34m\u001b[0m\u001b[0;34m\u001b[0m\u001b[0m\n",
      "\u001b[0;31mKeyError\u001b[0m: '11067101712394466317890835959466855382641468004357169336253987808093925684611909742145779141311708364498764315319774675701747053303347045144919383375557017'",
      "\nDuring handling of the above exception, another exception occurred:\n",
      "\u001b[0;31mFileNotFoundError\u001b[0m                         Traceback (most recent call last)",
      "\u001b[0;32m<ipython-input-20-d1df8a6a0f20>\u001b[0m in \u001b[0;36m<module>\u001b[0;34m\u001b[0m\n\u001b[0;32m----> 1\u001b[0;31m \u001b[0;32mawait\u001b[0m \u001b[0mdescriptor_func_wrap_slurm\u001b[0m\u001b[0;34m(\u001b[0m\u001b[0minit_conf\u001b[0m\u001b[0;34m)\u001b[0m\u001b[0;34m\u001b[0m\u001b[0;34m\u001b[0m\u001b[0m\n\u001b[0m",
      "\u001b[0;32m~/Documents/sources/OPS/aimmd/aimmd/distributed/trajectory.py\u001b[0m in \u001b[0;36m__call__\u001b[0;34m(self, value)\u001b[0m\n\u001b[1;32m    308\u001b[0m     \u001b[0;32masync\u001b[0m \u001b[0;32mdef\u001b[0m \u001b[0m__call__\u001b[0m\u001b[0;34m(\u001b[0m\u001b[0mself\u001b[0m\u001b[0;34m,\u001b[0m \u001b[0mvalue\u001b[0m\u001b[0;34m)\u001b[0m\u001b[0;34m:\u001b[0m\u001b[0;34m\u001b[0m\u001b[0;34m\u001b[0m\u001b[0m\n\u001b[1;32m    309\u001b[0m         \u001b[0;32mif\u001b[0m \u001b[0misinstance\u001b[0m\u001b[0;34m(\u001b[0m\u001b[0mvalue\u001b[0m\u001b[0;34m,\u001b[0m \u001b[0mTrajectory\u001b[0m\u001b[0;34m)\u001b[0m \u001b[0;32mand\u001b[0m \u001b[0mself\u001b[0m\u001b[0;34m.\u001b[0m\u001b[0mid\u001b[0m \u001b[0;32mis\u001b[0m \u001b[0;32mnot\u001b[0m \u001b[0;32mNone\u001b[0m\u001b[0;34m:\u001b[0m\u001b[0;34m\u001b[0m\u001b[0;34m\u001b[0m\u001b[0m\n\u001b[0;32m--> 310\u001b[0;31m             \u001b[0;32mreturn\u001b[0m \u001b[0;32mawait\u001b[0m \u001b[0mvalue\u001b[0m\u001b[0;34m.\u001b[0m\u001b[0m_apply_wrapped_func\u001b[0m\u001b[0;34m(\u001b[0m\u001b[0mself\u001b[0m\u001b[0;34m.\u001b[0m\u001b[0mid\u001b[0m\u001b[0;34m,\u001b[0m \u001b[0mself\u001b[0m\u001b[0;34m)\u001b[0m\u001b[0;34m\u001b[0m\u001b[0;34m\u001b[0m\u001b[0m\n\u001b[0m\u001b[1;32m    311\u001b[0m         \u001b[0;32melse\u001b[0m\u001b[0;34m:\u001b[0m\u001b[0;34m\u001b[0m\u001b[0;34m\u001b[0m\u001b[0m\n\u001b[1;32m    312\u001b[0m             raise ValueError(\"SlurmTrajectoryFunctionWrapper must be called\"\n",
      "\u001b[0;32m~/Documents/sources/OPS/aimmd/aimmd/distributed/trajectory.py\u001b[0m in \u001b[0;36m_apply_wrapped_func\u001b[0;34m(self, func_id, wrapped_func)\u001b[0m\n\u001b[1;32m    422\u001b[0m             \u001b[0;31m# if not calculate, store and return\u001b[0m\u001b[0;34m\u001b[0m\u001b[0;34m\u001b[0m\u001b[0;34m\u001b[0m\u001b[0m\n\u001b[1;32m    423\u001b[0m             \u001b[0;31m# send function application to seperate process and wait for it\u001b[0m\u001b[0;34m\u001b[0m\u001b[0;34m\u001b[0m\u001b[0;34m\u001b[0m\u001b[0m\n\u001b[0;32m--> 424\u001b[0;31m             \u001b[0mvals\u001b[0m \u001b[0;34m=\u001b[0m \u001b[0;32mawait\u001b[0m \u001b[0mwrapped_func\u001b[0m\u001b[0;34m.\u001b[0m\u001b[0mget_values_for_trajectory\u001b[0m\u001b[0;34m(\u001b[0m\u001b[0mself\u001b[0m\u001b[0;34m)\u001b[0m\u001b[0;34m\u001b[0m\u001b[0;34m\u001b[0m\u001b[0m\n\u001b[0m\u001b[1;32m    425\u001b[0m             \u001b[0mself\u001b[0m\u001b[0;34m.\u001b[0m\u001b[0m_func_id_to_idx\u001b[0m\u001b[0;34m[\u001b[0m\u001b[0mfunc_id\u001b[0m\u001b[0;34m]\u001b[0m \u001b[0;34m=\u001b[0m \u001b[0mlen\u001b[0m\u001b[0;34m(\u001b[0m\u001b[0mself\u001b[0m\u001b[0;34m.\u001b[0m\u001b[0m_func_id_to_idx\u001b[0m\u001b[0;34m)\u001b[0m\u001b[0;34m\u001b[0m\u001b[0;34m\u001b[0m\u001b[0m\n\u001b[1;32m    426\u001b[0m             \u001b[0mself\u001b[0m\u001b[0;34m.\u001b[0m\u001b[0m_func_values\u001b[0m\u001b[0;34m.\u001b[0m\u001b[0mappend\u001b[0m\u001b[0;34m(\u001b[0m\u001b[0mvals\u001b[0m\u001b[0;34m)\u001b[0m\u001b[0;34m\u001b[0m\u001b[0;34m\u001b[0m\u001b[0m\n",
      "\u001b[0;32m~/Documents/sources/OPS/aimmd/aimmd/distributed/trajectory.py\u001b[0m in \u001b[0;36mget_values_for_trajectory\u001b[0;34m(self, traj)\u001b[0m\n\u001b[1;32m    261\u001b[0m         \u001b[0mslurm_proc\u001b[0m \u001b[0;34m=\u001b[0m \u001b[0mSlurmProcess\u001b[0m\u001b[0;34m(\u001b[0m\u001b[0msbatch_script\u001b[0m\u001b[0;34m=\u001b[0m\u001b[0msbatch_fname\u001b[0m\u001b[0;34m,\u001b[0m \u001b[0mworkdir\u001b[0m\u001b[0;34m=\u001b[0m\u001b[0mtra_dir\u001b[0m\u001b[0;34m)\u001b[0m\u001b[0;34m\u001b[0m\u001b[0;34m\u001b[0m\u001b[0m\n\u001b[1;32m    262\u001b[0m         \u001b[0mslurm_proc\u001b[0m\u001b[0;34m.\u001b[0m\u001b[0msleep_time\u001b[0m \u001b[0;34m=\u001b[0m \u001b[0;36m10\u001b[0m  \u001b[0;31m# sleep 5 s between checking if done\u001b[0m\u001b[0;34m\u001b[0m\u001b[0;34m\u001b[0m\u001b[0m\n\u001b[0;32m--> 263\u001b[0;31m         \u001b[0;32mawait\u001b[0m \u001b[0mslurm_proc\u001b[0m\u001b[0;34m.\u001b[0m\u001b[0msubmit\u001b[0m\u001b[0;34m(\u001b[0m\u001b[0;34m)\u001b[0m\u001b[0;34m\u001b[0m\u001b[0;34m\u001b[0m\u001b[0m\n\u001b[0m\u001b[1;32m    264\u001b[0m         \u001b[0;31m# wait for the slurm job to finish\u001b[0m\u001b[0;34m\u001b[0m\u001b[0;34m\u001b[0m\u001b[0;34m\u001b[0m\u001b[0m\n\u001b[1;32m    265\u001b[0m         \u001b[0;31m# also cancel the job when this future is canceled\u001b[0m\u001b[0;34m\u001b[0m\u001b[0;34m\u001b[0m\u001b[0;34m\u001b[0m\u001b[0m\n",
      "\u001b[0;32m~/Documents/sources/OPS/aimmd/aimmd/distributed/slurm.py\u001b[0m in \u001b[0;36msubmit\u001b[0;34m(self)\u001b[0m\n\u001b[1;32m     91\u001b[0m     \u001b[0;32masync\u001b[0m \u001b[0;32mdef\u001b[0m \u001b[0msubmit\u001b[0m\u001b[0;34m(\u001b[0m\u001b[0mself\u001b[0m\u001b[0;34m)\u001b[0m\u001b[0;34m:\u001b[0m\u001b[0;34m\u001b[0m\u001b[0;34m\u001b[0m\u001b[0m\n\u001b[1;32m     92\u001b[0m         \u001b[0msbatch_cmd\u001b[0m \u001b[0;34m=\u001b[0m \u001b[0;34mf\"{self.sbatch_executable} --parsable {self.sbatch_script}\"\u001b[0m\u001b[0;34m\u001b[0m\u001b[0;34m\u001b[0m\u001b[0m\n\u001b[0;32m---> 93\u001b[0;31m         sbatch_proc = await asyncio.subprocess.create_subprocess_exec(\n\u001b[0m\u001b[1;32m     94\u001b[0m                                                 \u001b[0;34m*\u001b[0m\u001b[0mshlex\u001b[0m\u001b[0;34m.\u001b[0m\u001b[0msplit\u001b[0m\u001b[0;34m(\u001b[0m\u001b[0msbatch_cmd\u001b[0m\u001b[0;34m)\u001b[0m\u001b[0;34m,\u001b[0m\u001b[0;34m\u001b[0m\u001b[0;34m\u001b[0m\u001b[0m\n\u001b[1;32m     95\u001b[0m                                                 \u001b[0mstdout\u001b[0m\u001b[0;34m=\u001b[0m\u001b[0masyncio\u001b[0m\u001b[0;34m.\u001b[0m\u001b[0msubprocess\u001b[0m\u001b[0;34m.\u001b[0m\u001b[0mPIPE\u001b[0m\u001b[0;34m,\u001b[0m\u001b[0;34m\u001b[0m\u001b[0;34m\u001b[0m\u001b[0m\n",
      "\u001b[0;32m~/.conda/envs/aimmd_nature_publish/lib/python3.8/asyncio/subprocess.py\u001b[0m in \u001b[0;36mcreate_subprocess_exec\u001b[0;34m(program, stdin, stdout, stderr, loop, limit, *args, **kwds)\u001b[0m\n\u001b[1;32m    234\u001b[0m     protocol_factory = lambda: SubprocessStreamProtocol(limit=limit,\n\u001b[1;32m    235\u001b[0m                                                         loop=loop)\n\u001b[0;32m--> 236\u001b[0;31m     transport, protocol = await loop.subprocess_exec(\n\u001b[0m\u001b[1;32m    237\u001b[0m         \u001b[0mprotocol_factory\u001b[0m\u001b[0;34m,\u001b[0m\u001b[0;34m\u001b[0m\u001b[0;34m\u001b[0m\u001b[0m\n\u001b[1;32m    238\u001b[0m         \u001b[0mprogram\u001b[0m\u001b[0;34m,\u001b[0m \u001b[0;34m*\u001b[0m\u001b[0margs\u001b[0m\u001b[0;34m,\u001b[0m\u001b[0;34m\u001b[0m\u001b[0;34m\u001b[0m\u001b[0m\n",
      "\u001b[0;32m~/.conda/envs/aimmd_nature_publish/lib/python3.8/asyncio/base_events.py\u001b[0m in \u001b[0;36msubprocess_exec\u001b[0;34m(self, protocol_factory, program, stdin, stdout, stderr, universal_newlines, shell, bufsize, encoding, errors, text, *args, **kwargs)\u001b[0m\n\u001b[1;32m   1628\u001b[0m             \u001b[0mdebug_log\u001b[0m \u001b[0;34m=\u001b[0m \u001b[0;34mf'execute program {program!r}'\u001b[0m\u001b[0;34m\u001b[0m\u001b[0;34m\u001b[0m\u001b[0m\n\u001b[1;32m   1629\u001b[0m             \u001b[0mself\u001b[0m\u001b[0;34m.\u001b[0m\u001b[0m_log_subprocess\u001b[0m\u001b[0;34m(\u001b[0m\u001b[0mdebug_log\u001b[0m\u001b[0;34m,\u001b[0m \u001b[0mstdin\u001b[0m\u001b[0;34m,\u001b[0m \u001b[0mstdout\u001b[0m\u001b[0;34m,\u001b[0m \u001b[0mstderr\u001b[0m\u001b[0;34m)\u001b[0m\u001b[0;34m\u001b[0m\u001b[0;34m\u001b[0m\u001b[0m\n\u001b[0;32m-> 1630\u001b[0;31m         transport = await self._make_subprocess_transport(\n\u001b[0m\u001b[1;32m   1631\u001b[0m             \u001b[0mprotocol\u001b[0m\u001b[0;34m,\u001b[0m \u001b[0mpopen_args\u001b[0m\u001b[0;34m,\u001b[0m \u001b[0;32mFalse\u001b[0m\u001b[0;34m,\u001b[0m \u001b[0mstdin\u001b[0m\u001b[0;34m,\u001b[0m \u001b[0mstdout\u001b[0m\u001b[0;34m,\u001b[0m \u001b[0mstderr\u001b[0m\u001b[0;34m,\u001b[0m\u001b[0;34m\u001b[0m\u001b[0;34m\u001b[0m\u001b[0m\n\u001b[1;32m   1632\u001b[0m             bufsize, **kwargs)\n",
      "\u001b[0;32m~/.conda/envs/aimmd_nature_publish/lib/python3.8/asyncio/unix_events.py\u001b[0m in \u001b[0;36m_make_subprocess_transport\u001b[0;34m(self, protocol, args, shell, stdin, stdout, stderr, bufsize, extra, **kwargs)\u001b[0m\n\u001b[1;32m    195\u001b[0m                                    \"subprocess support is not installed.\")\n\u001b[1;32m    196\u001b[0m             \u001b[0mwaiter\u001b[0m \u001b[0;34m=\u001b[0m \u001b[0mself\u001b[0m\u001b[0;34m.\u001b[0m\u001b[0mcreate_future\u001b[0m\u001b[0;34m(\u001b[0m\u001b[0;34m)\u001b[0m\u001b[0;34m\u001b[0m\u001b[0;34m\u001b[0m\u001b[0m\n\u001b[0;32m--> 197\u001b[0;31m             transp = _UnixSubprocessTransport(self, protocol, args, shell,\n\u001b[0m\u001b[1;32m    198\u001b[0m                                               \u001b[0mstdin\u001b[0m\u001b[0;34m,\u001b[0m \u001b[0mstdout\u001b[0m\u001b[0;34m,\u001b[0m \u001b[0mstderr\u001b[0m\u001b[0;34m,\u001b[0m \u001b[0mbufsize\u001b[0m\u001b[0;34m,\u001b[0m\u001b[0;34m\u001b[0m\u001b[0;34m\u001b[0m\u001b[0m\n\u001b[1;32m    199\u001b[0m                                               \u001b[0mwaiter\u001b[0m\u001b[0;34m=\u001b[0m\u001b[0mwaiter\u001b[0m\u001b[0;34m,\u001b[0m \u001b[0mextra\u001b[0m\u001b[0;34m=\u001b[0m\u001b[0mextra\u001b[0m\u001b[0;34m,\u001b[0m\u001b[0;34m\u001b[0m\u001b[0;34m\u001b[0m\u001b[0m\n",
      "\u001b[0;32m~/.conda/envs/aimmd_nature_publish/lib/python3.8/asyncio/base_subprocess.py\u001b[0m in \u001b[0;36m__init__\u001b[0;34m(self, loop, protocol, args, shell, stdin, stdout, stderr, bufsize, waiter, extra, **kwargs)\u001b[0m\n\u001b[1;32m     34\u001b[0m         \u001b[0;31m# Create the child process: set the _proc attribute\u001b[0m\u001b[0;34m\u001b[0m\u001b[0;34m\u001b[0m\u001b[0;34m\u001b[0m\u001b[0m\n\u001b[1;32m     35\u001b[0m         \u001b[0;32mtry\u001b[0m\u001b[0;34m:\u001b[0m\u001b[0;34m\u001b[0m\u001b[0;34m\u001b[0m\u001b[0m\n\u001b[0;32m---> 36\u001b[0;31m             self._start(args=args, shell=shell, stdin=stdin, stdout=stdout,\n\u001b[0m\u001b[1;32m     37\u001b[0m                         stderr=stderr, bufsize=bufsize, **kwargs)\n\u001b[1;32m     38\u001b[0m         \u001b[0;32mexcept\u001b[0m\u001b[0;34m:\u001b[0m\u001b[0;34m\u001b[0m\u001b[0;34m\u001b[0m\u001b[0m\n",
      "\u001b[0;32m~/.conda/envs/aimmd_nature_publish/lib/python3.8/asyncio/unix_events.py\u001b[0m in \u001b[0;36m_start\u001b[0;34m(self, args, shell, stdin, stdout, stderr, bufsize, **kwargs)\u001b[0m\n\u001b[1;32m    787\u001b[0m             \u001b[0mstdin\u001b[0m\u001b[0;34m,\u001b[0m \u001b[0mstdin_w\u001b[0m \u001b[0;34m=\u001b[0m \u001b[0msocket\u001b[0m\u001b[0;34m.\u001b[0m\u001b[0msocketpair\u001b[0m\u001b[0;34m(\u001b[0m\u001b[0;34m)\u001b[0m\u001b[0;34m\u001b[0m\u001b[0;34m\u001b[0m\u001b[0m\n\u001b[1;32m    788\u001b[0m         \u001b[0;32mtry\u001b[0m\u001b[0;34m:\u001b[0m\u001b[0;34m\u001b[0m\u001b[0;34m\u001b[0m\u001b[0m\n\u001b[0;32m--> 789\u001b[0;31m             self._proc = subprocess.Popen(\n\u001b[0m\u001b[1;32m    790\u001b[0m                 \u001b[0margs\u001b[0m\u001b[0;34m,\u001b[0m \u001b[0mshell\u001b[0m\u001b[0;34m=\u001b[0m\u001b[0mshell\u001b[0m\u001b[0;34m,\u001b[0m \u001b[0mstdin\u001b[0m\u001b[0;34m=\u001b[0m\u001b[0mstdin\u001b[0m\u001b[0;34m,\u001b[0m \u001b[0mstdout\u001b[0m\u001b[0;34m=\u001b[0m\u001b[0mstdout\u001b[0m\u001b[0;34m,\u001b[0m \u001b[0mstderr\u001b[0m\u001b[0;34m=\u001b[0m\u001b[0mstderr\u001b[0m\u001b[0;34m,\u001b[0m\u001b[0;34m\u001b[0m\u001b[0;34m\u001b[0m\u001b[0m\n\u001b[1;32m    791\u001b[0m                 universal_newlines=False, bufsize=bufsize, **kwargs)\n",
      "\u001b[0;32m~/.conda/envs/aimmd_nature_publish/lib/python3.8/subprocess.py\u001b[0m in \u001b[0;36m__init__\u001b[0;34m(self, args, bufsize, executable, stdin, stdout, stderr, preexec_fn, close_fds, shell, cwd, env, universal_newlines, startupinfo, creationflags, restore_signals, start_new_session, pass_fds, encoding, errors, text)\u001b[0m\n\u001b[1;32m    856\u001b[0m                             encoding=encoding, errors=errors)\n\u001b[1;32m    857\u001b[0m \u001b[0;34m\u001b[0m\u001b[0m\n\u001b[0;32m--> 858\u001b[0;31m             self._execute_child(args, executable, preexec_fn, close_fds,\n\u001b[0m\u001b[1;32m    859\u001b[0m                                 \u001b[0mpass_fds\u001b[0m\u001b[0;34m,\u001b[0m \u001b[0mcwd\u001b[0m\u001b[0;34m,\u001b[0m \u001b[0menv\u001b[0m\u001b[0;34m,\u001b[0m\u001b[0;34m\u001b[0m\u001b[0;34m\u001b[0m\u001b[0m\n\u001b[1;32m    860\u001b[0m                                 \u001b[0mstartupinfo\u001b[0m\u001b[0;34m,\u001b[0m \u001b[0mcreationflags\u001b[0m\u001b[0;34m,\u001b[0m \u001b[0mshell\u001b[0m\u001b[0;34m,\u001b[0m\u001b[0;34m\u001b[0m\u001b[0;34m\u001b[0m\u001b[0m\n",
      "\u001b[0;32m~/.conda/envs/aimmd_nature_publish/lib/python3.8/subprocess.py\u001b[0m in \u001b[0;36m_execute_child\u001b[0;34m(self, args, executable, preexec_fn, close_fds, pass_fds, cwd, env, startupinfo, creationflags, shell, p2cread, p2cwrite, c2pread, c2pwrite, errread, errwrite, restore_signals, start_new_session)\u001b[0m\n\u001b[1;32m   1702\u001b[0m                     \u001b[0;32mif\u001b[0m \u001b[0merrno_num\u001b[0m \u001b[0;34m!=\u001b[0m \u001b[0;36m0\u001b[0m\u001b[0;34m:\u001b[0m\u001b[0;34m\u001b[0m\u001b[0;34m\u001b[0m\u001b[0m\n\u001b[1;32m   1703\u001b[0m                         \u001b[0merr_msg\u001b[0m \u001b[0;34m=\u001b[0m \u001b[0mos\u001b[0m\u001b[0;34m.\u001b[0m\u001b[0mstrerror\u001b[0m\u001b[0;34m(\u001b[0m\u001b[0merrno_num\u001b[0m\u001b[0;34m)\u001b[0m\u001b[0;34m\u001b[0m\u001b[0;34m\u001b[0m\u001b[0m\n\u001b[0;32m-> 1704\u001b[0;31m                     \u001b[0;32mraise\u001b[0m \u001b[0mchild_exception_type\u001b[0m\u001b[0;34m(\u001b[0m\u001b[0merrno_num\u001b[0m\u001b[0;34m,\u001b[0m \u001b[0merr_msg\u001b[0m\u001b[0;34m,\u001b[0m \u001b[0merr_filename\u001b[0m\u001b[0;34m)\u001b[0m\u001b[0;34m\u001b[0m\u001b[0;34m\u001b[0m\u001b[0m\n\u001b[0m\u001b[1;32m   1705\u001b[0m                 \u001b[0;32mraise\u001b[0m \u001b[0mchild_exception_type\u001b[0m\u001b[0;34m(\u001b[0m\u001b[0merr_msg\u001b[0m\u001b[0;34m)\u001b[0m\u001b[0;34m\u001b[0m\u001b[0;34m\u001b[0m\u001b[0m\n\u001b[1;32m   1706\u001b[0m \u001b[0;34m\u001b[0m\u001b[0m\n",
      "\u001b[0;31mFileNotFoundError\u001b[0m: [Errno 2] No such file or directory: 'sbatch'"
     ]
    }
   ],
   "source": [
    "#await descriptor_func_wrap_slurm(init_conf)"
   ]
  },
  {
   "cell_type": "code",
   "execution_count": 21,
   "metadata": {
    "collapsed": true,
    "jupyter": {
     "outputs_hidden": true
    }
   },
   "outputs": [
    {
     "ename": "FileNotFoundError",
     "evalue": "[Errno 2] No such file or directory: 'sbatch'",
     "output_type": "error",
     "traceback": [
      "\u001b[0;31m---------------------------------------------------------------------------\u001b[0m",
      "\u001b[0;31mKeyError\u001b[0m                                  Traceback (most recent call last)",
      "\u001b[0;32m~/Documents/sources/OPS/aimmd/aimmd/distributed/trajectory.py\u001b[0m in \u001b[0;36m_apply_wrapped_func\u001b[0;34m(self, func_id, wrapped_func)\u001b[0m\n\u001b[1;32m    418\u001b[0m             \u001b[0;31m# see if it is in cache\u001b[0m\u001b[0;34m\u001b[0m\u001b[0;34m\u001b[0m\u001b[0;34m\u001b[0m\u001b[0m\n\u001b[0;32m--> 419\u001b[0;31m             \u001b[0midx\u001b[0m \u001b[0;34m=\u001b[0m \u001b[0mself\u001b[0m\u001b[0;34m.\u001b[0m\u001b[0m_func_id_to_idx\u001b[0m\u001b[0;34m[\u001b[0m\u001b[0mfunc_id\u001b[0m\u001b[0;34m]\u001b[0m\u001b[0;34m\u001b[0m\u001b[0;34m\u001b[0m\u001b[0m\n\u001b[0m\u001b[1;32m    420\u001b[0m             \u001b[0;32mreturn\u001b[0m \u001b[0mself\u001b[0m\u001b[0;34m.\u001b[0m\u001b[0m_func_values\u001b[0m\u001b[0;34m[\u001b[0m\u001b[0midx\u001b[0m\u001b[0;34m]\u001b[0m\u001b[0;34m\u001b[0m\u001b[0;34m\u001b[0m\u001b[0m\n",
      "\u001b[0;31mKeyError\u001b[0m: '11067101712394466317890835959466855382641468004357169336253987808093925684611909742145779141311708364498764315319774675701747053303347045144919383375557017'",
      "\nDuring handling of the above exception, another exception occurred:\n",
      "\u001b[0;31mFileNotFoundError\u001b[0m                         Traceback (most recent call last)",
      "\u001b[0;32m<ipython-input-21-d2c1483371ca>\u001b[0m in \u001b[0;36m<module>\u001b[0;34m\u001b[0m\n\u001b[0;32m----> 1\u001b[0;31m \u001b[0;32mawait\u001b[0m \u001b[0mdescriptor_func_wrap_slurm\u001b[0m\u001b[0;34m(\u001b[0m\u001b[0minit_conf2\u001b[0m\u001b[0;34m)\u001b[0m\u001b[0;34m\u001b[0m\u001b[0;34m\u001b[0m\u001b[0m\n\u001b[0m",
      "\u001b[0;32m~/Documents/sources/OPS/aimmd/aimmd/distributed/trajectory.py\u001b[0m in \u001b[0;36m__call__\u001b[0;34m(self, value)\u001b[0m\n\u001b[1;32m    308\u001b[0m     \u001b[0;32masync\u001b[0m \u001b[0;32mdef\u001b[0m \u001b[0m__call__\u001b[0m\u001b[0;34m(\u001b[0m\u001b[0mself\u001b[0m\u001b[0;34m,\u001b[0m \u001b[0mvalue\u001b[0m\u001b[0;34m)\u001b[0m\u001b[0;34m:\u001b[0m\u001b[0;34m\u001b[0m\u001b[0;34m\u001b[0m\u001b[0m\n\u001b[1;32m    309\u001b[0m         \u001b[0;32mif\u001b[0m \u001b[0misinstance\u001b[0m\u001b[0;34m(\u001b[0m\u001b[0mvalue\u001b[0m\u001b[0;34m,\u001b[0m \u001b[0mTrajectory\u001b[0m\u001b[0;34m)\u001b[0m \u001b[0;32mand\u001b[0m \u001b[0mself\u001b[0m\u001b[0;34m.\u001b[0m\u001b[0mid\u001b[0m \u001b[0;32mis\u001b[0m \u001b[0;32mnot\u001b[0m \u001b[0;32mNone\u001b[0m\u001b[0;34m:\u001b[0m\u001b[0;34m\u001b[0m\u001b[0;34m\u001b[0m\u001b[0m\n\u001b[0;32m--> 310\u001b[0;31m             \u001b[0;32mreturn\u001b[0m \u001b[0;32mawait\u001b[0m \u001b[0mvalue\u001b[0m\u001b[0;34m.\u001b[0m\u001b[0m_apply_wrapped_func\u001b[0m\u001b[0;34m(\u001b[0m\u001b[0mself\u001b[0m\u001b[0;34m.\u001b[0m\u001b[0mid\u001b[0m\u001b[0;34m,\u001b[0m \u001b[0mself\u001b[0m\u001b[0;34m)\u001b[0m\u001b[0;34m\u001b[0m\u001b[0;34m\u001b[0m\u001b[0m\n\u001b[0m\u001b[1;32m    311\u001b[0m         \u001b[0;32melse\u001b[0m\u001b[0;34m:\u001b[0m\u001b[0;34m\u001b[0m\u001b[0;34m\u001b[0m\u001b[0m\n\u001b[1;32m    312\u001b[0m             raise ValueError(\"SlurmTrajectoryFunctionWrapper must be called\"\n",
      "\u001b[0;32m~/Documents/sources/OPS/aimmd/aimmd/distributed/trajectory.py\u001b[0m in \u001b[0;36m_apply_wrapped_func\u001b[0;34m(self, func_id, wrapped_func)\u001b[0m\n\u001b[1;32m    422\u001b[0m             \u001b[0;31m# if not calculate, store and return\u001b[0m\u001b[0;34m\u001b[0m\u001b[0;34m\u001b[0m\u001b[0;34m\u001b[0m\u001b[0m\n\u001b[1;32m    423\u001b[0m             \u001b[0;31m# send function application to seperate process and wait for it\u001b[0m\u001b[0;34m\u001b[0m\u001b[0;34m\u001b[0m\u001b[0;34m\u001b[0m\u001b[0m\n\u001b[0;32m--> 424\u001b[0;31m             \u001b[0mvals\u001b[0m \u001b[0;34m=\u001b[0m \u001b[0;32mawait\u001b[0m \u001b[0mwrapped_func\u001b[0m\u001b[0;34m.\u001b[0m\u001b[0mget_values_for_trajectory\u001b[0m\u001b[0;34m(\u001b[0m\u001b[0mself\u001b[0m\u001b[0;34m)\u001b[0m\u001b[0;34m\u001b[0m\u001b[0;34m\u001b[0m\u001b[0m\n\u001b[0m\u001b[1;32m    425\u001b[0m             \u001b[0mself\u001b[0m\u001b[0;34m.\u001b[0m\u001b[0m_func_id_to_idx\u001b[0m\u001b[0;34m[\u001b[0m\u001b[0mfunc_id\u001b[0m\u001b[0;34m]\u001b[0m \u001b[0;34m=\u001b[0m \u001b[0mlen\u001b[0m\u001b[0;34m(\u001b[0m\u001b[0mself\u001b[0m\u001b[0;34m.\u001b[0m\u001b[0m_func_id_to_idx\u001b[0m\u001b[0;34m)\u001b[0m\u001b[0;34m\u001b[0m\u001b[0;34m\u001b[0m\u001b[0m\n\u001b[1;32m    426\u001b[0m             \u001b[0mself\u001b[0m\u001b[0;34m.\u001b[0m\u001b[0m_func_values\u001b[0m\u001b[0;34m.\u001b[0m\u001b[0mappend\u001b[0m\u001b[0;34m(\u001b[0m\u001b[0mvals\u001b[0m\u001b[0;34m)\u001b[0m\u001b[0;34m\u001b[0m\u001b[0;34m\u001b[0m\u001b[0m\n",
      "\u001b[0;32m~/Documents/sources/OPS/aimmd/aimmd/distributed/trajectory.py\u001b[0m in \u001b[0;36mget_values_for_trajectory\u001b[0;34m(self, traj)\u001b[0m\n\u001b[1;32m    261\u001b[0m         \u001b[0mslurm_proc\u001b[0m \u001b[0;34m=\u001b[0m \u001b[0mSlurmProcess\u001b[0m\u001b[0;34m(\u001b[0m\u001b[0msbatch_script\u001b[0m\u001b[0;34m=\u001b[0m\u001b[0msbatch_fname\u001b[0m\u001b[0;34m,\u001b[0m \u001b[0mworkdir\u001b[0m\u001b[0;34m=\u001b[0m\u001b[0mtra_dir\u001b[0m\u001b[0;34m)\u001b[0m\u001b[0;34m\u001b[0m\u001b[0;34m\u001b[0m\u001b[0m\n\u001b[1;32m    262\u001b[0m         \u001b[0mslurm_proc\u001b[0m\u001b[0;34m.\u001b[0m\u001b[0msleep_time\u001b[0m \u001b[0;34m=\u001b[0m \u001b[0;36m10\u001b[0m  \u001b[0;31m# sleep 5 s between checking if done\u001b[0m\u001b[0;34m\u001b[0m\u001b[0;34m\u001b[0m\u001b[0m\n\u001b[0;32m--> 263\u001b[0;31m         \u001b[0;32mawait\u001b[0m \u001b[0mslurm_proc\u001b[0m\u001b[0;34m.\u001b[0m\u001b[0msubmit\u001b[0m\u001b[0;34m(\u001b[0m\u001b[0;34m)\u001b[0m\u001b[0;34m\u001b[0m\u001b[0;34m\u001b[0m\u001b[0m\n\u001b[0m\u001b[1;32m    264\u001b[0m         \u001b[0;31m# wait for the slurm job to finish\u001b[0m\u001b[0;34m\u001b[0m\u001b[0;34m\u001b[0m\u001b[0;34m\u001b[0m\u001b[0m\n\u001b[1;32m    265\u001b[0m         \u001b[0;31m# also cancel the job when this future is canceled\u001b[0m\u001b[0;34m\u001b[0m\u001b[0;34m\u001b[0m\u001b[0;34m\u001b[0m\u001b[0m\n",
      "\u001b[0;32m~/Documents/sources/OPS/aimmd/aimmd/distributed/slurm.py\u001b[0m in \u001b[0;36msubmit\u001b[0;34m(self)\u001b[0m\n\u001b[1;32m     91\u001b[0m     \u001b[0;32masync\u001b[0m \u001b[0;32mdef\u001b[0m \u001b[0msubmit\u001b[0m\u001b[0;34m(\u001b[0m\u001b[0mself\u001b[0m\u001b[0;34m)\u001b[0m\u001b[0;34m:\u001b[0m\u001b[0;34m\u001b[0m\u001b[0;34m\u001b[0m\u001b[0m\n\u001b[1;32m     92\u001b[0m         \u001b[0msbatch_cmd\u001b[0m \u001b[0;34m=\u001b[0m \u001b[0;34mf\"{self.sbatch_executable} --parsable {self.sbatch_script}\"\u001b[0m\u001b[0;34m\u001b[0m\u001b[0;34m\u001b[0m\u001b[0m\n\u001b[0;32m---> 93\u001b[0;31m         sbatch_proc = await asyncio.subprocess.create_subprocess_exec(\n\u001b[0m\u001b[1;32m     94\u001b[0m                                                 \u001b[0;34m*\u001b[0m\u001b[0mshlex\u001b[0m\u001b[0;34m.\u001b[0m\u001b[0msplit\u001b[0m\u001b[0;34m(\u001b[0m\u001b[0msbatch_cmd\u001b[0m\u001b[0;34m)\u001b[0m\u001b[0;34m,\u001b[0m\u001b[0;34m\u001b[0m\u001b[0;34m\u001b[0m\u001b[0m\n\u001b[1;32m     95\u001b[0m                                                 \u001b[0mstdout\u001b[0m\u001b[0;34m=\u001b[0m\u001b[0masyncio\u001b[0m\u001b[0;34m.\u001b[0m\u001b[0msubprocess\u001b[0m\u001b[0;34m.\u001b[0m\u001b[0mPIPE\u001b[0m\u001b[0;34m,\u001b[0m\u001b[0;34m\u001b[0m\u001b[0;34m\u001b[0m\u001b[0m\n",
      "\u001b[0;32m~/.conda/envs/aimmd_nature_publish/lib/python3.8/asyncio/subprocess.py\u001b[0m in \u001b[0;36mcreate_subprocess_exec\u001b[0;34m(program, stdin, stdout, stderr, loop, limit, *args, **kwds)\u001b[0m\n\u001b[1;32m    234\u001b[0m     protocol_factory = lambda: SubprocessStreamProtocol(limit=limit,\n\u001b[1;32m    235\u001b[0m                                                         loop=loop)\n\u001b[0;32m--> 236\u001b[0;31m     transport, protocol = await loop.subprocess_exec(\n\u001b[0m\u001b[1;32m    237\u001b[0m         \u001b[0mprotocol_factory\u001b[0m\u001b[0;34m,\u001b[0m\u001b[0;34m\u001b[0m\u001b[0;34m\u001b[0m\u001b[0m\n\u001b[1;32m    238\u001b[0m         \u001b[0mprogram\u001b[0m\u001b[0;34m,\u001b[0m \u001b[0;34m*\u001b[0m\u001b[0margs\u001b[0m\u001b[0;34m,\u001b[0m\u001b[0;34m\u001b[0m\u001b[0;34m\u001b[0m\u001b[0m\n",
      "\u001b[0;32m~/.conda/envs/aimmd_nature_publish/lib/python3.8/asyncio/base_events.py\u001b[0m in \u001b[0;36msubprocess_exec\u001b[0;34m(self, protocol_factory, program, stdin, stdout, stderr, universal_newlines, shell, bufsize, encoding, errors, text, *args, **kwargs)\u001b[0m\n\u001b[1;32m   1628\u001b[0m             \u001b[0mdebug_log\u001b[0m \u001b[0;34m=\u001b[0m \u001b[0;34mf'execute program {program!r}'\u001b[0m\u001b[0;34m\u001b[0m\u001b[0;34m\u001b[0m\u001b[0m\n\u001b[1;32m   1629\u001b[0m             \u001b[0mself\u001b[0m\u001b[0;34m.\u001b[0m\u001b[0m_log_subprocess\u001b[0m\u001b[0;34m(\u001b[0m\u001b[0mdebug_log\u001b[0m\u001b[0;34m,\u001b[0m \u001b[0mstdin\u001b[0m\u001b[0;34m,\u001b[0m \u001b[0mstdout\u001b[0m\u001b[0;34m,\u001b[0m \u001b[0mstderr\u001b[0m\u001b[0;34m)\u001b[0m\u001b[0;34m\u001b[0m\u001b[0;34m\u001b[0m\u001b[0m\n\u001b[0;32m-> 1630\u001b[0;31m         transport = await self._make_subprocess_transport(\n\u001b[0m\u001b[1;32m   1631\u001b[0m             \u001b[0mprotocol\u001b[0m\u001b[0;34m,\u001b[0m \u001b[0mpopen_args\u001b[0m\u001b[0;34m,\u001b[0m \u001b[0;32mFalse\u001b[0m\u001b[0;34m,\u001b[0m \u001b[0mstdin\u001b[0m\u001b[0;34m,\u001b[0m \u001b[0mstdout\u001b[0m\u001b[0;34m,\u001b[0m \u001b[0mstderr\u001b[0m\u001b[0;34m,\u001b[0m\u001b[0;34m\u001b[0m\u001b[0;34m\u001b[0m\u001b[0m\n\u001b[1;32m   1632\u001b[0m             bufsize, **kwargs)\n",
      "\u001b[0;32m~/.conda/envs/aimmd_nature_publish/lib/python3.8/asyncio/unix_events.py\u001b[0m in \u001b[0;36m_make_subprocess_transport\u001b[0;34m(self, protocol, args, shell, stdin, stdout, stderr, bufsize, extra, **kwargs)\u001b[0m\n\u001b[1;32m    195\u001b[0m                                    \"subprocess support is not installed.\")\n\u001b[1;32m    196\u001b[0m             \u001b[0mwaiter\u001b[0m \u001b[0;34m=\u001b[0m \u001b[0mself\u001b[0m\u001b[0;34m.\u001b[0m\u001b[0mcreate_future\u001b[0m\u001b[0;34m(\u001b[0m\u001b[0;34m)\u001b[0m\u001b[0;34m\u001b[0m\u001b[0;34m\u001b[0m\u001b[0m\n\u001b[0;32m--> 197\u001b[0;31m             transp = _UnixSubprocessTransport(self, protocol, args, shell,\n\u001b[0m\u001b[1;32m    198\u001b[0m                                               \u001b[0mstdin\u001b[0m\u001b[0;34m,\u001b[0m \u001b[0mstdout\u001b[0m\u001b[0;34m,\u001b[0m \u001b[0mstderr\u001b[0m\u001b[0;34m,\u001b[0m \u001b[0mbufsize\u001b[0m\u001b[0;34m,\u001b[0m\u001b[0;34m\u001b[0m\u001b[0;34m\u001b[0m\u001b[0m\n\u001b[1;32m    199\u001b[0m                                               \u001b[0mwaiter\u001b[0m\u001b[0;34m=\u001b[0m\u001b[0mwaiter\u001b[0m\u001b[0;34m,\u001b[0m \u001b[0mextra\u001b[0m\u001b[0;34m=\u001b[0m\u001b[0mextra\u001b[0m\u001b[0;34m,\u001b[0m\u001b[0;34m\u001b[0m\u001b[0;34m\u001b[0m\u001b[0m\n",
      "\u001b[0;32m~/.conda/envs/aimmd_nature_publish/lib/python3.8/asyncio/base_subprocess.py\u001b[0m in \u001b[0;36m__init__\u001b[0;34m(self, loop, protocol, args, shell, stdin, stdout, stderr, bufsize, waiter, extra, **kwargs)\u001b[0m\n\u001b[1;32m     34\u001b[0m         \u001b[0;31m# Create the child process: set the _proc attribute\u001b[0m\u001b[0;34m\u001b[0m\u001b[0;34m\u001b[0m\u001b[0;34m\u001b[0m\u001b[0m\n\u001b[1;32m     35\u001b[0m         \u001b[0;32mtry\u001b[0m\u001b[0;34m:\u001b[0m\u001b[0;34m\u001b[0m\u001b[0;34m\u001b[0m\u001b[0m\n\u001b[0;32m---> 36\u001b[0;31m             self._start(args=args, shell=shell, stdin=stdin, stdout=stdout,\n\u001b[0m\u001b[1;32m     37\u001b[0m                         stderr=stderr, bufsize=bufsize, **kwargs)\n\u001b[1;32m     38\u001b[0m         \u001b[0;32mexcept\u001b[0m\u001b[0;34m:\u001b[0m\u001b[0;34m\u001b[0m\u001b[0;34m\u001b[0m\u001b[0m\n",
      "\u001b[0;32m~/.conda/envs/aimmd_nature_publish/lib/python3.8/asyncio/unix_events.py\u001b[0m in \u001b[0;36m_start\u001b[0;34m(self, args, shell, stdin, stdout, stderr, bufsize, **kwargs)\u001b[0m\n\u001b[1;32m    787\u001b[0m             \u001b[0mstdin\u001b[0m\u001b[0;34m,\u001b[0m \u001b[0mstdin_w\u001b[0m \u001b[0;34m=\u001b[0m \u001b[0msocket\u001b[0m\u001b[0;34m.\u001b[0m\u001b[0msocketpair\u001b[0m\u001b[0;34m(\u001b[0m\u001b[0;34m)\u001b[0m\u001b[0;34m\u001b[0m\u001b[0;34m\u001b[0m\u001b[0m\n\u001b[1;32m    788\u001b[0m         \u001b[0;32mtry\u001b[0m\u001b[0;34m:\u001b[0m\u001b[0;34m\u001b[0m\u001b[0;34m\u001b[0m\u001b[0m\n\u001b[0;32m--> 789\u001b[0;31m             self._proc = subprocess.Popen(\n\u001b[0m\u001b[1;32m    790\u001b[0m                 \u001b[0margs\u001b[0m\u001b[0;34m,\u001b[0m \u001b[0mshell\u001b[0m\u001b[0;34m=\u001b[0m\u001b[0mshell\u001b[0m\u001b[0;34m,\u001b[0m \u001b[0mstdin\u001b[0m\u001b[0;34m=\u001b[0m\u001b[0mstdin\u001b[0m\u001b[0;34m,\u001b[0m \u001b[0mstdout\u001b[0m\u001b[0;34m=\u001b[0m\u001b[0mstdout\u001b[0m\u001b[0;34m,\u001b[0m \u001b[0mstderr\u001b[0m\u001b[0;34m=\u001b[0m\u001b[0mstderr\u001b[0m\u001b[0;34m,\u001b[0m\u001b[0;34m\u001b[0m\u001b[0;34m\u001b[0m\u001b[0m\n\u001b[1;32m    791\u001b[0m                 universal_newlines=False, bufsize=bufsize, **kwargs)\n",
      "\u001b[0;32m~/.conda/envs/aimmd_nature_publish/lib/python3.8/subprocess.py\u001b[0m in \u001b[0;36m__init__\u001b[0;34m(self, args, bufsize, executable, stdin, stdout, stderr, preexec_fn, close_fds, shell, cwd, env, universal_newlines, startupinfo, creationflags, restore_signals, start_new_session, pass_fds, encoding, errors, text)\u001b[0m\n\u001b[1;32m    856\u001b[0m                             encoding=encoding, errors=errors)\n\u001b[1;32m    857\u001b[0m \u001b[0;34m\u001b[0m\u001b[0m\n\u001b[0;32m--> 858\u001b[0;31m             self._execute_child(args, executable, preexec_fn, close_fds,\n\u001b[0m\u001b[1;32m    859\u001b[0m                                 \u001b[0mpass_fds\u001b[0m\u001b[0;34m,\u001b[0m \u001b[0mcwd\u001b[0m\u001b[0;34m,\u001b[0m \u001b[0menv\u001b[0m\u001b[0;34m,\u001b[0m\u001b[0;34m\u001b[0m\u001b[0;34m\u001b[0m\u001b[0m\n\u001b[1;32m    860\u001b[0m                                 \u001b[0mstartupinfo\u001b[0m\u001b[0;34m,\u001b[0m \u001b[0mcreationflags\u001b[0m\u001b[0;34m,\u001b[0m \u001b[0mshell\u001b[0m\u001b[0;34m,\u001b[0m\u001b[0;34m\u001b[0m\u001b[0;34m\u001b[0m\u001b[0m\n",
      "\u001b[0;32m~/.conda/envs/aimmd_nature_publish/lib/python3.8/subprocess.py\u001b[0m in \u001b[0;36m_execute_child\u001b[0;34m(self, args, executable, preexec_fn, close_fds, pass_fds, cwd, env, startupinfo, creationflags, shell, p2cread, p2cwrite, c2pread, c2pwrite, errread, errwrite, restore_signals, start_new_session)\u001b[0m\n\u001b[1;32m   1702\u001b[0m                     \u001b[0;32mif\u001b[0m \u001b[0merrno_num\u001b[0m \u001b[0;34m!=\u001b[0m \u001b[0;36m0\u001b[0m\u001b[0;34m:\u001b[0m\u001b[0;34m\u001b[0m\u001b[0;34m\u001b[0m\u001b[0m\n\u001b[1;32m   1703\u001b[0m                         \u001b[0merr_msg\u001b[0m \u001b[0;34m=\u001b[0m \u001b[0mos\u001b[0m\u001b[0;34m.\u001b[0m\u001b[0mstrerror\u001b[0m\u001b[0;34m(\u001b[0m\u001b[0merrno_num\u001b[0m\u001b[0;34m)\u001b[0m\u001b[0;34m\u001b[0m\u001b[0;34m\u001b[0m\u001b[0m\n\u001b[0;32m-> 1704\u001b[0;31m                     \u001b[0;32mraise\u001b[0m \u001b[0mchild_exception_type\u001b[0m\u001b[0;34m(\u001b[0m\u001b[0merrno_num\u001b[0m\u001b[0;34m,\u001b[0m \u001b[0merr_msg\u001b[0m\u001b[0;34m,\u001b[0m \u001b[0merr_filename\u001b[0m\u001b[0;34m)\u001b[0m\u001b[0;34m\u001b[0m\u001b[0;34m\u001b[0m\u001b[0m\n\u001b[0m\u001b[1;32m   1705\u001b[0m                 \u001b[0;32mraise\u001b[0m \u001b[0mchild_exception_type\u001b[0m\u001b[0;34m(\u001b[0m\u001b[0merr_msg\u001b[0m\u001b[0;34m)\u001b[0m\u001b[0;34m\u001b[0m\u001b[0;34m\u001b[0m\u001b[0m\n\u001b[1;32m   1706\u001b[0m \u001b[0;34m\u001b[0m\u001b[0m\n",
      "\u001b[0;31mFileNotFoundError\u001b[0m: [Errno 2] No such file or directory: 'sbatch'"
     ]
    }
   ],
   "source": [
    "#await descriptor_func_wrap_slurm(init_conf2)"
   ]
  },
  {
   "cell_type": "code",
   "execution_count": 22,
   "metadata": {},
   "outputs": [
    {
     "name": "stdout",
     "output_type": "stream",
     "text": [
      "time elapsed: 0.06507611274719238 s\n"
     ]
    }
   ],
   "source": [
    "start = time.time()\n",
    "await asyncio.gather(*(e.prepare(starting_configuration=init_conf2, workdir=wdir, deffnm=\"blab\", run_config=mdp)\n",
    "                               for e, wdir, mdp in zip(engines, wdirs, mdps)\n",
    "                               )\n",
    "                            )\n",
    "end = time.time()\n",
    "print(f\"time elapsed: {end-start} s\")"
   ]
  },
  {
   "cell_type": "code",
   "execution_count": 23,
   "metadata": {},
   "outputs": [
    {
     "name": "stdout",
     "output_type": "stream",
     "text": [
      "time elapsed: 18.64672541618347 s\n"
     ]
    },
    {
     "name": "stderr",
     "output_type": "stream",
     "text": [
      "/home/think/.conda/envs/aimmd_nature_publish/lib/python3.8/site-packages/MDAnalysis/topology/tpr/utils.py:389: DeprecationWarning: TPR files index residues from 0. From MDAnalysis version 2.0, resids will start at 1 instead. If you wish to keep indexing resids from 0, please set `tpr_resid_from_one=False` as a keyword argument when you create a new Topology or Universe.\n",
      "  warnings.warn(\"TPR files index residues from 0. \"\n"
     ]
    }
   ],
   "source": [
    "walltime = 0.005 # 0.01 h = 36 s\n",
    "start = time.time()\n",
    "trajs = await asyncio.gather(*(e.run_walltime(walltime) for e in engines))\n",
    "end = time.time()\n",
    "print(f\"time elapsed: {end-start} s\")"
   ]
  },
  {
   "cell_type": "code",
   "execution_count": 24,
   "metadata": {},
   "outputs": [
    {
     "data": {
      "text/plain": [
       "array([[1.00030301, 0.50000009, 0.67049795, 0.62393033],\n",
       "       [1.04864427, 0.50237189, 0.70278706, 0.59792479],\n",
       "       [1.01796867, 0.50032298, 0.71046427, 0.5923616 ],\n",
       "       ...,\n",
       "       [1.22999626, 0.5560386 , 0.53788412, 1.19091598],\n",
       "       [1.1747439 , 0.53152954, 0.53712161, 1.18905977],\n",
       "       [1.16050702, 0.52646278, 0.50753545, 1.08647931]])"
      ]
     },
     "execution_count": 24,
     "metadata": {},
     "output_type": "execute_result"
    }
   ],
   "source": [
    "cv = await descriptor_func_wrap(trajs[0])\n",
    "cv"
   ]
  },
  {
   "cell_type": "code",
   "execution_count": 25,
   "metadata": {},
   "outputs": [
    {
     "data": {
      "text/plain": [
       "(1061, 4)"
      ]
     },
     "execution_count": 25,
     "metadata": {},
     "output_type": "execute_result"
    }
   ],
   "source": [
    "cv.shape"
   ]
  },
  {
   "cell_type": "code",
   "execution_count": 26,
   "metadata": {},
   "outputs": [
    {
     "name": "stdout",
     "output_type": "stream",
     "text": [
      "engine 0 did 1060 frames (== 21200 integration steps)\n",
      "engine 1 did 1068 frames (== 21360 integration steps)\n",
      "engine 2 did 1044 frames (== 20880 integration steps)\n",
      "engine 3 did 1204 frames (== 24080 integration steps)\n"
     ]
    }
   ],
   "source": [
    "for i, e in enumerate(engines):\n",
    "    print(f\"engine {i} did {e.frames_done} frames (== {e.steps_done} integration steps)\")"
   ]
  },
  {
   "cell_type": "code",
   "execution_count": 27,
   "metadata": {},
   "outputs": [
    {
     "name": "stdout",
     "output_type": "stream",
     "text": [
      "1061 Trajectory(trajectory_file=/home/think/scratch/aimmd_distributed/engine_wdir0/blab.part0001.trr, structure_file=/home/think/scratch/aimmd_distributed/engine_wdir0/blab.tpr)\n",
      "1069 Trajectory(trajectory_file=/home/think/scratch/aimmd_distributed/engine_wdir1/blab.part0001.trr, structure_file=/home/think/scratch/aimmd_distributed/engine_wdir1/blab.tpr)\n",
      "1045 Trajectory(trajectory_file=/home/think/scratch/aimmd_distributed/engine_wdir2/blab.part0001.trr, structure_file=/home/think/scratch/aimmd_distributed/engine_wdir2/blab.tpr)\n",
      "1205 Trajectory(trajectory_file=/home/think/scratch/aimmd_distributed/engine_wdir3/blab.part0001.trr, structure_file=/home/think/scratch/aimmd_distributed/engine_wdir3/blab.tpr)\n"
     ]
    }
   ],
   "source": [
    "for t in trajs:\n",
    "    print(len(t), t)"
   ]
  },
  {
   "cell_type": "code",
   "execution_count": 28,
   "metadata": {},
   "outputs": [
    {
     "name": "stdout",
     "output_type": "stream",
     "text": [
      "time elapsed: 18.70518445968628 s\n"
     ]
    },
    {
     "name": "stderr",
     "output_type": "stream",
     "text": [
      "/home/think/.conda/envs/aimmd_nature_publish/lib/python3.8/site-packages/MDAnalysis/topology/tpr/utils.py:389: DeprecationWarning: TPR files index residues from 0. From MDAnalysis version 2.0, resids will start at 1 instead. If you wish to keep indexing resids from 0, please set `tpr_resid_from_one=False` as a keyword argument when you create a new Topology or Universe.\n",
      "  warnings.warn(\"TPR files index residues from 0. \"\n"
     ]
    },
    {
     "data": {
      "text/plain": [
       "array([[1.16050702, 0.52646278, 0.50753545, 1.08647931],\n",
       "       [1.17289006, 0.53084221, 0.50261395, 0.94894002],\n",
       "       [1.18120339, 0.53398999, 0.50780033, 0.91202568],\n",
       "       ...,\n",
       "       [1.34222102, 0.63546636, 0.50018195, 0.98651235],\n",
       "       [1.30967284, 0.60744079, 0.5042814 , 0.93470784],\n",
       "       [1.30498082, 0.60378453, 0.51047094, 0.89820952]])"
      ]
     },
     "execution_count": 28,
     "metadata": {},
     "output_type": "execute_result"
    }
   ],
   "source": [
    "walltime = 0.005 # 0.01 h = 36 s\n",
    "start = time.time()\n",
    "trajs = await asyncio.gather(*(e.run_walltime(walltime) for e in engines))\n",
    "end = time.time()\n",
    "print(f\"time elapsed: {end-start} s\")\n",
    "cv = await descriptor_func_wrap(trajs[0])\n",
    "cv"
   ]
  },
  {
   "cell_type": "code",
   "execution_count": 29,
   "metadata": {},
   "outputs": [
    {
     "data": {
      "text/plain": [
       "(1061, 4)"
      ]
     },
     "execution_count": 29,
     "metadata": {},
     "output_type": "execute_result"
    }
   ],
   "source": [
    "cv.shape"
   ]
  },
  {
   "cell_type": "code",
   "execution_count": 30,
   "metadata": {},
   "outputs": [
    {
     "name": "stdout",
     "output_type": "stream",
     "text": [
      "engine 0 did 2120 frames (== 42400 integration steps)\n",
      "engine 1 did 2124 frames (== 42480 integration steps)\n",
      "engine 2 did 2100 frames (== 42000 integration steps)\n",
      "engine 3 did 2264 frames (== 45280 integration steps)\n"
     ]
    }
   ],
   "source": [
    "for i, e in enumerate(engines):\n",
    "    print(f\"engine {i} did {e.frames_done} frames (== {e.steps_done} integration steps)\")"
   ]
  },
  {
   "cell_type": "code",
   "execution_count": 31,
   "metadata": {},
   "outputs": [
    {
     "name": "stdout",
     "output_type": "stream",
     "text": [
      "1061 Trajectory(trajectory_file=/home/think/scratch/aimmd_distributed/engine_wdir0/blab.part0002.trr, structure_file=/home/think/scratch/aimmd_distributed/engine_wdir0/blab.tpr)\n",
      "1057 Trajectory(trajectory_file=/home/think/scratch/aimmd_distributed/engine_wdir1/blab.part0002.trr, structure_file=/home/think/scratch/aimmd_distributed/engine_wdir1/blab.tpr)\n",
      "1057 Trajectory(trajectory_file=/home/think/scratch/aimmd_distributed/engine_wdir2/blab.part0002.trr, structure_file=/home/think/scratch/aimmd_distributed/engine_wdir2/blab.tpr)\n",
      "1061 Trajectory(trajectory_file=/home/think/scratch/aimmd_distributed/engine_wdir3/blab.part0002.trr, structure_file=/home/think/scratch/aimmd_distributed/engine_wdir3/blab.tpr)\n"
     ]
    }
   ],
   "source": [
    "for t in trajs:\n",
    "    print(len(t), t)"
   ]
  },
  {
   "cell_type": "code",
   "execution_count": 32,
   "metadata": {},
   "outputs": [
    {
     "name": "stdout",
     "output_type": "stream",
     "text": [
      "time elapsed: 0.7660493850708008 s\n"
     ]
    },
    {
     "name": "stderr",
     "output_type": "stream",
     "text": [
      "/home/think/.conda/envs/aimmd_nature_publish/lib/python3.8/site-packages/MDAnalysis/topology/tpr/utils.py:389: DeprecationWarning: TPR files index residues from 0. From MDAnalysis version 2.0, resids will start at 1 instead. If you wish to keep indexing resids from 0, please set `tpr_resid_from_one=False` as a keyword argument when you create a new Topology or Universe.\n",
      "  warnings.warn(\"TPR files index residues from 0. \"\n"
     ]
    }
   ],
   "source": [
    "start = time.time()\n",
    "trajs = await asyncio.gather(*(e.run_steps(nsteps, steps_per_part=True) for e in engines))\n",
    "end = time.time()\n",
    "print(f\"time elapsed: {end-start} s\")"
   ]
  },
  {
   "cell_type": "code",
   "execution_count": 33,
   "metadata": {},
   "outputs": [],
   "source": [
    "cv = await descriptor_func_wrap(trajs[0])"
   ]
  },
  {
   "cell_type": "code",
   "execution_count": 34,
   "metadata": {},
   "outputs": [
    {
     "data": {
      "text/plain": [
       "array([[1.30498082, 0.60378453, 0.51047094, 0.89820952],\n",
       "       [1.29379113, 0.59541778, 0.62315692, 0.67138275]])"
      ]
     },
     "execution_count": 34,
     "metadata": {},
     "output_type": "execute_result"
    }
   ],
   "source": [
    "cv"
   ]
  },
  {
   "cell_type": "code",
   "execution_count": 35,
   "metadata": {},
   "outputs": [
    {
     "name": "stdout",
     "output_type": "stream",
     "text": [
      "2 Trajectory(trajectory_file=/home/think/scratch/aimmd_distributed/engine_wdir0/blab.part0003.trr, structure_file=/home/think/scratch/aimmd_distributed/engine_wdir0/blab.tpr)\n",
      "2 Trajectory(trajectory_file=/home/think/scratch/aimmd_distributed/engine_wdir1/blab.part0003.trr, structure_file=/home/think/scratch/aimmd_distributed/engine_wdir1/blab.tpr)\n",
      "2 Trajectory(trajectory_file=/home/think/scratch/aimmd_distributed/engine_wdir2/blab.part0003.trr, structure_file=/home/think/scratch/aimmd_distributed/engine_wdir2/blab.tpr)\n",
      "2 Trajectory(trajectory_file=/home/think/scratch/aimmd_distributed/engine_wdir3/blab.part0003.trr, structure_file=/home/think/scratch/aimmd_distributed/engine_wdir3/blab.tpr)\n"
     ]
    }
   ],
   "source": [
    "for t in trajs:\n",
    "    print(len(t), t)"
   ]
  },
  {
   "cell_type": "code",
   "execution_count": 36,
   "metadata": {},
   "outputs": [
    {
     "name": "stdout",
     "output_type": "stream",
     "text": [
      "engine 0 did 2121 frames (== 42420 integration steps)\n",
      "engine 1 did 2125 frames (== 42500 integration steps)\n",
      "engine 2 did 2101 frames (== 42020 integration steps)\n",
      "engine 3 did 2265 frames (== 45300 integration steps)\n"
     ]
    }
   ],
   "source": [
    "for i, e in enumerate(engines):\n",
    "    print(f\"engine {i} did {e.frames_done} frames (== {e.steps_done} integration steps)\")"
   ]
  },
  {
   "cell_type": "code",
   "execution_count": 37,
   "metadata": {},
   "outputs": [
    {
     "data": {
      "text/plain": [
       "42420"
      ]
     },
     "execution_count": 37,
     "metadata": {},
     "output_type": "execute_result"
    }
   ],
   "source": [
    "trajs[0].last_step"
   ]
  },
  {
   "cell_type": "code",
   "execution_count": 38,
   "metadata": {},
   "outputs": [
    {
     "name": "stdout",
     "output_type": "stream",
     "text": [
      "{'frame': 0, '_n_atoms': 1651, 'data': {'time': 84.80000305175781, 'step': 42400, 'lambda': 0.0, 'dt': 0.0399932861328125}, '_has_positions': True, '_has_velocities': True, '_has_forces': False, '_pos': array([[21.318285 , 22.719357 ,  7.1754274],\n",
      "       [21.162472 , 21.656345 ,  7.3593864],\n",
      "       [20.397308 , 23.2847   ,  7.3179197],\n",
      "       ...,\n",
      "       [15.161304 ,  3.5767522, 10.879899 ],\n",
      "       [15.254726 ,  2.7780614, 10.360671 ],\n",
      "       [15.658651 ,  4.236635 , 10.396751 ]], dtype=float32), '_unitcell': array([25.616795, 25.616795, 25.616795, 90.      , 90.      , 90.      ],\n",
      "      dtype=float32), 'aux': {}, '_velocities': array([[  3.2818928,   4.9918995,  -2.7013025],\n",
      "       [ 27.991894 ,   1.3098364,  -3.0318592],\n",
      "       [  8.594737 ,  18.544773 , -22.111197 ],\n",
      "       ...,\n",
      "       [  1.3527086,   3.9159832,   9.509464 ],\n",
      "       [ 13.512682 ,   3.5898223,  12.19906  ],\n",
      "       [  1.3556803,   6.9213963,  13.617302 ]], dtype=float32)}\n",
      "{'frame': 1, '_n_atoms': 1651, 'data': {'time': 84.83999633789062, 'step': 42420, 'lambda': 0.0, 'dt': 0.0399932861328125}, '_has_positions': True, '_has_velocities': True, '_has_forces': False, '_pos': array([[21.315407 , 22.863338 ,  7.013219 ],\n",
      "       [20.97101  , 21.859734 ,  7.2627907],\n",
      "       [20.434217 , 23.443325 ,  7.287519 ],\n",
      "       ...,\n",
      "       [15.306646 ,  3.6804924, 11.239339 ],\n",
      "       [15.083027 ,  3.140565 , 10.481247 ],\n",
      "       [15.786357 ,  4.4229364, 10.87207  ]], dtype=float32), '_unitcell': array([25.615911, 25.615911, 25.615911, 90.      , 90.      , 90.      ],\n",
      "      dtype=float32), 'aux': {}, '_velocities': array([[  0.5970922 ,   3.2202115 ,  -5.7903905 ],\n",
      "       [  3.1636655 ,  -0.16787097, -15.873276  ],\n",
      "       [ -4.9285374 ,  -6.3846664 ,  -3.2326386 ],\n",
      "       ...,\n",
      "       [  5.940548  ,   3.1056645 ,   5.3127246 ],\n",
      "       [-16.627136  ,  -8.9873085 ,  20.582512  ],\n",
      "       [ -0.0311041 ,  -5.6588907 , -20.20504   ]], dtype=float32)}\n"
     ]
    }
   ],
   "source": [
    "u0 = mda.Universe(trajs[0].structure_file, trajs[0].trajectory_file)\n",
    "ts00 = u0.trajectory[0]\n",
    "print(ts00.__dict__)\n",
    "#print(ts00.step)\n",
    "ts0_1 = u0.trajectory[-1]\n",
    "print(ts0_1.__dict__)\n",
    "#print(ts0_1.step)"
   ]
  },
  {
   "cell_type": "code",
   "execution_count": 39,
   "metadata": {},
   "outputs": [
    {
     "name": "stdout",
     "output_type": "stream",
     "text": [
      "time elapsed: 0.7198045253753662 s\n"
     ]
    },
    {
     "name": "stderr",
     "output_type": "stream",
     "text": [
      "/home/think/.conda/envs/aimmd_nature_publish/lib/python3.8/site-packages/MDAnalysis/topology/tpr/utils.py:389: DeprecationWarning: TPR files index residues from 0. From MDAnalysis version 2.0, resids will start at 1 instead. If you wish to keep indexing resids from 0, please set `tpr_resid_from_one=False` as a keyword argument when you create a new Topology or Universe.\n",
      "  warnings.warn(\"TPR files index residues from 0. \"\n"
     ]
    }
   ],
   "source": [
    "start = time.time()\n",
    "trajs = await asyncio.gather(*(e.run_steps(nsteps, steps_per_part=True) for e in engines))\n",
    "end = time.time()\n",
    "print(f\"time elapsed: {end-start} s\")"
   ]
  },
  {
   "cell_type": "code",
   "execution_count": 40,
   "metadata": {},
   "outputs": [
    {
     "name": "stdout",
     "output_type": "stream",
     "text": [
      "[[1.29379112 0.59541778 0.62315683 0.67138285]\n",
      " [1.30179225 0.60135049 0.66993855 0.6244212 ]]\n"
     ]
    }
   ],
   "source": [
    "cv = await descriptor_func_wrap(trajs[0])\n",
    "print(cv)"
   ]
  },
  {
   "cell_type": "code",
   "execution_count": 41,
   "metadata": {},
   "outputs": [
    {
     "name": "stdout",
     "output_type": "stream",
     "text": [
      "engine 0 did 2122 frames (== 42440 integration steps)\n",
      "engine 1 did 2126 frames (== 42520 integration steps)\n",
      "engine 2 did 2102 frames (== 42040 integration steps)\n",
      "engine 3 did 2266 frames (== 45320 integration steps)\n"
     ]
    }
   ],
   "source": [
    "for i, e in enumerate(engines):\n",
    "    print(f\"engine {i} did {e.frames_done} frames (== {e.steps_done} integration steps)\")"
   ]
  },
  {
   "cell_type": "code",
   "execution_count": 42,
   "metadata": {},
   "outputs": [
    {
     "name": "stdout",
     "output_type": "stream",
     "text": [
      "2 Trajectory(trajectory_file=/home/think/scratch/aimmd_distributed/engine_wdir0/blab.part0004.trr, structure_file=/home/think/scratch/aimmd_distributed/engine_wdir0/blab.tpr)\n",
      "2 Trajectory(trajectory_file=/home/think/scratch/aimmd_distributed/engine_wdir1/blab.part0004.trr, structure_file=/home/think/scratch/aimmd_distributed/engine_wdir1/blab.tpr)\n",
      "2 Trajectory(trajectory_file=/home/think/scratch/aimmd_distributed/engine_wdir2/blab.part0004.trr, structure_file=/home/think/scratch/aimmd_distributed/engine_wdir2/blab.tpr)\n",
      "2 Trajectory(trajectory_file=/home/think/scratch/aimmd_distributed/engine_wdir3/blab.part0004.trr, structure_file=/home/think/scratch/aimmd_distributed/engine_wdir3/blab.tpr)\n"
     ]
    }
   ],
   "source": [
    "for t in trajs:\n",
    "    print(len(t), t)"
   ]
  },
  {
   "cell_type": "code",
   "execution_count": 43,
   "metadata": {},
   "outputs": [
    {
     "data": {
      "text/plain": [
       "42420"
      ]
     },
     "execution_count": 43,
     "metadata": {},
     "output_type": "execute_result"
    }
   ],
   "source": [
    "trajs[0].first_step"
   ]
  },
  {
   "cell_type": "code",
   "execution_count": 44,
   "metadata": {},
   "outputs": [
    {
     "name": "stdout",
     "output_type": "stream",
     "text": [
      "{'frame': 0, '_n_atoms': 1651, 'data': {'time': 84.83999633789062, 'step': 42420, 'lambda': 0.0, 'dt': 0.04000091552734375}, '_has_positions': True, '_has_velocities': True, '_has_forces': False, '_pos': array([[21.315407 , 22.863338 ,  7.013219 ],\n",
      "       [20.97101  , 21.859734 ,  7.2627907],\n",
      "       [20.434217 , 23.443325 ,  7.287519 ],\n",
      "       ...,\n",
      "       [15.306646 ,  3.6804924, 11.239339 ],\n",
      "       [15.083027 ,  3.140565 , 10.481247 ],\n",
      "       [15.786357 ,  4.4229364, 10.87207  ]], dtype=float32), '_unitcell': array([25.615911, 25.615911, 25.615911, 90.      , 90.      , 90.      ],\n",
      "      dtype=float32), 'aux': {}, '_velocities': array([[  0.5970922 ,   3.2202115 ,  -5.7903905 ],\n",
      "       [  3.1636655 ,  -0.16787097, -15.873276  ],\n",
      "       [ -4.9285374 ,  -6.3846664 ,  -3.2326386 ],\n",
      "       ...,\n",
      "       [  5.940548  ,   3.1056645 ,   5.3127246 ],\n",
      "       [-16.627136  ,  -8.9873085 ,  20.582512  ],\n",
      "       [ -0.0311041 ,  -5.6588907 , -20.20504   ]], dtype=float32)}\n",
      "{'frame': 1, '_n_atoms': 1651, 'data': {'time': 84.87999725341797, 'step': 42440, 'lambda': 0.0, 'dt': 0.04000091552734375}, '_has_positions': True, '_has_velocities': True, '_has_forces': False, '_pos': array([[21.477219 , 22.931625 ,  6.8208265],\n",
      "       [21.328547 , 21.856281 ,  6.7226124],\n",
      "       [20.550337 , 23.453512 ,  7.058826 ],\n",
      "       ...,\n",
      "       [15.293292 ,  3.5782528, 11.262589 ],\n",
      "       [15.421253 ,  3.001536 , 10.509426 ],\n",
      "       [15.746075 ,  4.387409 , 11.024924 ]], dtype=float32), '_unitcell': array([25.622042, 25.622042, 25.622042, 90.      , 90.      , 90.      ],\n",
      "      dtype=float32), 'aux': {}, '_velocities': array([[  2.0306478 ,  -0.91754556,  -4.1496267 ],\n",
      "       [ -5.63541   ,  -0.35114384,   1.3034946 ],\n",
      "       [ -2.8269694 , -16.671331  ,  11.456746  ],\n",
      "       ...,\n",
      "       [ -3.3717937 ,  -5.314746  ,  -2.4013093 ],\n",
      "       [  4.878375  ,   0.4814887 ,  -5.437949  ],\n",
      "       [ -7.297474  ,  -0.7690326 ,   5.5961204 ]], dtype=float32)}\n"
     ]
    }
   ],
   "source": [
    "u0 = mda.Universe(trajs[0].structure_file, trajs[0].trajectory_file)\n",
    "ts00 = u0.trajectory[0]\n",
    "print(ts00.__dict__)\n",
    "ts0_1 = u0.trajectory[-1]\n",
    "print(ts0_1.__dict__)"
   ]
  },
  {
   "cell_type": "code",
   "execution_count": 45,
   "metadata": {},
   "outputs": [
    {
     "name": "stdout",
     "output_type": "stream",
     "text": [
      "time elapsed: 4.336025238037109 s\n"
     ]
    },
    {
     "name": "stderr",
     "output_type": "stream",
     "text": [
      "/home/think/.conda/envs/aimmd_nature_publish/lib/python3.8/site-packages/MDAnalysis/topology/tpr/utils.py:389: DeprecationWarning: TPR files index residues from 0. From MDAnalysis version 2.0, resids will start at 1 instead. If you wish to keep indexing resids from 0, please set `tpr_resid_from_one=False` as a keyword argument when you create a new Topology or Universe.\n",
      "  warnings.warn(\"TPR files index residues from 0. \"\n"
     ]
    }
   ],
   "source": [
    "start = time.time()\n",
    "trajs = await asyncio.gather(*(e.run_walltime(0.001) for e in engines))\n",
    "end = time.time()\n",
    "print(f\"time elapsed: {end-start} s\")"
   ]
  },
  {
   "cell_type": "code",
   "execution_count": 46,
   "metadata": {
    "collapsed": true,
    "jupyter": {
     "outputs_hidden": true
    }
   },
   "outputs": [
    {
     "name": "stdout",
     "output_type": "stream",
     "text": [
      "[[1.30179225 0.60135049 0.66993855 0.6244212 ]\n",
      " [1.34446865 0.63758952 0.69121041 0.60674564]\n",
      " [1.22284887 0.55240824 0.6834174  0.61299166]\n",
      " [1.22265413 0.55231134 0.59833466 0.70223339]\n",
      " [1.20659522 0.54467768 0.57710458 0.73324269]\n",
      " [1.25496574 0.56989249 0.53831009 0.80805618]\n",
      " [1.24513418 0.56421423 0.52297252 0.85018417]\n",
      " [1.25324301 0.56887592 0.50380061 0.93846818]\n",
      " [1.27775807 0.58424713 0.50109255 0.96696424]\n",
      " [1.26389101 0.57531007 0.5017449  0.95826442]\n",
      " [1.35688078 0.64980562 0.51717418 1.12992008]\n",
      " [1.24684334 0.56518007 0.50897988 1.0943358 ]\n",
      " [1.25860657 0.57207169 0.55802324 1.23378739]\n",
      " [1.28615747 0.58998304 0.53824112 1.19177783]\n",
      " [1.31022543 0.60787734 0.54462502 1.20647911]\n",
      " [1.30962768 0.60740517 0.51178157 1.10790164]\n",
      " [1.28076849 0.58627418 0.55874053 1.23513844]\n",
      " [1.22554001 0.55375824 0.53892426 1.19341448]\n",
      " [1.17430393 0.53136567 0.51195824 1.10869793]\n",
      " [1.07587143 0.50579    0.52447128 1.15450709]\n",
      " [1.12553278 0.51601496 0.51384596 1.1168514 ]\n",
      " [1.17538862 0.53177054 0.5097024  1.09802177]\n",
      " [1.15757678 0.52547965 0.5207468  1.14253552]\n",
      " [1.23250523 0.55734741 0.58215792 1.27460517]\n",
      " [1.18026887 0.53362769 0.52179293 1.14600685]\n",
      " [1.26275004 0.57460322 0.54424145 1.20563108]\n",
      " [1.30026022 0.6001953  0.50579029 1.07587334]\n",
      " [1.2851011  0.58924781 0.53305323 1.17877561]\n",
      " [1.28407089 0.58853465 0.52469591 1.15519673]\n",
      " [1.3464951  0.6395265  0.52612401 1.15950407]\n",
      " [1.36905617 0.66266108 0.58024905 1.27167837]\n",
      " [1.36853958 0.6620968  0.59524264 1.29354978]\n",
      " [1.38044833 0.67556346 0.59611383 1.29474728]\n",
      " [1.29558907 0.5967295  0.57796835 1.26812177]\n",
      " [1.31890642 0.6149043  0.6684673  1.37428073]\n",
      " [1.28692845 0.59052221 0.54718834 1.21204152]\n",
      " [1.3442013  0.63733561 0.53315435 1.17903949]\n",
      " [1.31499614 0.6116993  0.53794373 1.19106022]\n",
      " [1.31681239 0.61317975 0.51242981 1.11079399]\n",
      " [1.25401498 0.5693303  0.50109278 1.0330392 ]\n",
      " [1.32517313 0.62018105 0.51187413 1.1083196 ]\n",
      " [1.32257334 0.61797063 0.55557494 1.22909903]\n",
      " [1.35651889 0.6494372  0.53333413 1.17950755]\n",
      " [1.33201452 0.62614661 0.53154975 1.17479806]\n",
      " [1.36028114 0.65330489 0.58606275 1.28045669]\n",
      " [1.34586523 0.63892211 0.56689543 1.24984081]\n",
      " [1.29266892 0.59460525 0.55143879 1.22089102]\n",
      " [1.21285786 0.54757152 0.51033177 1.10111889]\n",
      " [1.22992164 0.55599995 0.52073087 1.14248192]\n",
      " [1.20172403 0.54249872 0.50063832 1.02525687]\n",
      " [1.28084755 0.58632784 0.51447348 1.11943197]\n",
      " [1.26865224 0.57830583 0.54845442 1.21472445]\n",
      " [1.24264675 0.56282434 0.54065524 1.19749023]\n",
      " [1.14102936 0.52030143 0.5194133  1.13797253]\n",
      " [1.15156195 0.52352442 0.54512693 1.20758248]\n",
      " [1.23700705 0.55974137 0.62527698 1.33103272]\n",
      " [1.32431277 0.61944616 0.61957559 1.32446459]\n",
      " [1.29968216 0.59976182 0.54189373 1.20034632]\n",
      " [1.33736498 0.63096766 0.52342292 1.15124248]\n",
      " [1.25072301 0.56740553 0.50168694 1.04103773]\n",
      " [1.26884019 0.57842562 0.50448464 1.06681715]\n",
      " [1.23200509 0.55708507 0.50032994 1.01816135]\n",
      " [1.32624351 0.62110005 0.52911433 1.16812698]\n",
      " [1.27949013 0.58540952 0.50991057 1.09905729]\n",
      " [1.27806466 0.58445211 0.50115592 1.03397917]\n",
      " [1.1714377  0.53030955 0.51794674 1.13275787]\n",
      " [1.21104706 0.54672399 0.55070448 1.21939356]\n",
      " [1.24100085 0.56191486 0.56063857 1.23866616]\n",
      " [1.27351604 0.58144418 0.56048331 1.23838012]\n",
      " [1.24736038 0.565474   0.59055387 1.28697363]\n",
      " [1.22335573 0.55266096 0.51203088 1.10902354]\n",
      " [1.25728359 0.57127497 0.50722028 1.08466493]\n",
      " [1.2666537  0.57703924 0.51966109 1.13883276]\n",
      " [1.3280503  0.62266328 0.58968511 1.2857301 ]\n",
      " [1.24181203 0.56236209 0.53637213 1.1872143 ]\n",
      " [1.26036875 0.57314157 0.53072761 1.17257873]\n",
      " [1.22240377 0.55218691 0.52614761 1.15957415]\n",
      " [1.26488015 0.5759263  0.52852961 1.16648025]\n",
      " [1.18836478 0.53683836 0.54174367 1.20000285]\n",
      " [1.19176141 0.5382343  0.5713558  1.25741824]\n",
      " [1.25246275 0.56841854 0.58803383 1.2833441 ]\n",
      " [1.37513026 0.66942885 0.61110286 1.31425947]\n",
      " [1.37169692 0.66557303 0.59539469 1.29375933]\n",
      " [1.35035216 0.6432741  0.56877074 1.25306388]\n",
      " [1.36578665 0.6591186  0.5466067  1.21079496]\n",
      " [1.41199986 0.71670489 0.67665635 1.38137761]\n",
      " [1.45339261 0.78920356 0.71385576 1.41002619]\n",
      " [1.4515761  0.78533974 0.64822481 1.35532269]\n",
      " [1.3665276  0.65991543 0.56689641 1.24984251]\n",
      " [1.34307514 0.63627009 0.53759682 1.19021908]\n",
      " [1.37400272 0.6681537  0.55175312 1.22152819]\n",
      " [1.39451086 0.69281735 0.58542581 1.27951429]\n",
      " [1.3227091  0.6180853  0.54263746 1.20203839]\n",
      " [1.28381236 0.58835629 0.55707287 1.2319818 ]\n",
      " [1.23090852 0.55651239 0.57426514 1.26220189]\n",
      " [1.3167982  0.61316812 0.67369916 1.37885058]\n",
      " [1.28639551 0.59014928 0.63307973 1.33966088]\n",
      " [1.38508631 0.68108225 0.67340481 1.37859686]\n",
      " [1.34032074 0.63369167 0.56045388 1.23832585]\n",
      " [1.35951878 0.65251439 0.58289032 1.27571637]\n",
      " [1.32605063 0.62093406 0.56848129 1.25257   ]\n",
      " [1.34633079 0.63936863 0.54173031 1.19997222]\n",
      " [1.35540159 0.64830452 0.56765986 1.2511613 ]\n",
      " [1.34712926 0.64013714 0.5701409  1.25538433]\n",
      " [1.32900069 0.62349164 0.55265057 1.22333492]\n",
      " [1.40500391 0.70679046 0.59042838 1.2867945 ]\n",
      " [1.42263106 0.73282405 0.61877593 1.32352467]\n",
      " [1.39092342 0.68826472 0.55314164 1.22431585]\n",
      " [1.40347273 0.70468702 0.57246549 1.2592571 ]\n",
      " [1.36251277 0.65563901 0.5588456  1.2353355 ]\n",
      " [1.37943082 0.67437407 0.55112811 1.220259  ]\n",
      " [1.41542704 0.72175483 0.58677407 1.2815037 ]\n",
      " [1.35143598 0.64434181 0.56835593 1.2523557 ]\n",
      " [1.3537306  0.64662391 0.5597672  1.23705502]\n",
      " [1.30236107 0.60178174 0.5207457  1.14253182]\n",
      " [1.32327308 0.61856257 0.54693814 1.21150638]\n",
      " [1.31470526 0.61146352 0.59705501 1.29603266]\n",
      " [1.37668881 0.67120593 0.75193336 1.43412319]\n",
      " [1.21044438 0.54644387 0.59237715 1.28955761]\n",
      " [1.12841006 0.51677039 0.53605336 1.18642296]\n",
      " [1.07414288 0.50552772 0.535598   1.18528569]\n",
      " [1.10413025 0.5109633  0.55803148 1.23380296]\n",
      " [1.20667712 0.54471485 0.55810584 1.23394349]\n",
      " [1.25788997 0.57163944 0.52621694 1.15977988]\n",
      " [1.27572191 0.58289398 0.52947916 1.16914533]\n",
      " [1.32536822 0.62034816 0.5164903  1.12735135]\n",
      " [1.30647454 0.6049388  0.52410964 1.15338959]\n",
      " [1.34835373 0.64132232 0.52331664 1.15090716]\n",
      " [1.3220265  0.61750956 0.51489949 1.1211507 ]\n",
      " [1.26638623 0.57687073 0.54182847 1.20019702]\n",
      " [1.24623407 0.56483477 0.58637662 1.28091939]\n",
      " [1.27967787 0.58553614 0.58431038 1.27785273]\n",
      " [1.27834618 0.58464063 0.57107164 1.25694448]\n",
      " [1.34120249 0.63451285 0.58428663 1.27781719]\n",
      " [1.33145123 0.62564711 0.57161927 1.25785645]\n",
      " [1.32109963 0.61673113 0.57500412 1.26339798]\n",
      " [1.3005561  0.60041768 0.58846558 1.28397081]\n",
      " [1.2434969  0.56329728 0.54281638 1.20244292]\n",
      " [1.27647595 0.58339342 0.52786383 1.16458262]\n",
      " [1.25306331 0.56877041 0.51845517 1.13459041]\n",
      " [1.2945026  0.59593538 0.57293814 1.26003494]\n",
      " [1.19384075 0.5391033  0.56838562 1.25240648]\n",
      " [1.13440301 0.51840283 0.55225252 1.22253583]\n",
      " [1.05253894 0.502768   0.5626179  1.24227443]\n",
      " [1.13051858 0.51733562 0.60537894 1.30704108]\n",
      " [1.1805142  0.53372259 0.55292312 1.22388002]\n",
      " [1.26769492 0.57769747 0.53771888 1.19051553]\n",
      " [1.29736187 0.59803493 0.54489773 1.20707952]\n",
      " [1.33619624 0.6299026  0.53242138 1.17711645]\n",
      " [1.37116796 0.66498605 0.53451378 1.18254474]\n",
      " [1.36298283 0.65613452 0.53702421 1.18882112]\n",
      " [1.38962062 0.68663795 0.55937577 1.23632666]\n",
      " [1.37061581 0.66437533 0.52403593 1.15316072]\n",
      " [1.42193635 0.73172827 0.54491451 1.20711639]\n",
      " [1.44554926 0.77309504 0.5706109  1.25617378]\n",
      " [1.43706256 0.75714959 0.64325997 1.35033777]\n",
      " [1.38820229 0.68488259 0.58056428 1.2721648 ]\n",
      " [1.34386744 0.63701903 0.5416076  1.19969078]\n",
      " [1.28320765 0.58794002 0.59262377 1.28990447]\n",
      " [1.26766657 0.5776795  0.5966872  1.29553136]\n",
      " [1.21399239 0.54810703 0.55370076 1.22542624]\n",
      " [1.23503963 0.55868789 0.52744835 1.16338585]\n",
      " [1.26768954 0.57769406 0.54801021 1.21378782]\n",
      " [1.29402091 0.59558474 0.514491   1.11950317]\n",
      " [1.37548978 0.66983727 0.50102742 0.96796304]\n",
      " [1.42878719 0.74282001 0.50603347 0.92255924]\n",
      " [1.43941689 0.76143597 0.50000225 0.99849928]\n",
      " [1.46520539 0.81674077 0.50000664 0.9974227 ]\n",
      " [1.4572882  0.79779341 0.50727414 1.08497779]\n",
      " [1.48585396 0.88190711 0.54888151 1.21562028]\n",
      " [1.47644773 0.84835055 0.51961858 1.13868559]\n",
      " [1.47116727 0.83266379 0.53439514 1.18224191]\n",
      " [1.46618267 0.81924127 0.52068752 1.14233605]\n",
      " [1.44729283 0.77655173 0.53698896 1.18873467]\n",
      " [1.46774382 0.82332029 0.51883673 1.13594816]\n",
      " [1.48056916 0.86196638 0.50000215 0.99853449]\n",
      " [1.48499868 0.87844229 0.50195313 1.04415101]\n",
      " [1.49584351 0.93566326 0.50189606 1.0435025 ]\n",
      " [1.46661545 0.82036141 0.50381818 1.06167334]\n",
      " [1.46162729 0.80790564 0.5012331  1.03509382]\n",
      " [1.45380158 0.79008543 0.51491912 1.12122929]\n",
      " [1.43353325 0.75090378 0.50253541 1.05028894]\n",
      " [1.37583388 0.67022902 0.50644605 1.08002811]\n",
      " [1.38086801 0.67605625 0.50025761 1.01604815]\n",
      " [1.41520525 0.72142397 0.50567739 0.92486573]\n",
      " [1.41645724 0.72329914 0.50326261 0.942974  ]\n",
      " [1.47225342 0.83575414 0.50217131 0.95345329]\n",
      " [1.46070177 0.80569644 0.50264406 1.05135238]\n",
      " [1.49254418 0.91397538 0.50083199 1.02883224]\n",
      " [1.49456139 0.92645385 0.5020499  1.0452294 ]\n",
      " [1.49826644 0.95840006 0.51548606 1.12347568]\n",
      " [1.4961835  0.93834019 0.5053401  1.07288058]\n",
      " [1.49485698 0.92846979 0.52538441 1.15728969]\n",
      " [1.49232296 0.91271823 0.52499962 1.15612379]\n",
      " [1.49420299 0.9240829  0.5744933  1.26257198]\n",
      " [1.48312792 0.87120785 0.55774699 1.23326439]\n",
      " [1.46349727 0.81246258 0.52474017 1.15533219]\n",
      " [1.43500995 0.7534917  0.51048255 1.10184629]\n",
      " [1.45077356 0.78365953 0.56967392 1.25459668]\n",
      " [1.46287396 0.8109294  0.53410203 1.18149128]\n",
      " [1.4869614  0.88656016 0.53968363 1.19521486]\n",
      " [1.49387389 0.92197062 0.52767864 1.16405039]\n",
      " [1.48729235 0.88799034 0.56822861 1.25213779]\n",
      " [1.48036864 0.86127016 0.58476206 1.27852729]\n",
      " [1.46868835 0.82584136 0.57865364 1.26919742]\n",
      " [1.47504056 0.84399852 0.57239316 1.25913779]\n",
      " [1.47038917 0.83048884 0.52425188 1.15383019]\n",
      " [1.49123787 0.90680475 0.5512177  1.22044148]\n",
      " [1.4823775  0.86842513 0.52512288 1.15649832]\n",
      " [1.47598284 0.84689762 0.5723917  1.25913537]\n",
      " [1.47738922 0.85134089 0.59970231 1.29960267]\n",
      " [1.45710061 0.79736972 0.61121638 1.3143999 ]\n",
      " [1.41791906 0.725512   0.5970421  1.29601508]\n",
      " [1.39509681 0.69357136 0.53936558 1.19446319]\n",
      " [1.36670132 0.66010274 0.51621788 1.12631253]]\n"
     ]
    }
   ],
   "source": [
    "cv = await descriptor_func_wrap(trajs[0])\n",
    "print(cv)"
   ]
  },
  {
   "cell_type": "code",
   "execution_count": 47,
   "metadata": {},
   "outputs": [
    {
     "name": "stdout",
     "output_type": "stream",
     "text": [
      "engine 0 did 2336 frames (== 46720 integration steps)\n",
      "engine 1 did 2340 frames (== 46800 integration steps)\n",
      "engine 2 did 2316 frames (== 46320 integration steps)\n",
      "engine 3 did 2480 frames (== 49600 integration steps)\n"
     ]
    }
   ],
   "source": [
    "for i, e in enumerate(engines):\n",
    "    print(f\"engine {i} did {e.frames_done} frames (== {e.steps_done} integration steps)\")"
   ]
  },
  {
   "cell_type": "code",
   "execution_count": 48,
   "metadata": {},
   "outputs": [
    {
     "data": {
      "text/plain": [
       "42440"
      ]
     },
     "execution_count": 48,
     "metadata": {},
     "output_type": "execute_result"
    }
   ],
   "source": [
    "trajs[0].first_step"
   ]
  },
  {
   "cell_type": "code",
   "execution_count": 49,
   "metadata": {},
   "outputs": [
    {
     "name": "stdout",
     "output_type": "stream",
     "text": [
      "{'frame': 0, '_n_atoms': 1651, 'data': {'time': 84.87999725341797, 'step': 42440, 'lambda': 0.0, 'dt': 0.04000091552734375}, '_has_positions': True, '_has_velocities': True, '_has_forces': False, '_pos': array([[21.477219 , 22.931625 ,  6.8208265],\n",
      "       [21.328547 , 21.856281 ,  6.7226124],\n",
      "       [20.550337 , 23.453512 ,  7.058826 ],\n",
      "       ...,\n",
      "       [15.293292 ,  3.5782528, 11.262589 ],\n",
      "       [15.421253 ,  3.001536 , 10.509426 ],\n",
      "       [15.746075 ,  4.387409 , 11.024924 ]], dtype=float32), '_unitcell': array([25.622042, 25.622042, 25.622042, 90.      , 90.      , 90.      ],\n",
      "      dtype=float32), 'aux': {}, '_velocities': array([[  2.0306478 ,  -0.91754556,  -4.1496267 ],\n",
      "       [ -5.63541   ,  -0.35114384,   1.3034946 ],\n",
      "       [ -2.8269694 , -16.671331  ,  11.456746  ],\n",
      "       ...,\n",
      "       [ -3.3717937 ,  -5.314746  ,  -2.4013093 ],\n",
      "       [  4.878375  ,   0.4814887 ,  -5.437949  ],\n",
      "       [ -7.297474  ,  -0.7690326 ,   5.5961204 ]], dtype=float32)}\n",
      "{'frame': 214, '_n_atoms': 1651, 'data': {'time': 93.44000244140625, 'step': 46720, 'lambda': 0.0, 'dt': 0.04000091552734375}, '_has_positions': True, '_has_velocities': True, '_has_forces': False, '_pos': array([[22.271147 , 21.783792 ,  5.8193727],\n",
      "       [22.485855 , 20.749786 ,  6.0892587],\n",
      "       [21.230335 , 22.076666 ,  5.681424 ],\n",
      "       ...,\n",
      "       [14.986    ,  2.5595043, 13.848067 ],\n",
      "       [15.504015 ,  2.6809669, 13.052368 ],\n",
      "       [15.574762 ,  2.1051702, 14.450704 ]], dtype=float32), '_unitcell': array([25.599, 25.599, 25.599, 90.   , 90.   , 90.   ], dtype=float32), 'aux': {}, '_velocities': array([[ -0.17295115,   3.230809  ,   0.9561959 ],\n",
      "       [ 11.878225  ,   5.4595213 ,  -0.12114114],\n",
      "       [ -4.503785  , -15.83355   ,  -6.7818785 ],\n",
      "       ...,\n",
      "       [  3.754679  ,   2.470567  ,   3.8725314 ],\n",
      "       [-12.630701  ,  -3.1504796 ,  -7.6527023 ],\n",
      "       [ 12.185265  ,  -4.04637   ,  -9.277158  ]], dtype=float32)}\n"
     ]
    }
   ],
   "source": [
    "u0 = mda.Universe(trajs[0].structure_file, trajs[0].trajectory_file)\n",
    "ts00 = u0.trajectory[0]\n",
    "print(ts00.__dict__)\n",
    "ts0_1 = u0.trajectory[-1]\n",
    "print(ts0_1.__dict__)"
   ]
  },
  {
   "cell_type": "code",
   "execution_count": null,
   "metadata": {},
   "outputs": [],
   "source": []
  },
  {
   "cell_type": "code",
   "execution_count": null,
   "metadata": {},
   "outputs": [],
   "source": []
  },
  {
   "cell_type": "code",
   "execution_count": 50,
   "metadata": {
    "collapsed": true,
    "jupyter": {
     "outputs_hidden": true
    }
   },
   "outputs": [
    {
     "name": "stdout",
     "output_type": "stream",
     "text": [
      "time elapsed: 4.382994174957275 s\n"
     ]
    },
    {
     "name": "stderr",
     "output_type": "stream",
     "text": [
      "/home/think/.conda/envs/aimmd_nature_publish/lib/python3.8/site-packages/MDAnalysis/topology/tpr/utils.py:389: DeprecationWarning: TPR files index residues from 0. From MDAnalysis version 2.0, resids will start at 1 instead. If you wish to keep indexing resids from 0, please set `tpr_resid_from_one=False` as a keyword argument when you create a new Topology or Universe.\n",
      "  warnings.warn(\"TPR files index residues from 0. \"\n"
     ]
    },
    {
     "name": "stdout",
     "output_type": "stream",
     "text": [
      "[[1.36670132 0.66010274 0.51621788 1.12631253]\n",
      " [1.40216427 0.70290759 0.51672863 1.12825282]\n",
      " [1.35787349 0.65082016 0.51010322 1.1000057 ]\n",
      " [1.42506845 0.73671914 0.50837636 0.90886167]\n",
      " [1.42471145 0.73614363 0.50349897 0.94095146]\n",
      " [1.43676042 0.75660662 0.50560019 1.07462461]\n",
      " [1.40559302 0.70760592 0.50748943 1.08621681]\n",
      " [1.46072587 0.80575357 0.50881858 1.0934923 ]\n",
      " [1.4864703  0.88447231 0.51921201 1.13726949]\n",
      " [1.49529984 0.93160358 0.55297187 1.22397734]\n",
      " [1.49803663 0.95573361 0.55767819 1.23313389]\n",
      " [1.49466111 0.92712759 0.5567708  1.23140414]\n",
      " [1.48587229 0.88198256 0.53577711 1.18573397]\n",
      " [1.48800256 0.89112622 0.57911532 1.26991867]\n",
      " [1.45552758 0.79385776 0.52744546 1.16337751]\n",
      " [1.35930949 0.65229798 0.51200928 1.10892686]\n",
      " [1.28542119 0.58947017 0.51537643 1.12304467]\n",
      " [1.38336906 0.67901999 0.51387224 1.11696069]\n",
      " [1.44717027 0.77630657 0.55010778 1.21816735]\n",
      " [1.44522723 0.77246383 0.513967   1.11735382]\n",
      " [1.42232966 0.73234789 0.52715318 1.16252963]\n",
      " [1.39765692 0.69690105 0.53900791 1.19361377]\n",
      " [1.45014993 0.78236489 0.5574276  1.23265784]\n",
      " [1.46506342 0.8163808  0.54950592 1.21692184]\n",
      " [1.49414307 0.92369386 0.54055042 1.19724626]\n",
      " [1.48051448 0.86177614 0.52299615 1.14989104]\n",
      " [1.46803642 0.82409688 0.50209172 1.04568746]\n",
      " [1.43172338 0.74778001 0.50248804 1.04981818]\n",
      " [1.39927447 0.69903505 0.51492888 1.12126833]\n",
      " [1.37815003 0.67288755 0.5287197  1.16701761]\n",
      " [1.39015797 0.68730724 0.55269048 1.22341484]\n",
      " [1.46852493 0.82540219 0.54671617 1.21103026]\n",
      " [1.44927495 0.78056432 0.5767626  1.2662144 ]\n",
      " [1.45684329 0.79679024 0.54295787 1.20276216]\n",
      " [1.4840987  0.87490625 0.52881213 1.16727818]\n",
      " [1.47708089 0.85035432 0.52444568 1.15442827]\n",
      " [1.49768677 0.95195957 0.50711458 1.08404739]\n",
      " [1.49342526 0.91918221 0.52349395 1.15146613]\n",
      " [1.49792429 0.95448731 0.54044834 1.19700831]\n",
      " [1.46776083 0.82336533 0.5301592  1.1710252 ]\n",
      " [1.44113035 0.76461944 0.53112593 1.17365802]\n",
      " [1.41767644 0.72514297 0.52705755 1.16225116]\n",
      " [1.3579932  0.65094289 0.56412692 1.24497889]\n",
      " [1.30218988 0.60165181 0.57539203 1.26402287]\n",
      " [1.20648046 0.54462563 0.57514605 1.26362685]\n",
      " [1.13231613 0.5178253  0.53401572 1.18126955]\n",
      " [1.07351567 0.50543408 0.512366   1.1105128 ]\n",
      " [1.18015272 0.53358281 0.50599401 1.07718859]\n",
      " [1.16048752 0.52645617 0.50402184 1.06329034]\n",
      " [1.18863644 0.53694893 0.52775982 1.16428393]\n",
      " [1.16811867 0.52911136 0.51454343 1.119716  ]\n",
      " [1.21167489 0.54701684 0.56544088 1.24730219]\n",
      " [1.28402462 0.58850272 0.63203846 1.33853258]\n",
      " [1.18457576 0.53531539 0.58230025 1.27482161]\n",
      " [1.21218979 0.54725781 0.52999675 1.17057827]\n",
      " [1.19349044 0.53895613 0.52378476 1.15237796]\n",
      " [1.19101722 0.53792596 0.5168581  1.12873966]\n",
      " [1.28157173 0.58682042 0.54168772 1.19987461]\n",
      " [1.25667693 0.57091149 0.59003592 1.28623321]\n",
      " [1.26348385 0.57505735 0.61286856 1.31643206]\n",
      " [1.24318302 0.56312242 0.60216509 1.30286529]\n",
      " [1.23901865 0.56083023 0.53421235 1.18177422]\n",
      " [1.31171811 0.6090629  0.53099518 1.17330459]\n",
      " [1.26956103 0.57888618 0.51445503 1.11935693]\n",
      " [1.34220762 0.63545378 0.51078243 1.10327717]\n",
      " [1.35345806 0.64635131 0.51444109 1.11930024]\n",
      " [1.28955117 0.59237258 0.56083129 1.2390206 ]\n",
      " [1.2931141  0.59492701 0.55533507 1.22863312]\n",
      " [1.2759929  0.58307324 0.58625258 1.28073666]\n",
      " [1.25509935 0.56997172 0.60417589 1.30548859]\n",
      " [1.21648439 0.54929554 0.53459928 1.18276262]\n",
      " [1.1552951  0.52472804 0.51429532 1.11870538]\n",
      " [1.23261176 0.55740338 0.53887939 1.19330749]\n",
      " [1.28881254 0.5918489  0.52491246 1.15585836]\n",
      " [1.32488403 0.61993374 0.53238373 1.17701703]\n",
      " [1.41725285 0.72450035 0.59615356 1.29480171]\n",
      " [1.38151642 0.67682014 0.54465748 1.20655069]\n",
      " [1.43264615 0.74936619 0.54013904 1.19628525]\n",
      " [1.43063483 0.74592591 0.51332336 1.11465536]\n",
      " [1.43432209 0.75228176 0.50967616 1.09789042]\n",
      " [1.36671093 0.66011312 0.51956085 1.13848546]\n",
      " [1.32994524 0.6243191  0.52178641 1.14598549]\n",
      " [1.35235319 0.64525047 0.54833597 1.21447518]\n",
      " [1.31090456 0.60841558 0.55173805 1.22149768]\n",
      " [1.35289355 0.645788   0.54624056 1.21000564]\n",
      " [1.32210856 0.61757867 0.54356835 1.20413267]\n",
      " [1.28922279 0.59213951 0.60912928 1.31180135]\n",
      " [1.30027411 0.60020573 0.55286854 1.22377098]\n",
      " [1.25471009 0.56974105 0.53296259 1.17853867]\n",
      " [1.33640858 0.6300956  0.54458077 1.2063815 ]\n",
      " [1.33887916 0.63235762 0.51857151 1.13500595]\n",
      " [1.38277988 0.6783176  0.52869326 1.16694296]\n",
      " [1.4380995  0.75902526 0.54847589 1.21476959]\n",
      " [1.44459767 0.77123612 0.59052326 1.28692996]\n",
      " [1.41214306 0.71691326 0.54140275 1.19921988]\n",
      " [1.36274588 0.65588458 0.54384992 1.20476109]\n",
      " [1.30787857 0.606032   0.56377077 1.24434414]\n",
      " [1.28035951 0.58599693 0.55796635 1.2336798 ]\n",
      " [1.31259149 0.60976089 0.56643028 1.24903273]\n",
      " [1.34152328 0.63481259 0.58668158 1.28136788]\n",
      " [1.30123952 0.60093264 0.5706103  1.25617276]\n",
      " [1.30704025 0.6053783  0.56910305 1.2536293 ]\n",
      " [1.25506459 0.5699511  0.57186564 1.2582653 ]\n",
      " [1.33197608 0.62611247 0.56567936 1.24772077]\n",
      " [1.33756324 0.631149   0.52691193 1.16182607]\n",
      " [1.41389396 0.71947943 0.59185262 1.28881779]\n",
      " [1.41259889 0.71757805 0.58655207 1.28117754]\n",
      " [1.42714214 0.74009695 0.66277168 1.36915723]\n",
      " [1.44428963 0.77063844 0.61385311 1.31763278]\n",
      " [1.46237226 0.80970576 0.61214119 1.31554008]\n",
      " [1.48316124 0.87133291 0.61288747 1.31645519]\n",
      " [1.47673864 0.84926756 0.62817547 1.33428509]\n",
      " [1.44388706 0.76986031 0.59347487 1.29109675]\n",
      " [1.43486332 0.75323313 0.5738041  1.26145182]\n",
      " [1.4409088  0.76420469 0.62965061 1.33591863]\n",
      " [1.40411857 0.70557143 0.65113804 1.35818338]\n",
      " [1.359764   0.65276828 0.68791285 1.39064256]\n",
      " [1.31481394 0.61155157 0.57963488 1.27072711]\n",
      " [1.24229775 0.56263082 0.53066346 1.17240421]\n",
      " [1.3199243  0.6157495  0.52316182 1.15041725]\n",
      " [1.3751062  0.66940155 0.52774265 1.16423458]\n",
      " [1.35398271 0.64687645 0.54777628 1.21329254]\n",
      " [1.3690335  0.66263629 0.56864414 1.25284802]\n",
      " [1.25044    0.56724163 0.53837622 1.19210281]\n",
      " [1.21353656 0.54789146 0.54226313 1.20118885]\n",
      " [1.13942489 0.51983263 0.55670531 1.23127865]\n",
      " [1.18549779 0.53568269 0.56446251 1.24557503]\n",
      " [1.20285191 0.5429977  0.57626267 1.26541792]\n",
      " [1.29187898 0.59403613 0.59495559 1.29315359]\n",
      " [1.24857877 0.56616986 0.57210878 1.25866794]\n",
      " [1.22170224 0.55183918 0.54046968 1.19705807]\n",
      " [1.09738514 0.50957556 0.54488628 1.20705434]\n",
      " [1.19348088 0.53895212 0.57455822 1.26267716]\n",
      " [1.11183754 0.51266812 0.5109429  1.10403436]\n",
      " [1.14296694 0.52087533 0.52612604 1.15951009]\n",
      " [1.08051149 0.50652467 0.55064118 1.21926389]\n",
      " [1.06355771 0.50405603 0.56316154 1.24325329]\n",
      " [1.08389747 0.50708904 0.55646709 1.23082149]\n",
      " [1.17552909 0.53182317 0.60594985 1.30777342]\n",
      " [1.25039274 0.56721428 0.53903118 1.19366917]\n",
      " [1.21006891 0.54626985 0.52682706 1.16157776]\n",
      " [1.24406691 0.5636156  0.53904747 1.19370794]\n",
      " [1.35413887 0.64703306 0.63355669 1.3401754 ]\n",
      " [1.33231884 0.62641709 0.56311186 1.24316404]\n",
      " [1.33428992 0.62817981 0.54593493 1.209344  ]\n",
      " [1.27049805 0.57948745 0.53533852 1.18463399]\n",
      " [1.2499826  0.56697725 0.52196347 1.14656424]\n",
      " [1.20409769 0.5435527  0.50849509 1.09177651]\n",
      " [1.19814121 0.54093567 0.51786547 1.13246244]\n",
      " [1.18980017 0.53742471 0.59797193 1.29727669]\n",
      " [1.1352843  0.51864965 0.61998996 1.3249498 ]\n",
      " [1.1231405  0.51540077 0.54638785 1.2103236 ]\n",
      " [1.16423658 0.52774335 0.51852561 1.13484216]\n",
      " [1.18147076 0.53409404 0.50822551 1.09032084]\n",
      " [1.27513466 0.58250638 0.5311041  1.17359907]\n",
      " [1.30154081 0.60116026 0.54345614 1.2038816 ]\n",
      " [1.31659185 0.61299922 0.58402366 1.2774233 ]\n",
      " [1.34216244 0.63541137 0.60351948 1.30463617]\n",
      " [1.37401772 0.66817061 0.55848311 1.23465472]\n",
      " [1.37811361 0.67284545 0.50307337 1.05535271]\n",
      " [1.37227809 0.66622009 0.50000039 1.00062049]\n",
      " [1.32156372 0.61712042 0.50646864 0.91983267]\n",
      " [1.27508462 0.58247341 0.5063782  1.07960856]\n",
      " [1.21601134 0.54906863 0.50320266 0.94349866]\n",
      " [1.2722315  0.58060757 0.50005995 0.99225763]\n",
      " [1.25098076 0.56755502 0.50334401 0.94226939]\n",
      " [1.26763281 0.5776581  0.50361907 1.06004974]\n",
      " [1.25086715 0.56748911 0.50298096 1.0545167 ]\n",
      " [1.28530584 0.58938999 0.50039058 1.01975918]\n",
      " [1.30299307 0.6022624  0.51928726 1.13753275]\n",
      " [1.30319995 0.60242008 0.54080793 1.19784499]\n",
      " [1.37737444 0.67199309 0.60874568 1.31131986]\n",
      " [1.42145422 0.73097148 0.56498209 1.24649426]\n",
      " [1.42751261 0.74070679 0.58575218 1.27999776]\n",
      " [1.4231112  0.73358507 0.52454404 1.15473082]\n",
      " [1.3946863  0.6930428  0.51895615 1.13637012]\n",
      " [1.39389716 0.6920308  0.520984   1.14333064]\n",
      " [1.40028855 0.70038512 0.58498551 1.27886013]\n",
      " [1.39944922 0.69926702 0.62028944 1.3252997 ]\n",
      " [1.42893698 0.74306993 0.57667296 1.26607183]\n",
      " [1.41734964 0.72464699 0.56101191 1.23935216]\n",
      " [1.42850091 0.74234332 0.53380441 1.18072541]\n",
      " [1.41265396 0.71765852 0.50702878 1.08354268]\n",
      " [1.40577886 0.70786387 0.50393947 0.93735857]\n",
      " [1.31647342 0.61290237 0.51349679 0.88461096]\n",
      " [1.33437907 0.62825999 0.50273276 0.94779568]\n",
      " [1.17969999 0.53340819 0.50558433 0.92548055]\n",
      " [1.28984066 0.59257836 0.50003422 0.99414994]\n",
      " [1.25692158 0.57105792 0.50007099 1.00842518]\n",
      " [1.30738868 0.60564965 0.51366859 1.11611098]\n",
      " [1.27000208 0.57916882 0.5148152  1.12081272]\n",
      " [1.22478153 0.5533757  0.53924146 1.19416892]\n",
      " [1.15508384 0.52465907 0.53137544 1.17433021]\n",
      " [1.15772919 0.52553029 0.5151199  1.12202988]\n",
      " [1.09737109 0.50957277 0.50172788 1.04153187]\n",
      " [1.05546495 0.50308588 0.50313638 1.05591552]\n",
      " [1.0761046  0.50582585 0.54533472 1.20803722]\n",
      " [1.04479967 0.50201105 0.63771927 1.34460509]\n",
      " [1.01996855 0.5003989  0.61906115 1.32386045]\n",
      " [0.98942106 0.50011193 0.53955469 1.19491053]\n",
      " [0.96955482 0.50092777 0.51221198 1.10983101]\n",
      " [1.01417238 0.5002009  0.50254281 1.05036214]\n",
      " [1.11574941 0.51358241 0.51321409 1.11419053]\n",
      " [1.19553468 0.53981939 0.53631978 1.18708462]\n",
      " [1.22367089 0.55281846 0.54045178 1.19701632]\n",
      " [1.25068981 0.56738629 0.54160965 1.19969548]\n",
      " [1.2040993  0.54355342 0.55387935 1.22577946]\n",
      " [1.26325611 0.57491622 0.55589161 1.22971229]\n",
      " [1.21607407 0.54909868 0.519546   1.13843395]\n",
      " [1.15557384 0.52481921 0.50141732 1.0376206 ]\n",
      " [1.08073594 0.50656134 0.5190165  0.86341715]\n",
      " [1.15587333 0.52491737 0.54541162 0.79179481]\n",
      " [1.20306732 0.54309337 0.52701101 0.83788455]\n",
      " [1.23993098 0.561328   0.51350262 0.88458641]\n",
      " [1.22661331 0.55430233 0.50607617 0.92228737]\n",
      " [1.21086333 0.54663849 0.50418987 0.93540656]\n",
      " [1.24571594 0.56454199 0.52273334 0.85094787]]\n"
     ]
    }
   ],
   "source": [
    "start = time.time()\n",
    "trajs = await asyncio.gather(*(e.run_walltime(0.001) for e in engines))\n",
    "end = time.time()\n",
    "print(f\"time elapsed: {end-start} s\")\n",
    "\n",
    "cv = await descriptor_func_wrap(trajs[0])\n",
    "print(cv)\n"
   ]
  },
  {
   "cell_type": "code",
   "execution_count": 51,
   "metadata": {},
   "outputs": [
    {
     "data": {
      "text/plain": [
       "[Trajectory(trajectory_file=/home/think/scratch/aimmd_distributed/engine_wdir0/blab.part0006.trr, structure_file=/home/think/scratch/aimmd_distributed/engine_wdir0/blab.tpr),\n",
       " Trajectory(trajectory_file=/home/think/scratch/aimmd_distributed/engine_wdir1/blab.part0006.trr, structure_file=/home/think/scratch/aimmd_distributed/engine_wdir1/blab.tpr),\n",
       " Trajectory(trajectory_file=/home/think/scratch/aimmd_distributed/engine_wdir2/blab.part0006.trr, structure_file=/home/think/scratch/aimmd_distributed/engine_wdir2/blab.tpr),\n",
       " Trajectory(trajectory_file=/home/think/scratch/aimmd_distributed/engine_wdir3/blab.part0006.trr, structure_file=/home/think/scratch/aimmd_distributed/engine_wdir3/blab.tpr)]"
      ]
     },
     "execution_count": 51,
     "metadata": {},
     "output_type": "execute_result"
    }
   ],
   "source": [
    "trajs"
   ]
  },
  {
   "cell_type": "code",
   "execution_count": 52,
   "metadata": {},
   "outputs": [
    {
     "name": "stdout",
     "output_type": "stream",
     "text": [
      "time elapsed: 0.7138702869415283 s\n"
     ]
    },
    {
     "name": "stderr",
     "output_type": "stream",
     "text": [
      "/home/think/.conda/envs/aimmd_nature_publish/lib/python3.8/site-packages/MDAnalysis/topology/tpr/utils.py:389: DeprecationWarning: TPR files index residues from 0. From MDAnalysis version 2.0, resids will start at 1 instead. If you wish to keep indexing resids from 0, please set `tpr_resid_from_one=False` as a keyword argument when you create a new Topology or Universe.\n",
      "  warnings.warn(\"TPR files index residues from 0. \"\n"
     ]
    }
   ],
   "source": [
    "start = time.time()\n",
    "trajs = await asyncio.gather(*(e.run_steps(20, steps_per_part=True) for e in engines))\n",
    "end = time.time()\n",
    "print(f\"time elapsed: {end-start} s\")"
   ]
  },
  {
   "cell_type": "code",
   "execution_count": 53,
   "metadata": {},
   "outputs": [
    {
     "name": "stdout",
     "output_type": "stream",
     "text": [
      "[[1.24571594 0.56454199 0.52273334 0.85094787]\n",
      " [1.28514451 0.58927795 0.5491077  0.78390711]]\n"
     ]
    }
   ],
   "source": [
    "cv = await descriptor_func_wrap(trajs[0])\n",
    "print(cv)"
   ]
  },
  {
   "cell_type": "code",
   "execution_count": 56,
   "metadata": {},
   "outputs": [
    {
     "name": "stdout",
     "output_type": "stream",
     "text": [
      "time elapsed: 0.6843156814575195 s\n"
     ]
    },
    {
     "name": "stderr",
     "output_type": "stream",
     "text": [
      "/home/think/.conda/envs/aimmd_nature_publish/lib/python3.8/site-packages/MDAnalysis/topology/tpr/utils.py:389: DeprecationWarning: TPR files index residues from 0. From MDAnalysis version 2.0, resids will start at 1 instead. If you wish to keep indexing resids from 0, please set `tpr_resid_from_one=False` as a keyword argument when you create a new Topology or Universe.\n",
      "  warnings.warn(\"TPR files index residues from 0. \"\n"
     ]
    },
    {
     "name": "stdout",
     "output_type": "stream",
     "text": [
      "[[1.28514451 0.58927795 0.5491077  0.78390711]\n",
      " [1.23435407 0.55832345 0.5257264  0.84168211]]\n"
     ]
    }
   ],
   "source": [
    "start = time.time()\n",
    "trajs = await asyncio.gather(*(e.run_steps(20, steps_per_part=True) for e in engines))\n",
    "end = time.time()\n",
    "print(f\"time elapsed: {end-start} s\")\n",
    "cv = await descriptor_func_wrap(trajs[0])\n",
    "print(cv)"
   ]
  },
  {
   "cell_type": "code",
   "execution_count": 38,
   "metadata": {},
   "outputs": [
    {
     "name": "stderr",
     "output_type": "stream",
     "text": [
      "/home/tb/hejung/.conda/envs/aimmd_nature_publish/lib/python3.8/site-packages/MDAnalysis/topology/tpr/utils.py:389: DeprecationWarning: TPR files index residues from 0. From MDAnalysis version 2.0, resids will start at 1 instead. If you wish to keep indexing resids from 0, please set `tpr_resid_from_one=False` as a keyword argument when you create a new Topology or Universe.\n",
      "  warnings.warn(\"TPR files index residues from 0. \"\n"
     ]
    },
    {
     "ename": "OSError",
     "evalue": "XDR read error = integer",
     "output_type": "error",
     "traceback": [
      "\u001b[0;31m---------------------------------------------------------------------------\u001b[0m",
      "\u001b[0;31mOSError\u001b[0m                                   Traceback (most recent call last)",
      "\u001b[0;32m<ipython-input-38-e89bca63df0d>\u001b[0m in \u001b[0;36m<module>\u001b[0;34m\u001b[0m\n\u001b[1;32m      1\u001b[0m \u001b[0mstart\u001b[0m \u001b[0;34m=\u001b[0m \u001b[0mtime\u001b[0m\u001b[0;34m.\u001b[0m\u001b[0mtime\u001b[0m\u001b[0;34m(\u001b[0m\u001b[0;34m)\u001b[0m\u001b[0;34m\u001b[0m\u001b[0;34m\u001b[0m\u001b[0m\n\u001b[0;32m----> 2\u001b[0;31m \u001b[0mtrajs\u001b[0m \u001b[0;34m=\u001b[0m \u001b[0;32mawait\u001b[0m \u001b[0masyncio\u001b[0m\u001b[0;34m.\u001b[0m\u001b[0mgather\u001b[0m\u001b[0;34m(\u001b[0m\u001b[0;34m*\u001b[0m\u001b[0;34m(\u001b[0m\u001b[0me\u001b[0m\u001b[0;34m.\u001b[0m\u001b[0mrun_steps\u001b[0m\u001b[0;34m(\u001b[0m\u001b[0;36m1\u001b[0m\u001b[0;34m)\u001b[0m \u001b[0;32mfor\u001b[0m \u001b[0me\u001b[0m \u001b[0;32min\u001b[0m \u001b[0mengines\u001b[0m\u001b[0;34m)\u001b[0m\u001b[0;34m)\u001b[0m\u001b[0;34m\u001b[0m\u001b[0;34m\u001b[0m\u001b[0m\n\u001b[0m\u001b[1;32m      3\u001b[0m \u001b[0mend\u001b[0m \u001b[0;34m=\u001b[0m \u001b[0mtime\u001b[0m\u001b[0;34m.\u001b[0m\u001b[0mtime\u001b[0m\u001b[0;34m(\u001b[0m\u001b[0;34m)\u001b[0m\u001b[0;34m\u001b[0m\u001b[0;34m\u001b[0m\u001b[0m\n\u001b[1;32m      4\u001b[0m \u001b[0mprint\u001b[0m\u001b[0;34m(\u001b[0m\u001b[0;34mf\"time elapsed: {end-start} s\"\u001b[0m\u001b[0;34m)\u001b[0m\u001b[0;34m\u001b[0m\u001b[0;34m\u001b[0m\u001b[0m\n\u001b[1;32m      5\u001b[0m \u001b[0mcv\u001b[0m \u001b[0;34m=\u001b[0m \u001b[0;32mawait\u001b[0m \u001b[0mdescriptor_func_wrap\u001b[0m\u001b[0;34m(\u001b[0m\u001b[0mtrajs\u001b[0m\u001b[0;34m[\u001b[0m\u001b[0;36m0\u001b[0m\u001b[0;34m]\u001b[0m\u001b[0;34m)\u001b[0m\u001b[0;34m\u001b[0m\u001b[0;34m\u001b[0m\u001b[0m\n",
      "\u001b[0;32m~/Documents/sources/aimmd/aimmd/distributed/mdengine.py\u001b[0m in \u001b[0;36mrun_steps\u001b[0;34m(self, nsteps, steps_per_part)\u001b[0m\n\u001b[1;32m    405\u001b[0m                          \u001b[0mdo\u001b[0m \u001b[0;32min\u001b[0m \u001b[0mthe\u001b[0m \u001b[0mnew\u001b[0m \u001b[0mtrajectory\u001b[0m \u001b[0mpart\u001b[0m\u001b[0;34m\u001b[0m\u001b[0;34m\u001b[0m\u001b[0m\n\u001b[1;32m    406\u001b[0m         \"\"\"\n\u001b[0;32m--> 407\u001b[0;31m         \u001b[0;32mreturn\u001b[0m \u001b[0;32mawait\u001b[0m \u001b[0mself\u001b[0m\u001b[0;34m.\u001b[0m\u001b[0mrun\u001b[0m\u001b[0;34m(\u001b[0m\u001b[0mnsteps\u001b[0m\u001b[0;34m=\u001b[0m\u001b[0mnsteps\u001b[0m\u001b[0;34m,\u001b[0m \u001b[0msteps_per_part\u001b[0m\u001b[0;34m=\u001b[0m\u001b[0msteps_per_part\u001b[0m\u001b[0;34m)\u001b[0m\u001b[0;34m\u001b[0m\u001b[0;34m\u001b[0m\u001b[0m\n\u001b[0m\u001b[1;32m    408\u001b[0m \u001b[0;34m\u001b[0m\u001b[0m\n\u001b[1;32m    409\u001b[0m     \u001b[0;32masync\u001b[0m \u001b[0;32mdef\u001b[0m \u001b[0mrun_walltime\u001b[0m\u001b[0;34m(\u001b[0m\u001b[0mself\u001b[0m\u001b[0;34m,\u001b[0m \u001b[0mwalltime\u001b[0m\u001b[0;34m)\u001b[0m\u001b[0;34m:\u001b[0m\u001b[0;34m\u001b[0m\u001b[0;34m\u001b[0m\u001b[0m\n",
      "\u001b[0;32m~/Documents/sources/aimmd/aimmd/distributed/mdengine.py\u001b[0m in \u001b[0;36mrun\u001b[0;34m(self, nsteps, walltime, steps_per_part)\u001b[0m\n\u001b[1;32m    390\u001b[0m             \u001b[0;32mif\u001b[0m \u001b[0mexit_code\u001b[0m \u001b[0;34m!=\u001b[0m \u001b[0;36m0\u001b[0m\u001b[0;34m:\u001b[0m\u001b[0;34m\u001b[0m\u001b[0;34m\u001b[0m\u001b[0m\n\u001b[1;32m    391\u001b[0m                 \u001b[0;32mraise\u001b[0m \u001b[0mEngineCrashedError\u001b[0m\u001b[0;34m(\u001b[0m\u001b[0;34m\"Non-zero exit code from mdrun.\"\u001b[0m\u001b[0;34m)\u001b[0m\u001b[0;34m\u001b[0m\u001b[0;34m\u001b[0m\u001b[0m\n\u001b[0;32m--> 392\u001b[0;31m             \u001b[0mself\u001b[0m\u001b[0;34m.\u001b[0m\u001b[0m_frames_done\u001b[0m \u001b[0;34m+=\u001b[0m \u001b[0mlen\u001b[0m\u001b[0;34m(\u001b[0m\u001b[0mself\u001b[0m\u001b[0;34m.\u001b[0m\u001b[0mcurrent_trajectory\u001b[0m\u001b[0;34m)\u001b[0m\u001b[0;34m\u001b[0m\u001b[0;34m\u001b[0m\u001b[0m\n\u001b[0m\u001b[1;32m    393\u001b[0m             \u001b[0;32mreturn\u001b[0m \u001b[0mself\u001b[0m\u001b[0;34m.\u001b[0m\u001b[0mcurrent_trajectory\u001b[0m\u001b[0;34m\u001b[0m\u001b[0;34m\u001b[0m\u001b[0m\n\u001b[1;32m    394\u001b[0m \u001b[0;34m\u001b[0m\u001b[0m\n",
      "\u001b[0;32m~/Documents/sources/aimmd/aimmd/distributed/trajectory.py\u001b[0m in \u001b[0;36m__len__\u001b[0;34m(self)\u001b[0m\n\u001b[1;32m    142\u001b[0m             \u001b[0;32mreturn\u001b[0m \u001b[0mself\u001b[0m\u001b[0;34m.\u001b[0m\u001b[0m_len\u001b[0m\u001b[0;34m\u001b[0m\u001b[0;34m\u001b[0m\u001b[0m\n\u001b[1;32m    143\u001b[0m         \u001b[0;31m# create/open a mdanalysis universe to get the number of frames\u001b[0m\u001b[0;34m\u001b[0m\u001b[0;34m\u001b[0m\u001b[0;34m\u001b[0m\u001b[0m\n\u001b[0;32m--> 144\u001b[0;31m         \u001b[0mu\u001b[0m \u001b[0;34m=\u001b[0m \u001b[0mmda\u001b[0m\u001b[0;34m.\u001b[0m\u001b[0mUniverse\u001b[0m\u001b[0;34m(\u001b[0m\u001b[0mself\u001b[0m\u001b[0;34m.\u001b[0m\u001b[0mstructure_file\u001b[0m\u001b[0;34m,\u001b[0m \u001b[0mself\u001b[0m\u001b[0;34m.\u001b[0m\u001b[0mtrajectory_file\u001b[0m\u001b[0;34m)\u001b[0m\u001b[0;34m\u001b[0m\u001b[0;34m\u001b[0m\u001b[0m\n\u001b[0m\u001b[1;32m    145\u001b[0m         \u001b[0mself\u001b[0m\u001b[0;34m.\u001b[0m\u001b[0m_len\u001b[0m \u001b[0;34m=\u001b[0m \u001b[0mlen\u001b[0m\u001b[0;34m(\u001b[0m\u001b[0mu\u001b[0m\u001b[0;34m.\u001b[0m\u001b[0mtrajectory\u001b[0m\u001b[0;34m)\u001b[0m\u001b[0;34m\u001b[0m\u001b[0;34m\u001b[0m\u001b[0m\n\u001b[1;32m    146\u001b[0m         \u001b[0;32mreturn\u001b[0m \u001b[0mself\u001b[0m\u001b[0;34m.\u001b[0m\u001b[0m_len\u001b[0m\u001b[0;34m\u001b[0m\u001b[0;34m\u001b[0m\u001b[0m\n",
      "\u001b[0;32m~/.conda/envs/aimmd_nature_publish/lib/python3.8/site-packages/MDAnalysis/core/universe.py\u001b[0m in \u001b[0;36m__init__\u001b[0;34m(self, *args, **kwargs)\u001b[0m\n\u001b[1;32m    389\u001b[0m \u001b[0;34m\u001b[0m\u001b[0m\n\u001b[1;32m    390\u001b[0m         \u001b[0;32mif\u001b[0m \u001b[0mcoordinates\u001b[0m\u001b[0;34m:\u001b[0m\u001b[0;34m\u001b[0m\u001b[0;34m\u001b[0m\u001b[0m\n\u001b[0;32m--> 391\u001b[0;31m             self.load_new(coordinates, format=format, in_memory=in_memory,\n\u001b[0m\u001b[1;32m    392\u001b[0m                         in_memory_step=in_memory_step, **kwargs)\n\u001b[1;32m    393\u001b[0m \u001b[0;34m\u001b[0m\u001b[0m\n",
      "\u001b[0;32m~/.conda/envs/aimmd_nature_publish/lib/python3.8/site-packages/MDAnalysis/core/universe.py\u001b[0m in \u001b[0;36mload_new\u001b[0;34m(self, filename, format, in_memory, in_memory_step, **kwargs)\u001b[0m\n\u001b[1;32m    582\u001b[0m         \u001b[0mkwargs\u001b[0m\u001b[0;34m[\u001b[0m\u001b[0;34m'n_atoms'\u001b[0m\u001b[0;34m]\u001b[0m \u001b[0;34m=\u001b[0m \u001b[0mself\u001b[0m\u001b[0;34m.\u001b[0m\u001b[0matoms\u001b[0m\u001b[0;34m.\u001b[0m\u001b[0mn_atoms\u001b[0m\u001b[0;34m\u001b[0m\u001b[0;34m\u001b[0m\u001b[0m\n\u001b[1;32m    583\u001b[0m \u001b[0;34m\u001b[0m\u001b[0m\n\u001b[0;32m--> 584\u001b[0;31m         \u001b[0mself\u001b[0m\u001b[0;34m.\u001b[0m\u001b[0mtrajectory\u001b[0m \u001b[0;34m=\u001b[0m \u001b[0mreader\u001b[0m\u001b[0;34m(\u001b[0m\u001b[0mfilename\u001b[0m\u001b[0;34m,\u001b[0m \u001b[0mformat\u001b[0m\u001b[0;34m=\u001b[0m\u001b[0mformat\u001b[0m\u001b[0;34m,\u001b[0m \u001b[0;34m**\u001b[0m\u001b[0mkwargs\u001b[0m\u001b[0;34m)\u001b[0m\u001b[0;34m\u001b[0m\u001b[0;34m\u001b[0m\u001b[0m\n\u001b[0m\u001b[1;32m    585\u001b[0m         \u001b[0;32mif\u001b[0m \u001b[0mself\u001b[0m\u001b[0;34m.\u001b[0m\u001b[0mtrajectory\u001b[0m\u001b[0;34m.\u001b[0m\u001b[0mn_atoms\u001b[0m \u001b[0;34m!=\u001b[0m \u001b[0mlen\u001b[0m\u001b[0;34m(\u001b[0m\u001b[0mself\u001b[0m\u001b[0;34m.\u001b[0m\u001b[0matoms\u001b[0m\u001b[0;34m)\u001b[0m\u001b[0;34m:\u001b[0m\u001b[0;34m\u001b[0m\u001b[0;34m\u001b[0m\u001b[0m\n\u001b[1;32m    586\u001b[0m             raise ValueError(\"The topology and {form} trajectory files don't\"\n",
      "\u001b[0;32m~/.conda/envs/aimmd_nature_publish/lib/python3.8/site-packages/MDAnalysis/coordinates/XDR.py\u001b[0m in \u001b[0;36m__init__\u001b[0;34m(self, filename, convert_units, sub, refresh_offsets, **kwargs)\u001b[0m\n\u001b[1;32m    140\u001b[0m                                             \u001b[0mconvert_units\u001b[0m\u001b[0;34m=\u001b[0m\u001b[0mconvert_units\u001b[0m\u001b[0;34m,\u001b[0m\u001b[0;34m\u001b[0m\u001b[0;34m\u001b[0m\u001b[0m\n\u001b[1;32m    141\u001b[0m                                             **kwargs)\n\u001b[0;32m--> 142\u001b[0;31m         \u001b[0mself\u001b[0m\u001b[0;34m.\u001b[0m\u001b[0m_xdr\u001b[0m \u001b[0;34m=\u001b[0m \u001b[0mself\u001b[0m\u001b[0;34m.\u001b[0m\u001b[0m_file\u001b[0m\u001b[0;34m(\u001b[0m\u001b[0mself\u001b[0m\u001b[0;34m.\u001b[0m\u001b[0mfilename\u001b[0m\u001b[0;34m)\u001b[0m\u001b[0;34m\u001b[0m\u001b[0;34m\u001b[0m\u001b[0m\n\u001b[0m\u001b[1;32m    143\u001b[0m \u001b[0;34m\u001b[0m\u001b[0m\n\u001b[1;32m    144\u001b[0m         \u001b[0mself\u001b[0m\u001b[0;34m.\u001b[0m\u001b[0m_sub\u001b[0m \u001b[0;34m=\u001b[0m \u001b[0msub\u001b[0m\u001b[0;34m\u001b[0m\u001b[0;34m\u001b[0m\u001b[0m\n",
      "\u001b[0;32mMDAnalysis/lib/formats/libmdaxdr.pyx\u001b[0m in \u001b[0;36mMDAnalysis.lib.formats.libmdaxdr._XDRFile.__cinit__\u001b[0;34m()\u001b[0m\n",
      "\u001b[0;32mMDAnalysis/lib/formats/libmdaxdr.pyx\u001b[0m in \u001b[0;36mMDAnalysis.lib.formats.libmdaxdr._XDRFile.open\u001b[0;34m()\u001b[0m\n",
      "\u001b[0;31mOSError\u001b[0m: XDR read error = integer"
     ]
    },
    {
     "name": "stderr",
     "output_type": "stream",
     "text": [
      "Exception ignored in: <function ReaderBase.__del__ at 0x7f0aefa608b0>\n",
      "Traceback (most recent call last):\n",
      "  File \"/home/tb/hejung/.conda/envs/aimmd_nature_publish/lib/python3.8/site-packages/MDAnalysis/coordinates/base.py\", line 2152, in __del__\n",
      "    self.close()\n",
      "  File \"/home/tb/hejung/.conda/envs/aimmd_nature_publish/lib/python3.8/site-packages/MDAnalysis/coordinates/XDR.py\", line 179, in close\n",
      "    self._xdr.close()\n",
      "AttributeError: 'TRRReader' object has no attribute '_xdr'\n",
      "Exception ignored in: <function ReaderBase.__del__ at 0x7f0aefa608b0>\n",
      "Traceback (most recent call last):\n",
      "  File \"/home/tb/hejung/.conda/envs/aimmd_nature_publish/lib/python3.8/site-packages/MDAnalysis/coordinates/base.py\", line 2152, in __del__\n",
      "    self.close()\n",
      "  File \"/home/tb/hejung/.conda/envs/aimmd_nature_publish/lib/python3.8/site-packages/MDAnalysis/coordinates/XDR.py\", line 179, in close\n",
      "    self._xdr.close()\n",
      "AttributeError: 'TRRReader' object has no attribute '_xdr'\n",
      "Exception ignored in: <function ReaderBase.__del__ at 0x7f0aefa608b0>\n",
      "Traceback (most recent call last):\n",
      "  File \"/home/tb/hejung/.conda/envs/aimmd_nature_publish/lib/python3.8/site-packages/MDAnalysis/coordinates/base.py\", line 2152, in __del__\n",
      "    self.close()\n",
      "  File \"/home/tb/hejung/.conda/envs/aimmd_nature_publish/lib/python3.8/site-packages/MDAnalysis/coordinates/XDR.py\", line 179, in close\n",
      "    self._xdr.close()\n",
      "AttributeError: 'TRRReader' object has no attribute '_xdr'\n"
     ]
    }
   ],
   "source": [
    "start = time.time()\n",
    "trajs = await asyncio.gather(*(e.run_steps(1) for e in engines))\n",
    "end = time.time()\n",
    "print(f\"time elapsed: {end-start} s\")\n",
    "cv = await descriptor_func_wrap(trajs[0])\n",
    "print(cv)"
   ]
  },
  {
   "cell_type": "code",
   "execution_count": null,
   "metadata": {},
   "outputs": [],
   "source": []
  },
  {
   "cell_type": "code",
   "execution_count": 36,
   "metadata": {},
   "outputs": [
    {
     "name": "stdout",
     "output_type": "stream",
     "text": [
      "engine 0 did 9222 frames (== 92220 integration steps)\n",
      "engine 1 did 9206 frames (== 92060 integration steps)\n",
      "engine 2 did 9006 frames (== 90060 integration steps)\n",
      "engine 3 did 9046 frames (== 90460 integration steps)\n"
     ]
    }
   ],
   "source": [
    "for i, e in enumerate(engines):\n",
    "    print(f\"engine {i} did {e.frames_done} frames (== {e.steps_done} integration steps)\")"
   ]
  },
  {
   "cell_type": "code",
   "execution_count": 29,
   "metadata": {},
   "outputs": [
    {
     "name": "stdout",
     "output_type": "stream",
     "text": [
      "time elapsed: 36.5525848865509 s\n"
     ]
    },
    {
     "name": "stderr",
     "output_type": "stream",
     "text": [
      "/home/think/.conda/envs/aimmd_nature_publish/lib/python3.8/site-packages/MDAnalysis/topology/tpr/utils.py:389: DeprecationWarning: TPR files index residues from 0. From MDAnalysis version 2.0, resids will start at 1 instead. If you wish to keep indexing resids from 0, please set `tpr_resid_from_one=False` as a keyword argument when you create a new Topology or Universe.\n",
      "  warnings.warn(\"TPR files index residues from 0. \"\n"
     ]
    }
   ],
   "source": [
    "start = time.time()\n",
    "trajs = await asyncio.gather(*(e.run_walltime(0.01) for e in engines))\n",
    "end = time.time()\n",
    "print(f\"time elapsed: {end-start} s\")"
   ]
  },
  {
   "cell_type": "code",
   "execution_count": 30,
   "metadata": {},
   "outputs": [
    {
     "name": "stdout",
     "output_type": "stream",
     "text": [
      "[[ 1.7949889 -2.3867085]\n",
      " [ 1.7086705 -2.3630643]\n",
      " [ 1.7360168 -2.3054514]\n",
      " ...\n",
      " [-1.4733312 -1.5860335]\n",
      " [-1.4640243 -1.643299 ]\n",
      " [-1.4391651 -1.8763256]]\n"
     ]
    }
   ],
   "source": [
    "cv = await descriptor_func_wrap(trajs[0])\n",
    "print(cv)"
   ]
  },
  {
   "cell_type": "code",
   "execution_count": 31,
   "metadata": {},
   "outputs": [
    {
     "name": "stdout",
     "output_type": "stream",
     "text": [
      "engine 0 did 12460 frames (== 124600 integration steps)\n",
      "engine 1 did 12700 frames (== 127000 integration steps)\n",
      "engine 2 did 12494 frames (== 124940 integration steps)\n",
      "engine 3 did 13316 frames (== 133160 integration steps)\n"
     ]
    }
   ],
   "source": [
    "for i, e in enumerate(engines):\n",
    "    print(f\"engine {i} did {e.frames_done} frames (== {e.steps_done} integration steps)\")"
   ]
  },
  {
   "cell_type": "code",
   "execution_count": 32,
   "metadata": {},
   "outputs": [
    {
     "name": "stdout",
     "output_type": "stream",
     "text": [
      "time elapsed: 36.527894735336304 s\n"
     ]
    },
    {
     "name": "stderr",
     "output_type": "stream",
     "text": [
      "/home/think/.conda/envs/aimmd_nature_publish/lib/python3.8/site-packages/MDAnalysis/topology/tpr/utils.py:389: DeprecationWarning: TPR files index residues from 0. From MDAnalysis version 2.0, resids will start at 1 instead. If you wish to keep indexing resids from 0, please set `tpr_resid_from_one=False` as a keyword argument when you create a new Topology or Universe.\n",
      "  warnings.warn(\"TPR files index residues from 0. \"\n"
     ]
    }
   ],
   "source": [
    "start = time.time()\n",
    "trajs = await asyncio.gather(*(e.run_walltime(0.01) for e in engines))\n",
    "end = time.time()\n",
    "print(f\"time elapsed: {end-start} s\")"
   ]
  },
  {
   "cell_type": "code",
   "execution_count": 33,
   "metadata": {},
   "outputs": [
    {
     "name": "stdout",
     "output_type": "stream",
     "text": [
      "[[-1.4391651 -1.8763256]\n",
      " [-1.4037466 -1.9764206]\n",
      " [-1.4453897 -1.972756 ]\n",
      " ...\n",
      " [ 1.3600926 -2.4688985]\n",
      " [ 1.3947617 -2.3246064]\n",
      " [ 1.5066161 -2.267869 ]]\n"
     ]
    }
   ],
   "source": [
    "cv = await descriptor_func_wrap(trajs[0])\n",
    "print(cv)"
   ]
  },
  {
   "cell_type": "code",
   "execution_count": 34,
   "metadata": {},
   "outputs": [
    {
     "name": "stdout",
     "output_type": "stream",
     "text": [
      "engine 0 did 16605 frames (== 166050 integration steps)\n",
      "engine 1 did 16869 frames (== 168690 integration steps)\n",
      "engine 2 did 16661 frames (== 166610 integration steps)\n",
      "engine 3 did 17440 frames (== 174400 integration steps)\n"
     ]
    }
   ],
   "source": [
    "for i, e in enumerate(engines):\n",
    "    print(f\"engine {i} did {e.frames_done} frames (== {e.steps_done} integration steps)\")"
   ]
  },
  {
   "cell_type": "markdown",
   "metadata": {},
   "source": [
    "# propagator until state"
   ]
  },
  {
   "cell_type": "code",
   "execution_count": 13,
   "metadata": {},
   "outputs": [],
   "source": [
    "import mdtraj as mdt\n",
    "import numpy as np\n",
    "\"\"\"\n",
    "def psi(traj):\n",
    "    traj = mdt.load(traj.trajectory_file, \n",
    "                    top=os.path.join(scratch_dir, \"gmx_infiles/conf.gro\"),  # mdt can not work with tprs, so we use theinitial gro for now\n",
    "                    )\n",
    "    psi = mdt.compute_psi(traj)\n",
    "    return psi\n",
    "\n",
    "def alpha_R(traj):\n",
    "    traj = mdt.load(traj.trajectory_file, \n",
    "                    top=os.path.join(scratch_dir, \"gmx_infiles/conf.gro\"),  # mdt can not work with tprs, so we use theinitial gro for now\n",
    "                    )\n",
    "    psi = mdt.compute_dihedrals(traj, indices=[[6,8,14,16]])[:, 0]\n",
    "    phi = mdt.compute_dihedrals(traj, indices=[[4,6,8,14]])[:, 0]\n",
    "    state = np.full_like(psi, False, dtype=bool)\n",
    "    # phi: -pi -> 0 \n",
    "    # psi: > -50 but smaller 30 degree\n",
    "    deg = 180/np.pi\n",
    "    state[(phi <= 0) & (-50/deg <= psi) & (psi <= 30/deg)] = True\n",
    "    return state\n",
    "\n",
    "wrapped_alphaR = arcdd.trajectory.TrajectoryFunctionWrapper(alpha_R)\n",
    "wrapped_psi = arcdd.trajectory.TrajectoryFunctionWrapper(psi)\n",
    "\"\"\"\n",
    "\n",
    "from state_funcs import alpha_R, C7_eq\n",
    "wrapped_alphaR = aimmdd.TrajectoryFunctionWrapper(alpha_R, call_kwargs={\"scratch_dir\": scratch_dir})\n",
    "wrapped_C7_eq = aimmdd.TrajectoryFunctionWrapper(C7_eq, call_kwargs={\"scratch_dir\": scratch_dir})"
   ]
  },
  {
   "cell_type": "code",
   "execution_count": 14,
   "metadata": {},
   "outputs": [],
   "source": [
    "import aimmd.distributed.logic"
   ]
  },
  {
   "cell_type": "code",
   "execution_count": 15,
   "metadata": {},
   "outputs": [
    {
     "name": "stderr",
     "output_type": "stream",
     "text": [
      "Neither max_frames nor max_steps given. Setting max_frames to infinity.\n",
      "Neither max_frames nor max_steps given. Setting max_frames to infinity.\n",
      "Neither max_frames nor max_steps given. Setting max_frames to infinity.\n",
      "Neither max_frames nor max_steps given. Setting max_frames to infinity.\n"
     ]
    }
   ],
   "source": [
    "propagators = [aimmd.distributed.logic.PropagatorUntilAnyState(states=[wrapped_alphaR, wrapped_C7_eq],\n",
    "                                                               engine_cls=aimmdd.GmxEngine,\n",
    "                                                               engine_kwargs={\"gro_file\":os.path.join(scratch_dir, \"gmx_infiles/conf.gro\"),\n",
    "                                                                              \"top_file\":os.path.join(scratch_dir, \"gmx_infiles/topol.top\"),\n",
    "                                                                               \"mdrun_extra_args\": \"-nt 4\",\n",
    "                                                                              },\n",
    "                                                               run_config=aimmdd.MDP(os.path.join(scratch_dir, \"gmx_infiles/md.mdp\")),\n",
    "                                                               walltime_per_part=0.005,\n",
    "                                                               \n",
    "                                                              )\n",
    "               for _ in range(n_engines)\n",
    "               ]"
   ]
  },
  {
   "cell_type": "code",
   "execution_count": 17,
   "metadata": {},
   "outputs": [],
   "source": [
    "#initial_tp_mdt = mdt.load(os.path.join(scratch_dir, \"gmx_infiles/ala_400K_TP_low_barrier.h5\"))"
   ]
  },
  {
   "cell_type": "code",
   "execution_count": 18,
   "metadata": {},
   "outputs": [],
   "source": [
    "#initial_tp_mdt[10].save_trr(os.path.join(scratch_dir, \"gmx_infiles/tp_frame.trr\"))"
   ]
  },
  {
   "cell_type": "code",
   "execution_count": 16,
   "metadata": {},
   "outputs": [],
   "source": [
    "starting_conf = aimmdd.Trajectory(trajectory_file=os.path.join(scratch_dir, \"gmx_infiles/tp_frame.trr\"),\n",
    "                                  structure_file=os.path.join(scratch_dir, \"gmx_infiles/tp_frame.gro\"))\n",
    "\n",
    "starting_conf = aimmdd.Trajectory(trajectory_file=os.path.join(scratch_dir, \"gmx_infiles/conf.gro\"),\n",
    "                                  structure_file=os.path.join(scratch_dir, \"gmx_infiles/conf.gro\"))"
   ]
  },
  {
   "cell_type": "code",
   "execution_count": 17,
   "metadata": {},
   "outputs": [
    {
     "data": {
      "text/plain": [
       "TrajectoryFunctionWrapper(function=<function alpha_R at 0x7fe1fe04e700>, call_kwargs={'scratch_dir': '/home/tb/hejung/DATA/aimmd_scratch/aimmd_distributed/'})"
      ]
     },
     "execution_count": 17,
     "metadata": {},
     "output_type": "execute_result"
    }
   ],
   "source": [
    "wrapped_alphaR"
   ]
  },
  {
   "cell_type": "code",
   "execution_count": 18,
   "metadata": {},
   "outputs": [],
   "source": [
    "import mdtraj as mdt"
   ]
  },
  {
   "cell_type": "code",
   "execution_count": 19,
   "metadata": {},
   "outputs": [
    {
     "name": "stderr",
     "output_type": "stream",
     "text": [
      "/home/tb/hejung/.conda/envs/aimmd_nature_publish/lib/python3.8/site-packages/mdtraj/formats/gro.py:307: UserWarning: WARNING: two consecutive residues with same number (ALA, ACE)\n",
      "  warnings.warn(\"WARNING: two consecutive residues with same number (%s, %s)\" % (thisresname, residue.name))\n",
      "/home/tb/hejung/.conda/envs/aimmd_nature_publish/lib/python3.8/site-packages/mdtraj/formats/gro.py:307: UserWarning: WARNING: two consecutive residues with same number (NME, ALA)\n",
      "  warnings.warn(\"WARNING: two consecutive residues with same number (%s, %s)\" % (thisresname, residue.name))\n",
      "/home/tb/hejung/.conda/envs/aimmd_nature_publish/lib/python3.8/site-packages/mdtraj/formats/gro.py:307: UserWarning: WARNING: two consecutive residues with same number (HOH, NME)\n",
      "  warnings.warn(\"WARNING: two consecutive residues with same number (%s, %s)\" % (thisresname, residue.name))\n",
      "/home/tb/hejung/.conda/envs/aimmd_nature_publish/lib/python3.8/site-packages/mdtraj/core/trajectory.py:422: UserWarning: top= kwarg ignored since file contains topology information\n",
      "  warnings.warn('top= kwarg ignored since file contains topology information')\n"
     ]
    },
    {
     "data": {
      "text/plain": [
       "<mdtraj.Trajectory with 1 frames, 1651 atoms, 546 residues, and unitcells at 0x7fe126c51d30>"
      ]
     },
     "execution_count": 19,
     "metadata": {},
     "output_type": "execute_result"
    }
   ],
   "source": [
    "mdt.load(os.path.join(scratch_dir, \"gmx_infiles/conf.gro\"), top=os.path.join(scratch_dir, \"gmx_infiles/conf.gro\"))"
   ]
  },
  {
   "cell_type": "code",
   "execution_count": 20,
   "metadata": {},
   "outputs": [
    {
     "data": {
      "text/plain": [
       "<mdtraj.Trajectory with 1 frames, 1651 atoms, 546 residues, and unitcells at 0x7fe126bff550>"
      ]
     },
     "execution_count": 20,
     "metadata": {},
     "output_type": "execute_result"
    }
   ],
   "source": [
    "mdt.load(starting_conf.trajectory_file, top=starting_conf.structure_file)"
   ]
  },
  {
   "cell_type": "code",
   "execution_count": 21,
   "metadata": {},
   "outputs": [
    {
     "name": "stderr",
     "output_type": "stream",
     "text": [
      "/home/tb/hejung/.conda/envs/aimmd_nature_publish/lib/python3.8/site-packages/mdtraj/utils/validation.py:115: TypeCastPerformanceWarning: Casting unitcell_vectors dtype=float64 to <class 'numpy.float32'> \n",
      "  warnings.warn(\"Casting %s dtype=%s to %s \" % (name, val.dtype, dtype),\n"
     ]
    },
    {
     "data": {
      "text/plain": [
       "array([ True])"
      ]
     },
     "execution_count": 21,
     "metadata": {},
     "output_type": "execute_result"
    }
   ],
   "source": [
    "alpha_R(starting_conf, **{\"scratch_dir\": scratch_dir})"
   ]
  },
  {
   "cell_type": "code",
   "execution_count": 22,
   "metadata": {},
   "outputs": [
    {
     "data": {
      "text/plain": [
       "array([ True])"
      ]
     },
     "execution_count": 22,
     "metadata": {},
     "output_type": "execute_result"
    }
   ],
   "source": [
    "await wrapped_alphaR(starting_conf)"
   ]
  },
  {
   "cell_type": "code",
   "execution_count": 23,
   "metadata": {},
   "outputs": [
    {
     "data": {
      "text/plain": [
       "'/home/tb/hejung/DATA/aimmd_scratch/aimmd_distributed/'"
      ]
     },
     "execution_count": 23,
     "metadata": {},
     "output_type": "execute_result"
    }
   ],
   "source": [
    "scratch_dir"
   ]
  },
  {
   "cell_type": "code",
   "execution_count": 24,
   "metadata": {},
   "outputs": [],
   "source": [
    "tasks = [asyncio.create_task(p.propagate_and_concatenate(starting_configuration=starting_conf,\n",
    "                                                         workdir=wdir,\n",
    "                                                         deffnm=\"blib\",\n",
    "                                                         tra_out=os.path.join(wdir, \"blub_until_state.trr\"),\n",
    "                                                          ))\n",
    "         for p, wdir, mdp in zip(propagators, wdirs, mdps)]\n",
    "\n",
    "done, pending = await asyncio.wait(tasks, return_when=asyncio.FIRST_COMPLETED)"
   ]
  },
  {
   "cell_type": "code",
   "execution_count": 25,
   "metadata": {},
   "outputs": [
    {
     "data": {
      "text/plain": [
       "<Task finished name='Task-5' coro=<PropagatorUntilAnyState.propagate_and_concatenate() done, defined at /home/tb/hejung/Documents/sources/aimmd/aimmd/distributed/logic.py:1311> exception=TypeError(\"propagate() got an unexpected keyword argument 'run_config'\")>"
      ]
     },
     "execution_count": 25,
     "metadata": {},
     "output_type": "execute_result"
    }
   ],
   "source": [
    "list(done)[0]"
   ]
  },
  {
   "cell_type": "code",
   "execution_count": 26,
   "metadata": {},
   "outputs": [
    {
     "data": {
      "text/plain": [
       "[<Task finished name='Task-3' coro=<PropagatorUntilAnyState.propagate_and_concatenate() done, defined at /home/tb/hejung/Documents/sources/aimmd/aimmd/distributed/logic.py:1311> exception=TypeError(\"propagate() got an unexpected keyword argument 'run_config'\")>,\n",
       " <Task finished name='Task-4' coro=<PropagatorUntilAnyState.propagate_and_concatenate() done, defined at /home/tb/hejung/Documents/sources/aimmd/aimmd/distributed/logic.py:1311> exception=TypeError(\"propagate() got an unexpected keyword argument 'run_config'\")>,\n",
       " <Task finished name='Task-5' coro=<PropagatorUntilAnyState.propagate_and_concatenate() done, defined at /home/tb/hejung/Documents/sources/aimmd/aimmd/distributed/logic.py:1311> exception=TypeError(\"propagate() got an unexpected keyword argument 'run_config'\")>,\n",
       " <Task finished name='Task-6' coro=<PropagatorUntilAnyState.propagate_and_concatenate() done, defined at /home/tb/hejung/Documents/sources/aimmd/aimmd/distributed/logic.py:1311> exception=TypeError(\"propagate() got an unexpected keyword argument 'run_config'\")>]"
      ]
     },
     "execution_count": 26,
     "metadata": {},
     "output_type": "execute_result"
    }
   ],
   "source": [
    "tasks"
   ]
  },
  {
   "cell_type": "code",
   "execution_count": 27,
   "metadata": {},
   "outputs": [],
   "source": [
    "done, pending = await asyncio.wait(tasks,)# return_when=asyncio.FIRST_COMPLETED)"
   ]
  },
  {
   "cell_type": "code",
   "execution_count": 28,
   "metadata": {},
   "outputs": [
    {
     "name": "stdout",
     "output_type": "stream",
     "text": [
      "<Task finished name='Task-5' coro=<PropagatorUntilAnyState.propagate_and_concatenate() done, defined at /home/tb/hejung/Documents/sources/aimmd/aimmd/distributed/logic.py:1311> exception=TypeError(\"propagate() got an unexpected keyword argument 'run_config'\")>\n",
      "2\n",
      "<Task finished name='Task-6' coro=<PropagatorUntilAnyState.propagate_and_concatenate() done, defined at /home/tb/hejung/Documents/sources/aimmd/aimmd/distributed/logic.py:1311> exception=TypeError(\"propagate() got an unexpected keyword argument 'run_config'\")>\n",
      "3\n",
      "<Task finished name='Task-3' coro=<PropagatorUntilAnyState.propagate_and_concatenate() done, defined at /home/tb/hejung/Documents/sources/aimmd/aimmd/distributed/logic.py:1311> exception=TypeError(\"propagate() got an unexpected keyword argument 'run_config'\")>\n",
      "0\n",
      "<Task finished name='Task-4' coro=<PropagatorUntilAnyState.propagate_and_concatenate() done, defined at /home/tb/hejung/Documents/sources/aimmd/aimmd/distributed/logic.py:1311> exception=TypeError(\"propagate() got an unexpected keyword argument 'run_config'\")>\n",
      "1\n"
     ]
    }
   ],
   "source": [
    "for i in done:\n",
    "    print(i)\n",
    "    print(tasks.index(i))"
   ]
  },
  {
   "cell_type": "code",
   "execution_count": 29,
   "metadata": {},
   "outputs": [
    {
     "data": {
      "text/plain": [
       "set()"
      ]
     },
     "execution_count": 29,
     "metadata": {},
     "output_type": "execute_result"
    }
   ],
   "source": [
    "pending"
   ]
  },
  {
   "cell_type": "code",
   "execution_count": 1,
   "metadata": {},
   "outputs": [],
   "source": []
  },
  {
   "cell_type": "code",
   "execution_count": 21,
   "metadata": {},
   "outputs": [
    {
     "name": "stdout",
     "output_type": "stream",
     "text": [
      "time elapsed: 0.48328495025634766 s\n"
     ]
    }
   ],
   "source": [
    "start = time.time()\n",
    "result1 = await wrapped_func(trajs[-1])\n",
    "end = time.time()\n",
    "print(f\"time elapsed: {end-start} s\")"
   ]
  },
  {
   "cell_type": "code",
   "execution_count": 22,
   "metadata": {},
   "outputs": [
    {
     "name": "stdout",
     "output_type": "stream",
     "text": [
      "time elapsed: 0.5739212036132812 s\n"
     ]
    }
   ],
   "source": [
    "start = time.time()\n",
    "results = await asyncio.gather(*(wrapped_func(t) for t in trajs))\n",
    "end = time.time()\n",
    "print(f\"time elapsed: {end-start} s\")"
   ]
  },
  {
   "cell_type": "code",
   "execution_count": 23,
   "metadata": {},
   "outputs": [
    {
     "data": {
      "text/plain": [
       "[Trajectory(trajectory_file=/home/think/scratch/arcd_distributed/engine_wdir0/blub.part0002.trr, topology_file=/home/think/scratch/arcd_distributed/engine_wdir0/blub.tpr),\n",
       " Trajectory(trajectory_file=/home/think/scratch/arcd_distributed/engine_wdir1/blub.part0002.trr, topology_file=/home/think/scratch/arcd_distributed/engine_wdir1/blub.tpr),\n",
       " Trajectory(trajectory_file=/home/think/scratch/arcd_distributed/engine_wdir2/blub.part0002.trr, topology_file=/home/think/scratch/arcd_distributed/engine_wdir2/blub.tpr),\n",
       " Trajectory(trajectory_file=/home/think/scratch/arcd_distributed/engine_wdir3/blub.part0002.trr, topology_file=/home/think/scratch/arcd_distributed/engine_wdir3/blub.tpr),\n",
       " Trajectory(trajectory_file=/home/think/scratch/arcd_distributed/engine_wdir4/blub.part0002.trr, topology_file=/home/think/scratch/arcd_distributed/engine_wdir4/blub.tpr),\n",
       " Trajectory(trajectory_file=/home/think/scratch/arcd_distributed/engine_wdir5/blub.part0002.trr, topology_file=/home/think/scratch/arcd_distributed/engine_wdir5/blub.tpr)]"
      ]
     },
     "execution_count": 23,
     "metadata": {},
     "output_type": "execute_result"
    }
   ],
   "source": [
    "trajs"
   ]
  },
  {
   "cell_type": "code",
   "execution_count": null,
   "metadata": {},
   "outputs": [],
   "source": []
  }
 ],
 "metadata": {
  "kernelspec": {
   "display_name": "AIMMD nature publish (py3.7.3/June-2021)",
   "language": "python",
   "name": "aimmd_nature_publish"
  },
  "language_info": {
   "codemirror_mode": {
    "name": "ipython",
    "version": 3
   },
   "file_extension": ".py",
   "mimetype": "text/x-python",
   "name": "python",
   "nbconvert_exporter": "python",
   "pygments_lexer": "ipython3",
   "version": "3.8.10"
  }
 },
 "nbformat": 4,
 "nbformat_minor": 4
}
