{
 "cells": [
  {
   "cell_type": "code",
   "execution_count": 1,
   "metadata": {},
   "outputs": [
    {
     "name": "stderr",
     "output_type": "stream",
     "text": [
      "Currently Loaded Modulefiles:\n",
      " 1) texlive/2019   2) anaconda/3_5.3.1   3) gromacs2020/2020.0(default)  \n"
     ]
    }
   ],
   "source": [
    "%%bash\n",
    "module list"
   ]
  },
  {
   "cell_type": "code",
   "execution_count": 2,
   "metadata": {},
   "outputs": [],
   "source": [
    "%matplotlib inline"
   ]
  },
  {
   "cell_type": "code",
   "execution_count": 3,
   "metadata": {},
   "outputs": [],
   "source": [
    "import os\n",
    "import asyncio\n",
    "import matplotlib.pyplot as plt\n",
    "import numpy as np\n",
    "import MDAnalysis as mda"
   ]
  },
  {
   "cell_type": "code",
   "execution_count": 4,
   "metadata": {},
   "outputs": [],
   "source": [
    "import aimmd\n",
    "import aimmd.distributed as aimmdd"
   ]
  },
  {
   "cell_type": "markdown",
   "metadata": {},
   "source": [
    "# GMX engine"
   ]
  },
  {
   "cell_type": "code",
   "execution_count": 5,
   "metadata": {},
   "outputs": [],
   "source": [
    "n_engines = 4"
   ]
  },
  {
   "cell_type": "code",
   "execution_count": 6,
   "metadata": {},
   "outputs": [],
   "source": [
    "scratch_dir = \"/home/tb/hejung/DATA/aimmd_scratch/aimmd_distributed/\"\n",
    "wdirs = [os.path.join(scratch_dir, f\"engine_wdir{i}\") for i in range(n_engines)]"
   ]
  },
  {
   "cell_type": "code",
   "execution_count": 7,
   "metadata": {},
   "outputs": [],
   "source": [
    "for d in wdirs:\n",
    "    if not os.path.isdir(d):\n",
    "        os.mkdir(d)"
   ]
  },
  {
   "cell_type": "markdown",
   "metadata": {},
   "source": [
    "## `GmxEngine` is a thin wrapper around gromacs\n",
    "- it has a `prepare()` method (which will call `grompp`) and multiple methods to then rujn the simulation, namely `run()`, `run_walltime()` and `run_nsteps()`"
   ]
  },
  {
   "cell_type": "code",
   "execution_count": 8,
   "metadata": {},
   "outputs": [],
   "source": [
    "engines = [aimmdd.GmxEngine(gro_file=os.path.join(scratch_dir, \"gmx_infiles/conf.gro\"),\n",
    "                            top_file=os.path.join(scratch_dir, \"gmx_infiles/topol.top\"),\n",
    "                            ndx_file=None,\n",
    "                            #mdrun_extra_args=\"-nt 2\",  # use this if your version of GMX is compiled with MPI support\n",
    "                            mdrun_extra_args=\"-ntomp 2\",  # use this for GMX without MPI support\n",
    "                            )\n",
    "           for _ in range(n_engines)]"
   ]
  },
  {
   "cell_type": "code",
   "execution_count": 9,
   "metadata": {},
   "outputs": [],
   "source": [
    "mdps = [aimmdd.MDP(os.path.join(scratch_dir, \"gmx_infiles/md.mdp\"))\n",
    "        for _ in range(n_engines)]"
   ]
  },
  {
   "cell_type": "code",
   "execution_count": 10,
   "metadata": {},
   "outputs": [
    {
     "data": {
      "text/plain": [
       "False"
      ]
     },
     "execution_count": 10,
     "metadata": {},
     "output_type": "execute_result"
    }
   ],
   "source": [
    "mdps[0].changed"
   ]
  },
  {
   "cell_type": "code",
   "execution_count": 11,
   "metadata": {},
   "outputs": [
    {
     "data": {
      "text/plain": [
       "{'title': ['test'], 'cpp': ['/lib/cpp'], 'include': ['-I../top'], 'define': [], 'integrator': ['md-vv'], 'dt': 0.002, 'nsteps': -1, 'nstxout': 10, 'nstvout': 10, 'nstlog': 10, 'nstenergy': 10, 'nstxout-compressed': 10, 'compressed-x-grps': ['Protein'], 'energygrps': ['Protein', 'SOL'], 'nstlist': 10, 'ns-type': ['grid'], 'cutoff-scheme': ['Verlet'], 'rlist': 1.1, 'coulombtype': ['PME'], 'rcoulomb': 1.1, 'rvdw': 1.1, 'tcoupl': ['Berendsen'], 'tc-grps': ['Protein', 'SOL'], 'tau-t': [0.1, 0.1], 'ref-t': [300.0, 300.0], 'Pcoupl': ['Berendsen'], 'tau-p': 1.0, 'compressibility': [4.5e-05], 'ref-p': [1.0], 'gen-vel': ['no'], 'gen-temp': 300.0, 'gen-seed': 173529, 'constraints': ['all-bonds']}"
      ]
     },
     "execution_count": 11,
     "metadata": {},
     "output_type": "execute_result"
    }
   ],
   "source": [
    "mdps[0]"
   ]
  },
  {
   "cell_type": "code",
   "execution_count": 12,
   "metadata": {},
   "outputs": [],
   "source": [
    "#for mdp in mdps:\n",
    "#    mdp['nstvout'] = 10\n",
    "#    mdp[\"nstxout\"] = 10"
   ]
  },
  {
   "cell_type": "code",
   "execution_count": 13,
   "metadata": {},
   "outputs": [
    {
     "data": {
      "text/plain": [
       "{'title': ['test'], 'cpp': ['/lib/cpp'], 'include': ['-I../top'], 'define': [], 'integrator': ['md-vv'], 'dt': 0.002, 'nsteps': -1, 'nstxout': 10, 'nstvout': 10, 'nstlog': 10, 'nstenergy': 10, 'nstxout-compressed': 10, 'compressed-x-grps': ['Protein'], 'energygrps': ['Protein', 'SOL'], 'nstlist': 10, 'ns-type': ['grid'], 'cutoff-scheme': ['Verlet'], 'rlist': 1.1, 'coulombtype': ['PME'], 'rcoulomb': 1.1, 'rvdw': 1.1, 'tcoupl': ['Berendsen'], 'tc-grps': ['Protein', 'SOL'], 'tau-t': [0.1, 0.1], 'ref-t': [300.0, 300.0], 'Pcoupl': ['Berendsen'], 'tau-p': 1.0, 'compressibility': [4.5e-05], 'ref-p': [1.0], 'gen-vel': ['no'], 'gen-temp': 300.0, 'gen-seed': 173529, 'constraints': ['all-bonds']}"
      ]
     },
     "execution_count": 13,
     "metadata": {},
     "output_type": "execute_result"
    }
   ],
   "source": [
    "mdps[0]"
   ]
  },
  {
   "cell_type": "code",
   "execution_count": 14,
   "metadata": {},
   "outputs": [
    {
     "data": {
      "text/plain": [
       "False"
      ]
     },
     "execution_count": 14,
     "metadata": {},
     "output_type": "execute_result"
    }
   ],
   "source": [
    "mdps[0].changed"
   ]
  },
  {
   "cell_type": "code",
   "execution_count": 15,
   "metadata": {},
   "outputs": [],
   "source": [
    "import time"
   ]
  },
  {
   "cell_type": "code",
   "execution_count": 16,
   "metadata": {},
   "outputs": [
    {
     "name": "stdout",
     "output_type": "stream",
     "text": [
      "time elapsed: 0.21573829650878906 s\n"
     ]
    }
   ],
   "source": [
    "start = time.time()\n",
    "await asyncio.gather(*(e.prepare(starting_configuration=None, workdir=wdir, deffnm=\"blib\", run_config=mdp)\n",
    "                               for e, wdir, mdp in zip(engines, wdirs, mdps)\n",
    "                               )\n",
    "                            )\n",
    "end = time.time()\n",
    "print(f\"time elapsed: {end-start} s\")"
   ]
  },
  {
   "cell_type": "code",
   "execution_count": 17,
   "metadata": {},
   "outputs": [
    {
     "name": "stderr",
     "output_type": "stream",
     "text": [
      "/home/tb/hejung/.conda/envs/aimmd_nature_publish/lib/python3.8/site-packages/MDAnalysis/topology/tpr/utils.py:389: DeprecationWarning: TPR files index residues from 0. From MDAnalysis version 2.0, resids will start at 1 instead. If you wish to keep indexing resids from 0, please set `tpr_resid_from_one=False` as a keyword argument when you create a new Topology or Universe.\n",
      "  warnings.warn(\"TPR files index residues from 0. \"\n"
     ]
    },
    {
     "name": "stdout",
     "output_type": "stream",
     "text": [
      "time elapsed: 75.4235634803772 s\n"
     ]
    }
   ],
   "source": [
    "walltime = 0.02 # 0.01 h = 36 s\n",
    "start = time.time()\n",
    "trajs = await asyncio.gather(*(e.run_walltime(walltime) for e in engines))\n",
    "end = time.time()\n",
    "print(f\"time elapsed: {end-start} s\")"
   ]
  },
  {
   "cell_type": "code",
   "execution_count": 22,
   "metadata": {},
   "outputs": [],
   "source": [
    "from state_funcs import descriptor_func\n",
    "\n",
    "descriptor_func_wrap = aimmdd.TrajectoryFunctionWrapper(descriptor_func, {\"scratch_dir\": \"/home/tb/hejung/DATA/aimmd_scratch/aimmd_distributed/\"})"
   ]
  },
  {
   "cell_type": "code",
   "execution_count": 23,
   "metadata": {},
   "outputs": [],
   "source": [
    "cv = await descriptor_func_wrap(trajs[0])"
   ]
  },
  {
   "cell_type": "code",
   "execution_count": 24,
   "metadata": {},
   "outputs": [
    {
     "data": {
      "text/plain": [
       "array([[-0.1878258 , -1.3769007 ],\n",
       "       [-0.1701046 , -1.4815865 ],\n",
       "       [-0.18295437, -1.5012401 ],\n",
       "       ...,\n",
       "       [ 2.655287  , -1.552482  ],\n",
       "       [ 2.7547574 , -1.5252008 ],\n",
       "       [ 2.8538456 , -1.5856383 ]], dtype=float32)"
      ]
     },
     "execution_count": 24,
     "metadata": {},
     "output_type": "execute_result"
    }
   ],
   "source": [
    "cv"
   ]
  },
  {
   "cell_type": "code",
   "execution_count": 25,
   "metadata": {},
   "outputs": [
    {
     "name": "stdout",
     "output_type": "stream",
     "text": [
      "engine 0 did 9153 frames (== 91530 integration steps)\n",
      "engine 1 did 9233 frames (== 92330 integration steps)\n",
      "engine 2 did 9169 frames (== 91690 integration steps)\n",
      "engine 3 did 9121 frames (== 91210 integration steps)\n"
     ]
    }
   ],
   "source": [
    "for i, e in enumerate(engines):\n",
    "    print(f\"engine {i} did {e.frames_done} frames (== {e.steps_done} integration steps)\")"
   ]
  },
  {
   "cell_type": "code",
   "execution_count": 26,
   "metadata": {},
   "outputs": [
    {
     "name": "stdout",
     "output_type": "stream",
     "text": [
      "time elapsed: 0.8636863231658936 s\n"
     ]
    },
    {
     "name": "stderr",
     "output_type": "stream",
     "text": [
      "/home/tb/hejung/.conda/envs/aimmd_nature_publish/lib/python3.8/site-packages/MDAnalysis/topology/tpr/utils.py:389: DeprecationWarning: TPR files index residues from 0. From MDAnalysis version 2.0, resids will start at 1 instead. If you wish to keep indexing resids from 0, please set `tpr_resid_from_one=False` as a keyword argument when you create a new Topology or Universe.\n",
      "  warnings.warn(\"TPR files index residues from 0. \"\n"
     ]
    }
   ],
   "source": [
    "start = time.time()\n",
    "trajs = await asyncio.gather(*(e.run_steps(10) for e in engines))\n",
    "end = time.time()\n",
    "print(f\"time elapsed: {end-start} s\")"
   ]
  },
  {
   "cell_type": "code",
   "execution_count": 27,
   "metadata": {},
   "outputs": [],
   "source": [
    "cv = await descriptor_func_wrap(trajs[0])"
   ]
  },
  {
   "cell_type": "code",
   "execution_count": 28,
   "metadata": {},
   "outputs": [
    {
     "data": {
      "text/plain": [
       "array([[ 2.8538456, -1.5856383],\n",
       "       [ 2.8715212, -1.5738745]], dtype=float32)"
      ]
     },
     "execution_count": 28,
     "metadata": {},
     "output_type": "execute_result"
    }
   ],
   "source": [
    "cv"
   ]
  },
  {
   "cell_type": "code",
   "execution_count": 29,
   "metadata": {},
   "outputs": [
    {
     "name": "stdout",
     "output_type": "stream",
     "text": [
      "engine 0 did 9155 frames (== 91550 integration steps)\n",
      "engine 1 did 9235 frames (== 92350 integration steps)\n",
      "engine 2 did 9171 frames (== 91710 integration steps)\n",
      "engine 3 did 9123 frames (== 91230 integration steps)\n"
     ]
    }
   ],
   "source": [
    "for i, e in enumerate(engines):\n",
    "    print(f\"engine {i} did {e.frames_done} frames (== {e.steps_done} integration steps)\")"
   ]
  },
  {
   "cell_type": "code",
   "execution_count": 24,
   "metadata": {},
   "outputs": [
    {
     "name": "stdout",
     "output_type": "stream",
     "text": [
      "time elapsed: 0.8220570087432861 s\n"
     ]
    },
    {
     "name": "stderr",
     "output_type": "stream",
     "text": [
      "/home/tb/hejung/.conda/envs/aimmd_nature_publish/lib/python3.8/site-packages/MDAnalysis/topology/tpr/utils.py:389: DeprecationWarning: TPR files index residues from 0. From MDAnalysis version 2.0, resids will start at 1 instead. If you wish to keep indexing resids from 0, please set `tpr_resid_from_one=False` as a keyword argument when you create a new Topology or Universe.\n",
      "  warnings.warn(\"TPR files index residues from 0. \"\n"
     ]
    }
   ],
   "source": [
    "start = time.time()\n",
    "trajs = await asyncio.gather(*(e.run_steps(10) for e in engines))\n",
    "end = time.time()\n",
    "print(f\"time elapsed: {end-start} s\")"
   ]
  },
  {
   "cell_type": "code",
   "execution_count": 31,
   "metadata": {},
   "outputs": [
    {
     "name": "stdout",
     "output_type": "stream",
     "text": [
      "[[ 2.8715212 -1.5738745]\n",
      " [ 2.7258203 -1.4065523]]\n"
     ]
    }
   ],
   "source": [
    "cv = await descriptor_func_wrap(trajs[0])\n",
    "print(cv)"
   ]
  },
  {
   "cell_type": "code",
   "execution_count": 32,
   "metadata": {},
   "outputs": [
    {
     "name": "stdout",
     "output_type": "stream",
     "text": [
      "engine 0 did 9157 frames (== 91570 integration steps)\n",
      "engine 1 did 9237 frames (== 92370 integration steps)\n",
      "engine 2 did 9173 frames (== 91730 integration steps)\n",
      "engine 3 did 9125 frames (== 91250 integration steps)\n"
     ]
    }
   ],
   "source": [
    "for i, e in enumerate(engines):\n",
    "    print(f\"engine {i} did {e.frames_done} frames (== {e.steps_done} integration steps)\")"
   ]
  },
  {
   "cell_type": "code",
   "execution_count": 33,
   "metadata": {},
   "outputs": [
    {
     "name": "stderr",
     "output_type": "stream",
     "text": [
      "/home/tb/hejung/.conda/envs/aimmd_nature_publish/lib/python3.8/site-packages/MDAnalysis/topology/tpr/utils.py:389: DeprecationWarning: TPR files index residues from 0. From MDAnalysis version 2.0, resids will start at 1 instead. If you wish to keep indexing resids from 0, please set `tpr_resid_from_one=False` as a keyword argument when you create a new Topology or Universe.\n",
      "  warnings.warn(\"TPR files index residues from 0. \"\n"
     ]
    },
    {
     "name": "stdout",
     "output_type": "stream",
     "text": [
      "time elapsed: 4.6737377643585205 s\n"
     ]
    }
   ],
   "source": [
    "start = time.time()\n",
    "trajs = await asyncio.gather(*(e.run_walltime(0.001) for e in engines))\n",
    "end = time.time()\n",
    "print(f\"time elapsed: {end-start} s\")"
   ]
  },
  {
   "cell_type": "code",
   "execution_count": 34,
   "metadata": {},
   "outputs": [
    {
     "name": "stdout",
     "output_type": "stream",
     "text": [
      "[[ 2.7258203  -1.4065523 ]\n",
      " [ 2.9640176  -1.6019828 ]\n",
      " [ 3.1300347  -1.6560661 ]\n",
      " [ 3.0382085  -1.5191604 ]\n",
      " [ 2.9377978  -1.6072451 ]\n",
      " [ 3.0410552  -1.5922588 ]\n",
      " [ 3.0146089  -1.6349123 ]\n",
      " [ 2.8225913  -1.6294135 ]\n",
      " [ 2.736512   -1.6612377 ]\n",
      " [ 2.8564024  -1.6286631 ]\n",
      " [ 2.8337288  -1.7651278 ]\n",
      " [ 2.7057264  -1.383769  ]\n",
      " [ 2.6955357  -1.4326061 ]\n",
      " [ 2.7578928  -1.3578266 ]\n",
      " [ 2.6465063  -1.0991731 ]\n",
      " [ 2.5426295  -1.0041287 ]\n",
      " [ 2.605516   -1.0120215 ]\n",
      " [ 2.660292   -0.942427  ]\n",
      " [ 2.5447655  -0.92581433]\n",
      " [ 2.5263658  -0.93455046]\n",
      " [ 2.517192   -1.0552974 ]\n",
      " [ 2.6707606  -1.2326305 ]\n",
      " [ 2.4980965  -1.1868676 ]\n",
      " [ 2.553026   -1.2357893 ]\n",
      " [ 2.5744507  -1.3263937 ]\n",
      " [ 2.532144   -1.4108065 ]\n",
      " [ 2.4662619  -1.3335556 ]\n",
      " [ 2.5194192  -1.3929738 ]\n",
      " [ 2.4789493  -1.4576728 ]\n",
      " [ 2.3886921  -1.3002166 ]\n",
      " [ 2.3218286  -1.6068863 ]\n",
      " [ 2.2413588  -1.4320781 ]\n",
      " [ 2.2599635  -1.4697754 ]\n",
      " [ 1.9392961  -1.5107043 ]\n",
      " [ 2.0164266  -1.4405842 ]\n",
      " [ 1.8281262  -1.4414577 ]\n",
      " [ 1.7932687  -1.2970252 ]\n",
      " [ 1.6364197  -1.0479509 ]\n",
      " [ 1.8226135  -1.1981553 ]\n",
      " [ 1.924882   -1.2697442 ]\n",
      " [ 1.8683152  -0.9387027 ]\n",
      " [ 2.069386   -1.2056284 ]\n",
      " [ 2.0707915  -0.993426  ]\n",
      " [ 2.144382   -1.0344628 ]\n",
      " [ 2.0446484  -0.90778214]\n",
      " [ 2.121037   -1.057478  ]\n",
      " [ 2.2281942  -1.0492009 ]\n",
      " [ 2.335653   -1.1758958 ]\n",
      " [ 2.3268301  -1.1212487 ]\n",
      " [ 2.4759955  -1.118587  ]\n",
      " [ 2.5462248  -1.2936921 ]\n",
      " [ 2.582633   -1.1094388 ]\n",
      " [ 2.6876779  -1.290468  ]\n",
      " [ 2.8196108  -1.1852851 ]\n",
      " [ 2.9559207  -1.2344604 ]\n",
      " [ 2.9770372  -1.238835  ]\n",
      " [ 2.9342299  -1.0767608 ]\n",
      " [ 2.887474   -1.0210975 ]\n",
      " [ 2.9229393  -1.1795002 ]\n",
      " [ 2.785507   -0.8891272 ]\n",
      " [ 2.6375604  -1.0896062 ]\n",
      " [ 2.4757247  -1.1269819 ]\n",
      " [ 2.4142306  -1.0084445 ]\n",
      " [ 2.4451923  -1.3589127 ]\n",
      " [ 2.5253637  -1.1408261 ]\n",
      " [ 2.4712474  -1.1996056 ]\n",
      " [ 2.2925954  -1.061367  ]\n",
      " [ 2.4641902  -1.1770407 ]\n",
      " [ 2.383518   -1.1019396 ]\n",
      " [ 2.324214   -0.8472912 ]\n",
      " [ 2.17768    -0.97305006]\n",
      " [ 2.1304793  -0.6405259 ]\n",
      " [ 2.2510612  -1.2587882 ]\n",
      " [ 2.2643766  -1.2664514 ]\n",
      " [ 2.262706   -1.173154  ]\n",
      " [ 2.3337815  -1.3026885 ]\n",
      " [ 2.1648018  -1.05401   ]\n",
      " [ 1.9637173  -0.7926065 ]\n",
      " [ 2.083293   -0.91533697]\n",
      " [ 2.1389637  -0.7305963 ]\n",
      " [ 2.1475067  -0.8421753 ]\n",
      " [ 2.1991591  -1.1255566 ]\n",
      " [ 2.3952632  -1.1428852 ]\n",
      " [ 2.2687287  -1.4307885 ]\n",
      " [ 2.4086518  -1.3352395 ]\n",
      " [ 2.2526717  -1.3531108 ]\n",
      " [ 2.0334437  -1.3236587 ]\n",
      " [ 2.095745   -1.3738946 ]\n",
      " [ 1.9015929  -1.3068918 ]\n",
      " [ 2.0257     -1.252311  ]\n",
      " [ 1.9466645  -1.432307  ]\n",
      " [ 1.972704   -1.2635033 ]\n",
      " [ 2.0243354  -1.4226027 ]\n",
      " [ 2.0238667  -1.3120685 ]\n",
      " [ 1.9386548  -1.3011292 ]\n",
      " [ 2.0286703  -1.4396954 ]\n",
      " [ 2.1866994  -1.3985524 ]\n",
      " [ 2.227159   -1.2589394 ]\n",
      " [ 2.1329632  -1.262847  ]\n",
      " [ 2.2735372  -1.5495359 ]\n",
      " [ 2.1431403  -1.3476026 ]\n",
      " [ 2.3475173  -1.4371914 ]\n",
      " [ 2.3248677  -0.93036   ]\n",
      " [ 2.4971836  -1.1763134 ]\n",
      " [ 2.5815897  -1.1686097 ]\n",
      " [ 2.5648227  -1.3923459 ]\n",
      " [ 2.6575816  -1.2681013 ]\n",
      " [ 2.6017034  -1.308883  ]\n",
      " [ 2.6049416  -1.310376  ]\n",
      " [ 2.541236   -1.1992592 ]\n",
      " [ 2.502991   -1.2081434 ]\n",
      " [ 2.2662544  -0.9131175 ]\n",
      " [ 2.24605    -1.1534076 ]\n",
      " [ 2.298357   -1.235831  ]\n",
      " [ 2.2502856  -1.3795053 ]\n",
      " [ 2.0530362  -1.191536  ]\n",
      " [ 2.0790596  -1.1861674 ]\n",
      " [ 1.8509339  -1.201564  ]\n",
      " [ 1.8769106  -1.1148143 ]\n",
      " [ 1.6884428  -1.2276386 ]\n",
      " [ 1.6897022  -1.0150918 ]\n",
      " [ 1.7848504  -1.1440336 ]\n",
      " [ 1.7835995  -1.2189113 ]\n",
      " [ 2.022989   -1.292704  ]\n",
      " [ 2.0530655  -1.3091909 ]\n",
      " [ 1.9480402  -1.3959395 ]\n",
      " [ 2.0543811  -1.1792196 ]\n",
      " [ 1.9089173  -1.3511953 ]\n",
      " [ 1.915448   -1.4098097 ]\n",
      " [ 1.8243828  -1.1064006 ]\n",
      " [ 2.0456629  -1.2368752 ]\n",
      " [ 2.047962   -1.0605726 ]\n",
      " [ 1.907086   -1.2155125 ]\n",
      " [ 1.9682539  -1.3438354 ]\n",
      " [ 1.9392494  -1.2193258 ]\n",
      " [ 2.0337102  -1.1526806 ]\n",
      " [ 2.0351248  -1.24868   ]\n",
      " [ 2.0469522  -1.2462308 ]\n",
      " [ 2.211782   -1.330867  ]\n",
      " [ 2.1682608  -1.282042  ]\n",
      " [ 2.2663589  -1.2061116 ]\n",
      " [ 2.3305492  -1.4277793 ]\n",
      " [ 2.3596544  -1.347868  ]\n",
      " [ 2.487752   -1.6262718 ]\n",
      " [ 2.5043352  -1.5028981 ]\n",
      " [ 2.4573374  -1.5214585 ]\n",
      " [ 2.5249395  -1.4974304 ]\n",
      " [ 2.6675093  -1.575986  ]\n",
      " [ 2.694334   -1.252955  ]\n",
      " [ 2.633      -1.3120161 ]\n",
      " [ 2.7769134  -1.3150129 ]\n",
      " [ 2.803194   -1.402503  ]\n",
      " [ 2.8885834  -1.4178922 ]\n",
      " [ 2.6833913  -1.2149594 ]\n",
      " [ 2.71026    -1.3411047 ]\n",
      " [ 2.8087177  -1.4877962 ]\n",
      " [ 2.6044636  -1.5835892 ]\n",
      " [ 2.5919106  -1.3722526 ]\n",
      " [ 2.5566416  -1.5082256 ]\n",
      " [ 2.590806   -1.4317005 ]\n",
      " [ 2.6039922  -1.5267755 ]\n",
      " [ 2.531777   -1.4712888 ]\n",
      " [ 2.666894   -1.3819292 ]\n",
      " [ 2.758997   -1.4393091 ]\n",
      " [ 2.694355   -1.5994905 ]\n",
      " [ 2.6434395  -1.4726982 ]\n",
      " [ 2.6658812  -1.5334169 ]\n",
      " [ 2.8220148  -1.610025  ]\n",
      " [ 2.73281    -1.4957376 ]\n",
      " [ 2.8386598  -1.396364  ]\n",
      " [ 2.7386594  -1.2433327 ]\n",
      " [ 2.8096972  -1.2357833 ]\n",
      " [ 2.6303573  -1.2267922 ]\n",
      " [ 2.7652326  -1.3079715 ]\n",
      " [ 2.861526   -1.299165  ]\n",
      " [ 2.8112679  -1.3086663 ]\n",
      " [ 2.7994885  -1.1554759 ]\n",
      " [ 2.8054514  -1.1620574 ]\n",
      " [ 2.8970947  -1.1276631 ]\n",
      " [ 2.7139678  -1.2606117 ]\n",
      " [ 2.7242692  -1.2129635 ]\n",
      " [ 2.61931    -1.2553315 ]\n",
      " [ 2.5822911  -1.1511846 ]\n",
      " [ 2.4437542  -1.34527   ]\n",
      " [ 2.5277576  -1.2650123 ]\n",
      " [ 2.460178   -1.6001216 ]\n",
      " [ 2.4091985  -1.3877845 ]\n",
      " [ 2.1995788  -1.6479784 ]\n",
      " [ 2.3001854  -1.731603  ]\n",
      " [ 2.2288065  -1.8268698 ]\n",
      " [ 2.1596527  -1.7317113 ]\n",
      " [ 2.098976   -1.7835518 ]\n",
      " [ 2.1561408  -1.6637778 ]\n",
      " [ 2.178593   -1.6859903 ]\n",
      " [ 2.2755375  -1.4823763 ]\n",
      " [ 2.3883705  -1.3286217 ]\n",
      " [ 2.5094705  -1.2563149 ]\n",
      " [ 2.5092533  -1.1606303 ]\n",
      " [ 2.4907634  -1.0824876 ]\n",
      " [ 2.5919137  -1.0113367 ]\n",
      " [ 2.3479931  -0.9189561 ]\n",
      " [ 2.425767   -0.86919177]\n",
      " [ 2.327499   -1.1237692 ]\n",
      " [ 2.4004223  -1.1522123 ]\n",
      " [ 2.3255901  -1.2849947 ]\n",
      " [ 2.3942988  -1.2860374 ]\n",
      " [ 2.3991108  -1.3571079 ]\n",
      " [ 2.4932287  -1.4839531 ]\n",
      " [ 2.387624   -1.5167489 ]\n",
      " [ 2.4883506  -1.4507666 ]\n",
      " [ 2.4408445  -1.3502626 ]\n",
      " [ 2.516176   -1.129814  ]\n",
      " [ 2.562069   -1.2022498 ]\n",
      " [ 2.5424993  -1.1516372 ]\n",
      " [ 2.7332592  -1.1314536 ]\n",
      " [ 2.636039   -1.0899936 ]\n",
      " [ 2.6899488  -1.0558215 ]\n",
      " [ 2.794796   -1.1066065 ]\n",
      " [ 2.857023   -1.217715  ]\n",
      " [ 3.019477   -1.3671575 ]\n",
      " [ 2.9057527  -1.3710088 ]\n",
      " [ 2.9097316  -1.4604042 ]\n",
      " [ 2.9191566  -1.3962617 ]\n",
      " [ 2.6615798  -1.3295745 ]\n",
      " [ 2.680885   -1.1460553 ]\n",
      " [ 2.533211   -1.0881989 ]\n",
      " [ 2.5964732  -1.1837732 ]\n",
      " [ 2.4967468  -1.1424743 ]\n",
      " [ 2.4061394  -1.1607182 ]\n",
      " [ 2.5880125  -1.1706617 ]\n",
      " [ 2.4631062  -1.3420333 ]\n",
      " [ 2.4491408  -1.2523276 ]\n",
      " [ 2.2409537  -1.1314788 ]\n",
      " [ 2.2586987  -1.203623  ]\n",
      " [ 2.4586558  -1.2165692 ]\n",
      " [ 2.297677   -1.3091165 ]\n",
      " [ 2.3989563  -1.0936173 ]\n",
      " [ 2.4044185  -1.2116184 ]\n",
      " [ 2.515901   -1.0183803 ]\n",
      " [ 2.7049427  -1.0553782 ]\n",
      " [ 2.59482    -1.1448786 ]\n",
      " [ 2.7214403  -1.0502701 ]\n",
      " [ 2.7380931  -1.0696402 ]\n",
      " [ 2.619152   -1.0378852 ]\n",
      " [ 2.7049036  -0.9922979 ]\n",
      " [ 2.5625737  -1.3961881 ]\n",
      " [ 2.632433   -1.3380796 ]\n",
      " [ 2.3437788  -1.2684109 ]\n",
      " [ 2.2668018  -1.3603045 ]\n",
      " [ 2.2064009  -1.2220364 ]\n",
      " [ 2.0785334  -1.3128723 ]\n",
      " [ 2.2030401  -1.3382182 ]\n",
      " [ 2.0684614  -1.2787833 ]\n",
      " [ 2.07174    -1.2815526 ]\n",
      " [ 2.1299345  -1.5346217 ]\n",
      " [ 1.9949088  -1.4658446 ]\n",
      " [ 2.0995927  -1.5511292 ]\n",
      " [ 2.029235   -1.8365623 ]\n",
      " [ 2.068624   -1.8386376 ]\n",
      " [ 2.0962873  -1.9736753 ]\n",
      " [ 1.9937915  -1.9195989 ]\n",
      " [ 2.1201937  -1.7328594 ]\n",
      " [ 1.9513332  -1.799627  ]\n",
      " [ 1.9777461  -1.8743949 ]\n",
      " [ 1.8682975  -1.9165605 ]\n",
      " [ 2.0848327  -1.9707081 ]\n",
      " [ 2.0266802  -1.8529049 ]\n",
      " [ 2.1589565  -1.7479647 ]\n",
      " [ 2.355421   -1.8505985 ]\n",
      " [ 2.2948976  -1.8609985 ]\n",
      " [ 2.4004002  -1.6637567 ]\n",
      " [ 2.4565203  -1.7596833 ]\n",
      " [ 2.6074834  -1.6707011 ]\n",
      " [ 2.5702658  -1.5610746 ]\n",
      " [ 2.608901   -1.731876  ]\n",
      " [ 2.7086487  -1.394557  ]\n",
      " [ 2.70649    -1.395186  ]\n",
      " [ 2.8823566  -1.5664862 ]\n",
      " [ 2.810334   -1.4813339 ]\n",
      " [ 2.6791513  -1.3886817 ]\n",
      " [ 2.6722798  -1.3978229 ]\n",
      " [ 2.6184158  -1.5089458 ]\n",
      " [ 2.539769   -1.6115516 ]\n",
      " [ 2.3843133  -1.6419697 ]\n",
      " [ 2.3996394  -1.5353223 ]\n",
      " [ 2.4008791  -1.4969367 ]\n",
      " [ 2.2756891  -1.3181826 ]\n",
      " [ 2.461966   -1.1552045 ]\n",
      " [ 2.4731236  -0.9668889 ]\n",
      " [ 2.2957747  -0.6957421 ]\n",
      " [ 2.3115516  -0.6929034 ]\n",
      " [ 2.1568265  -0.6731039 ]\n",
      " [ 2.213534   -0.8659266 ]\n",
      " [ 2.1126192  -0.8409084 ]\n",
      " [ 2.10516    -1.0262455 ]\n",
      " [ 2.134912   -1.104687  ]\n",
      " [ 1.9920851  -1.1187329 ]\n",
      " [ 2.0308404  -1.1314485 ]\n",
      " [ 2.0301957  -1.0513293 ]\n",
      " [ 1.8920319  -1.061348  ]\n",
      " [ 1.8742075  -0.96763   ]\n",
      " [ 1.9580036  -1.2730291 ]\n",
      " [ 2.1813955  -1.2268412 ]\n",
      " [ 2.2483408  -1.2780483 ]\n",
      " [ 2.437376   -1.3283007 ]\n",
      " [ 2.4941437  -1.368248  ]\n",
      " [ 2.43299    -1.3694171 ]\n",
      " [ 2.5199327  -1.2886381 ]\n",
      " [ 2.361196   -1.0543877 ]\n",
      " [ 2.4650035  -0.8999986 ]\n",
      " [ 2.456582   -1.2022281 ]\n",
      " [ 2.3345542  -0.933161  ]\n",
      " [ 2.3933897  -1.1245052 ]\n",
      " [ 2.2933776  -1.1366484 ]\n",
      " [ 2.196264   -1.0402684 ]\n",
      " [ 2.2086678  -1.2245221 ]\n",
      " [ 2.053132   -1.285568  ]\n",
      " [ 2.0745983  -1.0816427 ]\n",
      " [ 2.0575044  -1.2336738 ]\n",
      " [ 2.2204306  -1.2331228 ]\n",
      " [ 2.1473885  -1.036802  ]\n",
      " [ 2.1871493  -1.2563863 ]\n",
      " [ 2.105425   -0.94733095]\n",
      " [ 2.1392384  -1.1018965 ]\n",
      " [ 2.2733607  -1.0951174 ]\n",
      " [ 2.285448   -1.2003834 ]\n",
      " [ 2.3158178  -1.1113547 ]\n",
      " [ 2.4469645  -1.2765503 ]\n",
      " [ 2.4526503  -1.1249356 ]\n",
      " [ 2.4525633  -0.84661466]\n",
      " [ 2.542397   -1.0496635 ]\n",
      " [ 2.5776606  -0.80058455]\n",
      " [ 2.6215332  -1.1123458 ]\n",
      " [ 2.5851526  -0.93343365]\n",
      " [ 2.5679028  -1.0718511 ]\n",
      " [ 2.7637908  -1.0548332 ]\n",
      " [ 2.8318875  -1.4373877 ]\n",
      " [ 2.787993   -1.2533717 ]\n",
      " [ 2.7510219  -1.3281728 ]\n",
      " [ 2.7334273  -1.252614  ]\n",
      " [ 2.775935   -1.2876221 ]\n",
      " [ 2.7473676  -1.2005318 ]\n",
      " [ 2.6437483  -1.0207658 ]\n",
      " [ 2.7041836  -1.1559451 ]\n",
      " [ 2.6276145  -0.97472584]\n",
      " [ 2.5228207  -1.0905867 ]\n",
      " [ 2.457921   -0.779461  ]\n",
      " [ 2.6015081  -1.1080103 ]\n",
      " [ 2.5913274  -0.97820795]\n",
      " [ 2.4437559  -1.0255038 ]\n",
      " [ 2.438196   -1.0910237 ]\n",
      " [ 2.35535    -1.0595555 ]\n",
      " [ 2.4166698  -1.0822374 ]\n",
      " [ 2.306027   -1.0930066 ]\n",
      " [ 2.414685   -1.1534129 ]\n",
      " [ 2.3332973  -1.1668063 ]\n",
      " [ 2.4471154  -1.2565854 ]\n",
      " [ 2.2823687  -1.0856616 ]\n",
      " [ 2.383648   -1.3119354 ]\n",
      " [ 2.1544092  -1.2197725 ]\n",
      " [ 2.178424   -1.2354157 ]\n",
      " [ 1.9431938  -1.0860605 ]\n",
      " [ 2.072792   -1.1714615 ]\n",
      " [ 1.9736341  -1.0899324 ]\n",
      " [ 2.1336303  -1.1771237 ]\n",
      " [ 2.074347   -1.0784625 ]\n",
      " [ 2.1519675  -1.1712804 ]\n",
      " [ 2.2045376  -1.2058368 ]\n",
      " [ 2.145219   -1.1133012 ]\n",
      " [ 2.2188013  -0.9934466 ]\n",
      " [ 2.0836449  -1.0163319 ]\n",
      " [ 2.2053661  -0.99835813]\n",
      " [ 2.197732   -1.0885442 ]\n",
      " [ 2.3127954  -1.1549866 ]\n",
      " [ 2.1525047  -1.0613917 ]\n",
      " [ 2.4418359  -1.3369505 ]\n",
      " [ 2.3560805  -1.4795444 ]\n",
      " [ 2.4160237  -1.4798294 ]\n",
      " [ 2.3182592  -1.6052294 ]\n",
      " [ 2.477594   -1.6213266 ]\n",
      " [ 2.3032846  -1.3845258 ]\n",
      " [ 2.3541296  -1.4915614 ]\n",
      " [ 2.3329926  -1.3901393 ]\n",
      " [ 2.450952   -1.3699248 ]\n",
      " [ 2.1953886  -1.3643287 ]\n",
      " [ 2.2495024  -1.1964395 ]\n",
      " [ 2.300883   -1.2864919 ]\n",
      " [ 2.4156256  -1.1590363 ]\n",
      " [ 2.3735821  -1.1727692 ]\n",
      " [ 2.3853612  -1.1746368 ]\n",
      " [ 2.6434793  -1.4080665 ]\n",
      " [ 2.4127066  -1.1709145 ]\n",
      " [ 2.510947   -1.2104533 ]\n",
      " [ 2.5329714  -1.2750522 ]\n",
      " [ 2.6534045  -1.0628374 ]\n",
      " [ 2.3302984  -1.258794  ]\n",
      " [ 2.4769     -0.9677074 ]\n",
      " [ 2.5271022  -1.2293507 ]\n",
      " [ 2.6879137  -1.2202705 ]\n",
      " [ 2.565988   -1.3298008 ]\n",
      " [ 2.5541446  -1.1929834 ]\n",
      " [ 2.6067705  -1.5297678 ]\n",
      " [ 2.636956   -1.4388425 ]\n",
      " [ 2.730403   -1.6047457 ]\n",
      " [ 2.8938603  -1.694786  ]\n",
      " [ 2.94447    -1.588342  ]\n",
      " [ 2.841754   -1.6036403 ]\n",
      " [ 2.9663386  -1.5509316 ]\n",
      " [ 2.95822    -1.6490338 ]\n",
      " [ 2.9779873  -1.3959017 ]\n",
      " [ 2.8703692  -1.5739262 ]\n",
      " [ 2.9975338  -1.295507  ]\n",
      " [ 2.917053   -1.3686723 ]\n",
      " [ 2.9963691  -0.9537252 ]\n",
      " [ 2.9418063  -1.1010783 ]\n",
      " [ 2.9401534  -0.9234881 ]\n",
      " [ 2.8238795  -1.1669967 ]\n",
      " [ 2.8143106  -0.9977935 ]\n",
      " [ 2.81483    -1.186723  ]\n",
      " [ 2.903429   -1.3148637 ]\n",
      " [ 2.6884923  -1.3613462 ]\n",
      " [ 2.8575974  -1.5560364 ]\n",
      " [ 2.8940756  -1.4930724 ]\n",
      " [ 2.8099713  -1.5459723 ]\n",
      " [ 2.862174   -1.5617753 ]\n",
      " [ 3.0509279  -1.5860058 ]\n",
      " [ 3.0883539  -1.5247864 ]\n",
      " [ 3.016048   -1.4751865 ]\n",
      " [-3.0855258  -1.487689  ]\n",
      " [-3.0092905  -1.4892532 ]\n",
      " [ 3.123162   -1.2318627 ]\n",
      " [ 2.8899934  -0.9402787 ]\n",
      " [ 2.9455276  -0.84961516]\n",
      " [ 2.9878626  -1.0562259 ]\n",
      " [ 2.793811   -0.86243916]\n",
      " [ 2.5720012  -0.7991176 ]\n",
      " [ 2.7943687  -1.0711226 ]\n",
      " [ 2.6784444  -1.0549288 ]\n",
      " [ 2.714124   -1.0365108 ]\n",
      " [ 2.5107424  -1.0777932 ]\n",
      " [ 2.7189324  -1.0910542 ]\n",
      " [ 2.7086163  -1.3956845 ]\n",
      " [ 2.626958   -1.5231818 ]\n",
      " [ 2.608714   -1.3762889 ]\n",
      " [ 2.6841269  -1.5168263 ]\n",
      " [ 2.7180088  -1.5461537 ]\n",
      " [ 2.5749574  -1.4658152 ]\n",
      " [ 2.6458578  -1.4831542 ]\n",
      " [ 2.583625   -1.5028601 ]\n",
      " [ 2.578701   -1.3154072 ]\n",
      " [ 2.582114   -1.4165932 ]\n",
      " [ 2.5589948  -1.1726506 ]\n",
      " [ 2.5234845  -1.125871  ]\n",
      " [ 2.5669475  -1.130704  ]\n",
      " [ 2.4418     -1.125428  ]\n",
      " [ 2.5541615  -0.99905074]\n",
      " [ 2.4211001  -0.97123796]\n",
      " [ 2.4066365  -0.92292464]\n",
      " [ 2.5656462  -1.1295687 ]\n",
      " [ 2.5752833  -1.3006738 ]\n",
      " [ 2.4041677  -1.1437132 ]\n",
      " [ 2.4533408  -1.2656562 ]\n",
      " [ 2.5010233  -1.2271132 ]\n",
      " [ 2.4112458  -1.3354656 ]\n",
      " [ 2.215897   -1.3069601 ]\n",
      " [ 2.2942963  -1.4283088 ]\n",
      " [ 2.2910674  -1.3921888 ]\n",
      " [ 2.314035   -1.258354  ]\n",
      " [ 2.176422   -1.3219042 ]\n",
      " [ 2.2751715  -1.059313  ]\n",
      " [ 2.4830003  -1.3189957 ]]\n"
     ]
    }
   ],
   "source": [
    "cv = await descriptor_func_wrap(trajs[0])\n",
    "print(cv)"
   ]
  },
  {
   "cell_type": "code",
   "execution_count": 35,
   "metadata": {},
   "outputs": [
    {
     "name": "stdout",
     "output_type": "stream",
     "text": [
      "engine 0 did 9628 frames (== 96280 integration steps)\n",
      "engine 1 did 9716 frames (== 97160 integration steps)\n",
      "engine 2 did 9644 frames (== 96440 integration steps)\n",
      "engine 3 did 9596 frames (== 95960 integration steps)\n"
     ]
    }
   ],
   "source": [
    "for i, e in enumerate(engines):\n",
    "    print(f\"engine {i} did {e.frames_done} frames (== {e.steps_done} integration steps)\")"
   ]
  },
  {
   "cell_type": "code",
   "execution_count": null,
   "metadata": {},
   "outputs": [],
   "source": []
  },
  {
   "cell_type": "markdown",
   "metadata": {},
   "source": [
    "# propagator until state"
   ]
  },
  {
   "cell_type": "code",
   "execution_count": 13,
   "metadata": {},
   "outputs": [],
   "source": [
    "import mdtraj as mdt\n",
    "import numpy as np\n",
    "\"\"\"\n",
    "def psi(traj):\n",
    "    traj = mdt.load(traj.trajectory_file, \n",
    "                    top=os.path.join(scratch_dir, \"gmx_infiles/conf.gro\"),  # mdt can not work with tprs, so we use theinitial gro for now\n",
    "                    )\n",
    "    psi = mdt.compute_psi(traj)\n",
    "    return psi\n",
    "\n",
    "def alpha_R(traj):\n",
    "    traj = mdt.load(traj.trajectory_file, \n",
    "                    top=os.path.join(scratch_dir, \"gmx_infiles/conf.gro\"),  # mdt can not work with tprs, so we use theinitial gro for now\n",
    "                    )\n",
    "    psi = mdt.compute_dihedrals(traj, indices=[[6,8,14,16]])[:, 0]\n",
    "    phi = mdt.compute_dihedrals(traj, indices=[[4,6,8,14]])[:, 0]\n",
    "    state = np.full_like(psi, False, dtype=bool)\n",
    "    # phi: -pi -> 0 \n",
    "    # psi: > -50 but smaller 30 degree\n",
    "    deg = 180/np.pi\n",
    "    state[(phi <= 0) & (-50/deg <= psi) & (psi <= 30/deg)] = True\n",
    "    return state\n",
    "\n",
    "wrapped_alphaR = arcdd.trajectory.TrajectoryFunctionWrapper(alpha_R)\n",
    "wrapped_psi = arcdd.trajectory.TrajectoryFunctionWrapper(psi)\n",
    "\"\"\"\n",
    "\n",
    "from state_funcs import alpha_R, C7_eq\n",
    "wrapped_alphaR = aimmdd.TrajectoryFunctionWrapper(alpha_R, call_kwargs={\"scratch_dir\": scratch_dir})\n",
    "wrapped_C7_eq = aimmdd.TrajectoryFunctionWrapper(C7_eq, call_kwargs={\"scratch_dir\": scratch_dir})"
   ]
  },
  {
   "cell_type": "code",
   "execution_count": 14,
   "metadata": {},
   "outputs": [],
   "source": [
    "import aimmd.distributed.logic"
   ]
  },
  {
   "cell_type": "code",
   "execution_count": 15,
   "metadata": {},
   "outputs": [
    {
     "name": "stderr",
     "output_type": "stream",
     "text": [
      "Neither max_frames nor max_steps given. Setting max_frames to infinity.\n",
      "Neither max_frames nor max_steps given. Setting max_frames to infinity.\n",
      "Neither max_frames nor max_steps given. Setting max_frames to infinity.\n",
      "Neither max_frames nor max_steps given. Setting max_frames to infinity.\n"
     ]
    }
   ],
   "source": [
    "propagators = [aimmd.distributed.logic.PropagatorUntilAnyState(states=[wrapped_alphaR, wrapped_C7_eq],\n",
    "                                                               engine_cls=aimmdd.GmxEngine,\n",
    "                                                               engine_kwargs={\"gro_file\":os.path.join(scratch_dir, \"gmx_infiles/conf.gro\"),\n",
    "                                                                              \"top_file\":os.path.join(scratch_dir, \"gmx_infiles/topol.top\"),\n",
    "                                                                               \"mdrun_extra_args\": \"-nt 4\",\n",
    "                                                                              },\n",
    "                                                               run_config=aimmdd.MDP(os.path.join(scratch_dir, \"gmx_infiles/md.mdp\")),\n",
    "                                                               walltime_per_part=0.005,\n",
    "                                                               \n",
    "                                                              )\n",
    "               for _ in range(n_engines)\n",
    "               ]"
   ]
  },
  {
   "cell_type": "code",
   "execution_count": 17,
   "metadata": {},
   "outputs": [],
   "source": [
    "#initial_tp_mdt = mdt.load(os.path.join(scratch_dir, \"gmx_infiles/ala_400K_TP_low_barrier.h5\"))"
   ]
  },
  {
   "cell_type": "code",
   "execution_count": 18,
   "metadata": {},
   "outputs": [],
   "source": [
    "#initial_tp_mdt[10].save_trr(os.path.join(scratch_dir, \"gmx_infiles/tp_frame.trr\"))"
   ]
  },
  {
   "cell_type": "code",
   "execution_count": 16,
   "metadata": {},
   "outputs": [],
   "source": [
    "starting_conf = aimmdd.Trajectory(trajectory_file=os.path.join(scratch_dir, \"gmx_infiles/tp_frame.trr\"),\n",
    "                                  structure_file=os.path.join(scratch_dir, \"gmx_infiles/tp_frame.gro\"))\n",
    "\n",
    "starting_conf = aimmdd.Trajectory(trajectory_file=os.path.join(scratch_dir, \"gmx_infiles/conf.gro\"),\n",
    "                                  structure_file=os.path.join(scratch_dir, \"gmx_infiles/conf.gro\"))"
   ]
  },
  {
   "cell_type": "code",
   "execution_count": 17,
   "metadata": {},
   "outputs": [
    {
     "data": {
      "text/plain": [
       "TrajectoryFunctionWrapper(function=<function alpha_R at 0x7fe1fe04e700>, call_kwargs={'scratch_dir': '/home/tb/hejung/DATA/aimmd_scratch/aimmd_distributed/'})"
      ]
     },
     "execution_count": 17,
     "metadata": {},
     "output_type": "execute_result"
    }
   ],
   "source": [
    "wrapped_alphaR"
   ]
  },
  {
   "cell_type": "code",
   "execution_count": 18,
   "metadata": {},
   "outputs": [],
   "source": [
    "import mdtraj as mdt"
   ]
  },
  {
   "cell_type": "code",
   "execution_count": 19,
   "metadata": {},
   "outputs": [
    {
     "name": "stderr",
     "output_type": "stream",
     "text": [
      "/home/tb/hejung/.conda/envs/aimmd_nature_publish/lib/python3.8/site-packages/mdtraj/formats/gro.py:307: UserWarning: WARNING: two consecutive residues with same number (ALA, ACE)\n",
      "  warnings.warn(\"WARNING: two consecutive residues with same number (%s, %s)\" % (thisresname, residue.name))\n",
      "/home/tb/hejung/.conda/envs/aimmd_nature_publish/lib/python3.8/site-packages/mdtraj/formats/gro.py:307: UserWarning: WARNING: two consecutive residues with same number (NME, ALA)\n",
      "  warnings.warn(\"WARNING: two consecutive residues with same number (%s, %s)\" % (thisresname, residue.name))\n",
      "/home/tb/hejung/.conda/envs/aimmd_nature_publish/lib/python3.8/site-packages/mdtraj/formats/gro.py:307: UserWarning: WARNING: two consecutive residues with same number (HOH, NME)\n",
      "  warnings.warn(\"WARNING: two consecutive residues with same number (%s, %s)\" % (thisresname, residue.name))\n",
      "/home/tb/hejung/.conda/envs/aimmd_nature_publish/lib/python3.8/site-packages/mdtraj/core/trajectory.py:422: UserWarning: top= kwarg ignored since file contains topology information\n",
      "  warnings.warn('top= kwarg ignored since file contains topology information')\n"
     ]
    },
    {
     "data": {
      "text/plain": [
       "<mdtraj.Trajectory with 1 frames, 1651 atoms, 546 residues, and unitcells at 0x7fe126c51d30>"
      ]
     },
     "execution_count": 19,
     "metadata": {},
     "output_type": "execute_result"
    }
   ],
   "source": [
    "mdt.load(os.path.join(scratch_dir, \"gmx_infiles/conf.gro\"), top=os.path.join(scratch_dir, \"gmx_infiles/conf.gro\"))"
   ]
  },
  {
   "cell_type": "code",
   "execution_count": 20,
   "metadata": {},
   "outputs": [
    {
     "data": {
      "text/plain": [
       "<mdtraj.Trajectory with 1 frames, 1651 atoms, 546 residues, and unitcells at 0x7fe126bff550>"
      ]
     },
     "execution_count": 20,
     "metadata": {},
     "output_type": "execute_result"
    }
   ],
   "source": [
    "mdt.load(starting_conf.trajectory_file, top=starting_conf.structure_file)"
   ]
  },
  {
   "cell_type": "code",
   "execution_count": 21,
   "metadata": {},
   "outputs": [
    {
     "name": "stderr",
     "output_type": "stream",
     "text": [
      "/home/tb/hejung/.conda/envs/aimmd_nature_publish/lib/python3.8/site-packages/mdtraj/utils/validation.py:115: TypeCastPerformanceWarning: Casting unitcell_vectors dtype=float64 to <class 'numpy.float32'> \n",
      "  warnings.warn(\"Casting %s dtype=%s to %s \" % (name, val.dtype, dtype),\n"
     ]
    },
    {
     "data": {
      "text/plain": [
       "array([ True])"
      ]
     },
     "execution_count": 21,
     "metadata": {},
     "output_type": "execute_result"
    }
   ],
   "source": [
    "alpha_R(starting_conf, **{\"scratch_dir\": scratch_dir})"
   ]
  },
  {
   "cell_type": "code",
   "execution_count": 22,
   "metadata": {},
   "outputs": [
    {
     "data": {
      "text/plain": [
       "array([ True])"
      ]
     },
     "execution_count": 22,
     "metadata": {},
     "output_type": "execute_result"
    }
   ],
   "source": [
    "await wrapped_alphaR(starting_conf)"
   ]
  },
  {
   "cell_type": "code",
   "execution_count": 23,
   "metadata": {},
   "outputs": [
    {
     "data": {
      "text/plain": [
       "'/home/tb/hejung/DATA/aimmd_scratch/aimmd_distributed/'"
      ]
     },
     "execution_count": 23,
     "metadata": {},
     "output_type": "execute_result"
    }
   ],
   "source": [
    "scratch_dir"
   ]
  },
  {
   "cell_type": "code",
   "execution_count": 24,
   "metadata": {},
   "outputs": [],
   "source": [
    "tasks = [asyncio.create_task(p.propagate_and_concatenate(starting_configuration=starting_conf,\n",
    "                                                         workdir=wdir,\n",
    "                                                         deffnm=\"blib\",\n",
    "                                                         tra_out=os.path.join(wdir, \"blub_until_state.trr\"),\n",
    "                                                          ))\n",
    "         for p, wdir, mdp in zip(propagators, wdirs, mdps)]\n",
    "\n",
    "done, pending = await asyncio.wait(tasks, return_when=asyncio.FIRST_COMPLETED)"
   ]
  },
  {
   "cell_type": "code",
   "execution_count": 25,
   "metadata": {},
   "outputs": [
    {
     "data": {
      "text/plain": [
       "<Task finished name='Task-5' coro=<PropagatorUntilAnyState.propagate_and_concatenate() done, defined at /home/tb/hejung/Documents/sources/aimmd/aimmd/distributed/logic.py:1311> exception=TypeError(\"propagate() got an unexpected keyword argument 'run_config'\")>"
      ]
     },
     "execution_count": 25,
     "metadata": {},
     "output_type": "execute_result"
    }
   ],
   "source": [
    "list(done)[0]"
   ]
  },
  {
   "cell_type": "code",
   "execution_count": 26,
   "metadata": {},
   "outputs": [
    {
     "data": {
      "text/plain": [
       "[<Task finished name='Task-3' coro=<PropagatorUntilAnyState.propagate_and_concatenate() done, defined at /home/tb/hejung/Documents/sources/aimmd/aimmd/distributed/logic.py:1311> exception=TypeError(\"propagate() got an unexpected keyword argument 'run_config'\")>,\n",
       " <Task finished name='Task-4' coro=<PropagatorUntilAnyState.propagate_and_concatenate() done, defined at /home/tb/hejung/Documents/sources/aimmd/aimmd/distributed/logic.py:1311> exception=TypeError(\"propagate() got an unexpected keyword argument 'run_config'\")>,\n",
       " <Task finished name='Task-5' coro=<PropagatorUntilAnyState.propagate_and_concatenate() done, defined at /home/tb/hejung/Documents/sources/aimmd/aimmd/distributed/logic.py:1311> exception=TypeError(\"propagate() got an unexpected keyword argument 'run_config'\")>,\n",
       " <Task finished name='Task-6' coro=<PropagatorUntilAnyState.propagate_and_concatenate() done, defined at /home/tb/hejung/Documents/sources/aimmd/aimmd/distributed/logic.py:1311> exception=TypeError(\"propagate() got an unexpected keyword argument 'run_config'\")>]"
      ]
     },
     "execution_count": 26,
     "metadata": {},
     "output_type": "execute_result"
    }
   ],
   "source": [
    "tasks"
   ]
  },
  {
   "cell_type": "code",
   "execution_count": 27,
   "metadata": {},
   "outputs": [],
   "source": [
    "done, pending = await asyncio.wait(tasks,)# return_when=asyncio.FIRST_COMPLETED)"
   ]
  },
  {
   "cell_type": "code",
   "execution_count": 28,
   "metadata": {},
   "outputs": [
    {
     "name": "stdout",
     "output_type": "stream",
     "text": [
      "<Task finished name='Task-5' coro=<PropagatorUntilAnyState.propagate_and_concatenate() done, defined at /home/tb/hejung/Documents/sources/aimmd/aimmd/distributed/logic.py:1311> exception=TypeError(\"propagate() got an unexpected keyword argument 'run_config'\")>\n",
      "2\n",
      "<Task finished name='Task-6' coro=<PropagatorUntilAnyState.propagate_and_concatenate() done, defined at /home/tb/hejung/Documents/sources/aimmd/aimmd/distributed/logic.py:1311> exception=TypeError(\"propagate() got an unexpected keyword argument 'run_config'\")>\n",
      "3\n",
      "<Task finished name='Task-3' coro=<PropagatorUntilAnyState.propagate_and_concatenate() done, defined at /home/tb/hejung/Documents/sources/aimmd/aimmd/distributed/logic.py:1311> exception=TypeError(\"propagate() got an unexpected keyword argument 'run_config'\")>\n",
      "0\n",
      "<Task finished name='Task-4' coro=<PropagatorUntilAnyState.propagate_and_concatenate() done, defined at /home/tb/hejung/Documents/sources/aimmd/aimmd/distributed/logic.py:1311> exception=TypeError(\"propagate() got an unexpected keyword argument 'run_config'\")>\n",
      "1\n"
     ]
    }
   ],
   "source": [
    "for i in done:\n",
    "    print(i)\n",
    "    print(tasks.index(i))"
   ]
  },
  {
   "cell_type": "code",
   "execution_count": 29,
   "metadata": {},
   "outputs": [
    {
     "data": {
      "text/plain": [
       "set()"
      ]
     },
     "execution_count": 29,
     "metadata": {},
     "output_type": "execute_result"
    }
   ],
   "source": [
    "pending"
   ]
  },
  {
   "cell_type": "code",
   "execution_count": 1,
   "metadata": {},
   "outputs": [],
   "source": []
  },
  {
   "cell_type": "code",
   "execution_count": 21,
   "metadata": {},
   "outputs": [
    {
     "name": "stdout",
     "output_type": "stream",
     "text": [
      "time elapsed: 0.48328495025634766 s\n"
     ]
    }
   ],
   "source": [
    "start = time.time()\n",
    "result1 = await wrapped_func(trajs[-1])\n",
    "end = time.time()\n",
    "print(f\"time elapsed: {end-start} s\")"
   ]
  },
  {
   "cell_type": "code",
   "execution_count": 22,
   "metadata": {},
   "outputs": [
    {
     "name": "stdout",
     "output_type": "stream",
     "text": [
      "time elapsed: 0.5739212036132812 s\n"
     ]
    }
   ],
   "source": [
    "start = time.time()\n",
    "results = await asyncio.gather(*(wrapped_func(t) for t in trajs))\n",
    "end = time.time()\n",
    "print(f\"time elapsed: {end-start} s\")"
   ]
  },
  {
   "cell_type": "code",
   "execution_count": 23,
   "metadata": {},
   "outputs": [
    {
     "data": {
      "text/plain": [
       "[Trajectory(trajectory_file=/home/think/scratch/arcd_distributed/engine_wdir0/blub.part0002.trr, topology_file=/home/think/scratch/arcd_distributed/engine_wdir0/blub.tpr),\n",
       " Trajectory(trajectory_file=/home/think/scratch/arcd_distributed/engine_wdir1/blub.part0002.trr, topology_file=/home/think/scratch/arcd_distributed/engine_wdir1/blub.tpr),\n",
       " Trajectory(trajectory_file=/home/think/scratch/arcd_distributed/engine_wdir2/blub.part0002.trr, topology_file=/home/think/scratch/arcd_distributed/engine_wdir2/blub.tpr),\n",
       " Trajectory(trajectory_file=/home/think/scratch/arcd_distributed/engine_wdir3/blub.part0002.trr, topology_file=/home/think/scratch/arcd_distributed/engine_wdir3/blub.tpr),\n",
       " Trajectory(trajectory_file=/home/think/scratch/arcd_distributed/engine_wdir4/blub.part0002.trr, topology_file=/home/think/scratch/arcd_distributed/engine_wdir4/blub.tpr),\n",
       " Trajectory(trajectory_file=/home/think/scratch/arcd_distributed/engine_wdir5/blub.part0002.trr, topology_file=/home/think/scratch/arcd_distributed/engine_wdir5/blub.tpr)]"
      ]
     },
     "execution_count": 23,
     "metadata": {},
     "output_type": "execute_result"
    }
   ],
   "source": [
    "trajs"
   ]
  },
  {
   "cell_type": "code",
   "execution_count": null,
   "metadata": {},
   "outputs": [],
   "source": []
  }
 ],
 "metadata": {
  "kernelspec": {
   "display_name": "AIMMD nature publish (py3)",
   "language": "python",
   "name": "aimmd_nature_publish"
  },
  "language_info": {
   "codemirror_mode": {
    "name": "ipython",
    "version": 3
   },
   "file_extension": ".py",
   "mimetype": "text/x-python",
   "name": "python",
   "nbconvert_exporter": "python",
   "pygments_lexer": "ipython3",
   "version": "3.8.10"
  }
 },
 "nbformat": 4,
 "nbformat_minor": 4
}
