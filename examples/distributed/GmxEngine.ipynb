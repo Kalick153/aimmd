{
 "cells": [
  {
   "cell_type": "code",
   "execution_count": 1,
   "metadata": {},
   "outputs": [],
   "source": [
    "%matplotlib inline"
   ]
  },
  {
   "cell_type": "code",
   "execution_count": 2,
   "metadata": {},
   "outputs": [],
   "source": [
    "import os\n",
    "import asyncio\n",
    "import matplotlib.pyplot as plt\n",
    "import numpy as np\n",
    "import MDAnalysis as mda"
   ]
  },
  {
   "cell_type": "code",
   "execution_count": 3,
   "metadata": {},
   "outputs": [],
   "source": [
    "import aimmd\n",
    "import aimmd.distributed as aimmdd"
   ]
  },
  {
   "cell_type": "code",
   "execution_count": 4,
   "metadata": {},
   "outputs": [],
   "source": [
    "n_engines = 6"
   ]
  },
  {
   "cell_type": "code",
   "execution_count": 5,
   "metadata": {},
   "outputs": [],
   "source": [
    "scratch_dir = \"/home/tb/hejung/DATA/aimmd_scratch/aimmd_distributed/\"\n",
    "wdirs = [os.path.join(scratch_dir, f\"engine_wdir{i}\") for i in range(n_engines)]"
   ]
  },
  {
   "cell_type": "code",
   "execution_count": 6,
   "metadata": {},
   "outputs": [
    {
     "ename": "FileExistsError",
     "evalue": "[Errno 17] File exists: '/home/tb/hejung/DATA/aimmd_scratch/aimmd_distributed/engine_wdir0'",
     "output_type": "error",
     "traceback": [
      "\u001b[0;31m---------------------------------------------------------------------------\u001b[0m",
      "\u001b[0;31mFileExistsError\u001b[0m                           Traceback (most recent call last)",
      "\u001b[0;32m<ipython-input-6-b573224c9a7b>\u001b[0m in \u001b[0;36m<module>\u001b[0;34m\u001b[0m\n\u001b[0;32m----> 1\u001b[0;31m \u001b[0;34m[\u001b[0m\u001b[0mos\u001b[0m\u001b[0;34m.\u001b[0m\u001b[0mmkdir\u001b[0m\u001b[0;34m(\u001b[0m\u001b[0md\u001b[0m\u001b[0;34m)\u001b[0m \u001b[0;32mfor\u001b[0m \u001b[0md\u001b[0m \u001b[0;32min\u001b[0m \u001b[0mwdirs\u001b[0m\u001b[0;34m]\u001b[0m\u001b[0;34m\u001b[0m\u001b[0;34m\u001b[0m\u001b[0m\n\u001b[0m",
      "\u001b[0;32m<ipython-input-6-b573224c9a7b>\u001b[0m in \u001b[0;36m<listcomp>\u001b[0;34m(.0)\u001b[0m\n\u001b[0;32m----> 1\u001b[0;31m \u001b[0;34m[\u001b[0m\u001b[0mos\u001b[0m\u001b[0;34m.\u001b[0m\u001b[0mmkdir\u001b[0m\u001b[0;34m(\u001b[0m\u001b[0md\u001b[0m\u001b[0;34m)\u001b[0m \u001b[0;32mfor\u001b[0m \u001b[0md\u001b[0m \u001b[0;32min\u001b[0m \u001b[0mwdirs\u001b[0m\u001b[0;34m]\u001b[0m\u001b[0;34m\u001b[0m\u001b[0;34m\u001b[0m\u001b[0m\n\u001b[0m",
      "\u001b[0;31mFileExistsError\u001b[0m: [Errno 17] File exists: '/home/tb/hejung/DATA/aimmd_scratch/aimmd_distributed/engine_wdir0'"
     ]
    }
   ],
   "source": [
    "[os.mkdir(d) for d in wdirs]"
   ]
  },
  {
   "cell_type": "code",
   "execution_count": 7,
   "metadata": {},
   "outputs": [],
   "source": [
    "engines = [aimmdd.GmxEngine(gro_file=os.path.join(scratch_dir, \"gmx_infiles/conf.gro\"),\n",
    "                            top_file=os.path.join(scratch_dir, \"gmx_infiles/topol.top\"),\n",
    "                            #mdrun_extra_args=\"-nt 4\",\n",
    "                            mdrun_extra_args=\"-ntomp 4\",\n",
    "                            )\n",
    "           for _ in range(n_engines)]"
   ]
  },
  {
   "cell_type": "code",
   "execution_count": 8,
   "metadata": {},
   "outputs": [],
   "source": [
    "mdps = [aimmdd.MDP(os.path.join(scratch_dir, \"gmx_infiles/md.mdp\"))\n",
    "        for _ in range(n_engines)]"
   ]
  },
  {
   "cell_type": "code",
   "execution_count": 9,
   "metadata": {},
   "outputs": [
    {
     "data": {
      "text/plain": [
       "{'title': ['test'], 'cpp': ['/lib/cpp'], 'include': ['-I../top'], 'define': [], 'integrator': ['md-vv'], 'dt': [0.002], 'nsteps': [100000], 'nstxout': [10], 'nstvout': [10], 'nstlog': [10], 'nstenergy': [10], 'nstxout-compressed': [10], 'compressed-x-grps': ['Protein'], 'energygrps': ['Protein', 'SOL'], 'nstlist': [10], 'ns-type': ['grid'], 'cutoff-scheme': ['Verlet'], 'rlist': [1.1], 'coulombtype': ['PME'], 'rcoulomb': [1.1], 'rvdw': [1.1], 'tcoupl': ['Berendsen'], 'tc-grps': ['Protein', 'SOL'], 'tau-t': [0.1, 0.1], 'ref-t': [300.0, 300.0], 'Pcoupl': ['Berendsen'], 'tau-p': [1.0], 'compressibility': [4.5e-05], 'ref-p': [1.0], 'gen-vel': ['no'], 'gen-temp': [300.0], 'gen-seed': [173529], 'constraints': ['all-bonds']}"
      ]
     },
     "execution_count": 9,
     "metadata": {},
     "output_type": "execute_result"
    }
   ],
   "source": [
    "mdps[0]"
   ]
  },
  {
   "cell_type": "code",
   "execution_count": 10,
   "metadata": {},
   "outputs": [],
   "source": [
    "for mdp in mdps:\n",
    "    mdp['nstvout'] = 10\n",
    "    mdp[\"nstxout\"] = 10"
   ]
  },
  {
   "cell_type": "code",
   "execution_count": 11,
   "metadata": {},
   "outputs": [
    {
     "data": {
      "text/plain": [
       "{'title': ['test'], 'cpp': ['/lib/cpp'], 'include': ['-I../top'], 'define': [], 'integrator': ['md-vv'], 'dt': [0.002], 'nsteps': [100000], 'nstxout': [10], 'nstvout': [10], 'nstlog': [10], 'nstenergy': [10], 'nstxout-compressed': [10], 'compressed-x-grps': ['Protein'], 'energygrps': ['Protein', 'SOL'], 'nstlist': [10], 'ns-type': ['grid'], 'cutoff-scheme': ['Verlet'], 'rlist': [1.1], 'coulombtype': ['PME'], 'rcoulomb': [1.1], 'rvdw': [1.1], 'tcoupl': ['Berendsen'], 'tc-grps': ['Protein', 'SOL'], 'tau-t': [0.1, 0.1], 'ref-t': [300.0, 300.0], 'Pcoupl': ['Berendsen'], 'tau-p': [1.0], 'compressibility': [4.5e-05], 'ref-p': [1.0], 'gen-vel': ['no'], 'gen-temp': [300.0], 'gen-seed': [173529], 'constraints': ['all-bonds']}"
      ]
     },
     "execution_count": 11,
     "metadata": {},
     "output_type": "execute_result"
    }
   ],
   "source": [
    "mdps[0]"
   ]
  },
  {
   "cell_type": "code",
   "execution_count": 12,
   "metadata": {},
   "outputs": [],
   "source": [
    "#for engine, wdir, mdp in zip(engines, wdirs, mdps):\n",
    "#    engine.prepare(starting_configuration=None, workdir=wdir, deffnm=\"blub\", run_config=mdp)"
   ]
  },
  {
   "cell_type": "code",
   "execution_count": 13,
   "metadata": {},
   "outputs": [],
   "source": [
    "import time"
   ]
  },
  {
   "cell_type": "code",
   "execution_count": 14,
   "metadata": {},
   "outputs": [],
   "source": [
    "import mdtraj as mdt\n",
    "import numpy as np\n",
    "\"\"\"\n",
    "def psi(traj):\n",
    "    traj = mdt.load(traj.trajectory_file, \n",
    "                    top=os.path.join(scratch_dir, \"gmx_infiles/conf.gro\"),  # mdt can not work with tprs, so we use theinitial gro for now\n",
    "                    )\n",
    "    psi = mdt.compute_psi(traj)\n",
    "    return psi\n",
    "\n",
    "def alpha_R(traj):\n",
    "    traj = mdt.load(traj.trajectory_file, \n",
    "                    top=os.path.join(scratch_dir, \"gmx_infiles/conf.gro\"),  # mdt can not work with tprs, so we use theinitial gro for now\n",
    "                    )\n",
    "    psi = mdt.compute_dihedrals(traj, indices=[[6,8,14,16]])[:, 0]\n",
    "    phi = mdt.compute_dihedrals(traj, indices=[[4,6,8,14]])[:, 0]\n",
    "    state = np.full_like(psi, False, dtype=bool)\n",
    "    # phi: -pi -> 0 \n",
    "    # psi: > -50 but smaller 30 degree\n",
    "    deg = 180/np.pi\n",
    "    state[(phi <= 0) & (-50/deg <= psi) & (psi <= 30/deg)] = True\n",
    "    return state\n",
    "\n",
    "wrapped_alphaR = arcdd.trajectory.TrajectoryFunctionWrapper(alpha_R)\n",
    "wrapped_psi = arcdd.trajectory.TrajectoryFunctionWrapper(psi)\n",
    "\"\"\"\n",
    "\n",
    "from state_funcs import alpha_R, C7_eq\n",
    "wrapped_alphaR = aimmdd.TrajectoryFunctionWrapper(alpha_R, call_kwargs={\"scratch_dir\": scratch_dir})\n",
    "wrapped_C7_eq = aimmdd.TrajectoryFunctionWrapper(C7_eq, call_kwargs={\"scratch_dir\": scratch_dir})"
   ]
  },
  {
   "cell_type": "code",
   "execution_count": 15,
   "metadata": {},
   "outputs": [],
   "source": [
    "import aimmd.distributed.logic"
   ]
  },
  {
   "cell_type": "code",
   "execution_count": 16,
   "metadata": {},
   "outputs": [
    {
     "name": "stderr",
     "output_type": "stream",
     "text": [
      "Neither max_frames nor max_steps given. Setting max_frames to infinity.\n",
      "Neither max_frames nor max_steps given. Setting max_frames to infinity.\n",
      "Neither max_frames nor max_steps given. Setting max_frames to infinity.\n",
      "Neither max_frames nor max_steps given. Setting max_frames to infinity.\n",
      "Neither max_frames nor max_steps given. Setting max_frames to infinity.\n",
      "Neither max_frames nor max_steps given. Setting max_frames to infinity.\n"
     ]
    }
   ],
   "source": [
    "propagators = [aimmd.distributed.logic.PropagatorUntilAnyState(states=[wrapped_alphaR, wrapped_C7_eq],\n",
    "                                                               engine_cls=aimmdd.GmxEngine,\n",
    "                                                               engine_kwargs={\"gro_file\":os.path.join(scratch_dir, \"gmx_infiles/conf.gro\"),\n",
    "                                                                              \"top_file\":os.path.join(scratch_dir, \"gmx_infiles/topol.top\"),\n",
    "                                                                               \"mdrun_extra_args\": \"-nt 4\",\n",
    "                                                                              },\n",
    "                                                               run_config=aimmdd.MDP(os.path.join(scratch_dir, \"gmx_infiles/md.mdp\")),\n",
    "                                                               walltime_per_part=0.005,\n",
    "                                                               \n",
    "                                                              )\n",
    "               for _ in range(n_engines)\n",
    "               ]"
   ]
  },
  {
   "cell_type": "code",
   "execution_count": 17,
   "metadata": {},
   "outputs": [],
   "source": [
    "#initial_tp_mdt = mdt.load(os.path.join(scratch_dir, \"gmx_infiles/ala_400K_TP_low_barrier.h5\"))"
   ]
  },
  {
   "cell_type": "code",
   "execution_count": 18,
   "metadata": {},
   "outputs": [],
   "source": [
    "#initial_tp_mdt[10].save_trr(os.path.join(scratch_dir, \"gmx_infiles/tp_frame.trr\"))"
   ]
  },
  {
   "cell_type": "code",
   "execution_count": 19,
   "metadata": {},
   "outputs": [],
   "source": [
    "starting_conf = aimmdd.Trajectory(trajectory_file=os.path.join(scratch_dir, \"gmx_infiles/tp_frame.trr\"),\n",
    "                                  structure_file=os.path.join(scratch_dir, \"gmx_infiles/tp_frame.gro\"))\n",
    "\n",
    "starting_conf = aimmdd.Trajectory(trajectory_file=os.path.join(scratch_dir, \"gmx_infiles/conf.gro\"),\n",
    "                                  structure_file=os.path.join(scratch_dir, \"gmx_infiles/conf.gro\"))"
   ]
  },
  {
   "cell_type": "code",
   "execution_count": 20,
   "metadata": {},
   "outputs": [
    {
     "data": {
      "text/plain": [
       "TrajectoryFunctionWrapper(function=<function alpha_R at 0x7f995d8fd040>, call_kwargs={'scratch_dir': '/home/tb/hejung/DATA/aimmd_scratch/aimmd_distributed/'})"
      ]
     },
     "execution_count": 20,
     "metadata": {},
     "output_type": "execute_result"
    }
   ],
   "source": [
    "wrapped_alphaR"
   ]
  },
  {
   "cell_type": "code",
   "execution_count": 21,
   "metadata": {},
   "outputs": [],
   "source": [
    "import mdtraj as mdt"
   ]
  },
  {
   "cell_type": "code",
   "execution_count": 22,
   "metadata": {},
   "outputs": [
    {
     "name": "stderr",
     "output_type": "stream",
     "text": [
      "/home/tb/hejung/.conda/envs/aimmd_nature_publish/lib/python3.8/site-packages/mdtraj/formats/gro.py:307: UserWarning: WARNING: two consecutive residues with same number (ALA, ACE)\n",
      "  warnings.warn(\"WARNING: two consecutive residues with same number (%s, %s)\" % (thisresname, residue.name))\n",
      "/home/tb/hejung/.conda/envs/aimmd_nature_publish/lib/python3.8/site-packages/mdtraj/formats/gro.py:307: UserWarning: WARNING: two consecutive residues with same number (NME, ALA)\n",
      "  warnings.warn(\"WARNING: two consecutive residues with same number (%s, %s)\" % (thisresname, residue.name))\n",
      "/home/tb/hejung/.conda/envs/aimmd_nature_publish/lib/python3.8/site-packages/mdtraj/formats/gro.py:307: UserWarning: WARNING: two consecutive residues with same number (HOH, NME)\n",
      "  warnings.warn(\"WARNING: two consecutive residues with same number (%s, %s)\" % (thisresname, residue.name))\n",
      "/home/tb/hejung/.conda/envs/aimmd_nature_publish/lib/python3.8/site-packages/mdtraj/core/trajectory.py:422: UserWarning: top= kwarg ignored since file contains topology information\n",
      "  warnings.warn('top= kwarg ignored since file contains topology information')\n"
     ]
    },
    {
     "data": {
      "text/plain": [
       "<mdtraj.Trajectory with 1 frames, 1651 atoms, 546 residues, and unitcells at 0x7f98b38e9fa0>"
      ]
     },
     "execution_count": 22,
     "metadata": {},
     "output_type": "execute_result"
    }
   ],
   "source": [
    "mdt.load(os.path.join(scratch_dir, \"gmx_infiles/conf.gro\"), top=os.path.join(scratch_dir, \"gmx_infiles/conf.gro\"))"
   ]
  },
  {
   "cell_type": "code",
   "execution_count": 23,
   "metadata": {},
   "outputs": [
    {
     "data": {
      "text/plain": [
       "<mdtraj.Trajectory with 1 frames, 1651 atoms, 546 residues, and unitcells at 0x7f98b3819730>"
      ]
     },
     "execution_count": 23,
     "metadata": {},
     "output_type": "execute_result"
    }
   ],
   "source": [
    "mdt.load(starting_conf.trajectory_file, top=starting_conf.structure_file)"
   ]
  },
  {
   "cell_type": "code",
   "execution_count": 24,
   "metadata": {},
   "outputs": [
    {
     "name": "stderr",
     "output_type": "stream",
     "text": [
      "/home/tb/hejung/.conda/envs/aimmd_nature_publish/lib/python3.8/site-packages/mdtraj/utils/validation.py:115: TypeCastPerformanceWarning: Casting unitcell_vectors dtype=float64 to <class 'numpy.float32'> \n",
      "  warnings.warn(\"Casting %s dtype=%s to %s \" % (name, val.dtype, dtype),\n"
     ]
    },
    {
     "data": {
      "text/plain": [
       "array([ True])"
      ]
     },
     "execution_count": 24,
     "metadata": {},
     "output_type": "execute_result"
    }
   ],
   "source": [
    "alpha_R(starting_conf, **{\"scratch_dir\": scratch_dir})"
   ]
  },
  {
   "cell_type": "code",
   "execution_count": 25,
   "metadata": {},
   "outputs": [
    {
     "data": {
      "text/plain": [
       "array([ True])"
      ]
     },
     "execution_count": 25,
     "metadata": {},
     "output_type": "execute_result"
    }
   ],
   "source": [
    "await wrapped_alphaR(starting_conf)"
   ]
  },
  {
   "cell_type": "code",
   "execution_count": 26,
   "metadata": {},
   "outputs": [
    {
     "data": {
      "text/plain": [
       "'/home/tb/hejung/DATA/aimmd_scratch/aimmd_distributed/'"
      ]
     },
     "execution_count": 26,
     "metadata": {},
     "output_type": "execute_result"
    }
   ],
   "source": [
    "scratch_dir"
   ]
  },
  {
   "cell_type": "code",
   "execution_count": 27,
   "metadata": {},
   "outputs": [],
   "source": [
    "tasks = [asyncio.create_task(p.propagate_and_concatenate(starting_configuration=starting_conf,\n",
    "                                                         workdir=wdir,\n",
    "                                                         deffnm=\"blib\",\n",
    "                                                         tra_out=os.path.join(wdir, \"blub_until_state.trr\"),\n",
    "                                                          ))\n",
    "         for p, wdir, mdp in zip(propagators, wdirs, mdps)]\n",
    "\n",
    "done, pending = await asyncio.wait(tasks, return_when=asyncio.FIRST_COMPLETED)"
   ]
  },
  {
   "cell_type": "code",
   "execution_count": 28,
   "metadata": {},
   "outputs": [
    {
     "data": {
      "text/plain": [
       "<Task finished name='Task-6' coro=<PropagatorUntilAnyState.propagate_and_concatenate() done, defined at /home/tb/hejung/Documents/sources/aimmd/aimmd/distributed/logic.py:1311> exception=TypeError(\"propagate() got an unexpected keyword argument 'run_config'\")>"
      ]
     },
     "execution_count": 28,
     "metadata": {},
     "output_type": "execute_result"
    }
   ],
   "source": [
    "list(done)[0]"
   ]
  },
  {
   "cell_type": "code",
   "execution_count": 29,
   "metadata": {},
   "outputs": [
    {
     "data": {
      "text/plain": [
       "[<Task finished name='Task-3' coro=<PropagatorUntilAnyState.propagate_and_concatenate() done, defined at /home/tb/hejung/Documents/sources/aimmd/aimmd/distributed/logic.py:1311> exception=TypeError(\"propagate() got an unexpected keyword argument 'run_config'\")>,\n",
       " <Task finished name='Task-4' coro=<PropagatorUntilAnyState.propagate_and_concatenate() done, defined at /home/tb/hejung/Documents/sources/aimmd/aimmd/distributed/logic.py:1311> exception=TypeError(\"propagate() got an unexpected keyword argument 'run_config'\")>,\n",
       " <Task finished name='Task-5' coro=<PropagatorUntilAnyState.propagate_and_concatenate() done, defined at /home/tb/hejung/Documents/sources/aimmd/aimmd/distributed/logic.py:1311> exception=TypeError(\"propagate() got an unexpected keyword argument 'run_config'\")>,\n",
       " <Task finished name='Task-6' coro=<PropagatorUntilAnyState.propagate_and_concatenate() done, defined at /home/tb/hejung/Documents/sources/aimmd/aimmd/distributed/logic.py:1311> exception=TypeError(\"propagate() got an unexpected keyword argument 'run_config'\")>,\n",
       " <Task finished name='Task-7' coro=<PropagatorUntilAnyState.propagate_and_concatenate() done, defined at /home/tb/hejung/Documents/sources/aimmd/aimmd/distributed/logic.py:1311> exception=TypeError(\"propagate() got an unexpected keyword argument 'run_config'\")>,\n",
       " <Task finished name='Task-8' coro=<PropagatorUntilAnyState.propagate_and_concatenate() done, defined at /home/tb/hejung/Documents/sources/aimmd/aimmd/distributed/logic.py:1311> exception=TypeError(\"propagate() got an unexpected keyword argument 'run_config'\")>]"
      ]
     },
     "execution_count": 29,
     "metadata": {},
     "output_type": "execute_result"
    }
   ],
   "source": [
    "tasks"
   ]
  },
  {
   "cell_type": "code",
   "execution_count": 30,
   "metadata": {},
   "outputs": [],
   "source": [
    "done, pending = await asyncio.wait(tasks,)# return_when=asyncio.FIRST_COMPLETED)"
   ]
  },
  {
   "cell_type": "code",
   "execution_count": 31,
   "metadata": {},
   "outputs": [
    {
     "name": "stdout",
     "output_type": "stream",
     "text": [
      "<Task finished name='Task-6' coro=<PropagatorUntilAnyState.propagate_and_concatenate() done, defined at /home/tb/hejung/Documents/sources/aimmd/aimmd/distributed/logic.py:1311> exception=TypeError(\"propagate() got an unexpected keyword argument 'run_config'\")>\n",
      "3\n",
      "<Task finished name='Task-7' coro=<PropagatorUntilAnyState.propagate_and_concatenate() done, defined at /home/tb/hejung/Documents/sources/aimmd/aimmd/distributed/logic.py:1311> exception=TypeError(\"propagate() got an unexpected keyword argument 'run_config'\")>\n",
      "4\n",
      "<Task finished name='Task-4' coro=<PropagatorUntilAnyState.propagate_and_concatenate() done, defined at /home/tb/hejung/Documents/sources/aimmd/aimmd/distributed/logic.py:1311> exception=TypeError(\"propagate() got an unexpected keyword argument 'run_config'\")>\n",
      "1\n",
      "<Task finished name='Task-3' coro=<PropagatorUntilAnyState.propagate_and_concatenate() done, defined at /home/tb/hejung/Documents/sources/aimmd/aimmd/distributed/logic.py:1311> exception=TypeError(\"propagate() got an unexpected keyword argument 'run_config'\")>\n",
      "0\n",
      "<Task finished name='Task-8' coro=<PropagatorUntilAnyState.propagate_and_concatenate() done, defined at /home/tb/hejung/Documents/sources/aimmd/aimmd/distributed/logic.py:1311> exception=TypeError(\"propagate() got an unexpected keyword argument 'run_config'\")>\n",
      "5\n",
      "<Task finished name='Task-5' coro=<PropagatorUntilAnyState.propagate_and_concatenate() done, defined at /home/tb/hejung/Documents/sources/aimmd/aimmd/distributed/logic.py:1311> exception=TypeError(\"propagate() got an unexpected keyword argument 'run_config'\")>\n",
      "2\n"
     ]
    }
   ],
   "source": [
    "for i in done:\n",
    "    print(i)\n",
    "    print(tasks.index(i))"
   ]
  },
  {
   "cell_type": "code",
   "execution_count": 32,
   "metadata": {},
   "outputs": [
    {
     "data": {
      "text/plain": [
       "set()"
      ]
     },
     "execution_count": 32,
     "metadata": {},
     "output_type": "execute_result"
    }
   ],
   "source": [
    "pending"
   ]
  },
  {
   "cell_type": "code",
   "execution_count": 34,
   "metadata": {},
   "outputs": [
    {
     "name": "stdout",
     "output_type": "stream",
     "text": [
      "time elapsed: 0.2644813060760498 s\n"
     ]
    }
   ],
   "source": [
    "start = time.time()\n",
    "await asyncio.gather(*(e.prepare(starting_configuration=None, workdir=wdir, deffnm=\"blib\", run_config=mdp)\n",
    "                               for e, wdir, mdp in zip(engines, wdirs, mdps)\n",
    "                               )\n",
    "                            )\n",
    "end = time.time()\n",
    "print(f\"time elapsed: {end-start} s\")"
   ]
  },
  {
   "cell_type": "code",
   "execution_count": 35,
   "metadata": {},
   "outputs": [
    {
     "name": "stdout",
     "output_type": "stream",
     "text": [
      "time elapsed: 72.60385823249817 s\n"
     ]
    }
   ],
   "source": [
    "walltime = 0.02 # 0.01 h = 36 s\n",
    "start = time.time()\n",
    "trajs = await asyncio.gather(*(e.run_walltime(walltime) for e in engines))\n",
    "end = time.time()\n",
    "print(f\"time elapsed: {end-start} s\")"
   ]
  },
  {
   "cell_type": "code",
   "execution_count": 36,
   "metadata": {},
   "outputs": [
    {
     "data": {
      "text/plain": [
       "[Trajectory(trajectory_file=/home/tb/hejung/DATA/aimmd_scratch/aimmd_distributed/engine_wdir0/blib.part0001.trr, structure_file=/home/tb/hejung/DATA/aimmd_scratch/aimmd_distributed/engine_wdir0/blib.tpr),\n",
       " Trajectory(trajectory_file=/home/tb/hejung/DATA/aimmd_scratch/aimmd_distributed/engine_wdir1/blib.part0001.trr, structure_file=/home/tb/hejung/DATA/aimmd_scratch/aimmd_distributed/engine_wdir1/blib.tpr),\n",
       " Trajectory(trajectory_file=/home/tb/hejung/DATA/aimmd_scratch/aimmd_distributed/engine_wdir2/blib.part0001.trr, structure_file=/home/tb/hejung/DATA/aimmd_scratch/aimmd_distributed/engine_wdir2/blib.tpr),\n",
       " Trajectory(trajectory_file=/home/tb/hejung/DATA/aimmd_scratch/aimmd_distributed/engine_wdir3/blib.part0001.trr, structure_file=/home/tb/hejung/DATA/aimmd_scratch/aimmd_distributed/engine_wdir3/blib.tpr),\n",
       " Trajectory(trajectory_file=/home/tb/hejung/DATA/aimmd_scratch/aimmd_distributed/engine_wdir4/blib.part0001.trr, structure_file=/home/tb/hejung/DATA/aimmd_scratch/aimmd_distributed/engine_wdir4/blib.tpr),\n",
       " Trajectory(trajectory_file=/home/tb/hejung/DATA/aimmd_scratch/aimmd_distributed/engine_wdir5/blib.part0001.trr, structure_file=/home/tb/hejung/DATA/aimmd_scratch/aimmd_distributed/engine_wdir5/blib.tpr)]"
      ]
     },
     "execution_count": 36,
     "metadata": {},
     "output_type": "execute_result"
    }
   ],
   "source": [
    "trajs"
   ]
  },
  {
   "cell_type": "code",
   "execution_count": 1,
   "metadata": {},
   "outputs": [],
   "source": []
  },
  {
   "cell_type": "code",
   "execution_count": 21,
   "metadata": {},
   "outputs": [
    {
     "name": "stdout",
     "output_type": "stream",
     "text": [
      "time elapsed: 0.48328495025634766 s\n"
     ]
    }
   ],
   "source": [
    "start = time.time()\n",
    "result1 = await wrapped_func(trajs[-1])\n",
    "end = time.time()\n",
    "print(f\"time elapsed: {end-start} s\")"
   ]
  },
  {
   "cell_type": "code",
   "execution_count": 22,
   "metadata": {},
   "outputs": [
    {
     "name": "stdout",
     "output_type": "stream",
     "text": [
      "time elapsed: 0.5739212036132812 s\n"
     ]
    }
   ],
   "source": [
    "start = time.time()\n",
    "results = await asyncio.gather(*(wrapped_func(t) for t in trajs))\n",
    "end = time.time()\n",
    "print(f\"time elapsed: {end-start} s\")"
   ]
  },
  {
   "cell_type": "code",
   "execution_count": 23,
   "metadata": {},
   "outputs": [
    {
     "data": {
      "text/plain": [
       "[Trajectory(trajectory_file=/home/think/scratch/arcd_distributed/engine_wdir0/blub.part0002.trr, topology_file=/home/think/scratch/arcd_distributed/engine_wdir0/blub.tpr),\n",
       " Trajectory(trajectory_file=/home/think/scratch/arcd_distributed/engine_wdir1/blub.part0002.trr, topology_file=/home/think/scratch/arcd_distributed/engine_wdir1/blub.tpr),\n",
       " Trajectory(trajectory_file=/home/think/scratch/arcd_distributed/engine_wdir2/blub.part0002.trr, topology_file=/home/think/scratch/arcd_distributed/engine_wdir2/blub.tpr),\n",
       " Trajectory(trajectory_file=/home/think/scratch/arcd_distributed/engine_wdir3/blub.part0002.trr, topology_file=/home/think/scratch/arcd_distributed/engine_wdir3/blub.tpr),\n",
       " Trajectory(trajectory_file=/home/think/scratch/arcd_distributed/engine_wdir4/blub.part0002.trr, topology_file=/home/think/scratch/arcd_distributed/engine_wdir4/blub.tpr),\n",
       " Trajectory(trajectory_file=/home/think/scratch/arcd_distributed/engine_wdir5/blub.part0002.trr, topology_file=/home/think/scratch/arcd_distributed/engine_wdir5/blub.tpr)]"
      ]
     },
     "execution_count": 23,
     "metadata": {},
     "output_type": "execute_result"
    }
   ],
   "source": [
    "trajs"
   ]
  },
  {
   "cell_type": "code",
   "execution_count": null,
   "metadata": {},
   "outputs": [],
   "source": []
  }
 ],
 "metadata": {
  "kernelspec": {
   "display_name": "AIMMD nature publish (py3)",
   "language": "python",
   "name": "aimmd_nature_publish"
  },
  "language_info": {
   "codemirror_mode": {
    "name": "ipython",
    "version": 3
   },
   "file_extension": ".py",
   "mimetype": "text/x-python",
   "name": "python",
   "nbconvert_exporter": "python",
   "pygments_lexer": "ipython3",
   "version": "3.8.10"
  }
 },
 "nbformat": 4,
 "nbformat_minor": 4
}
