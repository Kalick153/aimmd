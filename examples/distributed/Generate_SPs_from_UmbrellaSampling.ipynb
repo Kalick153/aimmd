{
 "cells": [
  {
   "cell_type": "code",
   "execution_count": 1,
   "id": "3fb00b18-3895-4e76-8a94-92cabe1f97a4",
   "metadata": {},
   "outputs": [],
   "source": [
    "%matplotlib inline"
   ]
  },
  {
   "cell_type": "code",
   "execution_count": 2,
   "id": "dc6a469f-61ea-4760-8ecb-2364566990a2",
   "metadata": {},
   "outputs": [
    {
     "name": "stderr",
     "output_type": "stream",
     "text": [
      "Could not initialize SLURM cluster handling. If you are sure SLURM (sinfo/sacct/etc) is available try calling `asyncmd.config.set_slurm_settings()` with the appropriate arguments.\n",
      "/home/think/.conda/envs/aimmd_dev/lib/python3.10/site-packages/tqdm/auto.py:22: TqdmWarning: IProgress not found. Please update jupyter and ipywidgets. See https://ipywidgets.readthedocs.io/en/stable/user_install.html\n",
      "  from .autonotebook import tqdm as notebook_tqdm\n",
      "Tensorflow/Keras not available\n"
     ]
    }
   ],
   "source": [
    "import os\n",
    "import asyncio\n",
    "import numpy as np\n",
    "import matplotlib.pyplot as plt\n",
    "\n",
    "import asyncmd\n",
    "\n",
    "import aimmd\n",
    "import aimmd.distributed as aimmdd"
   ]
  },
  {
   "cell_type": "code",
   "execution_count": 3,
   "id": "44a5c088-668c-42a9-9e23-46dfe468c184",
   "metadata": {},
   "outputs": [],
   "source": [
    "from state_funcs_mda import descriptor_func_psi_phi\n",
    "\n",
    "wrapped_psi_phi = asyncmd.trajectory.PyTrajectoryFunctionWrapper(descriptor_func_psi_phi)"
   ]
  },
  {
   "cell_type": "code",
   "execution_count": 4,
   "id": "4bae3877-6362-473a-b71e-7a07f288c588",
   "metadata": {},
   "outputs": [],
   "source": [
    "traj = asyncmd.Trajectory(structure_file=\"gmx_infiles/ala_300K_amber99sb-ildn.tpr\",\n",
    "                          trajectory_files=\"gmx_infiles/TP_low_barrier_300K_amber99sbildn.trr\")"
   ]
  },
  {
   "cell_type": "code",
   "execution_count": 5,
   "id": "cfe3c640-f970-4ac8-a246-ecadcf3585c0",
   "metadata": {},
   "outputs": [
    {
     "data": {
      "image/png": "[encoded data removed]",
      "text/plain": [
       "<Figure size 640x480 with 1 Axes>"
      ]
     },
     "metadata": {},
     "output_type": "display_data"
    }
   ],
   "source": [
    "fig, axs = plt.subplots()\n",
    "\n",
    "psi_phi = await wrapped_psi_phi(traj)\n",
    "\n",
    "axs.plot(psi_phi[:, 1], psi_phi[:, 0])\n",
    "axs.set_ylabel(\"$\\psi$\")\n",
    "axs.set_xlabel(\"$\\phi$\")\n",
    "axs.set_xlim(-np.pi, np.pi)\n",
    "axs.set_ylim(-np.pi, np.pi);"
   ]
  },
  {
   "cell_type": "markdown",
   "id": "86e53b74-b417-4ac5-bde0-9835abb00c35",
   "metadata": {},
   "source": [
    "## Setup one umbrella window on the top of the barrier"
   ]
  },
  {
   "cell_type": "code",
   "execution_count": 6,
   "id": "fa61e644-5565-4704-b87d-6d438ffb86fb",
   "metadata": {},
   "outputs": [],
   "source": [
    "mdconfig = asyncmd.gromacs.MDP(\"gmx_infiles/md.mdp\")"
   ]
  },
  {
   "cell_type": "code",
   "execution_count": 7,
   "id": "ddfd6c5f-8784-4293-8c08-c9da3f6206f1",
   "metadata": {},
   "outputs": [
    {
     "name": "stdout",
     "output_type": "stream",
     "text": [
      "<class 'asyncmd.gromacs.mdconfig.MDP'> has been changed since parsing: False\n",
      "Current content:\n",
      "----------------\n",
      "title : ['test']\n",
      "cpp : ['/lib/cpp']\n",
      "include : ['-I../top']\n",
      "define : []\n",
      "integrator : md-vv\n",
      "dt : 0.002\n",
      "nsteps : -1\n",
      "nstxout : 0\n",
      "nstvout : 0\n",
      "nstlog : 20\n",
      "nstxout-compressed : 20\n",
      "nstlist : 50\n",
      "ns-type : grid\n",
      "cutoff-scheme : Verlet\n",
      "rlist : 1.1\n",
      "coulombtype : PME\n",
      "rcoulomb : 1.1\n",
      "rvdw : 1.1\n",
      "tcoupl : v-rescale\n",
      "tc-grps : ['Protein', 'SOL']\n",
      "tau-t : [0.5, 0.5]\n",
      "ref-t : [300.0, 300.0]\n",
      "Pcoupl : C-rescale\n",
      "tau-p : 1.0\n",
      "compressibility : [4.5e-05]\n",
      "ref-p : [1.0]\n",
      "gen-vel : no\n",
      "gen-temp : 300.0\n",
      "gen-seed : 173529\n",
      "constraints : h-bonds\n",
      "\n"
     ]
    }
   ],
   "source": [
    "# have a look at the mdp\n",
    "print(mdconfig)"
   ]
  },
  {
   "cell_type": "code",
   "execution_count": 8,
   "id": "978ab5ae-9820-4a5e-99f2-f5da8eec11c4",
   "metadata": {},
   "outputs": [],
   "source": [
    "# add the pulling/harmonic potential\n",
    "mdconfig[\"pull\"] = \"yes\"\n",
    "mdconfig[\"pull-nstxout\"] = 1000\n",
    "mdconfig[\"pull-nstfout\"] = 1000\n",
    "mdconfig[\"pull-ngroups\"] = 8  # we have 4 atoms in the two dihedrals\n",
    "mdconfig[\"pull-ncoords\"] = 2  # we build 2 pull coord from the 8 groups\n",
    "# our 4 atoms defining the psi dihedral\n",
    "mdconfig[\"pull-group1-name\"] = \"psi_at1\"\n",
    "mdconfig[\"pull-group2-name\"] = \"psi_at2\"\n",
    "mdconfig[\"pull-group3-name\"] = \"psi_at3\"\n",
    "mdconfig[\"pull-group4-name\"] = \"psi_at4\"\n",
    "mdconfig[\"pull-coord1-type\"] = \"umbrella\"  # make it a harmonic potential\n",
    "mdconfig[\"pull-coord1-geometry\"] = \"dihedral\"  # around the dihedral\n",
    "mdconfig[\"pull-coord1-groups\"] = [\"1\", \"2\", \"2\", \"3\", \"3\", \"4\"]  # defined by our 4 atoms\n",
    "mdconfig[\"pull-coord1-init\"] = \"80\"  # reference angle in degree\n",
    "mdconfig[\"pull-coord1-k\"] = \"110\"  # force constant in kJ/ (mol * rad**2)\n",
    "# and also keep us in place in phi gently\n",
    "# our 4 atoms defining the phi dihedral\n",
    "mdconfig[\"pull-group5-name\"] = \"phi_at1\"\n",
    "mdconfig[\"pull-group6-name\"] = \"phi_at2\"\n",
    "mdconfig[\"pull-group7-name\"] = \"phi_at3\"\n",
    "mdconfig[\"pull-group8-name\"] = \"phi_at4\"\n",
    "mdconfig[\"pull-coord2-type\"] = \"umbrella\"  # make it a harmonic potential\n",
    "mdconfig[\"pull-coord2-geometry\"] = \"dihedral\"  # around the dihedral\n",
    "mdconfig[\"pull-coord2-groups\"] = [\"5\", \"6\", \"6\", \"7\", \"7\", \"8\"]  # defined by our 4 atoms\n",
    "mdconfig[\"pull-coord2-init\"] = \"-115\"  # reference angle in degree\n",
    "mdconfig[\"pull-coord2-k\"] = \"5\"  # force constant in kJ/ (mol * rad**2)\n",
    "\n",
    "# also set our output frequency a bit down sp we get more independent configurations\n",
    "mdconfig[\"nstxout-compressed\"] = 1000\n",
    "# same for loggign frequency\n",
    "mdconfig[\"nstlog\"] = 2000"
   ]
  },
  {
   "cell_type": "markdown",
   "id": "9c0419dc-3857-4d66-b006-f43b6fe35c62",
   "metadata": {},
   "source": [
    "### Find a starting configuration close to our window center"
   ]
  },
  {
   "cell_type": "code",
   "execution_count": 9,
   "id": "fdae26b7-6054-474d-809f-bd000ad1059b",
   "metadata": {},
   "outputs": [
    {
     "name": "stdout",
     "output_type": "stream",
     "text": [
      " psi, phi values for starting frame are [ 1.38717069 -2.21372452] at frame index 75.\n"
     ]
    }
   ],
   "source": [
    "psi_vals = psi_phi[:, 0]\n",
    "\n",
    "closest_idx = np.argmin((psi_vals - 80 * np.pi/180)**2)\n",
    "\n",
    "print(f\" psi, phi values for starting frame are {psi_phi[closest_idx]} at frame index {closest_idx}.\")"
   ]
  },
  {
   "cell_type": "markdown",
   "id": "d1e4cccf-b6dd-438e-8fb9-a321026459cc",
   "metadata": {},
   "source": [
    "### Extract the frame and write it to the folder"
   ]
  },
  {
   "cell_type": "code",
   "execution_count": 10,
   "id": "7244a90b-cc9e-4b9b-8aca-fe1e3ae7e6d9",
   "metadata": {},
   "outputs": [],
   "source": [
    "wdir= \"/home/think/scratch/aimmd_distributed/UmbrellaSampling2\"\n",
    "#wdir = \"/homeloc/scratch/aimmd_distributed/UmbrellaSampling\"\n",
    "\n",
    "if not os.path.exists(wdir):\n",
    "    os.makedirs(wdir)\n",
    "\n",
    "extractor = asyncmd.trajectory.convert.RandomVelocitiesFrameExtractor(T=mdconfig[\"ref-t\"][0])\n",
    "starting_conf = extractor.extract(outfile=os.path.join(wdir, \"starting_frame.trr\"),\n",
    "                                  traj_in=traj,\n",
    "                                  idx=closest_idx,\n",
    "                                  overwrite=True,\n",
    "                                  )"
   ]
  },
  {
   "cell_type": "markdown",
   "id": "094b1a0b-3c6e-464c-ba7a-8e30ec7df7cd",
   "metadata": {},
   "source": [
    "### Now setup the engine and run it"
   ]
  },
  {
   "cell_type": "code",
   "execution_count": 11,
   "id": "c8eb5c5f-ef0e-4554-b9df-c3c066e4409c",
   "metadata": {},
   "outputs": [],
   "source": [
    "engine = asyncmd.gromacs.GmxEngine(mdconfig=mdconfig,\n",
    "                                   gro_file=\"gmx_infiles/conf.gro\",\n",
    "                                   top_file=\"gmx_infiles/topol_amber99sbildn.top\",\n",
    "                                   ndx_file=\"gmx_infiles/index.ndx\",\n",
    "                                   output_traj_type=\"XTC\",\n",
    "                                   mdrun_extra_args=\"-ntomp 4\", \n",
    "                                   )"
   ]
  },
  {
   "cell_type": "code",
   "execution_count": 12,
   "id": "31c1a3d2-ff49-4fb6-ac0f-8bf545724743",
   "metadata": {},
   "outputs": [],
   "source": [
    "await engine.prepare(starting_configuration=starting_conf, workdir=wdir, deffnm=\"US\")"
   ]
  },
  {
   "cell_type": "code",
   "execution_count": 13,
   "id": "d6a9403e-c883-47b9-8bdf-9c21ab99c0f2",
   "metadata": {},
   "outputs": [],
   "source": [
    "out_traj = await engine.run_steps(nsteps=1e7)"
   ]
  },
  {
   "cell_type": "markdown",
   "id": "497c5167-f225-40b5-b299-5188c0c26f31",
   "metadata": {},
   "source": [
    "### Have a look at the trajectory and density of configurations in the $\\phi$-$\\psi$-plane"
   ]
  },
  {
   "cell_type": "code",
   "execution_count": 14,
   "id": "b924527d-d175-4bf5-941c-7322e3881095",
   "metadata": {},
   "outputs": [
    {
     "data": {
      "image/png": "[encoded data removed]",
      "text/plain": [
       "<Figure size 640x480 with 1 Axes>"
      ]
     },
     "metadata": {},
     "output_type": "display_data"
    }
   ],
   "source": [
    "fig, axs = plt.subplots()\n",
    "\n",
    "psi_phi = await wrapped_psi_phi(out_traj)\n",
    "\n",
    "axs.plot(psi_phi[:, 1], psi_phi[:, 0], )#bins=50, range=[[-np.pi, np.pi], [-np.pi, np.pi]])\n",
    "axs.set_ylabel(\"$\\psi$\")\n",
    "axs.set_xlabel(\"$\\phi$\")\n",
    "axs.set_xlim(-np.pi, np.pi)\n",
    "axs.set_ylim(-np.pi, np.pi);"
   ]
  },
  {
   "cell_type": "code",
   "execution_count": 15,
   "id": "e9f5f5b8-27a3-4cdf-9ad5-9fb576446561",
   "metadata": {},
   "outputs": [
    {
     "data": {
      "image/png": "[encoded data removed]",
      "text/plain": [
       "<Figure size 640x480 with 1 Axes>"
      ]
     },
     "metadata": {},
     "output_type": "display_data"
    }
   ],
   "source": [
    "fig, axs = plt.subplots()\n",
    "\n",
    "psi_phi = await wrapped_psi_phi(out_traj)\n",
    "\n",
    "axs.hist2d(psi_phi[:, 1], psi_phi[:, 0], bins=50, range=[[-np.pi, np.pi], [-np.pi, np.pi]], norm=\"log\")\n",
    "axs.set_ylabel(\"$\\psi$\")\n",
    "axs.set_xlabel(\"$\\phi$\")\n",
    "axs.set_xlim(-np.pi, np.pi)\n",
    "axs.set_ylim(-np.pi, np.pi);"
   ]
  },
  {
   "cell_type": "code",
   "execution_count": null,
   "id": "a39e3c19-94a6-4d79-bd9f-ec82aaaa0be3",
   "metadata": {},
   "outputs": [],
   "source": []
  }
 ],
 "metadata": {
  "kernelspec": {
   "display_name": "aimmd dev (py3 Nov 2022)",
   "language": "python",
   "name": "aimmd_dev"
  },
  "language_info": {
   "codemirror_mode": {
    "name": "ipython",
    "version": 3
   },
   "file_extension": ".py",
   "mimetype": "text/x-python",
   "name": "python",
   "nbconvert_exporter": "python",
   "pygments_lexer": "ipython3",
   "version": "3.10.8"
  }
 },
 "nbformat": 4,
 "nbformat_minor": 5
}
