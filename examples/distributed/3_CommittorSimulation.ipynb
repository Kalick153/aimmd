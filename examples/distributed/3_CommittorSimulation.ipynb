{
 "cells": [
  {
   "cell_type": "markdown",
   "metadata": {},
   "source": [
    "# `aimmd.distributed.CommittorSimulation`\n",
    "This notebook showcases how to steer a complete `CommittorSimulation` from python.\n",
    "\n",
    "It assumes familiarity with the `GmxEngine`/`SlurmGmxEngine` and the `TrajectoryFunctionWrappers`, i.e. it is recommended to finish the notebooks `1_GmxEngine.ipynb` and `2_Conditional_trajectory_propagation_and_TrajectoryFunctionWrappers.ipynb`. As usual this notebook will only work if the gromacs executables are available."
   ]
  },
  {
   "cell_type": "markdown",
   "metadata": {},
   "source": [
    "### Imports and working directory"
   ]
  },
  {
   "cell_type": "code",
   "execution_count": 1,
   "metadata": {},
   "outputs": [],
   "source": [
    "%%bash\n",
    "# if using the module system to make gromacs and friends available:\n",
    "# check that they are loaded!\n",
    "#module list"
   ]
  },
  {
   "cell_type": "code",
   "execution_count": 2,
   "metadata": {},
   "outputs": [
    {
     "name": "stdout",
     "output_type": "stream",
     "text": [
      "/usr/local/gromacs-2020.4/bin/gmx\n"
     ]
    }
   ],
   "source": [
    "%%bash\n",
    "# unix only, check that gmx is available\n",
    "which gmx"
   ]
  },
  {
   "cell_type": "code",
   "execution_count": 3,
   "metadata": {},
   "outputs": [],
   "source": [
    "%matplotlib inline"
   ]
  },
  {
   "cell_type": "code",
   "execution_count": 4,
   "metadata": {},
   "outputs": [],
   "source": [
    "import os\n",
    "import asyncio\n",
    "import matplotlib.pyplot as plt\n",
    "import numpy as np\n",
    "import MDAnalysis as mda"
   ]
  },
  {
   "cell_type": "code",
   "execution_count": 5,
   "metadata": {},
   "outputs": [
    {
     "name": "stderr",
     "output_type": "stream",
     "text": [
      "Tensorflow/Keras not available\n"
     ]
    }
   ],
   "source": [
    "import aimmd\n",
    "import aimmd.distributed as aimmdd"
   ]
  },
  {
   "cell_type": "code",
   "execution_count": 6,
   "metadata": {},
   "outputs": [],
   "source": [
    "# setup working directory\n",
    "\n",
    "#scratch_dir = \".\"\n",
    "#scratch_dir = \"/home/tb/hejung/DATA/aimmd_scratch/aimmd_distributed/\"\n",
    "scratch_dir = \"/home/think/scratch/aimmd_distributed/\"\n",
    "\n",
    "workdir = os.path.join(scratch_dir, \"Committors_test\")\n",
    "\n",
    "if not os.path.isdir(workdir):\n",
    "    os.mkdir(workdir)"
   ]
  },
  {
   "cell_type": "markdown",
   "metadata": {},
   "source": [
    "### Setup logging\n",
    "Note that this is entirely optional, i.e. you can skip the next 3 cells if you like. However for now we want the loglevel to be 'INFO' to see everything/most of the stuff that is done (and possibly goes wrong)."
   ]
  },
  {
   "cell_type": "code",
   "execution_count": 7,
   "metadata": {},
   "outputs": [],
   "source": [
    "# setup logging\n",
    "# executing this file sets the variable LOGCONFIG, which is a dictionary of logging presets \n",
    "%run ../resources/logconf.py"
   ]
  },
  {
   "cell_type": "code",
   "execution_count": 8,
   "metadata": {},
   "outputs": [
    {
     "name": "stdout",
     "output_type": "stream",
     "text": [
      "{'level': 'INFO', 'handlers': ['stdf', 'warnout']}\n",
      "{'class': 'logging.FileHandler', 'level': 'INFO', 'mode': 'w', 'filename': 'simulation.log', 'formatter': 'standardFormatter'}\n"
     ]
    }
   ],
   "source": [
    "# have a look at the default logging level (the level used for the logger without a name)\n",
    "print(LOGCONFIG[\"loggers\"][\"\"])\n",
    "# should both be `INFO`\n",
    "print(LOGCONFIG[\"handlers\"][\"stdf\"])"
   ]
  },
  {
   "cell_type": "code",
   "execution_count": 9,
   "metadata": {},
   "outputs": [],
   "source": [
    "# OPTIONAL: more logging\n",
    "LOGCONFIG[\"handlers\"][\"stdf\"][\"level\"] = \"DEBUG\"\n",
    "LOGCONFIG[\"loggers\"][\"\"][\"level\"] = \"DEBUG\""
   ]
  },
  {
   "cell_type": "code",
   "execution_count": 10,
   "metadata": {},
   "outputs": [],
   "source": [
    "# you can either modify single values or use it as is to get the same setup as in the OPS default logging config file\n",
    "# you could e.g. do LOGCONF['handlers']['stdf']['filename'] = new_name to change the filename of the log\n",
    "# the default is to create 'simulation.log' and 'initialization.log' in the current working directory\n",
    "import logging.config\n",
    "LOGCONFIG[\"handlers\"][\"stdf\"][\"filename\"] = os.path.join(workdir, \"simulation_committors.log\")\n",
    "LOGCONFIG[\"handlers\"][\"initf\"][\"filename\"] = os.path.join(workdir, \"initlog_committors.log\")\n",
    "logging.config.dictConfig(LOGCONFIG)"
   ]
  },
  {
   "cell_type": "markdown",
   "metadata": {},
   "source": [
    "# `aimmd.distributed.CommittorSimulation` setup\n",
    "The `CommittorSimulation` is a python class to steer/control multiple molecular simulations at the same time. It takes a list of starting configurations and the states to then propagate the trajectories (usually in chunks of walltime) until any of the states is reached. It supports oneway and twoway shooting (the later not beeing a true committor simulation because forward and backwards trajectories are correlated) and is the highlevel user-facing object to perform committor simulations.\n",
    "\n",
    "To initialize and run a `CommittorSimulation` you need:\n",
    "- `workdir`: The toplevel directory the simulation will run in\n",
    "- `starting_configurations`: A list, every entry in the list corresponds to one configuration and must be an iterable itself, the single list entry structure is: `aimmd.distributed.Trajectory`, `index_of_conf_in_traj`, `name_for_configuration`; Note that the `name_for_configuration` is optional and will be used only as the name of the (sub)folder in which the trials for that configuration will be performed, if no name is supplied the folder will simply be named `configuration_$CONFNUM`\n",
    "- `states`: A list of state functions, preferably wrapped using a `aimmd.distributed.TrajectoryFunctionWrapper`\n",
    "- `engine_cls`: The class of the molecular dynamics engine to use, should be a sublcass of `aimmd.distributed.MDEngine`\n",
    "- `engine_kwargs`: A dictionary with keyword arguments that can/will be used to instatiate the molecular dynamics engine\n",
    "- `engine_run_config`: The molecular dynamics parameters, should be a subclass of `aimmd.distributed.MDConfig`\n",
    "- `T`: float, the temperature to use when generating random Maxwell-Boltzmann velocities\n",
    "- `walltime_per_part`: float, (maximum) walltime per trajectory segment in hours; Note that this does not determine the total length of the trajectories but only the size of the single trajectory segments\n",
    "- `n_max_concurrent`: int, the maximum number of trials to propagate concurrently; Note for two way simulations you will run 2*`n_max_concurrent` molecular dynamic simulations in parallel\n",
    "- `two_way`: wheter to run molecular dymaics forward and backward in time\n",
    "- `max_steps`: int or None, the maximum number of integration steps to perform in total per trajectory, i.e. for two way simulations the combined maximum length of the resulting trajectory will be 2*`max_steps`\n",
    "\n",
    "Note that you can set all attributes of the `CommittorSimulation` (`fname_traj_to_state`, `fname_transition_traj`, `deffnm_engine_out`, etc.) at initialization time by passing them as keyword arguments with the respective values you want to use.\n",
    "\n",
    "\n",
    "Also Note, that the `CommittorSimulation` is quite flexible and allows the simulation of different physical ensembles for every starting configuration. This is achieved by allowing the parameters `engine_cls`, `engine_kwargs`, `engine_run_config`, `T` and `twoway` to be either singletons (i.e. the same for the whole committor simulation) or a list with the same length as `starting_configurations` (i.e. one value per starting configuration). This means you can simulate systems differing in the number of molecules (by changing the topology used in the engine), at different pressures (by changing the molecular dynamics parameters passed with `engine_run_config`), at different temperatures (by changing `T` and the parameters in the `engine_run_config`) and even perform two way shots only for a selected subset of starting configurations (e.g. the ones you expect to be a transition state).\n",
    "\n",
    "If the `CommittorSimulation` options still are not flexible enough for your needs you can always use the `TrajectoryPorpagatorUntilAnyState` (which is used under the hood anyway) to implement your own committor simulation from scratch."
   ]
  },
  {
   "cell_type": "code",
   "execution_count": 11,
   "metadata": {},
   "outputs": [],
   "source": [
    "# import state functions\n",
    "from state_funcs_mda import alpha_R, C7_eq\n",
    "\n",
    "# and wrapp them\n",
    "wrapped_alphaR = aimmdd.PyTrajectoryFunctionWrapper(alpha_R)\n",
    "wrapped_C7_eq = aimmdd.PyTrajectoryFunctionWrapper(C7_eq)"
   ]
  },
  {
   "cell_type": "code",
   "execution_count": 12,
   "metadata": {},
   "outputs": [
    {
     "name": "stdout",
     "output_type": "stream",
     "text": [
      "The transition has a length of 182 frames.\n"
     ]
    },
    {
     "name": "stderr",
     "output_type": "stream",
     "text": [
      "/home/think/.conda/envs/aimmd_nature_publish/lib/python3.8/site-packages/MDAnalysis/coordinates/XDR.py:216: UserWarning: Reload offsets from trajectory\n",
      " ctime or size or n_atoms did not match\n",
      "  warnings.warn(\"Reload offsets from trajectory\\n \"\n"
     ]
    }
   ],
   "source": [
    "# Load the transition to take initial configurations from \n",
    "tp_traj = aimmdd.Trajectory(trajectory_file=\"gmx_infiles/ala_300K_TP.trr\",\n",
    "                            structure_file=\"gmx_infiles/conf.gro\")\n",
    "print(f\"The transition has a length of {len(tp_traj)} frames.\")"
   ]
  },
  {
   "cell_type": "code",
   "execution_count": 13,
   "metadata": {},
   "outputs": [],
   "source": [
    "# Load the transition to take initial configurations from \n",
    "#tp_traj = aimmdd.Trajectory(trajectory_file=\"gmx_infiles/ala_400K_TP_low_barrier.trr\",\n",
    "#                            structure_file=\"gmx_infiles/conf.gro\")\n",
    "#print(f\"The transition has a length of {len(tp_traj)} frames.\")"
   ]
  },
  {
   "cell_type": "code",
   "execution_count": 15,
   "metadata": {},
   "outputs": [
    {
     "name": "stdout",
     "output_type": "stream",
     "text": [
      "Selected 18 frames as starting configurations.\n"
     ]
    }
   ],
   "source": [
    "# prepare a list of starting configurations\n",
    "# we will take each frame of the transition once except the first and last frame (these are already inside the states)\n",
    "# OPTIONAL: we will name each configuration 'frame$FRAMENUM_from_low_barrier_transition',\n",
    "#           we could also just have used tuples of length 2: (traj, idx) and then every configuration would just get an index\n",
    "starting_confs = [(tp_traj, i, f\"frame{i}_from_low_barrier_transition\") for i in range(1, len(tp_traj) - 1, 10)]\n",
    "print(f\"Selected {len(starting_confs)} frames as starting configurations.\")"
   ]
  },
  {
   "cell_type": "code",
   "execution_count": 16,
   "metadata": {
    "tags": []
   },
   "outputs": [
    {
     "name": "stdout",
     "output_type": "stream",
     "text": [
      "The reference temperature ('ref-t') in the mdp file is: [300.0, 300.0].\n"
     ]
    }
   ],
   "source": [
    "# engine_kwargs\n",
    "gro = \"gmx_infiles/conf.gro\"\n",
    "top = \"gmx_infiles/topol.top\"\n",
    "ndx = \"gmx_infiles/index.ndx\"\n",
    "mdp = aimmdd.MDP(\"gmx_infiles/md.mdp\")\n",
    "\n",
    "print(f\"The reference temperature ('ref-t') in the mdp file is: {mdp['ref-t']}.\")\n",
    "\n",
    "engine_kwargs = {\"gro_file\":gro, \"top_file\":top, \"ndx_file\":ndx,\n",
    "                 \"mdrun_extra_args\":\"-nt 1\",  # use this for GMX with (thread) MPI support\n",
    "                 #\"mdrun_extra_args\": \"-ntomp 2\",  # and this for GMX sans (thread) MPI support\n",
    "                 }\n",
    "\n",
    "# here we simply use the `singleton` options for all configurations,\n",
    "# i.e. all molecular dynamics simulations of this committor simulation sample the same ensemble\n",
    "simulation = aimmdd.CommittorSimulation(workdir=workdir,\n",
    "                                        starting_configurations=starting_confs,\n",
    "                                        states=[wrapped_alphaR, wrapped_C7_eq],\n",
    "                                        engine_cls=aimmdd.GmxEngine,\n",
    "                                        engine_kwargs=engine_kwargs,\n",
    "                                        engine_run_config=mdp,\n",
    "                                        T=mdp[\"ref-t\"][0],\n",
    "                                        walltime_per_part=0.01,  # run in simulation parts of 36 seconds \n",
    "                                        n_max_concurrent=8,  # start a maximum of 8 md engines engines (*2 if twoway)\n",
    "                                        ######################\n",
    "                                        two_way=False,\n",
    "                                        #########################\n",
    "                                        max_retries_on_crash=5,  # maximum number of retries on crash, e.g. 5 means try at most 6 times\n",
    "                                        )"
   ]
  },
  {
   "cell_type": "code",
   "execution_count": 17,
   "metadata": {
    "tags": []
   },
   "outputs": [
    {
     "name": "stderr",
     "output_type": "stream",
     "text": [
      "/home/think/.conda/envs/aimmd_nature_publish/lib/python3.8/site-packages/MDAnalysis/topology/tpr/utils.py:389: DeprecationWarning: TPR files index residues from 0. From MDAnalysis version 2.0, resids will start at 1 instead. If you wish to keep indexing resids from 0, please set `tpr_resid_from_one=False` as a keyword argument when you create a new Topology or Universe.\n",
      "  warnings.warn(\"TPR files index residues from 0. \"\n",
      "/home/think/.conda/envs/aimmd_nature_publish/lib/python3.8/site-packages/MDAnalysis/topology/tpr/utils.py:389: DeprecationWarning: TPR files index residues from 0. From MDAnalysis version 2.0, resids will start at 1 instead. If you wish to keep indexing resids from 0, please set `tpr_resid_from_one=False` as a keyword argument when you create a new Topology or Universe.\n",
      "  warnings.warn(\"TPR files index residues from 0. \"\n",
      "/home/think/.conda/envs/aimmd_nature_publish/lib/python3.8/site-packages/MDAnalysis/topology/tpr/utils.py:389: DeprecationWarning: TPR files index residues from 0. From MDAnalysis version 2.0, resids will start at 1 instead. If you wish to keep indexing resids from 0, please set `tpr_resid_from_one=False` as a keyword argument when you create a new Topology or Universe.\n",
      "  warnings.warn(\"TPR files index residues from 0. \"\n",
      "/home/think/.conda/envs/aimmd_nature_publish/lib/python3.8/site-packages/MDAnalysis/topology/tpr/utils.py:389: DeprecationWarning: TPR files index residues from 0. From MDAnalysis version 2.0, resids will start at 1 instead. If you wish to keep indexing resids from 0, please set `tpr_resid_from_one=False` as a keyword argument when you create a new Topology or Universe.\n",
      "  warnings.warn(\"TPR files index residues from 0. \"\n",
      "/home/think/.conda/envs/aimmd_nature_publish/lib/python3.8/site-packages/MDAnalysis/topology/tpr/utils.py:389: DeprecationWarning: TPR files index residues from 0. From MDAnalysis version 2.0, resids will start at 1 instead. If you wish to keep indexing resids from 0, please set `tpr_resid_from_one=False` as a keyword argument when you create a new Topology or Universe.\n",
      "  warnings.warn(\"TPR files index residues from 0. \"\n",
      "/home/think/.conda/envs/aimmd_nature_publish/lib/python3.8/site-packages/MDAnalysis/topology/tpr/utils.py:389: DeprecationWarning: TPR files index residues from 0. From MDAnalysis version 2.0, resids will start at 1 instead. If you wish to keep indexing resids from 0, please set `tpr_resid_from_one=False` as a keyword argument when you create a new Topology or Universe.\n",
      "  warnings.warn(\"TPR files index residues from 0. \"\n",
      "/home/think/.conda/envs/aimmd_nature_publish/lib/python3.8/site-packages/MDAnalysis/topology/tpr/utils.py:389: DeprecationWarning: TPR files index residues from 0. From MDAnalysis version 2.0, resids will start at 1 instead. If you wish to keep indexing resids from 0, please set `tpr_resid_from_one=False` as a keyword argument when you create a new Topology or Universe.\n",
      "  warnings.warn(\"TPR files index residues from 0. \"\n",
      "/home/think/.conda/envs/aimmd_nature_publish/lib/python3.8/site-packages/MDAnalysis/topology/tpr/utils.py:389: DeprecationWarning: TPR files index residues from 0. From MDAnalysis version 2.0, resids will start at 1 instead. If you wish to keep indexing resids from 0, please set `tpr_resid_from_one=False` as a keyword argument when you create a new Topology or Universe.\n",
      "  warnings.warn(\"TPR files index residues from 0. \"\n",
      "/home/think/.conda/envs/aimmd_nature_publish/lib/python3.8/site-packages/MDAnalysis/topology/tpr/utils.py:389: DeprecationWarning: TPR files index residues from 0. From MDAnalysis version 2.0, resids will start at 1 instead. If you wish to keep indexing resids from 0, please set `tpr_resid_from_one=False` as a keyword argument when you create a new Topology or Universe.\n",
      "  warnings.warn(\"TPR files index residues from 0. \"\n",
      "/home/think/.conda/envs/aimmd_nature_publish/lib/python3.8/site-packages/MDAnalysis/topology/tpr/utils.py:389: DeprecationWarning: TPR files index residues from 0. From MDAnalysis version 2.0, resids will start at 1 instead. If you wish to keep indexing resids from 0, please set `tpr_resid_from_one=False` as a keyword argument when you create a new Topology or Universe.\n",
      "  warnings.warn(\"TPR files index residues from 0. \"\n",
      "/home/think/.conda/envs/aimmd_nature_publish/lib/python3.8/site-packages/MDAnalysis/topology/tpr/utils.py:389: DeprecationWarning: TPR files index residues from 0. From MDAnalysis version 2.0, resids will start at 1 instead. If you wish to keep indexing resids from 0, please set `tpr_resid_from_one=False` as a keyword argument when you create a new Topology or Universe.\n",
      "  warnings.warn(\"TPR files index residues from 0. \"\n",
      "/home/think/.conda/envs/aimmd_nature_publish/lib/python3.8/site-packages/MDAnalysis/topology/tpr/utils.py:389: DeprecationWarning: TPR files index residues from 0. From MDAnalysis version 2.0, resids will start at 1 instead. If you wish to keep indexing resids from 0, please set `tpr_resid_from_one=False` as a keyword argument when you create a new Topology or Universe.\n",
      "  warnings.warn(\"TPR files index residues from 0. \"\n",
      "/home/think/.conda/envs/aimmd_nature_publish/lib/python3.8/site-packages/MDAnalysis/topology/tpr/utils.py:389: DeprecationWarning: TPR files index residues from 0. From MDAnalysis version 2.0, resids will start at 1 instead. If you wish to keep indexing resids from 0, please set `tpr_resid_from_one=False` as a keyword argument when you create a new Topology or Universe.\n",
      "  warnings.warn(\"TPR files index residues from 0. \"\n",
      "/home/think/.conda/envs/aimmd_nature_publish/lib/python3.8/site-packages/MDAnalysis/topology/tpr/utils.py:389: DeprecationWarning: TPR files index residues from 0. From MDAnalysis version 2.0, resids will start at 1 instead. If you wish to keep indexing resids from 0, please set `tpr_resid_from_one=False` as a keyword argument when you create a new Topology or Universe.\n",
      "  warnings.warn(\"TPR files index residues from 0. \"\n",
      "/home/think/.conda/envs/aimmd_nature_publish/lib/python3.8/site-packages/MDAnalysis/topology/tpr/utils.py:389: DeprecationWarning: TPR files index residues from 0. From MDAnalysis version 2.0, resids will start at 1 instead. If you wish to keep indexing resids from 0, please set `tpr_resid_from_one=False` as a keyword argument when you create a new Topology or Universe.\n",
      "  warnings.warn(\"TPR files index residues from 0. \"\n",
      "/home/think/.conda/envs/aimmd_nature_publish/lib/python3.8/site-packages/MDAnalysis/topology/tpr/utils.py:389: DeprecationWarning: TPR files index residues from 0. From MDAnalysis version 2.0, resids will start at 1 instead. If you wish to keep indexing resids from 0, please set `tpr_resid_from_one=False` as a keyword argument when you create a new Topology or Universe.\n",
      "  warnings.warn(\"TPR files index residues from 0. \"\n",
      "/home/think/.conda/envs/aimmd_nature_publish/lib/python3.8/site-packages/MDAnalysis/topology/tpr/utils.py:389: DeprecationWarning: TPR files index residues from 0. From MDAnalysis version 2.0, resids will start at 1 instead. If you wish to keep indexing resids from 0, please set `tpr_resid_from_one=False` as a keyword argument when you create a new Topology or Universe.\n",
      "  warnings.warn(\"TPR files index residues from 0. \"\n",
      "/home/think/.conda/envs/aimmd_nature_publish/lib/python3.8/site-packages/MDAnalysis/topology/tpr/utils.py:389: DeprecationWarning: TPR files index residues from 0. From MDAnalysis version 2.0, resids will start at 1 instead. If you wish to keep indexing resids from 0, please set `tpr_resid_from_one=False` as a keyword argument when you create a new Topology or Universe.\n",
      "  warnings.warn(\"TPR files index residues from 0. \"\n",
      "/home/think/.conda/envs/aimmd_nature_publish/lib/python3.8/site-packages/MDAnalysis/topology/tpr/utils.py:389: DeprecationWarning: TPR files index residues from 0. From MDAnalysis version 2.0, resids will start at 1 instead. If you wish to keep indexing resids from 0, please set `tpr_resid_from_one=False` as a keyword argument when you create a new Topology or Universe.\n",
      "  warnings.warn(\"TPR files index residues from 0. \"\n",
      "/home/think/.conda/envs/aimmd_nature_publish/lib/python3.8/site-packages/MDAnalysis/topology/tpr/utils.py:389: DeprecationWarning: TPR files index residues from 0. From MDAnalysis version 2.0, resids will start at 1 instead. If you wish to keep indexing resids from 0, please set `tpr_resid_from_one=False` as a keyword argument when you create a new Topology or Universe.\n",
      "  warnings.warn(\"TPR files index residues from 0. \"\n",
      "/home/think/.conda/envs/aimmd_nature_publish/lib/python3.8/site-packages/MDAnalysis/topology/tpr/utils.py:389: DeprecationWarning: TPR files index residues from 0. From MDAnalysis version 2.0, resids will start at 1 instead. If you wish to keep indexing resids from 0, please set `tpr_resid_from_one=False` as a keyword argument when you create a new Topology or Universe.\n",
      "  warnings.warn(\"TPR files index residues from 0. \"\n",
      "/home/think/.conda/envs/aimmd_nature_publish/lib/python3.8/site-packages/MDAnalysis/topology/tpr/utils.py:389: DeprecationWarning: TPR files index residues from 0. From MDAnalysis version 2.0, resids will start at 1 instead. If you wish to keep indexing resids from 0, please set `tpr_resid_from_one=False` as a keyword argument when you create a new Topology or Universe.\n",
      "  warnings.warn(\"TPR files index residues from 0. \"\n",
      "/home/think/.conda/envs/aimmd_nature_publish/lib/python3.8/site-packages/MDAnalysis/topology/tpr/utils.py:389: DeprecationWarning: TPR files index residues from 0. From MDAnalysis version 2.0, resids will start at 1 instead. If you wish to keep indexing resids from 0, please set `tpr_resid_from_one=False` as a keyword argument when you create a new Topology or Universe.\n",
      "  warnings.warn(\"TPR files index residues from 0. \"\n",
      "/home/think/.conda/envs/aimmd_nature_publish/lib/python3.8/site-packages/MDAnalysis/topology/tpr/utils.py:389: DeprecationWarning: TPR files index residues from 0. From MDAnalysis version 2.0, resids will start at 1 instead. If you wish to keep indexing resids from 0, please set `tpr_resid_from_one=False` as a keyword argument when you create a new Topology or Universe.\n",
      "  warnings.warn(\"TPR files index residues from 0. \"\n",
      "/home/think/.conda/envs/aimmd_nature_publish/lib/python3.8/site-packages/MDAnalysis/topology/tpr/utils.py:389: DeprecationWarning: TPR files index residues from 0. From MDAnalysis version 2.0, resids will start at 1 instead. If you wish to keep indexing resids from 0, please set `tpr_resid_from_one=False` as a keyword argument when you create a new Topology or Universe.\n",
      "  warnings.warn(\"TPR files index residues from 0. \"\n"
     ]
    }
   ],
   "source": [
    "# now run the simulation for 10 shots per configuration\n",
    "ret = await simulation.run(10)"
   ]
  },
  {
   "cell_type": "markdown",
   "metadata": {},
   "source": [
    "# Have a look at and plot the results"
   ]
  },
  {
   "cell_type": "code",
   "execution_count": 18,
   "metadata": {},
   "outputs": [],
   "source": [
    "import matplotlib"
   ]
  },
  {
   "cell_type": "markdown",
   "metadata": {
    "tags": []
   },
   "source": [
    "### Plot results for every starting configuration and shot seperately"
   ]
  },
  {
   "cell_type": "code",
   "execution_count": 19,
   "metadata": {
    "tags": []
   },
   "outputs": [
    {
     "data": {
      "text/plain": [
       "Text(0, 0.5, 'State reached')"
      ]
     },
     "execution_count": 19,
     "metadata": {},
     "output_type": "execute_result"
    },
    {
     "data": {
      "image/png": "[encoded data removed]",
      "text/plain": [
       "<Figure size 720x360 with 1 Axes>"
      ]
     },
     "metadata": {
      "needs_background": "light"
     },
     "output_type": "display_data"
    }
   ],
   "source": [
    "fig, axs = plt.subplots(figsize=(10, 5))\n",
    "\n",
    "# ret are the shooting results per stucture and shot, i.e. it has shape = (n_conf, n_shot, n_states)\n",
    "# it is the same as `CommittorSimulation.states_reached_per_shot`\n",
    "n_conf, n_shot, n_states = ret.shape\n",
    "xses_per_conf = np.arange(0, n_shot)\n",
    "# get a colorbar and a normalize instance to have different colors for starting structure\n",
    "cmap = matplotlib.cm.get_cmap(\"viridis\")\n",
    "norm = matplotlib.colors.Normalize(vmin=0, vmax=n_conf-1)\n",
    "\n",
    "for cnum, conf in enumerate(ret):\n",
    "    # NOTE: this only works if ret is per configuration and per shot, i.e. if it can only have one True value (one 1) per array in the last axis\n",
    "    plot_vals = np.zeros((n_shot,))  # fill with the plot values\n",
    "    idxs, state = np.where(conf)  # will return the idxs of the shot and idx of the state each shot reached\n",
    "    plot_vals[idxs] = state\n",
    "    axs.scatter(x=xses_per_conf + (n_shot * cnum),\n",
    "                y=plot_vals,\n",
    "                color=cmap(norm(cnum)),\n",
    "                )\n",
    "\n",
    "axs.set_yticks([i for i in range(n_states)])\n",
    "axs.set_yticklabels([\"alpha_R\", \"C7_eq\"], size=14)\n",
    "axs.set_xlabel(\"Configuration/shot index\", size=14)\n",
    "axs.set_ylabel(\"State reached\", size=14)"
   ]
  },
  {
   "cell_type": "markdown",
   "metadata": {},
   "source": [
    "### Plot committor estimates for every starting configuration, i.e. aggregated for every starting structure"
   ]
  },
  {
   "cell_type": "code",
   "execution_count": 20,
   "metadata": {},
   "outputs": [
    {
     "data": {
      "image/png": "[encoded data removed]",
      "text/plain": [
       "<Figure size 720x432 with 2 Axes>"
      ]
     },
     "metadata": {
      "needs_background": "light"
     },
     "output_type": "display_data"
    }
   ],
   "source": [
    "fig, axs = plt.subplots(figsize=(10,6), nrows=n_states, sharex=True)\n",
    "# states_reached already aggregates the result for the same starting configuration\n",
    "# it therefore has shape = (n_conf, n_states)\n",
    "n_conf, n_states = simulation.states_reached.shape\n",
    "for snum, ax in enumerate(axs):\n",
    "    ax.set_title(f\"Committor towards state {snum}\")\n",
    "    ax.scatter(x=np.arange(n_conf),\n",
    "               y=simulation.states_reached[:, snum] / np.sum(simulation.states_reached, axis=1),\n",
    "               c=cmap(norm(np.arange(n_conf))),\n",
    "               )\n",
    "    ax.set_ylim(-0.1, 1.1)\n",
    "    ax.set_ylabel(f\"$p_{{S{snum}}}$\")\n",
    "    if snum == 1:\n",
    "        ax.set_xlabel(\"Configuration index\")"
   ]
  },
  {
   "cell_type": "markdown",
   "metadata": {},
   "source": [
    "# Add \"backwards\" shots to generate initial transitions\n",
    "We will now add the conjugate \"backwards\" trials for the most promising configurations, i.e. thoose with shots that reached both states. To this end we will initialize a new committor simulation with only those configurations and use its `reinitialize_from_workdir()` method. We will set `twoway=True` to add the backwards shots for all of the configurations we now look at again. The `CommittorSimulation` will then add the missing backwards trials to all configurations it knows about. Note, that using a subset of the configurations only works since we named the configurations, if we had not done so we could still add the backwards shots, but would need to do so for all configurations (at least up to a given configuration number).\n",
    "\n",
    "In addition to adding the missing backwards shots this will also write out any potentially generated transitions as one concatenated trajectory from the lower index state to the higher index state with the first and last frame in the states. Therfore the twoway shooting can be used to generate initial transitions for a subsequent transition path sampling simulation. Note however that this is usually only smart for configurations that have an roughly equal probability to reach both/multiple states, i.e. for potential transition states."
   ]
  },
  {
   "cell_type": "code",
   "execution_count": 25,
   "metadata": {},
   "outputs": [
    {
     "data": {
      "text/plain": [
       "0.22360679774997896"
      ]
     },
     "execution_count": 25,
     "metadata": {},
     "output_type": "execute_result"
    }
   ],
   "source": [
    "np.sqrt(0.05)"
   ]
  },
  {
   "cell_type": "code",
   "execution_count": 27,
   "metadata": {},
   "outputs": [
    {
     "name": "stdout",
     "output_type": "stream",
     "text": [
      "Selected 2 promising configurations with p(TP|x) >= 0.08.\n"
     ]
    }
   ],
   "source": [
    "p_c7_eq = simulation.states_reached[:, 1] / np.sum(simulation.states_reached, axis=1)\n",
    "confs_for_twoway = []\n",
    "for sconf, p in zip(starting_confs, p_c7_eq):\n",
    "    if 0.2 <= p <= 0.8:\n",
    "        confs_for_twoway += [sconf]\n",
    "\n",
    "        \n",
    "print(f\"Selected {len(confs_for_twoway)} promising configurations with p(TP|x) >= {round(2 * 0.2**2, 2)}.\")"
   ]
  },
  {
   "cell_type": "code",
   "execution_count": 28,
   "metadata": {},
   "outputs": [],
   "source": [
    "new_simulation = aimmdd.CommittorSimulation(workdir=workdir,\n",
    "                                            # take only a subset of the original starting configurations\n",
    "                                            starting_configurations=confs_for_twoway,\n",
    "                                            states=[wrapped_alphaR, wrapped_C7_eq],\n",
    "                                            engine_cls=aimmdd.GmxEngine,\n",
    "                                            engine_kwargs=engine_kwargs,\n",
    "                                            engine_run_config=mdp,\n",
    "                                            T=mdp[\"ref-t\"][0],\n",
    "                                            walltime_per_part=0.01,  # run in simulation parts of 36 seconds \n",
    "                                            n_max_concurrent=4,  # start a maximum of 8 md engines engines (*2 because we use twoway=True)\n",
    "                                            # NOTE: we changed twoway=True\n",
    "                                            two_way=True,\n",
    "                                            max_retries_on_crash=5,  # maximum number of retries on crash, e.g. 5 means try at most 6 times\n",
    "                                           )"
   ]
  },
  {
   "cell_type": "code",
   "execution_count": 29,
   "metadata": {},
   "outputs": [
    {
     "name": "stderr",
     "output_type": "stream",
     "text": [
      "/home/think/.conda/envs/aimmd_nature_publish/lib/python3.8/site-packages/MDAnalysis/topology/tpr/utils.py:389: DeprecationWarning: TPR files index residues from 0. From MDAnalysis version 2.0, resids will start at 1 instead. If you wish to keep indexing resids from 0, please set `tpr_resid_from_one=False` as a keyword argument when you create a new Topology or Universe.\n",
      "  warnings.warn(\"TPR files index residues from 0. \"\n",
      "/home/think/.conda/envs/aimmd_nature_publish/lib/python3.8/site-packages/MDAnalysis/topology/tpr/utils.py:389: DeprecationWarning: TPR files index residues from 0. From MDAnalysis version 2.0, resids will start at 1 instead. If you wish to keep indexing resids from 0, please set `tpr_resid_from_one=False` as a keyword argument when you create a new Topology or Universe.\n",
      "  warnings.warn(\"TPR files index residues from 0. \"\n",
      "/home/think/.conda/envs/aimmd_nature_publish/lib/python3.8/site-packages/MDAnalysis/topology/tpr/utils.py:389: DeprecationWarning: TPR files index residues from 0. From MDAnalysis version 2.0, resids will start at 1 instead. If you wish to keep indexing resids from 0, please set `tpr_resid_from_one=False` as a keyword argument when you create a new Topology or Universe.\n",
      "  warnings.warn(\"TPR files index residues from 0. \"\n",
      "/home/think/.conda/envs/aimmd_nature_publish/lib/python3.8/site-packages/MDAnalysis/topology/tpr/utils.py:389: DeprecationWarning: TPR files index residues from 0. From MDAnalysis version 2.0, resids will start at 1 instead. If you wish to keep indexing resids from 0, please set `tpr_resid_from_one=False` as a keyword argument when you create a new Topology or Universe.\n",
      "  warnings.warn(\"TPR files index residues from 0. \"\n",
      "/home/think/.conda/envs/aimmd_nature_publish/lib/python3.8/site-packages/MDAnalysis/topology/tpr/utils.py:389: DeprecationWarning: TPR files index residues from 0. From MDAnalysis version 2.0, resids will start at 1 instead. If you wish to keep indexing resids from 0, please set `tpr_resid_from_one=False` as a keyword argument when you create a new Topology or Universe.\n",
      "  warnings.warn(\"TPR files index residues from 0. \"\n"
     ]
    }
   ],
   "source": [
    "# allow overwriting of the exisitng traj_to-state for the forward shot by passing overwrite=True\n",
    "ret = await new_simulation.reinitialize_from_workdir(overwrite=True)"
   ]
  },
  {
   "cell_type": "markdown",
   "metadata": {},
   "source": [
    "# Accesing the generated trajectories\n",
    "The concatenated trajectories until a state is reached and the potentially generated transition trajectories are all inside the respective `shot_$SHOTNUM` folders, however they can also be accessed from python via the properties `CommittorSimulation.trajs_to_state`, `CommittorSimulation.trajs_to_state_bw` and `CommittorSimulation.transitions`."
   ]
  },
  {
   "cell_type": "code",
   "execution_count": 30,
   "metadata": {},
   "outputs": [
    {
     "data": {
      "text/plain": [
       "[Trajectory(trajectory_file=/home/think/scratch/aimmd_distributed/Committors_test/frame1_from_low_barrier_transition/shot_0/traj_to_state.trr, structure_file=/home/think/scratch/aimmd_distributed/Committors_test/frame1_from_low_barrier_transition/shot_0/trial_fw.tpr),\n",
       " Trajectory(trajectory_file=/home/think/scratch/aimmd_distributed/Committors_test/frame1_from_low_barrier_transition/shot_1/traj_to_state.trr, structure_file=/home/think/scratch/aimmd_distributed/Committors_test/frame1_from_low_barrier_transition/shot_1/trial_fw.tpr),\n",
       " Trajectory(trajectory_file=/home/think/scratch/aimmd_distributed/Committors_test/frame1_from_low_barrier_transition/shot_2/traj_to_state.trr, structure_file=/home/think/scratch/aimmd_distributed/Committors_test/frame1_from_low_barrier_transition/shot_2/trial_fw.tpr),\n",
       " Trajectory(trajectory_file=/home/think/scratch/aimmd_distributed/Committors_test/frame1_from_low_barrier_transition/shot_3/traj_to_state.trr, structure_file=/home/think/scratch/aimmd_distributed/Committors_test/frame1_from_low_barrier_transition/shot_3/trial_fw.tpr),\n",
       " Trajectory(trajectory_file=/home/think/scratch/aimmd_distributed/Committors_test/frame1_from_low_barrier_transition/shot_4/traj_to_state.trr, structure_file=/home/think/scratch/aimmd_distributed/Committors_test/frame1_from_low_barrier_transition/shot_4/trial_fw.tpr),\n",
       " Trajectory(trajectory_file=/home/think/scratch/aimmd_distributed/Committors_test/frame1_from_low_barrier_transition/shot_5/traj_to_state.trr, structure_file=/home/think/scratch/aimmd_distributed/Committors_test/frame1_from_low_barrier_transition/shot_5/trial_fw.tpr),\n",
       " Trajectory(trajectory_file=/home/think/scratch/aimmd_distributed/Committors_test/frame1_from_low_barrier_transition/shot_6/traj_to_state.trr, structure_file=/home/think/scratch/aimmd_distributed/Committors_test/frame1_from_low_barrier_transition/shot_6/trial_fw.tpr),\n",
       " Trajectory(trajectory_file=/home/think/scratch/aimmd_distributed/Committors_test/frame1_from_low_barrier_transition/shot_7/traj_to_state.trr, structure_file=/home/think/scratch/aimmd_distributed/Committors_test/frame1_from_low_barrier_transition/shot_7/trial_fw.tpr),\n",
       " Trajectory(trajectory_file=/home/think/scratch/aimmd_distributed/Committors_test/frame1_from_low_barrier_transition/shot_8/traj_to_state.trr, structure_file=/home/think/scratch/aimmd_distributed/Committors_test/frame1_from_low_barrier_transition/shot_8/trial_fw.tpr),\n",
       " Trajectory(trajectory_file=/home/think/scratch/aimmd_distributed/Committors_test/frame1_from_low_barrier_transition/shot_9/traj_to_state.trr, structure_file=/home/think/scratch/aimmd_distributed/Committors_test/frame1_from_low_barrier_transition/shot_9/trial_fw.tpr)]"
      ]
     },
     "execution_count": 30,
     "metadata": {},
     "output_type": "execute_result"
    }
   ],
   "source": [
    "# show only the traj_to_state for first configuration this simulation knows about\n",
    "new_simulation.trajs_to_state[0]"
   ]
  },
  {
   "cell_type": "code",
   "execution_count": 31,
   "metadata": {},
   "outputs": [
    {
     "data": {
      "text/plain": [
       "[Trajectory(trajectory_file=/home/think/scratch/aimmd_distributed/Committors_test/frame1_from_low_barrier_transition/shot_0/traj_to_state_bw.trr, structure_file=/home/think/scratch/aimmd_distributed/Committors_test/frame1_from_low_barrier_transition/shot_0/trial_fw.tpr),\n",
       " Trajectory(trajectory_file=/home/think/scratch/aimmd_distributed/Committors_test/frame1_from_low_barrier_transition/shot_1/traj_to_state_bw.trr, structure_file=/home/think/scratch/aimmd_distributed/Committors_test/frame1_from_low_barrier_transition/shot_1/trial_fw.tpr),\n",
       " Trajectory(trajectory_file=/home/think/scratch/aimmd_distributed/Committors_test/frame1_from_low_barrier_transition/shot_2/traj_to_state_bw.trr, structure_file=/home/think/scratch/aimmd_distributed/Committors_test/frame1_from_low_barrier_transition/shot_2/trial_fw.tpr),\n",
       " Trajectory(trajectory_file=/home/think/scratch/aimmd_distributed/Committors_test/frame1_from_low_barrier_transition/shot_3/traj_to_state_bw.trr, structure_file=/home/think/scratch/aimmd_distributed/Committors_test/frame1_from_low_barrier_transition/shot_3/trial_fw.tpr),\n",
       " Trajectory(trajectory_file=/home/think/scratch/aimmd_distributed/Committors_test/frame1_from_low_barrier_transition/shot_4/traj_to_state_bw.trr, structure_file=/home/think/scratch/aimmd_distributed/Committors_test/frame1_from_low_barrier_transition/shot_4/trial_fw.tpr),\n",
       " Trajectory(trajectory_file=/home/think/scratch/aimmd_distributed/Committors_test/frame1_from_low_barrier_transition/shot_5/traj_to_state_bw.trr, structure_file=/home/think/scratch/aimmd_distributed/Committors_test/frame1_from_low_barrier_transition/shot_5/trial_fw.tpr),\n",
       " Trajectory(trajectory_file=/home/think/scratch/aimmd_distributed/Committors_test/frame1_from_low_barrier_transition/shot_6/traj_to_state_bw.trr, structure_file=/home/think/scratch/aimmd_distributed/Committors_test/frame1_from_low_barrier_transition/shot_6/trial_fw.tpr),\n",
       " Trajectory(trajectory_file=/home/think/scratch/aimmd_distributed/Committors_test/frame1_from_low_barrier_transition/shot_7/traj_to_state_bw.trr, structure_file=/home/think/scratch/aimmd_distributed/Committors_test/frame1_from_low_barrier_transition/shot_7/trial_fw.tpr),\n",
       " Trajectory(trajectory_file=/home/think/scratch/aimmd_distributed/Committors_test/frame1_from_low_barrier_transition/shot_8/traj_to_state_bw.trr, structure_file=/home/think/scratch/aimmd_distributed/Committors_test/frame1_from_low_barrier_transition/shot_8/trial_fw.tpr),\n",
       " Trajectory(trajectory_file=/home/think/scratch/aimmd_distributed/Committors_test/frame1_from_low_barrier_transition/shot_9/traj_to_state_bw.trr, structure_file=/home/think/scratch/aimmd_distributed/Committors_test/frame1_from_low_barrier_transition/shot_9/trial_fw.tpr)]"
      ]
     },
     "execution_count": 31,
     "metadata": {},
     "output_type": "execute_result"
    }
   ],
   "source": [
    "# same here\n",
    "new_simulation.trajs_to_state_bw[0]"
   ]
  },
  {
   "cell_type": "code",
   "execution_count": 32,
   "metadata": {},
   "outputs": [
    {
     "data": {
      "text/plain": [
       "[[Trajectory(trajectory_file=/home/think/scratch/aimmd_distributed/Committors_test/frame1_from_low_barrier_transition/shot_0/transition_traj.trr, structure_file=/home/think/scratch/aimmd_distributed/Committors_test/frame1_from_low_barrier_transition/shot_0/trial_fw.tpr),\n",
       "  Trajectory(trajectory_file=/home/think/scratch/aimmd_distributed/Committors_test/frame1_from_low_barrier_transition/shot_2/transition_traj.trr, structure_file=/home/think/scratch/aimmd_distributed/Committors_test/frame1_from_low_barrier_transition/shot_2/trial_fw.tpr),\n",
       "  Trajectory(trajectory_file=/home/think/scratch/aimmd_distributed/Committors_test/frame1_from_low_barrier_transition/shot_3/transition_traj.trr, structure_file=/home/think/scratch/aimmd_distributed/Committors_test/frame1_from_low_barrier_transition/shot_3/trial_fw.tpr),\n",
       "  Trajectory(trajectory_file=/home/think/scratch/aimmd_distributed/Committors_test/frame1_from_low_barrier_transition/shot_5/transition_traj.trr, structure_file=/home/think/scratch/aimmd_distributed/Committors_test/frame1_from_low_barrier_transition/shot_5/trial_fw.tpr)],\n",
       " [Trajectory(trajectory_file=/home/think/scratch/aimmd_distributed/Committors_test/frame131_from_low_barrier_transition/shot_0/transition_traj.trr, structure_file=/home/think/scratch/aimmd_distributed/Committors_test/frame131_from_low_barrier_transition/shot_0/trial_fw.tpr),\n",
       "  Trajectory(trajectory_file=/home/think/scratch/aimmd_distributed/Committors_test/frame131_from_low_barrier_transition/shot_1/transition_traj.trr, structure_file=/home/think/scratch/aimmd_distributed/Committors_test/frame131_from_low_barrier_transition/shot_1/trial_fw.tpr),\n",
       "  Trajectory(trajectory_file=/home/think/scratch/aimmd_distributed/Committors_test/frame131_from_low_barrier_transition/shot_9/transition_traj.trr, structure_file=/home/think/scratch/aimmd_distributed/Committors_test/frame131_from_low_barrier_transition/shot_9/trial_fw.tpr)]]"
      ]
     },
     "execution_count": 32,
     "metadata": {},
     "output_type": "execute_result"
    }
   ],
   "source": [
    "# and look at the first 2 configurations for the transitions to be sure there is one\n",
    "new_simulation.transitions[:2]"
   ]
  },
  {
   "cell_type": "markdown",
   "metadata": {
    "tags": []
   },
   "source": [
    "# \"Continuation\" of the trials that reached only one state\n",
    "This is a bit stupid, but just to showcase the possiblity to rerun a `CommittorSimulation` on an existing directory/run with possibly changed states. To this end, we will simply run the `CommittorSimulation` with only one state (the one we did not reach on the trials we rerun on). We will take the first few trials (started from configurations on the transition that are close(r) to C7_eq) as they should all/mostly have reached the C7_eq state and run a committor continuation with alpha_R as the only target state. This will result in continuing all choosen trial until they reach alpha_R (ignoring that they first reached C7_eq because the new `CommittorSimulation` does not know about C7_eq anymore)."
   ]
  },
  {
   "cell_type": "code",
   "execution_count": 33,
   "metadata": {},
   "outputs": [],
   "source": [
    "# take the first 5 starting configurations for continuation, they will mostly have ended up in C7_eq\n",
    "first_n_starting_configurations_to_take = 5"
   ]
  },
  {
   "cell_type": "code",
   "execution_count": 34,
   "metadata": {},
   "outputs": [],
   "source": [
    "new_simulation2 = aimmdd.CommittorSimulation(workdir=workdir,\n",
    "                                             # take only a subset of the original starting configurations\n",
    "                                             starting_configurations=starting_confs[:first_n_starting_configurations_to_take],\n",
    "                                             states=[wrapped_alphaR], # only alpha_R as target state\n",
    "                                             engine_cls=aimmdd.GmxEngine,\n",
    "                                             engine_kwargs=engine_kwargs,\n",
    "                                             engine_run_config=mdp,\n",
    "                                             T=mdp[\"ref-t\"][0],\n",
    "                                             walltime_per_part=0.01,  # run in simulation parts of 36 seconds \n",
    "                                             n_max_concurrent=8,  # start a maximum of 8 md engines engines (*2 if twoway)\n",
    "                                             max_retries_on_crash=5,  # maximum number of retries on crash, e.g. 5 means try at most 6 times\n",
    "                                             # make sure we name the concatenated output trajs differently this time\n",
    "                                             fname_traj_to_state=\"continuation_traj_to_state.trr\",\n",
    "                                             # not needed since we dont do twoway, but for completeness\n",
    "                                             fname_traj_to_state_bw=\"continuation_traj_to_state_bw.trr\",\n",
    "                                             # not really needed, there can be no transitions with only one state anyway\n",
    "                                             fname_transition_traj=\"transition_traj.trr\",\n",
    "                                            )"
   ]
  },
  {
   "cell_type": "code",
   "execution_count": 35,
   "metadata": {
    "tags": []
   },
   "outputs": [
    {
     "name": "stderr",
     "output_type": "stream",
     "text": [
      "/home/think/.conda/envs/aimmd_nature_publish/lib/python3.8/site-packages/MDAnalysis/topology/tpr/utils.py:389: DeprecationWarning: TPR files index residues from 0. From MDAnalysis version 2.0, resids will start at 1 instead. If you wish to keep indexing resids from 0, please set `tpr_resid_from_one=False` as a keyword argument when you create a new Topology or Universe.\n",
      "  warnings.warn(\"TPR files index residues from 0. \"\n"
     ]
    }
   ],
   "source": [
    "# since the concatenated output-trajs have different names we can pass overwrite=False (the default)\n",
    "new_ret = await new_simulation2.reinitialize_from_workdir(overwrite=False)"
   ]
  },
  {
   "cell_type": "code",
   "execution_count": null,
   "metadata": {},
   "outputs": [],
   "source": []
  }
 ],
 "metadata": {
  "kernelspec": {
   "display_name": "AIMMD nature publish (py3.7.3/June-2021)",
   "language": "python",
   "name": "aimmd_nature_publish"
  },
  "language_info": {
   "codemirror_mode": {
    "name": "ipython",
    "version": 3
   },
   "file_extension": ".py",
   "mimetype": "text/x-python",
   "name": "python",
   "nbconvert_exporter": "python",
   "pygments_lexer": "ipython3",
   "version": "3.8.10"
  }
 },
 "nbformat": 4,
 "nbformat_minor": 4
}
