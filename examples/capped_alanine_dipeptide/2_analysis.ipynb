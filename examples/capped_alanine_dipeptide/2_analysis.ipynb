{
 "cells": [
  {
   "cell_type": "markdown",
   "metadata": {},
   "source": [
    "# ANN assisted TPS on capped alanine dipeptide 2\n",
    "In this notebook you will learn\n",
    "- how to perform input importance analyses for models with transformed atomistic coordinates, i.e. how to find which are the important ANN inputs and how to relate them to atomistic coordinates\n",
    "- how to create visualizizations of the transitions colored by gradient\n",
    "\n",
    "This notebook uses files created in `1_setup_and_TPS.ipynb`, please do this notebook first."
   ]
  },
  {
   "cell_type": "code",
   "execution_count": 1,
   "metadata": {},
   "outputs": [],
   "source": [
    "%matplotlib inline"
   ]
  },
  {
   "cell_type": "code",
   "execution_count": 2,
   "metadata": {},
   "outputs": [
    {
     "name": "stderr",
     "output_type": "stream",
     "text": [
      "Using TensorFlow backend.\n"
     ]
    }
   ],
   "source": [
    "import os\n",
    "import arcd\n",
    "import torch\n",
    "import numpy as np\n",
    "import matplotlib.pyplot as plt\n",
    "plt.rcParams['figure.figsize'] = 9, 6  # make the figures a bit bigger\n",
    "import openpathsampling as paths"
   ]
  },
  {
   "cell_type": "code",
   "execution_count": 3,
   "metadata": {},
   "outputs": [],
   "source": [
    "# change to the working directory of choice\n",
    "# same as for the first notebook\n",
    "wdir = '/homeloc/scratch/hejung/arcd_scratch/ala/'\n",
    "wdir = None\n",
    "if wdir is not None:\n",
    "    os.chdir(wdir)"
   ]
  },
  {
   "cell_type": "code",
   "execution_count": 4,
   "metadata": {},
   "outputs": [],
   "source": [
    "storage = paths.Storage('ala_HB_TPS.nc', 'a')"
   ]
  },
  {
   "cell_type": "code",
   "execution_count": 5,
   "metadata": {},
   "outputs": [
    {
     "name": "stdout",
     "output_type": "stream",
     "text": [
      "Working on Monte Carlo cycle number 1001\n",
      "Starting simulation...\n",
      "Working on first step\n"
     ]
    },
    {
     "name": "stderr",
     "output_type": "stream",
     "text": [
      "/opt/conda/envs/arcd_devel/lib/python3.6/site-packages/mdtraj/utils/validation.py:116: TypeCastPerformanceWarning: Casting unitcell_vectors dtype=float64 to <class 'numpy.float32'> \n",
      "  TypeCastPerformanceWarning)\n"
     ]
    },
    {
     "name": "stdout",
     "output_type": "stream",
     "text": [
      "DONE! Completed 1001 Monte Carlo cycles.\n"
     ]
    }
   ],
   "source": [
    "# get the sampler, attach the hook and run for 1 step to repopulate the trainset and load the model\n",
    "sampler = storage.pathsimulators[0]\n",
    "sampler.restart_at_step(storage.steps[-1], storage=storage)\n",
    "\n",
    "trainhook = arcd.ops.TrainingHook(None, None, 100)\n",
    "sampler.attach_hook(trainhook)\n",
    "\n",
    "sampler.run(1)"
   ]
  },
  {
   "cell_type": "code",
   "execution_count": 17,
   "metadata": {},
   "outputs": [],
   "source": [
    "# lets make a movie\n",
    "gmovie = arcd.analysis.GradientMovieMaker(trainhook.model, trainhook.model.descriptor_transform, storage.snapshots[-1].topology.mdtraj)"
   ]
  },
  {
   "cell_type": "code",
   "execution_count": 20,
   "metadata": {},
   "outputs": [],
   "source": [
    "tras = []\n",
    "for step in storage.steps[-50:]:\n",
    "    if step.change.canonical.accepted:\n",
    "        tras.append(step.change.canonical.trials[0].trajectory)"
   ]
  },
  {
   "cell_type": "code",
   "execution_count": 21,
   "metadata": {},
   "outputs": [
    {
     "data": {
      "text/plain": [
       "[35, 36, 48, 88, 39, 55, 39, 74]"
      ]
     },
     "execution_count": 21,
     "metadata": {},
     "output_type": "execute_result"
    }
   ],
   "source": [
    "[len(t) for t in tras]"
   ]
  },
  {
   "cell_type": "code",
   "execution_count": 22,
   "metadata": {},
   "outputs": [],
   "source": [
    "top = storage.snapshots[-1].topology.mdtraj"
   ]
  },
  {
   "cell_type": "code",
   "execution_count": 23,
   "metadata": {},
   "outputs": [],
   "source": [
    "ats = top.select('not resname HOH')"
   ]
  },
  {
   "cell_type": "code",
   "execution_count": 24,
   "metadata": {},
   "outputs": [
    {
     "data": {
      "text/plain": [
       "array([ 0,  1,  2,  3,  4,  5,  6,  7,  8,  9, 10, 11, 12, 13, 14, 15, 16,\n",
       "       17, 18, 19, 20, 21])"
      ]
     },
     "execution_count": 24,
     "metadata": {},
     "output_type": "execute_result"
    }
   ],
   "source": [
    "ats"
   ]
  },
  {
   "cell_type": "code",
   "execution_count": 25,
   "metadata": {},
   "outputs": [],
   "source": [
    "gmovie.color_by_gradient(tras[0], 'ala_movie.pdb', atom_indices=ats)"
   ]
  },
  {
   "cell_type": "markdown",
   "metadata": {},
   "source": [
    "## HIPR analysis\n",
    "We will have a look at the most important inputs and which atoms contribute to them."
   ]
  },
  {
   "cell_type": "code",
   "execution_count": 6,
   "metadata": {},
   "outputs": [],
   "source": [
    "hipr = arcd.analysis.HIPRanalysis(trainhook.model, trainhook.trainset)"
   ]
  },
  {
   "cell_type": "code",
   "execution_count": 7,
   "metadata": {},
   "outputs": [],
   "source": [
    "final_hipr_losses = hipr.do_hipr()"
   ]
  },
  {
   "cell_type": "code",
   "execution_count": 8,
   "metadata": {},
   "outputs": [],
   "source": [
    "# lets load the model after 100 MCsteps to compare\n",
    "from arcd.base.rcmodel import RCModel\n",
    "fname = storage.abspath + '_RCmodel_at_step500.pckl'\n",
    "state, cls = RCModel.load_state(fname, storage)\n",
    "state = cls.fix_state(state)\n",
    "model_at_step100 = cls.set_state(state)"
   ]
  },
  {
   "cell_type": "code",
   "execution_count": 9,
   "metadata": {},
   "outputs": [],
   "source": [
    "# use the complete trainset for HIPR\n",
    "# this includes point the ANN has never trained on but makes it comparable to the previous HIPR\n",
    "hipr_at_step100 = arcd.analysis.HIPRanalysis(model_at_step100, trainhook.trainset)"
   ]
  },
  {
   "cell_type": "code",
   "execution_count": 10,
   "metadata": {},
   "outputs": [],
   "source": [
    "step100_hipr_losses = hipr_at_step100.do_hipr()"
   ]
  },
  {
   "cell_type": "code",
   "execution_count": 11,
   "metadata": {},
   "outputs": [
    {
     "name": "stdout",
     "output_type": "stream",
     "text": [
      "Reference loss:  1.3406338839383274\n",
      "coordinate:  ('sin', [8, 14, 16, 18])\n",
      "with associated loss:  1.375872537496683\n",
      "coordinate:  ('cos', [1, 4, 6, 8])\n",
      "with associated loss:  1.348464947528058\n",
      "coordinate:  ('cos', [4, 6, 8, 14])\n",
      "with associated loss:  1.3468585857501874\n",
      "coordinate:  [16, 18, 20]\n",
      "with associated loss:  1.346688742166037\n",
      "coordinate:  ('cos', [14, 16, 18, 19])\n",
      "with associated loss:  1.3446988924161776\n"
     ]
    },
    {
     "data": {
      "image/png": "[encoded data removed]",
      "text/plain": [
       "<Figure size 648x432 with 1 Axes>"
      ]
     },
     "metadata": {
      "needs_background": "light"
     },
     "output_type": "display_data"
    }
   ],
   "source": [
    "final_loss_diff = final_hipr_losses[:-1] - final_hipr_losses[-1]\n",
    "step100_loss_diff = step100_hipr_losses[:-1] - step100_hipr_losses[-1]\n",
    "\n",
    "plt.bar(np.arange(len(final_loss_diff)), final_loss_diff)\n",
    "plt.xlabel('coordinate index', size=15)\n",
    "plt.ylabel('Loss difference', size=15)\n",
    "\n",
    "# get the associated coordinates for the maximally important input\n",
    "max_idx = np.argsort(final_loss_diff)[::-1]\n",
    "\n",
    "# this bit below only works for IC only\n",
    "# figuring out how to get the info for SF CVs is left as an excersise to the reader :)\n",
    "ic_parms = trainhook.model.descriptor_transform.kwargs['ic_parms']\n",
    "\n",
    "\n",
    "print('Reference loss: ', final_hipr_losses[-1])\n",
    "for idx in max_idx[:5]:\n",
    "    # this little helper function gets you the involved atoms given the input index and the inputparameters to the CV of question\n",
    "    # there is similar functions for the symmetry functions @ arcd.coords.symmetry.get_involved\n",
    "    print('coordinate: ', arcd.coords.internal.get_involved(idx, **ic_parms))\n",
    "    print('with associated loss: ', final_hipr_losses[idx])"
   ]
  },
  {
   "cell_type": "code",
   "execution_count": 12,
   "metadata": {},
   "outputs": [
    {
     "name": "stdout",
     "output_type": "stream",
     "text": [
      "Reference loss:  1.2802072195382743\n",
      "coordinate:  ('sin', [6, 8, 10, 11])\n",
      "with associated loss:  1.3020052548769592\n",
      "coordinate:  ('sin', [8, 14, 16, 18])\n",
      "with associated loss:  1.2961673458377558\n",
      "coordinate:  ('cos', [14, 16, 18, 19])\n",
      "with associated loss:  1.2891206541261473\n",
      "coordinate:  ('sin', [1, 4, 6, 8])\n",
      "with associated loss:  1.289047344867047\n",
      "coordinate:  ('cos', [1, 4, 6, 8])\n",
      "with associated loss:  1.2854773827246972\n"
     ]
    },
    {
     "data": {
      "image/png": "[encoded data removed]",
      "text/plain": [
       "<Figure size 648x432 with 1 Axes>"
      ]
     },
     "metadata": {
      "needs_background": "light"
     },
     "output_type": "display_data"
    }
   ],
   "source": [
    "plt.bar(np.arange(len(step100_loss_diff)), step100_loss_diff, label='after step 100')\n",
    "plt.xlabel('coordinate index', size=15)\n",
    "plt.ylabel('Loss difference', size=15)\n",
    "\n",
    "max_idx = np.argsort(step100_loss_diff)[::-1]\n",
    "print('Reference loss: ', step100_hipr_losses[-1])\n",
    "for idx in max_idx[:5]:\n",
    "    print('coordinate: ', arcd.coords.internal.get_involved(idx, **ic_parms))\n",
    "    print('with associated loss: ', step100_hipr_losses[idx])"
   ]
  },
  {
   "cell_type": "code",
   "execution_count": 13,
   "metadata": {},
   "outputs": [
    {
     "data": {
      "text/plain": [
       "1.3406338839383274"
      ]
     },
     "execution_count": 13,
     "metadata": {},
     "output_type": "execute_result"
    }
   ],
   "source": [
    "trainhook.model.test_loss(trainhook.trainset)"
   ]
  },
  {
   "cell_type": "code",
   "execution_count": 14,
   "metadata": {},
   "outputs": [
    {
     "data": {
      "text/plain": [
       "-0.20001113388564562"
      ]
     },
     "execution_count": 14,
     "metadata": {},
     "output_type": "execute_result"
    }
   ],
   "source": [
    "final_loss_diff[48]"
   ]
  },
  {
   "cell_type": "code",
   "execution_count": 15,
   "metadata": {},
   "outputs": [
    {
     "data": {
      "text/plain": [
       "('cos', [6, 8, 14, 15])"
      ]
     },
     "execution_count": 15,
     "metadata": {},
     "output_type": "execute_result"
    }
   ],
   "source": [
    "arcd.coords.internal.get_involved(48, **ic_parms)"
   ]
  },
  {
   "cell_type": "code",
   "execution_count": 16,
   "metadata": {},
   "outputs": [
    {
     "data": {
      "text/plain": [
       "(array([ 24.,  28.,  52.,  54.,  90., 189., 202., 170., 134.,  58.]),\n",
       " array([0.12758747, 0.21437331, 0.30115914, 0.38794498, 0.47473082,\n",
       "        0.56151666, 0.6483025 , 0.73508833, 0.82187417, 0.90866001,\n",
       "        0.99544585]),\n",
       " <a list of 10 Patch objects>)"
      ]
     },
     "execution_count": 16,
     "metadata": {},
     "output_type": "execute_result"
    },
    {
     "data": {
      "image/png": "[encoded data removed]",
      "text/plain": [
       "<Figure size 648x432 with 1 Axes>"
      ]
     },
     "metadata": {
      "needs_background": "light"
     },
     "output_type": "display_data"
    }
   ],
   "source": [
    "plt.hist(trainhook.trainset.descriptors[:, 48])"
   ]
  },
  {
   "cell_type": "markdown",
   "metadata": {},
   "source": [
    "## Now we know that the dihedral between atoms 14, 16, 18 and 19 seems to be quite important....so what are these atoms?"
   ]
  },
  {
   "cell_type": "code",
   "execution_count": 23,
   "metadata": {},
   "outputs": [],
   "source": [
    "# lets get a snapshot from trajectory, such that we can ask its topology object for the atom names\n",
    "snap = storage.snapshots[-1]\n",
    "topol = snap.topology.mdtraj"
   ]
  },
  {
   "cell_type": "code",
   "execution_count": 24,
   "metadata": {},
   "outputs": [
    {
     "name": "stdout",
     "output_type": "stream",
     "text": [
      "atom:  ACE1-C  with index:  4\n",
      "atom:  ALA2-N  with index:  6\n",
      "atom:  ALA2-CA  with index:  8\n",
      "atom:  ALA2-C  with index:  14\n",
      "atom:  NME3-N  with index:  16\n",
      "atom:  NME3-C  with index:  18\n",
      "atom:  NME3-H1  with index:  19\n"
     ]
    }
   ],
   "source": [
    "for at in [4, 6, 8, 14, 16, 18, 19]:\n",
    "    print('atom: ', topol.atom(at), ' with index: ', at)"
   ]
  },
  {
   "cell_type": "code",
   "execution_count": 17,
   "metadata": {},
   "outputs": [
    {
     "data": {
      "text/plain": [
       "0.6966980620697661"
      ]
     },
     "execution_count": 17,
     "metadata": {},
     "output_type": "execute_result"
    }
   ],
   "source": [
    "model_at_step100.test_loss(trainhook.trainset)"
   ]
  },
  {
   "cell_type": "code",
   "execution_count": 18,
   "metadata": {},
   "outputs": [
    {
     "data": {
      "text/plain": [
       "1.3725112625411697"
      ]
     },
     "execution_count": 18,
     "metadata": {},
     "output_type": "execute_result"
    }
   ],
   "source": [
    "trainhook.model.test_loss(trainhook.trainset)"
   ]
  },
  {
   "cell_type": "code",
   "execution_count": 16,
   "metadata": {},
   "outputs": [
    {
     "data": {
      "text/plain": [
       "array([[1.09000117e-01, 1.54878810e-01, 1.08999938e-01, ...,\n",
       "        4.91410494e-04, 2.35554904e-01, 7.56548643e-02],\n",
       "       [1.08999930e-01, 1.52039677e-01, 1.08999878e-01, ...,\n",
       "        5.24520874e-06, 8.12097907e-01, 8.90634000e-01],\n",
       "       [1.09000124e-01, 1.49299413e-01, 1.09000020e-01, ...,\n",
       "        1.92236602e-02, 6.53135598e-01, 2.40278542e-02],\n",
       "       ...,\n",
       "       [1.08999893e-01, 1.50930539e-01, 1.09000519e-01, ...,\n",
       "        9.95385647e-03, 2.74688005e-04, 5.16571343e-01],\n",
       "       [1.09000050e-01, 1.52551562e-01, 1.08999990e-01, ...,\n",
       "        2.64850557e-02, 4.91738319e-04, 4.77830261e-01],\n",
       "       [1.09000027e-01, 1.48676485e-01, 1.09000415e-01, ...,\n",
       "        2.66651511e-02, 9.90160167e-01, 4.01293337e-01]])"
      ]
     },
     "execution_count": 16,
     "metadata": {},
     "output_type": "execute_result"
    }
   ],
   "source": [
    "trainhook.trainset.descriptors.copy()"
   ]
  },
  {
   "cell_type": "code",
   "execution_count": null,
   "metadata": {},
   "outputs": [],
   "source": []
  }
 ],
 "metadata": {
  "kernelspec": {
   "display_name": "ARCD devel (py3)",
   "language": "python",
   "name": "arcd_devel"
  },
  "language_info": {
   "codemirror_mode": {
    "name": "ipython",
    "version": 3
   },
   "file_extension": ".py",
   "mimetype": "text/x-python",
   "name": "python",
   "nbconvert_exporter": "python",
   "pygments_lexer": "ipython3",
   "version": "3.6.7"
  }
 },
 "nbformat": 4,
 "nbformat_minor": 2
}
