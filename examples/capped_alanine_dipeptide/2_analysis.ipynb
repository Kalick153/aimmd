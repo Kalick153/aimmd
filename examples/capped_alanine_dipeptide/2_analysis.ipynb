{
 "cells": [
  {
   "cell_type": "markdown",
   "metadata": {},
   "source": [
    "# ANN assisted TPS on capped alanine dipeptide 2\n",
    "In this notebook you will learn\n",
    "- how to perform input importance analyses for models with transformed atomistic coordinates, i.e. how to find which are the important ANN inputs and how to relate them to atomistic coordinates\n",
    "- how to create visualizizations of the transitions colored by gradient\n",
    "\n",
    "This notebook uses files created in `1_setup_and_TPS.ipynb`, please do this notebook first."
   ]
  },
  {
   "cell_type": "code",
   "execution_count": 1,
   "metadata": {},
   "outputs": [],
   "source": [
    "%matplotlib inline"
   ]
  },
  {
   "cell_type": "code",
   "execution_count": 2,
   "metadata": {},
   "outputs": [
    {
     "name": "stderr",
     "output_type": "stream",
     "text": [
      "Using TensorFlow backend.\n"
     ]
    }
   ],
   "source": [
    "import os\n",
    "import arcd\n",
    "import torch\n",
    "import numpy as np\n",
    "import matplotlib.pyplot as plt\n",
    "plt.rcParams['figure.figsize'] = 9, 6  # make the figures a bit bigger\n",
    "import openpathsampling as paths"
   ]
  },
  {
   "cell_type": "code",
   "execution_count": 3,
   "metadata": {},
   "outputs": [],
   "source": [
    "# change to the working directory of choice\n",
    "# same as for the first notebook\n",
    "wdir = '/homeloc/scratch/hejung/arcd_scratch/ala/'\n",
    "#wdir = None\n",
    "if wdir is not None:\n",
    "    os.chdir(wdir)"
   ]
  },
  {
   "cell_type": "code",
   "execution_count": 4,
   "metadata": {},
   "outputs": [],
   "source": [
    "storage = paths.Storage('ala_HB_TPS.nc', 'a')"
   ]
  },
  {
   "cell_type": "code",
   "execution_count": 5,
   "metadata": {},
   "outputs": [
    {
     "name": "stdout",
     "output_type": "stream",
     "text": [
      "Working on Monte Carlo cycle number 1001\n",
      "Starting simulation...\n",
      "Working on first step\n"
     ]
    },
    {
     "name": "stderr",
     "output_type": "stream",
     "text": [
      "/homeloc/scratch/hejung/conda-envs/arcd/lib/python3.6/site-packages/mdtraj/utils/validation.py:116: TypeCastPerformanceWarning: Casting unitcell_vectors dtype=float64 to <class 'numpy.float32'> \n",
      "  TypeCastPerformanceWarning)\n"
     ]
    },
    {
     "name": "stdout",
     "output_type": "stream",
     "text": [
      "DONE! Completed 1001 Monte Carlo cycles.\n"
     ]
    }
   ],
   "source": [
    "# get the sampler, attach the hook and run for 1 step to repopulate the trainset and load the model\n",
    "sampler = storage.pathsimulators[0]\n",
    "sampler.restart_at_step(storage.steps[-1], storage=storage)\n",
    "\n",
    "trainhook = arcd.ops.TrainingHook(None, None, 100)\n",
    "sampler.attach_hook(trainhook)\n",
    "\n",
    "sampler.run(1)"
   ]
  },
  {
   "cell_type": "markdown",
   "metadata": {},
   "source": [
    "## HIPR analysis\n",
    "We will have a look at the most important inputs and which atoms contribute to them."
   ]
  },
  {
   "cell_type": "code",
   "execution_count": 30,
   "metadata": {},
   "outputs": [],
   "source": [
    "hipr = arcd.analysis.HIPRanalysis(trainhook.model, trainhook.trainset)"
   ]
  },
  {
   "cell_type": "code",
   "execution_count": 63,
   "metadata": {},
   "outputs": [],
   "source": [
    "final_hipr_losses = hipr.do_hipr(5)"
   ]
  },
  {
   "cell_type": "code",
   "execution_count": 47,
   "metadata": {},
   "outputs": [],
   "source": [
    "# lets load the model after 100 MCsteps to compare\n",
    "from arcd.base.rcmodel import RCModel\n",
    "fname = storage.abspath + '_RCmodel_at_step100.pckl'\n",
    "state, cls = RCModel.load_state(fname, storage)\n",
    "state = cls.fix_state(state)\n",
    "model_at_step100 = cls.set_state(state)"
   ]
  },
  {
   "cell_type": "code",
   "execution_count": 48,
   "metadata": {},
   "outputs": [],
   "source": [
    "# use the complete trainset for HIPR\n",
    "# this includes point the ANN has never trained on but makes it comparable to the previous HIPR\n",
    "hipr_at_step100 = arcd.analysis.HIPRanalysis(model_at_step100, trainhook.trainset)"
   ]
  },
  {
   "cell_type": "code",
   "execution_count": 64,
   "metadata": {},
   "outputs": [],
   "source": [
    "step100_hipr_losses = hipr_at_step100.do_hipr(5)"
   ]
  },
  {
   "cell_type": "code",
   "execution_count": 69,
   "metadata": {},
   "outputs": [
    {
     "name": "stdout",
     "output_type": "stream",
     "text": [
      "Reference loss:  1.2892837524414062\n",
      "coordinate:  ('sin', [8, 14, 16, 18])\n",
      "with associated loss:  1.3013421865609975\n",
      "coordinate:  ('cos', [1, 4, 6, 8])\n",
      "with associated loss:  1.2908536135495365\n",
      "coordinate:  ('cos', [4, 6, 8, 14])\n",
      "with associated loss:  1.2906466473589888\n",
      "coordinate:  [0, 1, 4]\n",
      "with associated loss:  1.29054905513188\n",
      "coordinate:  [16, 18, 20]\n",
      "with associated loss:  1.2903741750802908\n"
     ]
    },
    {
     "data": {
      "image/png": "[encoded data removed]",
      "text/plain": [
       "<Figure size 648x432 with 1 Axes>"
      ]
     },
     "metadata": {
      "needs_background": "light"
     },
     "output_type": "display_data"
    }
   ],
   "source": [
    "final_loss_diff = final_hipr_losses[:-1] - final_hipr_losses[-1]\n",
    "step100_loss_diff = step100_hipr_losses[:-1] - step100_hipr_losses[-1]\n",
    "\n",
    "plt.bar(np.arange(len(final_loss_diff)), final_loss_diff)\n",
    "plt.xlabel('coordinate index', size=15)\n",
    "plt.ylabel('Loss difference', size=15)\n",
    "\n",
    "# get the associated coordinates for the maximaly important input\n",
    "max_idx = np.argsort(final_loss_diff)[::-1]\n",
    "\n",
    "# this bit below only works for IC only\n",
    "# figuring out how to get the info for SF CVs is left as an excersise to the reader :)\n",
    "ic_parms = trainhook.model.descriptor_transform.kwargs['ic_parms']\n",
    "\n",
    "\n",
    "print('Reference loss: ', final_hipr_losses[-1])\n",
    "for idx in max_idx[:5]:\n",
    "    # this little helper function gets you the involved atoms given the input index and the inputparameters to the CV of question\n",
    "    # there is similar functions for the symmetry functions @ arcd.coords.symmetry.get_involved\n",
    "    print('coordinate: ', arcd.coords.internal.get_involved(idx, **ic_parms))\n",
    "    print('with associated loss: ', final_hipr_losses[idx])"
   ]
  },
  {
   "cell_type": "code",
   "execution_count": 70,
   "metadata": {},
   "outputs": [
    {
     "name": "stdout",
     "output_type": "stream",
     "text": [
      "Reference loss:  0.6980597679907983\n",
      "coordinate:  ('sin', [14, 16, 18, 19])\n",
      "with associated loss:  0.6982101486160325\n",
      "coordinate:  ('cos', [14, 16, 18, 19])\n",
      "with associated loss:  0.698183066933067\n",
      "coordinate:  ('cos', [0, 1, 4, 5])\n",
      "with associated loss:  0.6981611284223589\n",
      "coordinate:  ('sin', [8, 14, 16, 18])\n",
      "with associated loss:  0.6981297312916576\n",
      "coordinate:  ('sin', [0, 1, 4, 5])\n",
      "with associated loss:  0.6981232466873946\n"
     ]
    },
    {
     "data": {
      "image/png": "[encoded data removed]",
      "text/plain": [
       "<Figure size 648x432 with 1 Axes>"
      ]
     },
     "metadata": {
      "needs_background": "light"
     },
     "output_type": "display_data"
    }
   ],
   "source": [
    "plt.bar(np.arange(len(step100_loss_diff)), step100_loss_diff, label='after step 100')\n",
    "plt.xlabel('coordinate index', size=15)\n",
    "plt.ylabel('Loss difference', size=15)\n",
    "\n",
    "max_idx = np.argsort(step100_loss_diff)[::-1]\n",
    "print('Reference loss: ', step100_hipr_losses[-1])\n",
    "for idx in max_idx[:5]:\n",
    "    print('coordinate: ', arcd.coords.internal.get_involved(idx, **ic_parms))\n",
    "    print('with associated loss: ', step100_hipr_losses[idx])"
   ]
  },
  {
   "cell_type": "markdown",
   "metadata": {},
   "source": [
    "## Now we know that the dihedral between atoms 14, 16, 18 and 19 seems to be quite important....so what are these atoms?"
   ]
  },
  {
   "cell_type": "code",
   "execution_count": 54,
   "metadata": {},
   "outputs": [],
   "source": [
    "# lets get a snapshot from trajectory, such that we can ask its topology object for the atom names\n",
    "snap = storage.snapshots[-1]\n",
    "topol = snap.topology.mdtraj"
   ]
  },
  {
   "cell_type": "code",
   "execution_count": 68,
   "metadata": {},
   "outputs": [
    {
     "name": "stdout",
     "output_type": "stream",
     "text": [
      "atom:  ALA2-N  with index:  6\n",
      "atom:  ALA2-CA  with index:  8\n",
      "atom:  ALA2-C  with index:  14\n",
      "atom:  NME3-N  with index:  16\n",
      "atom:  NME3-C  with index:  18\n",
      "atom:  NME3-H1  with index:  19\n"
     ]
    }
   ],
   "source": [
    "for at in [6, 8, 14, 16, 18, 19]:\n",
    "    print('atom: ', topol.atom(at), ' with index: ', at)"
   ]
  },
  {
   "cell_type": "code",
   "execution_count": 57,
   "metadata": {},
   "outputs": [
    {
     "data": {
      "text/plain": [
       "0.6980597679907983"
      ]
     },
     "execution_count": 57,
     "metadata": {},
     "output_type": "execute_result"
    }
   ],
   "source": [
    "model_at_step100.test_loss(trainhook.trainset)"
   ]
  },
  {
   "cell_type": "code",
   "execution_count": null,
   "metadata": {},
   "outputs": [],
   "source": []
  }
 ],
 "metadata": {
  "kernelspec": {
   "display_name": "ARCD",
   "language": "python",
   "name": "arcd"
  },
  "language_info": {
   "codemirror_mode": {
    "name": "ipython",
    "version": 3
   },
   "file_extension": ".py",
   "mimetype": "text/x-python",
   "name": "python",
   "nbconvert_exporter": "python",
   "pygments_lexer": "ipython3",
   "version": "3.6.8"
  }
 },
 "nbformat": 4,
 "nbformat_minor": 2
}
