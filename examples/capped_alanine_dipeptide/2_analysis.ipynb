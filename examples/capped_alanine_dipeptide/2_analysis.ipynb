{
 "cells": [
  {
   "cell_type": "markdown",
   "metadata": {},
   "source": [
    "# ANN assisted TPS on capped alanine dipeptide 2\n",
    "In this notebook you will learn\n",
    "- how to perform input importance analyses for models with transformed atomistic coordinates, i.e. how to find which are the important ANN inputs and how to relate them to atomistic coordinates\n",
    "- how to create visualizizations of the transitions colored by gradient\n",
    "\n",
    "This notebook uses files created in `1_setup_and_TPS.ipynb`, please do this notebook first."
   ]
  },
  {
   "cell_type": "code",
   "execution_count": 1,
   "metadata": {},
   "outputs": [],
   "source": [
    "%matplotlib inline"
   ]
  },
  {
   "cell_type": "code",
   "execution_count": 2,
   "metadata": {},
   "outputs": [
    {
     "name": "stderr",
     "output_type": "stream",
     "text": [
      "Using TensorFlow backend.\n"
     ]
    }
   ],
   "source": [
    "import os\n",
    "import arcd\n",
    "import torch\n",
    "import numpy as np\n",
    "import matplotlib.pyplot as plt\n",
    "plt.rcParams['figure.figsize'] = 9, 6  # make the figures a bit bigger\n",
    "import openpathsampling as paths"
   ]
  },
  {
   "cell_type": "code",
   "execution_count": 3,
   "metadata": {},
   "outputs": [],
   "source": [
    "# change to the working directory of choice\n",
    "# same as for the first notebook\n",
    "wdir = '/homeloc/scratch/hejung/arcd_scratch/ala/'\n",
    "#wdir = None\n",
    "if wdir is not None:\n",
    "    os.chdir(wdir)"
   ]
  },
  {
   "cell_type": "code",
   "execution_count": 4,
   "metadata": {},
   "outputs": [],
   "source": [
    "storage = paths.Storage('ala_HB_TPS.nc', 'a')"
   ]
  },
  {
   "cell_type": "code",
   "execution_count": 5,
   "metadata": {},
   "outputs": [
    {
     "name": "stdout",
     "output_type": "stream",
     "text": [
      "Working on Monte Carlo cycle number 2007\n",
      "Starting simulation...\n",
      "Working on first step\n"
     ]
    },
    {
     "name": "stderr",
     "output_type": "stream",
     "text": [
      "/homeloc/scratch/hejung/conda-envs/arcd_devel/lib/python3.6/site-packages/mdtraj/utils/validation.py:116: TypeCastPerformanceWarning: Casting unitcell_vectors dtype=float64 to <class 'numpy.float32'> \n",
      "  TypeCastPerformanceWarning)\n"
     ]
    },
    {
     "name": "stdout",
     "output_type": "stream",
     "text": [
      "DONE! Completed 2007 Monte Carlo cycles.\n"
     ]
    }
   ],
   "source": [
    "# get the sampler, attach the hook and run for 1 step to repopulate the trainset and load the model\n",
    "sampler = storage.pathsimulators[0]\n",
    "sampler.restart_at_step(storage.steps[-1], storage=storage)\n",
    "\n",
    "trainhook = arcd.ops.TrainingHook(None, None, 100)\n",
    "sampler.attach_hook(trainhook)\n",
    "\n",
    "sampler.run(1)"
   ]
  },
  {
   "cell_type": "code",
   "execution_count": 6,
   "metadata": {},
   "outputs": [],
   "source": [
    "# lets make a movie\n",
    "gmovie = arcd.analysis.GradientMovieMaker(trainhook.model, trainhook.model.descriptor_transform, storage.snapshots[-1].topology.mdtraj)"
   ]
  },
  {
   "cell_type": "code",
   "execution_count": 7,
   "metadata": {},
   "outputs": [],
   "source": [
    "tras = []\n",
    "for step in storage.steps[-50:]:\n",
    "    if step.change.canonical.accepted:\n",
    "        tras.append(step.change.canonical.trials[0].trajectory)"
   ]
  },
  {
   "cell_type": "code",
   "execution_count": 8,
   "metadata": {},
   "outputs": [
    {
     "data": {
      "text/plain": [
       "[36, 61, 45, 41, 35, 26, 153, 59, 47, 48, 38]"
      ]
     },
     "execution_count": 8,
     "metadata": {},
     "output_type": "execute_result"
    }
   ],
   "source": [
    "[len(t) for t in tras]"
   ]
  },
  {
   "cell_type": "code",
   "execution_count": 6,
   "metadata": {},
   "outputs": [],
   "source": [
    "top = storage.snapshots[-1].topology.mdtraj"
   ]
  },
  {
   "cell_type": "code",
   "execution_count": 7,
   "metadata": {},
   "outputs": [],
   "source": [
    "ats = top.select('not resname HOH')"
   ]
  },
  {
   "cell_type": "code",
   "execution_count": 8,
   "metadata": {},
   "outputs": [
    {
     "data": {
      "text/plain": [
       "array([ 0,  1,  2,  3,  4,  5,  6,  7,  8,  9, 10, 11, 12, 13, 14, 15, 16,\n",
       "       17, 18, 19, 20, 21])"
      ]
     },
     "execution_count": 8,
     "metadata": {},
     "output_type": "execute_result"
    }
   ],
   "source": [
    "ats"
   ]
  },
  {
   "cell_type": "code",
   "execution_count": 12,
   "metadata": {},
   "outputs": [],
   "source": [
    "gmovie.color_by_gradient(tras[0], 'ala_movie_0.pdb', atom_indices=ats)"
   ]
  },
  {
   "cell_type": "code",
   "execution_count": 13,
   "metadata": {},
   "outputs": [],
   "source": [
    "gmovie.color_by_gradient(tras[1], 'ala_movie_1.pdb', atom_indices=ats)"
   ]
  },
  {
   "cell_type": "code",
   "execution_count": 14,
   "metadata": {},
   "outputs": [],
   "source": [
    "gmovie.color_by_gradient(tras[2], 'ala_movie_2.pdb', atom_indices=ats)"
   ]
  },
  {
   "cell_type": "markdown",
   "metadata": {},
   "source": [
    "## HIPR analysis\n",
    "We will have a look at the most important inputs and which atoms contribute to them."
   ]
  },
  {
   "cell_type": "code",
   "execution_count": 6,
   "metadata": {},
   "outputs": [],
   "source": [
    "hipr = arcd.analysis.HIPRanalysis(trainhook.model, trainhook.trainset)"
   ]
  },
  {
   "cell_type": "code",
   "execution_count": 7,
   "metadata": {},
   "outputs": [],
   "source": [
    "final_hipr_losses = hipr.do_hipr()"
   ]
  },
  {
   "cell_type": "code",
   "execution_count": 8,
   "metadata": {},
   "outputs": [],
   "source": [
    "final_hipr_losses_plus = hipr.do_hipr_plus()"
   ]
  },
  {
   "cell_type": "code",
   "execution_count": 9,
   "metadata": {},
   "outputs": [],
   "source": [
    "# lets load the model after 100 MCsteps to compare\n",
    "from arcd.base.rcmodel import RCModel\n",
    "fname = storage.abspath + '_RCmodel_at_step500.pckl'\n",
    "state, cls = RCModel.load_state(fname, storage)\n",
    "state = cls.fix_state(state)\n",
    "model_at_step500 = cls.set_state(state)"
   ]
  },
  {
   "cell_type": "code",
   "execution_count": 10,
   "metadata": {},
   "outputs": [],
   "source": [
    "# use the complete trainset for HIPR\n",
    "# this includes point the ANN has never trained on but makes it comparable to the previous HIPR\n",
    "hipr_at_step500 = arcd.analysis.HIPRanalysis(model_at_step500, trainhook.trainset)"
   ]
  },
  {
   "cell_type": "code",
   "execution_count": 11,
   "metadata": {},
   "outputs": [],
   "source": [
    "step500_hipr_losses = hipr_at_step500.do_hipr()\n",
    "step500_hipr_losses_plus = hipr_at_step500.do_hipr_plus()"
   ]
  },
  {
   "cell_type": "code",
   "execution_count": 12,
   "metadata": {},
   "outputs": [
    {
     "name": "stdout",
     "output_type": "stream",
     "text": [
      "Reference loss:  0.5638905227273391\n",
      "coordinate:  ('cos', [6, 8, 14, 15])\n",
      "with associated loss:  1.0205567744340123\n",
      "coordinate:  ('sin', [6, 8, 14, 15])\n",
      "with associated loss:  0.5984331128130401\n",
      "coordinate:  ('sin', [4, 6, 8, 14])\n",
      "with associated loss:  0.5904118315996552\n",
      "coordinate:  ('cos', [4, 6, 8, 14])\n",
      "with associated loss:  0.5864698895662058\n",
      "coordinate:  ('sin', [8, 14, 16, 18])\n",
      "with associated loss:  0.574416325468891\n"
     ]
    },
    {
     "data": {
      "image/png": "[encoded data removed]",
      "text/plain": [
       "<Figure size 648x432 with 1 Axes>"
      ]
     },
     "metadata": {
      "needs_background": "light"
     },
     "output_type": "display_data"
    }
   ],
   "source": [
    "final_loss_diff = final_hipr_losses[:-1] - final_hipr_losses[-1]\n",
    "step500_loss_diff = step500_hipr_losses[:-1] - step500_hipr_losses[-1]\n",
    "\n",
    "plt.bar(np.arange(len(final_loss_diff)), final_loss_diff)\n",
    "plt.xlabel('coordinate index', size=15)\n",
    "plt.ylabel('Loss difference', size=15)\n",
    "\n",
    "# get the associated coordinates for the maximally important input\n",
    "max_idx = np.argsort(final_loss_diff)[::-1]\n",
    "\n",
    "# this bit below only works for IC only\n",
    "# figuring out how to get the info for SF CVs is left as an excersise to the reader :)\n",
    "ic_parms = trainhook.model.descriptor_transform.kwargs['ic_parms']\n",
    "\n",
    "\n",
    "print('Reference loss: ', final_hipr_losses[-1])\n",
    "for idx in max_idx[:5]:\n",
    "    # this little helper function gets you the involved atoms given the input index and the inputparameters to the CV of question\n",
    "    # there is similar functions for the symmetry functions @ arcd.coords.symmetry.get_involved\n",
    "    print('coordinate: ', arcd.coords.internal.get_involved(idx, **ic_parms))\n",
    "    print('with associated loss: ', final_hipr_losses[idx])"
   ]
  },
  {
   "cell_type": "code",
   "execution_count": 13,
   "metadata": {},
   "outputs": [
    {
     "name": "stdout",
     "output_type": "stream",
     "text": [
      "Reference loss:  0.5876408963281834\n",
      "coordinate:  ('cos', [6, 8, 14, 15])\n",
      "with associated loss:  1.0147225357610667\n",
      "coordinate:  ('sin', [6, 8, 14, 15])\n",
      "with associated loss:  0.6342399102986958\n",
      "coordinate:  ('sin', [6, 8, 10, 11])\n",
      "with associated loss:  0.6060178668331494\n",
      "coordinate:  ('cos', [4, 6, 8, 14])\n",
      "with associated loss:  0.596841340951202\n",
      "coordinate:  ('cos', [1, 4, 6, 8])\n",
      "with associated loss:  0.5954117402902099\n"
     ]
    },
    {
     "data": {
      "image/png": "[encoded data removed]",
      "text/plain": [
       "<Figure size 648x432 with 1 Axes>"
      ]
     },
     "metadata": {
      "needs_background": "light"
     },
     "output_type": "display_data"
    }
   ],
   "source": [
    "plt.bar(np.arange(len(step500_loss_diff)), step500_loss_diff, label='after step 100')\n",
    "plt.xlabel('coordinate index', size=15)\n",
    "plt.ylabel('Loss difference', size=15)\n",
    "\n",
    "max_idx = np.argsort(step500_loss_diff)[::-1]\n",
    "print('Reference loss: ', step500_hipr_losses[-1])\n",
    "for idx in max_idx[:5]:\n",
    "    print('coordinate: ', arcd.coords.internal.get_involved(idx, **ic_parms))\n",
    "    print('with associated loss: ', step500_hipr_losses[idx])"
   ]
  },
  {
   "cell_type": "code",
   "execution_count": 14,
   "metadata": {},
   "outputs": [
    {
     "name": "stdout",
     "output_type": "stream",
     "text": [
      "Reference loss:  0.5638905227273391\n",
      "coordinate:  ('cos', [6, 8, 14, 15])\n",
      "with associated loss:  0.8265167639275719\n",
      "coordinate:  ('cos', [4, 6, 8, 14])\n",
      "with associated loss:  0.576613198410057\n",
      "coordinate:  ('sin', [4, 6, 8, 14])\n",
      "with associated loss:  0.5737103217504602\n",
      "coordinate:  ('sin', [6, 8, 14, 15])\n",
      "with associated loss:  0.5692256659492071\n",
      "coordinate:  ('sin', [8, 14, 16, 18])\n",
      "with associated loss:  0.5682447367897661\n"
     ]
    },
    {
     "data": {
      "image/png": "[encoded data removed]",
      "text/plain": [
       "<Figure size 648x432 with 1 Axes>"
      ]
     },
     "metadata": {
      "needs_background": "light"
     },
     "output_type": "display_data"
    }
   ],
   "source": [
    "final_loss_diff_plus = final_hipr_losses_plus[:-1] - final_hipr_losses_plus[-1]\n",
    "step500_loss_diff_plus = step500_hipr_losses_plus[:-1] - step500_hipr_losses_plus[-1]\n",
    "\n",
    "plt.bar(np.arange(len(final_loss_diff_plus)), final_loss_diff_plus)\n",
    "plt.xlabel('coordinate index', size=15)\n",
    "plt.ylabel('Loss difference', size=15)\n",
    "\n",
    "# get the associated coordinates for the maximally important input\n",
    "max_idx = np.argsort(final_loss_diff_plus)[::-1]\n",
    "\n",
    "# this bit below only works for IC only\n",
    "# figuring out how to get the info for SF CVs is left as an excersise to the reader :)\n",
    "ic_parms = trainhook.model.descriptor_transform.kwargs['ic_parms']\n",
    "\n",
    "\n",
    "print('Reference loss: ', final_hipr_losses_plus[-1])\n",
    "for idx in max_idx[:5]:\n",
    "    # this little helper function gets you the involved atoms given the input index and the inputparameters to the CV of question\n",
    "    # there is similar functions for the symmetry functions @ arcd.coords.symmetry.get_involved\n",
    "    print('coordinate: ', arcd.coords.internal.get_involved(idx, **ic_parms))\n",
    "    print('with associated loss: ', final_hipr_losses_plus[idx])"
   ]
  },
  {
   "cell_type": "code",
   "execution_count": 15,
   "metadata": {},
   "outputs": [],
   "source": [
    "trainset = trainhook.trainset\n",
    "model = trainhook.model\n",
    "n_redraw = 1"
   ]
  },
  {
   "cell_type": "code",
   "execution_count": 16,
   "metadata": {},
   "outputs": [],
   "source": [
    "from arcd.base.trainset import TrainSet"
   ]
  },
  {
   "cell_type": "code",
   "execution_count": 17,
   "metadata": {},
   "outputs": [],
   "source": [
    "# last entry is for true loss\n",
    "hipr_losses = np.zeros((trainset.descriptors.shape[1] + 1,))\n",
    "maxes = np.max(trainset.descriptors, axis=0)\n",
    "mins = np.min(trainset.descriptors, axis=0)\n",
    "for _ in range(n_redraw):\n",
    "            for i in [48]:\n",
    "                descriptors = trainset.descriptors.copy()\n",
    "                descriptors[:, i] = ((maxes[i] - mins[i])\n",
    "                                     * np.random.ranf(size=len(trainset))\n",
    "                                     + mins[i]\n",
    "                                     )\n",
    "                ts = TrainSet(\n",
    "                       trainset.states,\n",
    "                       descriptor_transform=trainset.descriptor_transform,\n",
    "                       descriptors=descriptors,\n",
    "                       shot_results=trainset.shot_results\n",
    "                              )\n",
    "                hipr_losses[i] += model.test_loss(ts)\n",
    "# take the mean\n",
    "hipr_losses /= n_redraw\n",
    "# and add reference loss\n",
    "hipr_losses[-1] = model.test_loss(trainset)\n"
   ]
  },
  {
   "cell_type": "code",
   "execution_count": 18,
   "metadata": {},
   "outputs": [],
   "source": [
    "p_true = model(trainset.descriptors, use_transform=False)\n",
    "p_false = model(ts.descriptors, use_transform=False)"
   ]
  },
  {
   "cell_type": "code",
   "execution_count": 19,
   "metadata": {},
   "outputs": [
    {
     "data": {
      "text/plain": [
       "(array([127., 153., 198., 251., 288., 241., 222., 184., 173., 169.]),\n",
       " array([0.03336942, 0.12624075, 0.21911207, 0.31198338, 0.4048547 ,\n",
       "        0.49772602, 0.59059733, 0.68346864, 0.77634   , 0.8692113 ,\n",
       "        0.9620826 ], dtype=float32),\n",
       " <a list of 10 Patch objects>)"
      ]
     },
     "execution_count": 19,
     "metadata": {},
     "output_type": "execute_result"
    },
    {
     "data": {
      "image/png": "[encoded data removed]",
      "text/plain": [
       "<Figure size 648x432 with 1 Axes>"
      ]
     },
     "metadata": {
      "needs_background": "light"
     },
     "output_type": "display_data"
    }
   ],
   "source": [
    "plt.hist(p_true)"
   ]
  },
  {
   "cell_type": "code",
   "execution_count": 20,
   "metadata": {},
   "outputs": [
    {
     "data": {
      "text/plain": [
       "(array([178., 205., 146., 113., 116., 112., 118., 163., 273., 582.]),\n",
       " array([0.04085939, 0.13519114, 0.22952288, 0.32385463, 0.4181864 ,\n",
       "        0.5125181 , 0.6068499 , 0.70118165, 0.7955134 , 0.88984513,\n",
       "        0.9841769 ], dtype=float32),\n",
       " <a list of 10 Patch objects>)"
      ]
     },
     "execution_count": 20,
     "metadata": {},
     "output_type": "execute_result"
    },
    {
     "data": {
      "image/png": "[encoded data removed]",
      "text/plain": [
       "<Figure size 648x432 with 1 Axes>"
      ]
     },
     "metadata": {
      "needs_background": "light"
     },
     "output_type": "display_data"
    }
   ],
   "source": [
    "plt.hist(p_false)"
   ]
  },
  {
   "cell_type": "code",
   "execution_count": 21,
   "metadata": {},
   "outputs": [
    {
     "name": "stdout",
     "output_type": "stream",
     "text": [
      "0.9620826 0.9841769\n"
     ]
    }
   ],
   "source": [
    "print(np.max(p_true), np.max(p_false))"
   ]
  },
  {
   "cell_type": "code",
   "execution_count": 22,
   "metadata": {},
   "outputs": [
    {
     "name": "stdout",
     "output_type": "stream",
     "text": [
      "0.033369422 0.040859394\n"
     ]
    }
   ],
   "source": [
    "print(np.min(p_true), np.min(p_false))"
   ]
  },
  {
   "cell_type": "code",
   "execution_count": 23,
   "metadata": {},
   "outputs": [
    {
     "data": {
      "text/plain": [
       "2015.0"
      ]
     },
     "execution_count": 23,
     "metadata": {},
     "output_type": "execute_result"
    }
   ],
   "source": [
    "np.sum(trainset.shot_results[:, 0])"
   ]
  },
  {
   "cell_type": "code",
   "execution_count": 24,
   "metadata": {},
   "outputs": [
    {
     "data": {
      "text/plain": [
       "1997.0"
      ]
     },
     "execution_count": 24,
     "metadata": {},
     "output_type": "execute_result"
    }
   ],
   "source": [
    "np.sum(trainset.shot_results[:, 1])"
   ]
  },
  {
   "cell_type": "code",
   "execution_count": 25,
   "metadata": {},
   "outputs": [
    {
     "data": {
      "text/plain": [
       "1.0090135202804207"
      ]
     },
     "execution_count": 25,
     "metadata": {},
     "output_type": "execute_result"
    }
   ],
   "source": [
    "np.sum(trainset.shot_results[:, 0]) / np.sum(trainset.shot_results[:, 1])"
   ]
  },
  {
   "cell_type": "code",
   "execution_count": 26,
   "metadata": {},
   "outputs": [
    {
     "data": {
      "text/plain": [
       "610"
      ]
     },
     "execution_count": 26,
     "metadata": {},
     "output_type": "execute_result"
    }
   ],
   "source": [
    "len(np.where(trainset.shot_results[:, 1] == 2)[0])"
   ]
  },
  {
   "cell_type": "code",
   "execution_count": 27,
   "metadata": {},
   "outputs": [
    {
     "data": {
      "text/plain": [
       "619"
      ]
     },
     "execution_count": 27,
     "metadata": {},
     "output_type": "execute_result"
    }
   ],
   "source": [
    "len(np.where(trainset.shot_results[:, 0] == 2)[0])"
   ]
  },
  {
   "cell_type": "code",
   "execution_count": 28,
   "metadata": {},
   "outputs": [],
   "source": [
    "import arcd.keras.utils"
   ]
  },
  {
   "cell_type": "code",
   "execution_count": 29,
   "metadata": {},
   "outputs": [],
   "source": [
    "# lets have a look at the SNN\n",
    "snns = [arcd.keras.utils.load_keras_model('/home/tb/hejung/DATA/Master/new_train_data/ala/SNN_lorentz/IC_lr1e-4_window100_opt005_subopt035/{:d}/ala_HB_TPS.nc_model.h5'.format(i))\n",
    "        for i in [1, 2, 3, 4, 5, 7, 8, 9, 10]]"
   ]
  },
  {
   "cell_type": "code",
   "execution_count": 30,
   "metadata": {},
   "outputs": [],
   "source": [
    "p_B_func = lambda q: 1./(np.exp(-q) + 1)"
   ]
  },
  {
   "cell_type": "code",
   "execution_count": 31,
   "metadata": {},
   "outputs": [],
   "source": [
    "snn_p_true = [p_B_func(s.predict(trainset.descriptors)) for s in snns]"
   ]
  },
  {
   "cell_type": "code",
   "execution_count": 32,
   "metadata": {},
   "outputs": [],
   "source": [
    "snn_p_false = [p_B_func(s.predict(ts.descriptors)) for s in snns]"
   ]
  },
  {
   "cell_type": "code",
   "execution_count": 33,
   "metadata": {},
   "outputs": [
    {
     "data": {
      "text/plain": [
       "(array([204., 192., 208., 257., 253., 201., 199., 161., 166., 165.]),\n",
       " array([0.0170373 , 0.11340494, 0.2097726 , 0.30614024, 0.4025079 ,\n",
       "        0.49887553, 0.5952432 , 0.6916108 , 0.7879785 , 0.8843461 ,\n",
       "        0.9807138 ], dtype=float32),\n",
       " <a list of 10 Patch objects>)"
      ]
     },
     "execution_count": 33,
     "metadata": {},
     "output_type": "execute_result"
    },
    {
     "data": {
      "image/png": "[encoded data removed]",
      "text/plain": [
       "<Figure size 648x432 with 1 Axes>"
      ]
     },
     "metadata": {
      "needs_background": "light"
     },
     "output_type": "display_data"
    }
   ],
   "source": [
    "n = 8\n",
    "plt.hist(snn_p_true[n])"
   ]
  },
  {
   "cell_type": "code",
   "execution_count": 34,
   "metadata": {},
   "outputs": [
    {
     "data": {
      "text/plain": [
       "(array([322., 130., 114.,  91., 108., 102.,  95., 150., 223., 671.]),\n",
       " array([0.00956534, 0.1080185 , 0.20647167, 0.30492485, 0.403378  ,\n",
       "        0.5018312 , 0.60028434, 0.6987375 , 0.79719067, 0.89564383,\n",
       "        0.994097  ], dtype=float32),\n",
       " <a list of 10 Patch objects>)"
      ]
     },
     "execution_count": 34,
     "metadata": {},
     "output_type": "execute_result"
    },
    {
     "data": {
      "image/png": "[encoded data removed]",
      "text/plain": [
       "<Figure size 648x432 with 1 Axes>"
      ]
     },
     "metadata": {
      "needs_background": "light"
     },
     "output_type": "display_data"
    }
   ],
   "source": [
    "plt.hist(snn_p_false[n])"
   ]
  },
  {
   "cell_type": "code",
   "execution_count": 35,
   "metadata": {},
   "outputs": [
    {
     "name": "stdout",
     "output_type": "stream",
     "text": [
      "0.9807138 0.994097\n"
     ]
    }
   ],
   "source": [
    "print(np.max(snn_p_true[n]), np.max(snn_p_false[n]))"
   ]
  },
  {
   "cell_type": "code",
   "execution_count": 36,
   "metadata": {},
   "outputs": [
    {
     "name": "stdout",
     "output_type": "stream",
     "text": [
      "0.017037299 0.009565338\n"
     ]
    }
   ],
   "source": [
    "print(np.min(snn_p_true[n]), np.min(snn_p_false[n]))"
   ]
  },
  {
   "cell_type": "code",
   "execution_count": 37,
   "metadata": {},
   "outputs": [],
   "source": [
    "def do_HIPR(model, train_set, max_idx=None):\n",
    "    \"\"\"\n",
    "    Do a HIPR analysis for the given training set and model\n",
    "    Returns the losses for each coordinate replaced by noise, losses[-1] is the reference.\n",
    "    \"\"\"\n",
    "    if not max_idx:\n",
    "        max_idx = -1\n",
    "        n_point = len(train_set)\n",
    "    else:\n",
    "        n_point = max_idx\n",
    "    mins = np.min(train_set.descriptors, axis=0)\n",
    "    maxs = np.max(train_set.descriptors, axis=0)\n",
    "    losses = np.zeros((len(mins)+1,))\n",
    "    losses[-1] = model.evaluate(x=train_set.descriptors,\n",
    "                                y=train_set.shot_results,\n",
    "                                verbose=0)\n",
    "    for j in range(len(mins)):\n",
    "        new_coords = train_set.descriptors.copy()\n",
    "        new_coords[:,j] = (maxs[j] - mins[j]) * np.random.random(n_point) + mins[j]\n",
    "        losses[j] = model.evaluate(x=new_coords,\n",
    "                                   y=train_set.shot_results,\n",
    "                                   verbose=0)\n",
    "    return losses\n",
    "\n",
    "def do_HIPR_(model, train_set, max_idx=None):\n",
    "    \"\"\"\n",
    "    Do a HIPR analysis for the given training set and model\n",
    "    Returns the losses for each coordinate replaced by noise, losses[-1] is the reference.\n",
    "    \"\"\"\n",
    "    if not max_idx:\n",
    "        max_idx = -1\n",
    "        n_point = len(train_set)\n",
    "    else:\n",
    "        n_point = max_idx\n",
    "    mins = np.min(train_set.descriptors[:max_idx], axis=0)\n",
    "    maxs = np.max(train_set.descriptors[:max_idx], axis=0)\n",
    "    losses = np.zeros((len(mins)+1,))\n",
    "    losses[-1] = model.evaluate(x=train_set.descriptors[:max_idx],\n",
    "                                y=train_set.shot_results[:max_idx],\n",
    "                                verbose=0)\n",
    "    for j in range(len(mins)):\n",
    "        new_coords = train_set.descriptors[:max_idx].copy()\n",
    "        new_coords[:,j] = (maxs[j] - mins[j]) * np.random.random(n_point) + mins[j]\n",
    "        losses[j] = model.evaluate(x=new_coords[:max_idx],\n",
    "                                   y=train_set.shot_results[:max_idx],\n",
    "                                   verbose=0)\n",
    "    return losses\n",
    "\n"
   ]
  },
  {
   "cell_type": "code",
   "execution_count": 38,
   "metadata": {},
   "outputs": [
    {
     "name": "stdout",
     "output_type": "stream",
     "text": [
      "Done with :  IC_lr1e-4_window100_opt005_subopt035\n"
     ]
    }
   ],
   "source": [
    "    top_dir = '/home/tb/hejung/DATA/Master/new_train_data/ala/SNN_lorentz/'\n",
    "    import string\n",
    "    import pickle\n",
    "    \n",
    "    data = {}\n",
    "    dirs = os.listdir(os.path.join(top_dir))\n",
    "    dirs = [d for d in dirs if os.path.isdir(os.path.join(top_dir, d))]\n",
    "    dirs = ['IC_lr1e-4_window100_opt005_subopt035']\n",
    "    for d in dirs:\n",
    "        \n",
    "        data[d] = {}\n",
    "        subdirs = os.listdir(os.path.join(top_dir, d))\n",
    "        subdirs = [s for s in subdirs if not any([l in s for l in string.ascii_letters])] # we only take the directories that are numbered\n",
    "        for rn in subdirs:\n",
    "            fs = os.listdir(os.path.join(top_dir, d, rn))\n",
    "            store = 'ala_HB_TPS.nc'#[f for f in fs if f.endswith('.nc')][0] # there should only be one storage\n",
    "            with open(os.path.join(top_dir, d, rn, 'ensemble_meta.pckl'), 'rb') as pfile:\n",
    "                    data[d][rn] = pickle.load(pfile)\n",
    "            with open(os.path.join(top_dir, d, rn, store+'_trainer.pckl'), 'rb') as pfile:\n",
    "                data[d][rn]['trainer'] = pickle.load(pfile)\n",
    "        \n",
    "        print('Done with : ', d)"
   ]
  },
  {
   "cell_type": "code",
   "execution_count": 39,
   "metadata": {},
   "outputs": [
    {
     "data": {
      "text/plain": [
       "2006"
      ]
     },
     "execution_count": 39,
     "metadata": {},
     "output_type": "execute_result"
    }
   ],
   "source": [
    "len(trainset)#.descriptors.shape[0]"
   ]
  },
  {
   "cell_type": "code",
   "execution_count": 40,
   "metadata": {},
   "outputs": [],
   "source": [
    "snn_hipr_losses = [do_HIPR_(s, trainset, len(trainset)) for s in snns]"
   ]
  },
  {
   "cell_type": "code",
   "execution_count": 41,
   "metadata": {},
   "outputs": [
    {
     "data": {
      "text/plain": [
       "9"
      ]
     },
     "execution_count": 41,
     "metadata": {},
     "output_type": "execute_result"
    }
   ],
   "source": [
    "len(snns)"
   ]
  },
  {
   "cell_type": "code",
   "execution_count": 42,
   "metadata": {},
   "outputs": [
    {
     "data": {
      "text/plain": [
       "<BarContainer object of 55 artists>"
      ]
     },
     "execution_count": 42,
     "metadata": {},
     "output_type": "execute_result"
    },
    {
     "data": {
      "image/png": "[encoded data removed]",
      "text/plain": [
       "<Figure size 648x432 with 1 Axes>"
      ]
     },
     "metadata": {
      "needs_background": "light"
     },
     "output_type": "display_data"
    }
   ],
   "source": [
    "n = 5\n",
    "plt.bar(np.arange(len(snn_hipr_losses[n])-1), snn_hipr_losses[n][:-1] - snn_hipr_losses[n][-1])"
   ]
  },
  {
   "cell_type": "code",
   "execution_count": 44,
   "metadata": {},
   "outputs": [],
   "source": [
    "snn_trainsets = [data['IC_lr1e-4_window100_opt005_subopt035']['{:d}'.format(i)]['trainer'].train_set for i in [1,2,3,4,5,7,8,9,10]]"
   ]
  },
  {
   "cell_type": "code",
   "execution_count": 45,
   "metadata": {},
   "outputs": [],
   "source": [
    "snn_trainsets = [TrainSet([0, 0], descriptors=t.coords, shot_results=t.shot_results) for t in snn_trainsets]"
   ]
  },
  {
   "cell_type": "code",
   "execution_count": 46,
   "metadata": {},
   "outputs": [],
   "source": [
    "snn_hipr_losses_mod = [do_HIPR_(s, snn_trainsets[i], len(snn_trainsets[i])) for i, s in enumerate(snns)]"
   ]
  },
  {
   "cell_type": "code",
   "execution_count": 52,
   "metadata": {},
   "outputs": [
    {
     "data": {
      "text/plain": [
       "<BarContainer object of 55 artists>"
      ]
     },
     "execution_count": 52,
     "metadata": {},
     "output_type": "execute_result"
    },
    {
     "data": {
      "image/png": "[encoded data removed]",
      "text/plain": [
       "<Figure size 648x432 with 1 Axes>"
      ]
     },
     "metadata": {
      "needs_background": "light"
     },
     "output_type": "display_data"
    }
   ],
   "source": [
    "n = 5\n",
    "plt.bar(np.arange(len(snn_hipr_losses_mod[n])-1), snn_hipr_losses_mod[n][:-1] - snn_hipr_losses_mod[n][-1])"
   ]
  },
  {
   "cell_type": "code",
   "execution_count": null,
   "metadata": {},
   "outputs": [],
   "source": [
    "snn_hipr_losses_mod = [do_HIPR_(s, snn_trainsets[i], len(snn_trainsets[i])) for i, s in enumerate(snns)]"
   ]
  },
  {
   "cell_type": "code",
   "execution_count": 63,
   "metadata": {},
   "outputs": [
    {
     "data": {
      "text/plain": [
       "[2.6302741486672034,\n",
       " 2.5974008647180864,\n",
       " 2.5774936961271946,\n",
       " 2.4797561827114785,\n",
       " 2.557839833608534,\n",
       " 2.585045248299748,\n",
       " 2.6610908572481256,\n",
       " 2.7012768249331063,\n",
       " 2.5296153732216133]"
      ]
     },
     "execution_count": 63,
     "metadata": {},
     "output_type": "execute_result"
    }
   ],
   "source": [
    "[s.evaluate(trainset.descriptors, trainset.shot_results, verbose=0) for s in snns]"
   ]
  },
  {
   "cell_type": "code",
   "execution_count": 67,
   "metadata": {},
   "outputs": [
    {
     "data": {
      "text/plain": [
       "(array([  32.,  136.,  213.,  340.,  561., 1009., 1259.,  816.,  413.,\n",
       "         221.]),\n",
       " array([0.12397781, 0.21074829, 0.29751877, 0.38428924, 0.47105972,\n",
       "        0.5578302 , 0.64460068, 0.73137116, 0.81814163, 0.90491211,\n",
       "        0.99168259]),\n",
       " <a list of 10 Patch objects>)"
      ]
     },
     "execution_count": 67,
     "metadata": {},
     "output_type": "execute_result"
    },
    {
     "data": {
      "image/png": "[encoded data removed]",
      "text/plain": [
       "<Figure size 648x432 with 1 Axes>"
      ]
     },
     "metadata": {
      "needs_background": "light"
     },
     "output_type": "display_data"
    }
   ],
   "source": [
    "n = 0\n",
    "plt.hist(snn_trainsets[n].descriptors[:, 48])"
   ]
  },
  {
   "cell_type": "code",
   "execution_count": 70,
   "metadata": {},
   "outputs": [
    {
     "data": {
      "text/plain": [
       "['alpha_R', 'C_7eq']"
      ]
     },
     "execution_count": 70,
     "metadata": {},
     "output_type": "execute_result"
    }
   ],
   "source": [
    "[s.name for s in trainset.states]"
   ]
  },
  {
   "cell_type": "code",
   "execution_count": 64,
   "metadata": {},
   "outputs": [
    {
     "data": {
      "text/plain": [
       "1.1591118900987467"
      ]
     },
     "execution_count": 64,
     "metadata": {},
     "output_type": "execute_result"
    }
   ],
   "source": [
    "trainhook.model.test_loss(trainset)"
   ]
  },
  {
   "cell_type": "code",
   "execution_count": 53,
   "metadata": {},
   "outputs": [
    {
     "data": {
      "text/plain": [
       "[0.5759551336288452,\n",
       " 0.5785241798400879,\n",
       " 0.5838642109870911,\n",
       " 0.5878442475795745,\n",
       " 0.5879686069488526,\n",
       " 0.5760775701522827,\n",
       " 0.5895200479507446,\n",
       " 0.5769958679199219,\n",
       " 0.576443913936615]"
      ]
     },
     "execution_count": 53,
     "metadata": {},
     "output_type": "execute_result"
    }
   ],
   "source": [
    "[trainhook.model.test_loss(t) for t in snn_trainsets]"
   ]
  },
  {
   "cell_type": "code",
   "execution_count": 55,
   "metadata": {},
   "outputs": [],
   "source": [
    "pytorch_hipr_snnTS = arcd.analysis.HIPRanalysis(model, snn_trainsets[0])"
   ]
  },
  {
   "cell_type": "code",
   "execution_count": 56,
   "metadata": {},
   "outputs": [],
   "source": [
    "pytorch_hipr = pytorch_hipr_snnTS.do_hipr()"
   ]
  },
  {
   "cell_type": "code",
   "execution_count": 57,
   "metadata": {},
   "outputs": [],
   "source": [
    "pytorch_hipr_plus = pytorch_hipr_snnTS.do_hipr_plus()"
   ]
  },
  {
   "cell_type": "code",
   "execution_count": 60,
   "metadata": {},
   "outputs": [
    {
     "data": {
      "text/plain": [
       "56"
      ]
     },
     "execution_count": 60,
     "metadata": {},
     "output_type": "execute_result"
    }
   ],
   "source": [
    "len(pytorch_hipr)"
   ]
  },
  {
   "cell_type": "code",
   "execution_count": 61,
   "metadata": {},
   "outputs": [
    {
     "data": {
      "text/plain": [
       "<BarContainer object of 55 artists>"
      ]
     },
     "execution_count": 61,
     "metadata": {},
     "output_type": "execute_result"
    },
    {
     "data": {
      "image/png": "[encoded data removed]",
      "text/plain": [
       "<Figure size 648x432 with 1 Axes>"
      ]
     },
     "metadata": {
      "needs_background": "light"
     },
     "output_type": "display_data"
    }
   ],
   "source": [
    "plt.bar(np.arange(len(pytorch_hipr)-1), pytorch_hipr[:-1] - pytorch_hipr[-1])"
   ]
  },
  {
   "cell_type": "code",
   "execution_count": 62,
   "metadata": {},
   "outputs": [
    {
     "data": {
      "text/plain": [
       "<BarContainer object of 55 artists>"
      ]
     },
     "execution_count": 62,
     "metadata": {},
     "output_type": "execute_result"
    },
    {
     "data": {
      "image/png": "[encoded data removed]",
      "text/plain": [
       "<Figure size 648x432 with 1 Axes>"
      ]
     },
     "metadata": {
      "needs_background": "light"
     },
     "output_type": "display_data"
    }
   ],
   "source": [
    "plt.bar(np.arange(len(pytorch_hipr_plus)-1), pytorch_hipr_plus[:-1] - pytorch_hipr_plus[-1])"
   ]
  },
  {
   "cell_type": "code",
   "execution_count": 19,
   "metadata": {},
   "outputs": [
    {
     "data": {
      "text/plain": [
       "-0.07853393859254143"
      ]
     },
     "execution_count": 19,
     "metadata": {},
     "output_type": "execute_result"
    }
   ],
   "source": [
    "final_loss_diff[48]"
   ]
  },
  {
   "cell_type": "code",
   "execution_count": 20,
   "metadata": {},
   "outputs": [
    {
     "data": {
      "text/plain": [
       "('cos', [6, 8, 14, 15])"
      ]
     },
     "execution_count": 20,
     "metadata": {},
     "output_type": "execute_result"
    }
   ],
   "source": [
    "arcd.coords.internal.get_involved(48, **ic_parms)"
   ]
  },
  {
   "cell_type": "code",
   "execution_count": 21,
   "metadata": {},
   "outputs": [
    {
     "data": {
      "text/plain": [
       "(array([ 14.,  59.,  91., 115., 204., 377., 490., 384., 174.,  96.]),\n",
       " array([0.12094837, 0.20795841, 0.29496844, 0.38197847, 0.4689885 ,\n",
       "        0.55599853, 0.64300857, 0.7300186 , 0.81702863, 0.90403866,\n",
       "        0.99104869]),\n",
       " <a list of 10 Patch objects>)"
      ]
     },
     "execution_count": 21,
     "metadata": {},
     "output_type": "execute_result"
    },
    {
     "data": {
      "image/png": "[encoded data removed]",
      "text/plain": [
       "<Figure size 648x432 with 1 Axes>"
      ]
     },
     "metadata": {
      "needs_background": "light"
     },
     "output_type": "display_data"
    }
   ],
   "source": [
    "plt.hist(trainhook.trainset.descriptors[:, 48])"
   ]
  },
  {
   "cell_type": "markdown",
   "metadata": {},
   "source": [
    "## Now we know that the dihedral between atoms 14, 16, 18 and 19 seems to be quite important....so what are these atoms?"
   ]
  },
  {
   "cell_type": "code",
   "execution_count": 23,
   "metadata": {},
   "outputs": [],
   "source": [
    "# lets get a snapshot from trajectory, such that we can ask its topology object for the atom names\n",
    "snap = storage.snapshots[-1]\n",
    "topol = snap.topology.mdtraj"
   ]
  },
  {
   "cell_type": "code",
   "execution_count": 24,
   "metadata": {},
   "outputs": [
    {
     "name": "stdout",
     "output_type": "stream",
     "text": [
      "atom:  ACE1-C  with index:  4\n",
      "atom:  ALA2-N  with index:  6\n",
      "atom:  ALA2-CA  with index:  8\n",
      "atom:  ALA2-C  with index:  14\n",
      "atom:  NME3-N  with index:  16\n",
      "atom:  NME3-C  with index:  18\n",
      "atom:  NME3-H1  with index:  19\n"
     ]
    }
   ],
   "source": [
    "for at in [4, 6, 8, 14, 16, 18, 19]:\n",
    "    print('atom: ', topol.atom(at), ' with index: ', at)"
   ]
  },
  {
   "cell_type": "code",
   "execution_count": 17,
   "metadata": {},
   "outputs": [
    {
     "data": {
      "text/plain": [
       "0.6966980620697661"
      ]
     },
     "execution_count": 17,
     "metadata": {},
     "output_type": "execute_result"
    }
   ],
   "source": [
    "model_at_step100.test_loss(trainhook.trainset)"
   ]
  },
  {
   "cell_type": "code",
   "execution_count": 18,
   "metadata": {},
   "outputs": [
    {
     "data": {
      "text/plain": [
       "1.3725112625411697"
      ]
     },
     "execution_count": 18,
     "metadata": {},
     "output_type": "execute_result"
    }
   ],
   "source": [
    "trainhook.model.test_loss(trainhook.trainset)"
   ]
  },
  {
   "cell_type": "code",
   "execution_count": 16,
   "metadata": {},
   "outputs": [
    {
     "data": {
      "text/plain": [
       "array([[1.09000117e-01, 1.54878810e-01, 1.08999938e-01, ...,\n",
       "        4.91410494e-04, 2.35554904e-01, 7.56548643e-02],\n",
       "       [1.08999930e-01, 1.52039677e-01, 1.08999878e-01, ...,\n",
       "        5.24520874e-06, 8.12097907e-01, 8.90634000e-01],\n",
       "       [1.09000124e-01, 1.49299413e-01, 1.09000020e-01, ...,\n",
       "        1.92236602e-02, 6.53135598e-01, 2.40278542e-02],\n",
       "       ...,\n",
       "       [1.08999893e-01, 1.50930539e-01, 1.09000519e-01, ...,\n",
       "        9.95385647e-03, 2.74688005e-04, 5.16571343e-01],\n",
       "       [1.09000050e-01, 1.52551562e-01, 1.08999990e-01, ...,\n",
       "        2.64850557e-02, 4.91738319e-04, 4.77830261e-01],\n",
       "       [1.09000027e-01, 1.48676485e-01, 1.09000415e-01, ...,\n",
       "        2.66651511e-02, 9.90160167e-01, 4.01293337e-01]])"
      ]
     },
     "execution_count": 16,
     "metadata": {},
     "output_type": "execute_result"
    }
   ],
   "source": [
    "trainhook.trainset.descriptors.copy()"
   ]
  },
  {
   "cell_type": "code",
   "execution_count": 22,
   "metadata": {},
   "outputs": [],
   "source": [
    "snap_idx = np.random.choice(len(storage.snapshots), size=30, replace=False)"
   ]
  },
  {
   "cell_type": "code",
   "execution_count": 24,
   "metadata": {},
   "outputs": [],
   "source": [
    "C_7eq = storage.volumes.find('C_7eq')\n",
    "alpha_R = storage.volumes.find('alpha_R')"
   ]
  },
  {
   "cell_type": "code",
   "execution_count": 25,
   "metadata": {},
   "outputs": [],
   "source": [
    "snaps = [storage.snapshots[int(i)] for i in snap_idx if not (C_7eq(storage.snapshots[int(i)]) or (alpha_R(storage.snapshots[int(i)])))]"
   ]
  },
  {
   "cell_type": "code",
   "execution_count": 26,
   "metadata": {},
   "outputs": [
    {
     "data": {
      "text/plain": [
       "30"
      ]
     },
     "execution_count": 26,
     "metadata": {},
     "output_type": "execute_result"
    }
   ],
   "source": [
    "len(snaps)"
   ]
  },
  {
   "cell_type": "code",
   "execution_count": 27,
   "metadata": {},
   "outputs": [],
   "source": [
    "committor_store = paths.Storage('ala_committor.nc', 'w', template=storage.snapshots[-1])"
   ]
  },
  {
   "cell_type": "code",
   "execution_count": 28,
   "metadata": {},
   "outputs": [],
   "source": [
    "import openpathsampling.engines.openmm as peng_omm\n",
    "import simtk.openmm as mm\n",
    "import simtk.unit as unit\n",
    "from simtk.openmm import app\n",
    "from openmmtools.integrators import VVVRIntegrator\n",
    "\n",
    "\n",
    "cur_dir = '/home/tb/hejung/Documents/sources/arcd/examples/capped_alanine_dipeptide/'\n",
    "\n",
    "\n",
    "# ENgine\n",
    "forcefield = app.ForceField('amber99sbildn.xml', 'tip3p.xml')\n",
    "pdb = app.PDBFile(os.path.join(cur_dir, \"AD_initial_frame.pdb\"))\n",
    "system = forcefield.createSystem(pdb.topology,\n",
    "                                 nonbondedMethod=app.PME,\n",
    "                                 nonbondedCutoff=1.0*unit.nanometers,\n",
    "                                 constraints=app.HBonds,\n",
    "                                 rigidWater=True,\n",
    "                                 ewaldErrorTolerance=0.0005\n",
    "                                 )\n",
    "integrator = VVVRIntegrator(300*unit.kelvin,  # T\n",
    "                            1.0/unit.picoseconds,  # fric\n",
    "                            2.0*unit.femtoseconds)  # dt\n",
    "integrator.setConstraintTolerance(0.00001)\n",
    "engine_options = {\n",
    "    'n_frames_max': 2000,\n",
    "    'nsteps_per_frame': 10,\n",
    "}\n",
    "engine = peng_omm.Engine(storage.snapshots[-1].topology,\n",
    "                         system,\n",
    "                         integrator,\n",
    "                         options=engine_options\n",
    "                         )\n",
    "engine.name = '300K'"
   ]
  },
  {
   "cell_type": "code",
   "execution_count": 29,
   "metadata": {},
   "outputs": [],
   "source": [
    "# randomizer\n",
    "beta = 1.0 / (engine.integrator.getTemperature() * unit.BOLTZMANN_CONSTANT_kB)\n",
    "modifier = paths.RandomVelocities(beta=beta, engine=engine)"
   ]
  },
  {
   "cell_type": "code",
   "execution_count": 30,
   "metadata": {},
   "outputs": [],
   "source": [
    "cSim = paths.CommittorSimulation(committor_store, engine=engine, states=[C_7eq, alpha_R], randomizer=modifier, initial_snapshots=snaps)"
   ]
  },
  {
   "cell_type": "code",
   "execution_count": 31,
   "metadata": {},
   "outputs": [
    {
     "name": "stdout",
     "output_type": "stream",
     "text": [
      "Working on snapshot 30 / 30; shot 50 / 50"
     ]
    }
   ],
   "source": [
    "cSim.run(50)"
   ]
  },
  {
   "cell_type": "code",
   "execution_count": 32,
   "metadata": {},
   "outputs": [],
   "source": [
    "def hashfx(snap):\n",
    "    for i, st in enumerate(snaps):\n",
    "        if np.allclose(st.coordinates, snap.coordinates, rtol=1e-6, atol=1e-4):\n",
    "            return i"
   ]
  },
  {
   "cell_type": "code",
   "execution_count": 81,
   "metadata": {},
   "outputs": [],
   "source": [
    "spa = paths.ShootingPointAnalysis(None, states=[C_7eq, alpha_R])"
   ]
  },
  {
   "cell_type": "code",
   "execution_count": 82,
   "metadata": {},
   "outputs": [],
   "source": [
    "spa.hash_function = hashfx"
   ]
  },
  {
   "cell_type": "code",
   "execution_count": 83,
   "metadata": {},
   "outputs": [],
   "source": [
    "spa.analyze(committor_store.steps)"
   ]
  },
  {
   "cell_type": "code",
   "execution_count": 89,
   "metadata": {},
   "outputs": [],
   "source": [
    "p_B = spa.committor(alpha_R, hashfx)"
   ]
  },
  {
   "cell_type": "code",
   "execution_count": 95,
   "metadata": {},
   "outputs": [
    {
     "name": "stdout",
     "output_type": "stream",
     "text": [
      "0 0.94\n",
      "1 0.8\n",
      "2 0.54\n",
      "3 0.92\n",
      "4 0.94\n",
      "5 0.64\n",
      "6 0.9\n",
      "7 1.0\n",
      "8 0.34\n",
      "9 0.94\n",
      "10 0.08\n",
      "11 0.92\n",
      "12 0.48\n",
      "13 0.52\n",
      "14 0.94\n",
      "15 0.0\n",
      "16 0.92\n",
      "17 0.54\n",
      "18 0.92\n",
      "19 0.92\n",
      "20 0.84\n",
      "21 0.74\n",
      "22 0.94\n",
      "23 0.02\n",
      "24 0.56\n",
      "25 0.9\n",
      "26 0.96\n",
      "27 0.04\n",
      "28 0.44\n",
      "29 0.86\n"
     ]
    }
   ],
   "source": [
    "p_true = np.zeros(30)\n",
    "for key, val in p_B.items():\n",
    "    print(key, val)\n",
    "    p_true[int(key)] = val"
   ]
  },
  {
   "cell_type": "code",
   "execution_count": 93,
   "metadata": {},
   "outputs": [
    {
     "data": {
      "text/plain": [
       "0.7917024"
      ]
     },
     "execution_count": 93,
     "metadata": {},
     "output_type": "execute_result"
    }
   ],
   "source": [
    "model(snaps[0])[0,0]"
   ]
  },
  {
   "cell_type": "code",
   "execution_count": 94,
   "metadata": {},
   "outputs": [],
   "source": [
    "p_predicted = [model(s)[0, 0] for s in snaps]"
   ]
  },
  {
   "cell_type": "code",
   "execution_count": 97,
   "metadata": {},
   "outputs": [
    {
     "data": {
      "image/png": "[encoded data removed]",
      "text/plain": [
       "<Figure size 648x432 with 1 Axes>"
      ]
     },
     "metadata": {
      "needs_background": "light"
     },
     "output_type": "display_data"
    }
   ],
   "source": [
    "plt.scatter(p_true, p_predicted)\n",
    "plt.plot(np.linspace(0, 1, 100), np.linspace(0, 1, 100), '--')\n",
    "plt.xlabel('p_true')\n",
    "plt.ylabel('p_predict')\n",
    "plt.savefig('committor_test_ala_pytorch.pdf')"
   ]
  },
  {
   "cell_type": "code",
   "execution_count": null,
   "metadata": {},
   "outputs": [],
   "source": []
  }
 ],
 "metadata": {
  "kernelspec": {
   "display_name": "ARCD-Devel",
   "language": "python",
   "name": "arcd_devel"
  },
  "language_info": {
   "codemirror_mode": {
    "name": "ipython",
    "version": 3
   },
   "file_extension": ".py",
   "mimetype": "text/x-python",
   "name": "python",
   "nbconvert_exporter": "python",
   "pygments_lexer": "ipython3",
   "version": "3.6.7"
  }
 },
 "nbformat": 4,
 "nbformat_minor": 2
}
