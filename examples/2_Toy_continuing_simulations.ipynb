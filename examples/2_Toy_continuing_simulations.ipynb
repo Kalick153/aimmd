{
 "cells": [
  {
   "cell_type": "markdown",
   "metadata": {},
   "source": [
    "# Continuing simulations\n",
    "This notebook will show you:\n",
    "- how to continue an existing ANN assisted TPS simulation from storage\n",
    "\n",
    "Note: This notebook depends on files created in the first notebook `1_Toy_pytorch_simple_setup.ipynb`. Please do it first if you have not already."
   ]
  },
  {
   "cell_type": "code",
   "execution_count": 1,
   "metadata": {},
   "outputs": [],
   "source": [
    "%matplotlib inline"
   ]
  },
  {
   "cell_type": "code",
   "execution_count": null,
   "metadata": {},
   "outputs": [],
   "source": [
    "import os\n",
    "import arcd\n",
    "import torch\n",
    "import numpy as np\n",
    "import matplotlib.pyplot as plt\n",
    "import openpathsampling as paths"
   ]
  },
  {
   "cell_type": "code",
   "execution_count": 3,
   "metadata": {},
   "outputs": [],
   "source": [
    "# change to the working directory of choice\n",
    "# (should be the same as in the first notebook)\n",
    "wdir = 'SimData_pytorch_toy_22dim'\n",
    "#wdir = None\n",
    "if wdir is not None:\n",
    "    os.chdir(wdir)"
   ]
  },
  {
   "cell_type": "markdown",
   "metadata": {},
   "source": [
    "### The easy way\n",
    "By continuing an `openpathsampling` TPS simulation that has been set up with arcd you will autmatically load the `RCModel` saved automagically after the simulation. This will furhtermore repopulate the attached `TrainSet` with the shooting results from the `openpathsampling.Storage`.\n",
    "To do this, simply continue a TPS simulation the OPS way."
   ]
  },
  {
   "cell_type": "code",
   "execution_count": 4,
   "metadata": {},
   "outputs": [],
   "source": [
    "# open old ops storage for appending\n",
    "storage = paths.Storage('pytorch_toy_22dim.nc', 'a')"
   ]
  },
  {
   "cell_type": "code",
   "execution_count": 5,
   "metadata": {},
   "outputs": [
    {
     "name": "stderr",
     "output_type": "stream",
     "text": [
      "Restoring RCModelSelector without model.Please take care of resetting the model yourself.\n"
     ]
    }
   ],
   "source": [
    "# get the PathSampling from storage and set its state to the last MCStep in storage\n",
    "sampler = storage.pathsimulators[0]\n",
    "sampler.restart_at_step(storage.steps[-1])"
   ]
  },
  {
   "cell_type": "code",
   "execution_count": 6,
   "metadata": {},
   "outputs": [],
   "source": [
    "# lets get the model and the trainset from the arcd storage\n",
    "arcd_store = arcd.Storage('arcd_storage.h5', mode='a')\n",
    "model = arcd_store.rcmodels[\"most_recent\"]  # the last model will alwyas be saved as \"most_recent\"\n",
    "# this will restore any ops collective variables used as descriptor transform for the model\n",
    "model = model.complete_from_ops_storage(storage)\n",
    "# for the traisnet passing an ops storage automatically resets all ops objects to the values they had at save time\n",
    "trainset = arcd_store.load_trainset(ops_storage=storage)"
   ]
  },
  {
   "cell_type": "code",
   "execution_count": 7,
   "metadata": {},
   "outputs": [],
   "source": [
    "# create our hooks\n",
    "trainhook = arcd.ops.TrainingHook(model, trainset)\n",
    "densityhook = arcd.ops.DensityCollectionHook(model)\n",
    "storehook = arcd.ops.ArcdStorageHook(arcd_store, model, trainset)"
   ]
  },
  {
   "cell_type": "code",
   "execution_count": 8,
   "metadata": {},
   "outputs": [],
   "source": [
    "# and attach them\n",
    "sampler.attach_hook(trainhook)\n",
    "sampler.attach_hook(densityhook)\n",
    "sampler.attach_hook(storehook)"
   ]
  },
  {
   "cell_type": "code",
   "execution_count": 9,
   "metadata": {},
   "outputs": [],
   "source": [
    "# the only thing left is to take care of the waring above:\n",
    "# we need to put the model into the RCModel selector \n",
    "# (because it can not be saved to ops storages together with the selector)\n",
    "# if you want to (re)set all RCModels in all RCModelSelectors of a ops simulation to the same model,\n",
    "# you can use one of the arcd utility functions\n",
    "# Note: I think this is what you most likely want, since most people will either use only one RCModelSelector or the same Model in all Selectors (?)\n",
    "arcd.ops.utils.set_rcmodel_in_all_selectors(model=model, simulation=sampler)"
   ]
  },
  {
   "cell_type": "code",
   "execution_count": 10,
   "metadata": {},
   "outputs": [
    {
     "name": "stdout",
     "output_type": "stream",
     "text": [
      "Working on Monte Carlo cycle number 600\n",
      "Running for 3 minutes 33 seconds -  2.16 seconds per step\n",
      "Estimated time remaining: 2 seconds\n",
      "DONE! Completed 600 Monte Carlo cycles.\n"
     ]
    }
   ],
   "source": [
    "# now we can simply run the simulation again and it will start where we left of\n",
    "sampler.run(100)"
   ]
  },
  {
   "cell_type": "code",
   "execution_count": 11,
   "metadata": {},
   "outputs": [],
   "source": [
    "# close the storages\n",
    "#storage.sync_all()\n",
    "storage.close()\n",
    "arcd_store.close()"
   ]
  },
  {
   "cell_type": "code",
   "execution_count": null,
   "metadata": {},
   "outputs": [],
   "source": []
  }
 ],
 "metadata": {
  "kernelspec": {
   "display_name": "ARCD dev (py3.7/Feb-2020)",
   "language": "python",
   "name": "arcd_dev_2_2020"
  },
  "language_info": {
   "codemirror_mode": {
    "name": "ipython",
    "version": 3
   },
   "file_extension": ".py",
   "mimetype": "text/x-python",
   "name": "python",
   "nbconvert_exporter": "python",
   "pygments_lexer": "ipython3",
   "version": "3.7.6"
  }
 },
 "nbformat": 4,
 "nbformat_minor": 4
}
