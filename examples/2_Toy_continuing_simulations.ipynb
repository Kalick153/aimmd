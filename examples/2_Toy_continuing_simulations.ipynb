{
 "cells": [
  {
   "cell_type": "markdown",
   "metadata": {},
   "source": [
    "# Continuing simulations\n",
    "This notebook will show you:\n",
    "- how to continue an existing ANN assisted TPS simulation from storage\n",
    "\n",
    "Note: This notebook depends on files created in the first notebook `1_Toy_pytorch_simple_setup.ipynb`. Please do it first if you have not already."
   ]
  },
  {
   "cell_type": "code",
   "execution_count": 25,
   "metadata": {},
   "outputs": [],
   "source": [
    "%matplotlib inline"
   ]
  },
  {
   "cell_type": "code",
   "execution_count": 26,
   "metadata": {},
   "outputs": [],
   "source": [
    "import os\n",
    "import arcd\n",
    "import torch\n",
    "import numpy as np\n",
    "import matplotlib.pyplot as plt\n",
    "import openpathsampling as paths"
   ]
  },
  {
   "cell_type": "code",
   "execution_count": 27,
   "metadata": {},
   "outputs": [],
   "source": [
    "# change to the working directory of choice\n",
    "# (should be the same as in the first notebook)\n",
    "wdir = '/homeloc/scratch/hejung/arcd_scratch/toys/'\n",
    "#wdir = None\n",
    "if wdir is not None:\n",
    "    os.chdir(wdir)"
   ]
  },
  {
   "cell_type": "markdown",
   "metadata": {},
   "source": [
    "### The easy way\n",
    "By continuing an `openpathsampling` TPS simulation that has been set up with arcd you will autmatically load the `RCModel` saved automagically after the simulation. This will furhtermore repopulate the attached `TrainSet` with the shooting results from the `openpathsampling.Storage`.\n",
    "To do this, simply continue a TPS simulation the OPS way."
   ]
  },
  {
   "cell_type": "code",
   "execution_count": 28,
   "metadata": {},
   "outputs": [],
   "source": [
    "# open old storage for appending\n",
    "storage = paths.Storage('22dim_toy_pytorch.nc', 'a')"
   ]
  },
  {
   "cell_type": "code",
   "execution_count": 29,
   "metadata": {},
   "outputs": [
    {
     "name": "stderr",
     "output_type": "stream",
     "text": [
      "Restoring RCModelSelector without model.If used together with arcd.TrainingHook you can ignore this warning, otherwise please take care of resetting the model yourself.\n"
     ]
    }
   ],
   "source": [
    "# get the PathSampling from storage and set its state to the last MCStep in storage\n",
    "sampler = storage.pathsimulators[0]\n",
    "sampler.restart_at_step(storage.steps[-1])"
   ]
  },
  {
   "cell_type": "code",
   "execution_count": 30,
   "metadata": {},
   "outputs": [],
   "source": [
    "# create the empty training hook,\n",
    "# the `arcd.TrainHook` is the only object which will not be saved,\n",
    "# but it also has no internal state except for the save_interval parameter and the density collection parameters\n",
    "trainhook = arcd.ops.TrainingHook(None, None, 100)\n",
    "sampler.attach_hook(trainhook)"
   ]
  },
  {
   "cell_type": "code",
   "execution_count": 31,
   "metadata": {},
   "outputs": [
    {
     "name": "stdout",
     "output_type": "stream",
     "text": [
      "trainhook.model:  None\n",
      "trainhook.trainset:  None\n"
     ]
    }
   ],
   "source": [
    "# Note that this did not yet load the RCModel nor repopulate the TrainSet\n",
    "print('trainhook.model: ', trainhook.model)\n",
    "print('trainhook.trainset: ', trainhook.trainset)"
   ]
  },
  {
   "cell_type": "code",
   "execution_count": 32,
   "metadata": {},
   "outputs": [
    {
     "name": "stdout",
     "output_type": "stream",
     "text": [
      "Working on Monte Carlo cycle number 121\n",
      "Starting simulation...\n",
      "Working on first step\n",
      "DONE! Completed 121 Monte Carlo cycles.\n"
     ]
    }
   ],
   "source": [
    "# if we now do one step of TPS it will repopulate the TrainSet and load the model\n",
    "# the reason is that we use the `before_simulation` hook of `openpathsampling.Pathsimulator` to load the state\n",
    "sampler.run(1)\n",
    "# Note that this will also check that you have at least as many steps in the storage as training points in the trainset\n",
    "# (and possibly add the missing steps to the trainset)\n",
    "# it will also check that "
   ]
  },
  {
   "cell_type": "code",
   "execution_count": 33,
   "metadata": {},
   "outputs": [
    {
     "name": "stdout",
     "output_type": "stream",
     "text": [
      "trainhook.model:  <arcd.pytorch.rcmodel.EEScalePytorchRCModel object at 0x7f2f739f79b0>\n",
      "trainhook.trainset:  <arcd.base.trainset.TrainSet object at 0x7f2f767ba9e8>\n"
     ]
    }
   ],
   "source": [
    "# Now trainset and model are populated and you can do everything you learned in the last notebook\n",
    "print('trainhook.model: ', trainhook.model)\n",
    "print('trainhook.trainset: ', trainhook.trainset)"
   ]
  },
  {
   "cell_type": "code",
   "execution_count": 35,
   "metadata": {},
   "outputs": [],
   "source": [
    "storage.sync_all()\n",
    "storage.close()"
   ]
  },
  {
   "cell_type": "code",
   "execution_count": null,
   "metadata": {},
   "outputs": [],
   "source": []
  }
 ],
 "metadata": {
  "kernelspec": {
   "display_name": "ARCD",
   "language": "python",
   "name": "arcd"
  },
  "language_info": {
   "codemirror_mode": {
    "name": "ipython",
    "version": 3
   },
   "file_extension": ".py",
   "mimetype": "text/x-python",
   "name": "python",
   "nbconvert_exporter": "python",
   "pygments_lexer": "ipython3",
   "version": "3.6.8"
  }
 },
 "nbformat": 4,
 "nbformat_minor": 2
}
